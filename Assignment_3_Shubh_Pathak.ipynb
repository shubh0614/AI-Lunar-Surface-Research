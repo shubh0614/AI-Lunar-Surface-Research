{
  "nbformat": 4,
  "nbformat_minor": 0,
  "metadata": {
    "colab": {
      "provenance": []
    },
    "kernelspec": {
      "name": "python3",
      "display_name": "Python 3"
    },
    "language_info": {
      "name": "python"
    }
  },
  "cells": [
    {
      "cell_type": "markdown",
      "source": [
        "# <center> Assignment - Week 3\n",
        "### <center> Total:- 60 Points (50 Questions, 10 Presentation)"
      ],
      "metadata": {
        "id": "NCnD9mkPavgU"
      }
    },
    {
      "cell_type": "code",
      "execution_count": null,
      "metadata": {
        "id": "nix_AYvRaiUk"
      },
      "outputs": [],
      "source": [
        "###### IMPORTANT ########\n",
        "Your_Name = \"Shubh Pathak \"\n",
        "Your_Email_id = \"shubhpathakpro@gmail.com \""
      ]
    },
    {
      "cell_type": "markdown",
      "source": [
        "---"
      ],
      "metadata": {
        "id": "LLt-eFoGa5cX"
      }
    },
    {
      "cell_type": "markdown",
      "source": [
        "#### Q1 [5 Points] \n",
        "***Which of the following is not an activation function?***\n",
        "\n",
        "* *a - Sigmoid function*\n",
        "* *b - Hyperbolic tangent function*\n",
        "* *c - Rectified linear unit (RELU) function*\n",
        "* *d - Leaky RELU function*\n",
        "* *e - dynamic function*\n",
        "* *f - Maxout function*\n",
        "* *g - gaussian function*\n",
        "* *h - sobel function*\n",
        "* *i - Exponential Linear unit (ELU) function*"
      ],
      "metadata": {
        "id": "QIaQdZWwbOYE"
      }
    },
    {
      "cell_type": "code",
      "source": [
        "## Soln - 1\n",
        "\n",
        "# Print the correct options here\n",
        "print(\"h - sobel function \")"
      ],
      "metadata": {
        "id": "WDelv5FcbhWO",
        "colab": {
          "base_uri": "https://localhost:8080/"
        },
        "outputId": "20febe42-410e-4e71-d2c7-3c4dcdeeee28"
      },
      "execution_count": 2,
      "outputs": [
        {
          "output_type": "stream",
          "name": "stdout",
          "text": [
            "h - sobel function \n"
          ]
        }
      ]
    },
    {
      "cell_type": "markdown",
      "source": [
        "#### Q2 [3 Points]\n",
        "***Suppose a neuron N in layer 2 has 5 input neurons from layer 1. Do all these 5 input neurons have the same contribution towards the output of the neuron N?Explain briefly.***"
      ],
      "metadata": {
        "id": "SSNmiO1VbiHw"
      }
    },
    {
      "cell_type": "code",
      "source": [
        "## Soln - 2\n",
        "\n",
        "# Print your answer below\n",
        "print(\"\"\"No. \"\"\")\n",
        "print(\"\"\"Since in a given layer of a Neural Netwrok weights of the neurons are initialised with random values so they usually have different weights and hence they have different contributions towards the output neuron N. They will have same contribution only when their initials weights are same and if weights are same then the model will end up memorising the output and hence it will be of no use.  \"\"\")"
      ],
      "metadata": {
        "id": "gP0YCd-Jb017",
        "colab": {
          "base_uri": "https://localhost:8080/"
        },
        "outputId": "0d426ed1-aa36-42f2-b9b8-7b01e1a3b490"
      },
      "execution_count": 4,
      "outputs": [
        {
          "output_type": "stream",
          "name": "stdout",
          "text": [
            "No. \n",
            "Since in a given layer of a Neural Netwrok weights of the neurons are initialised with random values so they usually have different weights and hence they have different contributions towards the output neuron N. They will have same contribution only when their initials weights are same and if weights are same then the model will end up memorising the output and hence it will be of no use.  \n"
          ]
        }
      ]
    },
    {
      "cell_type": "markdown",
      "source": [
        "#### Q3 [4 Points]\n",
        "***Organise below points in right sequence:-***\n",
        "- *Dataset capturing*\n",
        "- *Optimizing parameters with backpropagation*\n",
        "- *Predicting the final output using our model*\n",
        "- *Data preprocessing*\n",
        "- *Calculating loss function*\n",
        "- *Applying activation function on initial output*\n",
        "- *Initializing weights and biases*"
      ],
      "metadata": {
        "id": "-nQq3jDdb9_E"
      }
    },
    {
      "cell_type": "code",
      "source": [
        "## Soln - 3\n",
        "\n",
        "# Print the right sequence below\n",
        "print(\"\"\"Correct Sequence:-\n",
        "- Dataset capturing\n",
        "- Data preprocessing\n",
        "- Initializing weights and biases\n",
        "- Applying activation function on initial output\n",
        "- Calculating loss function\n",
        "- Optimizing parameters with backpropagation\n",
        "- Predicting the final output using our model\"\"\")"
      ],
      "metadata": {
        "id": "VUUEMoJlcUqJ",
        "colab": {
          "base_uri": "https://localhost:8080/"
        },
        "outputId": "ec8deab7-3f33-423c-cc94-ec5f27431fbc"
      },
      "execution_count": 31,
      "outputs": [
        {
          "output_type": "stream",
          "name": "stdout",
          "text": [
            "Correct Sequence:-\n",
            "- Dataset capturing\n",
            "- Data preprocessing\n",
            "- Initializing weights and biases\n",
            "- Applying activation function on initial output\n",
            "- Calculating loss function\n",
            "- Optimizing parameters with backpropagation\n",
            "- Predicting the final output using our model\n"
          ]
        }
      ]
    },
    {
      "cell_type": "markdown",
      "source": [
        "#### Q4 [6 Points] \n",
        "\n",
        "***Answer the following questions -*** \n",
        "\n",
        "**a.** *Why is normalization done in batches?* \n",
        "\n",
        "**b.** *When is it suitable to use batches?* \n",
        "\n",
        "**c.** *Can we do normalization without batches? If yes, in which case?*"
      ],
      "metadata": {
        "id": "3eLrhsercTqJ"
      }
    },
    {
      "cell_type": "code",
      "source": [
        "## Soln - 4\n",
        "\n",
        "# Write you answers below\n",
        "\n",
        "a = \"\"\"Normalization Iis done in batches due to following reasons:\n",
        "1)Networks train more quickly — Each iteration of training will actually take longer because there are more calculations to make during the forward pass and more hyperparameters to train during the back propagation. However, it ought to converge significantly more quickly, making training generally faster.\n",
        "2)Increased learning rates are possible because the network converges more quickly using gradient descent. Additionally, deeper networks require more iterations due to the lower gradients seen during back propagation. We can use considerably greater learning rates when using batch normalisation, which accelerates the training of networks even more.\n",
        "3)Makes initialising weights simpler — When building deeper networks, initialising weights becomes much more challenging. It appears that batch normalisation enables us to be much less cautious. \n",
        "Also, it provides a bit of regularlization \"\"\"\n",
        "b = \"\"\"The model's training pace will be extremely poor if we put the entire data set into memory because we will be inefficiently using a lot of CPU RAM. We therefore divide our data set into batches in this instance. Therefore, it is appropriate to employ batches when there is a lot of data or for training CNN. \"\"\"\n",
        "\n",
        "c = \"\"\"When there is little data or when we need to train an RNN, normalisation can be done without batches. \"\"\"\n",
        "\n",
        "# Dont change the line below\n",
        "print(f\"a)\\n{a}\\n\\nb)\\n{b}\\n\\nc)\\n{c}\")"
      ],
      "metadata": {
        "id": "S23LvNw0c6Nx",
        "colab": {
          "base_uri": "https://localhost:8080/"
        },
        "outputId": "aa4711e9-280e-48f4-832f-b24126d14c5c"
      },
      "execution_count": 36,
      "outputs": [
        {
          "output_type": "stream",
          "name": "stdout",
          "text": [
            "a)\n",
            "Normalization Iis done in batches due to following reasons:\n",
            "1)Networks train more quickly — Each iteration of training will actually take longer because there are more calculations to make during the forward pass and more hyperparameters to train during the back propagation. However, it ought to converge significantly more quickly, making training generally faster.\n",
            "2)Increased learning rates are possible because the network converges more quickly using gradient descent. Additionally, deeper networks require more iterations due to the lower gradients seen during back propagation. We can use considerably greater learning rates when using batch normalisation, which accelerates the training of networks even more.\n",
            "3)Makes initialising weights simpler — When building deeper networks, initialising weights becomes much more challenging. It appears that batch normalisation enables us to be much less cautious. \n",
            "Also, it provides a bit of regularlization \n",
            "\n",
            "b)\n",
            "The model's training pace will be extremely poor if we put the entire data set into memory because we will be inefficiently using a lot of CPU RAM. We therefore divide our data set into batches in this instance. Therefore, it is appropriate to employ batches when there is a lot of data or for training CNN. \n",
            "\n",
            "c)\n",
            "When there is little data or when we need to train an RNN, normalisation can be done without batches. \n"
          ]
        }
      ]
    },
    {
      "cell_type": "markdown",
      "source": [
        "#### Q5 [4 Points]\n",
        "***Which propogation pass helps you to -***\n",
        "\n",
        "**a.** *Obtain network output?*\n",
        "\n",
        "**b.** *Update weights?*\n",
        "\n",
        "**c.** *Calculate gradients?*\n",
        "\n",
        "**d.** *Calculate loss?*"
      ],
      "metadata": {
        "id": "wlizwgtYdjAg"
      }
    },
    {
      "cell_type": "code",
      "source": [
        "## Soln - 5 (Type your answers as either 'Forward' or 'Backward'.)\n",
        "\n",
        "a = \"Forward \"\n",
        "b = \"Backward\"\n",
        "c = \"Backward\"\n",
        "d = \"Forward\"\n",
        " \n",
        "# Dont change the line below\n",
        "print(f\"a)\\n{a}\\n\\nb)\\n{b}\\n\\nc)\\n{c}\\n\\nd)\\n{d}\")"
      ],
      "metadata": {
        "id": "P-iuwb_peA9u",
        "colab": {
          "base_uri": "https://localhost:8080/"
        },
        "outputId": "1b317f0a-7bbb-458e-f96c-b1d05cd1963c"
      },
      "execution_count": 30,
      "outputs": [
        {
          "output_type": "stream",
          "name": "stdout",
          "text": [
            "a)\n",
            "Forward \n",
            "\n",
            "b)\n",
            "Backward\n",
            "\n",
            "c)\n",
            "Backward\n",
            "\n",
            "d)\n",
            "Forward\n"
          ]
        }
      ]
    },
    {
      "cell_type": "markdown",
      "source": [
        "#### Q6) [5 Points]    \n",
        "**a)** *What do you understand by the term 'outlier'?*\n",
        "\n",
        "**b)** *Does the following image have outliers? Explain your answer.*       \n",
        "<img src = \"https://drive.google.com/uc?id=1Z4jr2NBtSWu0eoYTdux0p3BOlrb7DI3Q\" width = 400 height = 300>\n",
        "       \n",
        "**c)** *Is linear regression sensitive to outliers? Use the image in (b) or your own example to explain it graphically.*      "
      ],
      "metadata": {
        "id": "8DKNc3MGhHcS"
      }
    },
    {
      "cell_type": "code",
      "source": [
        "## Soln - 6\n",
        "\n",
        "# a\n",
        "print(\"\"\"a) Outliers are data points that differ significantly from the rest of the dataset; they distort the data distribution and are typically the result of incorrect data entry. \"\"\"\n",
        ")\n",
        "\n",
        "# b\n",
        "print(\"\"\"\\nb)Yes, Since the linear regression model will be abnormally skewed if there are more outliers than normal data points, linear regression is very sensitive to outliers. \"\"\")\n",
        "\n",
        "#c\n",
        "print(\"\"\"\\nc)Yes, Since the linear regression model will be abnormally skewed if there are more outliers than normal data points, linear regression is very sensitive to outliers. \"\"\")\n",
        "import matplotlib.pyplot as plt\n",
        "import matplotlib.image as mpimg\n",
        "img = mpimg.imread('/content/pic.14.36.jpeg')\n",
        "imgplot = plt.imshow(img)\n",
        "plt.axis('off')\n",
        "plt.show()"
      ],
      "metadata": {
        "id": "3L28a60nhPUc",
        "colab": {
          "base_uri": "https://localhost:8080/",
          "height": 335
        },
        "outputId": "0e9080fe-174c-477c-a5f6-fc87866cae48"
      },
      "execution_count": 35,
      "outputs": [
        {
          "output_type": "stream",
          "name": "stdout",
          "text": [
            "a) Outliers are data points that differ significantly from the rest of the dataset; they distort the data distribution and are typically the result of incorrect data entry. \n",
            "\n",
            "b)Yes, Since the linear regression model will be abnormally skewed if there are more outliers than normal data points, linear regression is very sensitive to outliers. \n",
            "\n",
            "c)Yes, Since the linear regression model will be abnormally skewed if there are more outliers than normal data points, linear regression is very sensitive to outliers. \n"
          ]
        },
        {
          "output_type": "display_data",
          "data": {
            "text/plain": [
              "<Figure size 432x288 with 1 Axes>"
            ],
            "image/png": "[encoded data removed]"
          },
          "metadata": {
            "needs_background": "light"
          }
        }
      ]
    },
    {
      "cell_type": "markdown",
      "source": [
        "**soln c)** *Manually upload the image(s) you made to explain it graphically (Graph(s) made on paint shall work!)*\n",
        "\n",
        "**Make sure that the image is visible before you submit!**\n",
        " \n",
        ".      \n",
        ".      \n",
        ".     \n",
        "\n",
        "\n",
        "\n"
      ],
      "metadata": {
        "id": "17JnOllDhOyq"
      }
    },
    {
      "cell_type": "markdown",
      "source": [
        "#### Q7) [3 Points]\n",
        "***Which of the two graphs given below is for sigmoid function? Explain the reason for your choice along with the correct formula.*** \n",
        "\n",
        "*Graph 1:-*     \n",
        "<img src = \"https://drive.google.com/uc?id=1MKeJAiUpPYTDQ0OHar60YmBI7BVpl-9J\">\n",
        "\n",
        "*Graph 2:-*      \n",
        "<img src = \"https://drive.google.com/uc?id=1RYFG5rZ4mO2n52ohWmWTFgehmc30KBqd\">"
      ],
      "metadata": {
        "id": "WXdof8BQiBVd"
      }
    },
    {
      "cell_type": "code",
      "source": [
        "## Soln - 7\n",
        "\n",
        "# Print Graph 1 or Graph 2 whichever option you find is correct\n",
        "print(\"Graph 1 \")\n",
        "\n",
        "# Explain the reason \n",
        "print(\"The sigmoid function's range is between 0 and 1, however graph 2 range is between -1 and 1. As a result, graph 2 is not a sigmoid function.\")\n",
        "\n",
        "# Print the formula of sigmoid function\n",
        "print(\"σ(x) = 1/(1+e^-x)\")"
      ],
      "metadata": {
        "id": "Weq6YSDJiMDx",
        "colab": {
          "base_uri": "https://localhost:8080/"
        },
        "outputId": "8d2e5985-ef69-4e7f-bf14-aeeb3248de81"
      },
      "execution_count": 17,
      "outputs": [
        {
          "output_type": "stream",
          "name": "stdout",
          "text": [
            "Graph 1 \n",
            "The sigmoid function's range is between 0 and 1, however graph 2 range is between -1 and 1. As a result, graph 2 is not a sigmoid function.\n",
            "σ(x) = 1/(1+e^-x)\n"
          ]
        }
      ]
    },
    {
      "cell_type": "markdown",
      "source": [
        "#### Q8) [20 Points]\n",
        "***You will be training a Logistic Regression Model from scratch in this question!***\n",
        "\n",
        "**Data:-**\n",
        "- X_train:- Compute 500 random values between 0 to 2 (both inclusive).\n",
        "- X_test:- Compute 100 random values between 0 to 2 (both inclusive).\n",
        "- *Generate y_train and y_test data using the equation:* $y = \\frac{1 - e^{-x}}{1 + e^{-x}}$\n",
        "\n",
        "**Note:-** \n",
        "- *Accurate predictions will be judged on the basis of the difference between predicted and original y values.*\n",
        "- *Each time we run your code it should give the same result of output!*\n",
        "\n",
        "**Outputs should be similar to:-**    \n",
        "\n",
        "<img src=\"https://drive.google.com/uc?id=14Fak-0Xa9s1LHBlbNr-90SYR0clmE3D-\">\n",
        "\n",
        "**Use below helper functions or create your own functions to train your logistic regression model for 5000 iterations and predict values for y and print the 10 most accurate predictions.**\n",
        "\n",
        "```\n",
        "# Functions that will be needed while training the logisitc regression\n",
        "def sigmoid(X):\n",
        "    '''Converts all the input values in between 0 to 1'''\n",
        "    return 1 / (1 + np.exp(-X)) \n",
        "\n",
        "def predict(X, W, b):\n",
        "    '''On the test set we will apply the sigmoid on the input to get the predicted targets'''\n",
        "    return sigmoid(W*X + b)\n",
        "\n",
        "def compute_cost(X, y, W, b):\n",
        "    '''To generate the avg cost after each iteration in forward propagation'''\n",
        "    observations = len(y)                                                       # Total records in the data\n",
        "    predictions = predict(X, W, b)                                              # Predicted output after forward pass\n",
        "    cost = (-y*np.log(predictions)) - ((1-y)*np.log(1-predictions))             # Computing cost for every training vals\n",
        "    cost = cost.sum() / observations                                            # Average cost\n",
        "    return cost\n",
        "\n",
        "def update_weights(X, y, W,b, learning_rate):\n",
        "    '''Compute the gradients of cost function wrt to theta or say weights and bias and update weights using gradient descent'''\n",
        "    predictions = predict(X, W, b)                                              # Predicted output after forward pass\n",
        "    m, n = X.shape                                                              # m = total records of x\n",
        "    err = (predictions - y)                                                     # Error between predicted and actual output   \n",
        "    err = np.reshape(err, m)                                                    # Reshaping for matrix multiplications\n",
        "    gradient = np.dot(X.T,  err)                                                # dJ/d(theta) = X.T x err / m\n",
        "    dW = np.dot(X.T, err) / m                                                   # dJ/dw\n",
        "    db = np.sum(err) / m                                                        # dJ/db\n",
        "    W -= learning_rate * dW                                                     # Gradient Descent for weights  \n",
        "    b -= learning_rate * db                                                     # Gradient Descent for bias \n",
        "    '''Returns the updated value after each iteration in back propagation'''\n",
        "    return W, b                                                                 \n",
        "\n",
        "def train(X, y, W, b, learning_rate, iterations):\n",
        "    '''This function will train our model based on learning rate we choose'''\n",
        "    cost_history = []                                                           # We will fill it with cost values after every forward pass\n",
        "    for i in range(iterations):                                                 # For each epoch - Forward + Backward pass \n",
        "        i+=1                                                                    # Adjusting value of epoch \n",
        "        cost = compute_cost(X, y, W, b)                                         # Compute the cost \n",
        "        cost_history.append(cost)                                               # Append it to the list\n",
        "        W, b = update_weights(X, y, W, b, learning_rate)                        # Update the parameters \n",
        "\n",
        "    '''After forward and backward pass, return the final values of weight and bias along with the cost for each epoch'''\n",
        "    return W, b, cost_history                                                     \n",
        "\n",
        "```"
      ],
      "metadata": {
        "id": "XXr59cxPiPza"
      }
    },
    {
      "cell_type": "code",
      "source": [
        "## Soln - 8\n",
        "\n",
        "# Code it the way you like it ;)\n",
        "\n",
        "import numpy as np\n",
        "import matplotlib.pyplot as plt\n",
        "import pandas as pd\n",
        "\n",
        "def sigmoid(X):\n",
        "    '''Converts all the input values in between 0 to 1'''\n",
        "    return 1 / (1 + np.exp(-X)) \n",
        "\n",
        "def predict(X, W, b):\n",
        "    '''On the test set we will apply the sigmoid on the input to get the predicted targets'''\n",
        "    return sigmoid(W*X + b)\n",
        "\n",
        "def compute_cost(X, y, W, b):\n",
        "    '''To generate the avg cost after each iteration in forward propagation'''\n",
        "    observations = len(y)                                                       # Total records in the data\n",
        "    predictions = predict(X, W, b)                                              # Predicted output after forward pass\n",
        "    cost = (-y*np.log(predictions)) - ((1-y)*np.log(1-predictions))             # Computing cost for every training vals\n",
        "    cost = cost.sum() / observations                                            # Average cost\n",
        "    return cost\n",
        "\n",
        "def update_weights(X, y, W,b, learning_rate):\n",
        "    '''Compute the gradients of cost function wrt to theta or say weights and bias and update weights using gradient descent'''\n",
        "    predictions = predict(X, W, b)                                              # Predicted output after forward pass\n",
        "    m, n = X.shape                                                              # m = total records of x\n",
        "    err = (predictions - y)                                                     # Error between predicted and actual output   \n",
        "    err = np.reshape(err, m)                                                    # Reshaping for matrix multiplications\n",
        "    gradient = np.dot(X.T,  err)                                                # dJ/d(theta) = X.T x err / m\n",
        "    dW = np.dot(X.T, err) / m                                                   # dJ/dw\n",
        "    db = np.sum(err) / m                                                        # dJ/db\n",
        "    W -= learning_rate * dW                                                     # Gradient Descent for weights  \n",
        "    b -= learning_rate * db                                                     # Gradient Descent for bias \n",
        "    '''Returns the updated value after each iteration in back propagation'''\n",
        "    return W, b                                                                 \n",
        "\n",
        "def train(X, y, W, b, learning_rate, iterations):\n",
        "    '''This function will train our model based on learning rate we choose'''\n",
        "    cost_history = []                                                           # We will fill it with cost values after every forward pass\n",
        "    for i in range(iterations):                                                 # For each epoch - Forward + Backward pass \n",
        "        i+=1                                                                    # Adjusting value of epoch \n",
        "        cost = compute_cost(X, y, W, b)                                         # Compute the cost \n",
        "        cost_history.append(cost)                                               # Append it to the list\n",
        "        W, b = update_weights(X, y, W, b, learning_rate)                        # Update the parameters \n",
        "\n",
        "        # Log Progress\n",
        "        if i % 500 == 0 and choice =='yes':\n",
        "            print(\"After {} epochs, weight={}, bias={}, cost={}\".format(i, W, b, cost))\n",
        "    '''After forward and backward pass, return the final values of weight and bias along with the cost for each epoch'''\n",
        "    return W, b, cost_history                                \n",
        "\n",
        "def rnorm(n,mean=0,sd=1):\n",
        "    \"\"\"\n",
        "    Generates random variables from the normal distribution\n",
        "    \"\"\"\n",
        "    from scipy.stats import norm\n",
        "    result=norm.rvs(size=n,loc=mean,scale=sd)\n",
        "    return result\n",
        "\n",
        "choice = input(\"Want to display the training process after every 500 epochs?[yes/no]:- \")\n",
        "if choice == \"yes\":\n",
        "    print(\"*\" * 60 + \" TRAINING AFTER EVERY 500 EPOCHS \" + \"*\" * 60 )\n",
        "\n",
        "\n",
        "np.random.seed(100)\n",
        "X_train = 2 * np.random.rand(500)\n",
        "X_train = np.reshape(X_train, (500,1))\n",
        "X_test = 2 * np.random.rand(100)\n",
        "X_test = np.reshape(X_test, (100,1))\n",
        "y_train = (1 - np.exp(-X_train)) / (1 + np.exp(-X_train))\n",
        "y_test = (1 - np.exp(-X_test)) / (1 + np.exp(-X_test))\n",
        "\n",
        "\n",
        "iterations = 5000\n",
        "learning_rate = 0.1\n",
        "W = np.zeros(X_train.shape[1])\n",
        "b = 0\n",
        "\n",
        "W, b, cost_history= train(X_train, y_train, W, b, learning_rate, iterations)\n",
        "\n",
        "print(\"*\" * 134 + \"\\n\")\n",
        "print(\"Final values correct to 3 sf ~\")\n",
        "print(f\"Weight: {W.round(3)}\")\n",
        "print(f\"Bias: {b.round(3)}\")\n",
        "print(f\"Cost: {cost_history[-1].round(3)}\")\n",
        "print(\"\\n\" + \"*\" * 150)\n",
        "\n",
        "\n",
        "\n",
        "y_pred = predict(X_test, W, b)\n",
        "\n",
        "\n",
        "\n",
        "\n",
        "plt.figure(figsize=(15,8))\n",
        "plt.subplot(121)\n",
        "plt.grid(True)\n",
        "plt.title(\"Cost vs Iterations\", color = \"red\", fontweight = \"bold\")\n",
        "plt.plot(range(iterations), cost_history, color = \"g\", linewidth = 5)\n",
        "plt.xlabel(\"Number of iterations\", color = \"purple\", fontweight = \"bold\")\n",
        "plt.ylabel(\"Cost\", color = \"purple\", fontweight = \"bold\")\n",
        "\n",
        "\n",
        "plt.subplot(122)\n",
        "plt.title(\"True vs Predicted - Test Data\", color = \"red\", fontweight = \"bold\")\n",
        "plt.scatter(X_test, y_test, color = \"blue\", s = 2)\n",
        "plt.scatter(X_test, y_pred, color = \"red\", s = 2)\n",
        "plt.legend([\"Actual Values\", \"Predicted Values\"], loc =\"upper left\")\n",
        "plt.xlabel(\"x - values\", color = \"purple\", fontweight = \"bold\")\n",
        "plt.ylabel(\"y - values\", color = \"purple\", fontweight = \"bold\")\n",
        "\n",
        "\n",
        "\n",
        "plt.show()\n",
        "\n",
        "\n",
        "data = {\"X_test\": np.reshape(X_test, (100)), \"y_true\":np.reshape(y_test, (100)), \"y_pred\": np.reshape(y_pred, (100)), \"|Error|\": np.reshape(abs(y_test - y_pred), (100))}\n",
        "\n",
        "print(\"| Top 10 predictions along with absolute difference between true and predicted value (|Error|) |\")\n",
        "print(\"-\" * 90)\n",
        "df = pd.DataFrame(data)\n",
        "df = df.sort_values(\"|Error|\")\n",
        "df = df.reset_index(drop=True)\n",
        "df.index += 1\n",
        "display(df.head(10))\n",
        "\n",
        "\n",
        "\n",
        "\n",
        "\n",
        "\n",
        "\n",
        "\n",
        "\n",
        "\n",
        "\n",
        "\n",
        "\n",
        "\n"
      ],
      "metadata": {
        "id": "rfFSMzo_sZcy",
        "colab": {
          "base_uri": "https://localhost:8080/",
          "height": 1000
        },
        "outputId": "4ccad1a7-7758-460d-ff6e-e22222b7e981"
      },
      "execution_count": 27,
      "outputs": [
        {
          "output_type": "stream",
          "name": "stdout",
          "text": [
            "Want to display the training process after every 500 epochs?[yes/no]:- yes\n",
            "************************************************************ TRAINING AFTER EVERY 500 EPOCHS ************************************************************\n",
            "After 500 epochs, weight=[1.39743534], bias=-1.6507208844281478, cost=0.5771597794669058\n",
            "After 1000 epochs, weight=[1.70003775], bias=-2.014961784107471, cost=0.5720145609870044\n",
            "After 1500 epochs, weight=[1.78503636], bias=-2.117750760220912, cost=0.5716143586612871\n",
            "After 2000 epochs, weight=[1.81058946], bias=-2.1486925259333294, cost=0.5715783272792868\n",
            "After 2500 epochs, weight=[1.81842359], bias=-2.1581824407375896, cost=0.5715749444199643\n",
            "After 3000 epochs, weight=[1.8208397], bias=-2.1611095516637384, cost=0.5715746227698832\n",
            "After 3500 epochs, weight=[1.8215862], bias=-2.162013975154704, cost=0.5715745920675968\n",
            "After 4000 epochs, weight=[1.82181698], bias=-2.1622935755213484, cost=0.5715745891334734\n",
            "After 4500 epochs, weight=[1.82188834], bias=-2.162380027656064, cost=0.5715745888529645\n",
            "After 5000 epochs, weight=[1.8219104], bias=-2.162406759935475, cost=0.5715745888261441\n",
            "**************************************************************************************************************************************\n",
            "\n",
            "Final values correct to 3 sf ~\n",
            "Weight: [1.822]\n",
            "Bias: -2.162\n",
            "Cost: 0.572\n",
            "\n",
            "******************************************************************************************************************************************************\n"
          ]
        },
        {
          "output_type": "display_data",
          "data": {
            "text/plain": [
              "<Figure size 1080x576 with 2 Axes>"
            ],
            "image/png": "[encoded data removed]"
          },
          "metadata": {
            "needs_background": "light"
          }
        },
        {
          "output_type": "stream",
          "name": "stdout",
          "text": [
            "| Top 10 predictions along with absolute difference between true and predicted value (|Error|) |\n",
            "------------------------------------------------------------------------------------------\n"
          ]
        },
        {
          "output_type": "display_data",
          "data": {
            "text/plain": [
              "      X_test    y_true    y_pred   |Error|\n",
              "1   1.457810  0.622395  0.620952  0.001443\n",
              "2   1.453276  0.621004  0.619006  0.001998\n",
              "3   1.434435  0.615183  0.610878  0.004305\n",
              "4   0.400981  0.197847  0.192810  0.005037\n",
              "5   1.524582  0.642424  0.649136  0.006712\n",
              "6   1.401895  0.604969  0.596697  0.008272\n",
              "7   1.540246  0.647001  0.655608  0.008607\n",
              "8   1.541411  0.647339  0.656087  0.008748\n",
              "9   0.325691  0.161421  0.172355  0.010934\n",
              "10  0.322254  0.159747  0.171464  0.011717"
            ],
            "text/html": [
              "\n",
              "  <div id=\"df-60de6886-8c6b-4c28-9956-27d2c739dadb\">\n",
              "    <div class=\"colab-df-container\">\n",
              "      <div>\n",
              "<style scoped>\n",
              "    .dataframe tbody tr th:only-of-type {\n",
              "        vertical-align: middle;\n",
              "    }\n",
              "\n",
              "    .dataframe tbody tr th {\n",
              "        vertical-align: top;\n",
              "    }\n",
              "\n",
              "    .dataframe thead th {\n",
              "        text-align: right;\n",
              "    }\n",
              "</style>\n",
              "<table border=\"1\" class=\"dataframe\">\n",
              "  <thead>\n",
              "    <tr style=\"text-align: right;\">\n",
              "      <th></th>\n",
              "      <th>X_test</th>\n",
              "      <th>y_true</th>\n",
              "      <th>y_pred</th>\n",
              "      <th>|Error|</th>\n",
              "    </tr>\n",
              "  </thead>\n",
              "  <tbody>\n",
              "    <tr>\n",
              "      <th>1</th>\n",
              "      <td>1.457810</td>\n",
              "      <td>0.622395</td>\n",
              "      <td>0.620952</td>\n",
              "      <td>0.001443</td>\n",
              "    </tr>\n",
              "    <tr>\n",
              "      <th>2</th>\n",
              "      <td>1.453276</td>\n",
              "      <td>0.621004</td>\n",
              "      <td>0.619006</td>\n",
              "      <td>0.001998</td>\n",
              "    </tr>\n",
              "    <tr>\n",
              "      <th>3</th>\n",
              "      <td>1.434435</td>\n",
              "      <td>0.615183</td>\n",
              "      <td>0.610878</td>\n",
              "      <td>0.004305</td>\n",
              "    </tr>\n",
              "    <tr>\n",
              "      <th>4</th>\n",
              "      <td>0.400981</td>\n",
              "      <td>0.197847</td>\n",
              "      <td>0.192810</td>\n",
              "      <td>0.005037</td>\n",
              "    </tr>\n",
              "    <tr>\n",
              "      <th>5</th>\n",
              "      <td>1.524582</td>\n",
              "      <td>0.642424</td>\n",
              "      <td>0.649136</td>\n",
              "      <td>0.006712</td>\n",
              "    </tr>\n",
              "    <tr>\n",
              "      <th>6</th>\n",
              "      <td>1.401895</td>\n",
              "      <td>0.604969</td>\n",
              "      <td>0.596697</td>\n",
              "      <td>0.008272</td>\n",
              "    </tr>\n",
              "    <tr>\n",
              "      <th>7</th>\n",
              "      <td>1.540246</td>\n",
              "      <td>0.647001</td>\n",
              "      <td>0.655608</td>\n",
              "      <td>0.008607</td>\n",
              "    </tr>\n",
              "    <tr>\n",
              "      <th>8</th>\n",
              "      <td>1.541411</td>\n",
              "      <td>0.647339</td>\n",
              "      <td>0.656087</td>\n",
              "      <td>0.008748</td>\n",
              "    </tr>\n",
              "    <tr>\n",
              "      <th>9</th>\n",
              "      <td>0.325691</td>\n",
              "      <td>0.161421</td>\n",
              "      <td>0.172355</td>\n",
              "      <td>0.010934</td>\n",
              "    </tr>\n",
              "    <tr>\n",
              "      <th>10</th>\n",
              "      <td>0.322254</td>\n",
              "      <td>0.159747</td>\n",
              "      <td>0.171464</td>\n",
              "      <td>0.011717</td>\n",
              "    </tr>\n",
              "  </tbody>\n",
              "</table>\n",
              "</div>\n",
              "      <button class=\"colab-df-convert\" onclick=\"convertToInteractive('df-60de6886-8c6b-4c28-9956-27d2c739dadb')\"\n",
              "              title=\"Convert this dataframe to an interactive table.\"\n",
              "              style=\"display:none;\">\n",
              "        \n",
              "  <svg xmlns=\"http://www.w3.org/2000/svg\" height=\"24px\"viewBox=\"0 0 24 24\"\n",
              "       width=\"24px\">\n",
              "    <path d=\"M0 0h24v24H0V0z\" fill=\"none\"/>\n",
              "    <path d=\"M18.56 5.44l.94 2.06.94-2.06 2.06-.94-2.06-.94-.94-2.06-.94 2.06-2.06.94zm-11 1L8.5 8.5l.94-2.06 2.06-.94-2.06-.94L8.5 2.5l-.94 2.06-2.06.94zm10 10l.94 2.06.94-2.06 2.06-.94-2.06-.94-.94-2.06-.94 2.06-2.06.94z\"/><path d=\"M17.41 7.96l-1.37-1.37c-.4-.4-.92-.59-1.43-.59-.52 0-1.04.2-1.43.59L10.3 9.45l-7.72 7.72c-.78.78-.78 2.05 0 2.83L4 21.41c.39.39.9.59 1.41.59.51 0 1.02-.2 1.41-.59l7.78-7.78 2.81-2.81c.8-.78.8-2.07 0-2.86zM5.41 20L4 18.59l7.72-7.72 1.47 1.35L5.41 20z\"/>\n",
              "  </svg>\n",
              "      </button>\n",
              "      \n",
              "  <style>\n",
              "    .colab-df-container {\n",
              "      display:flex;\n",
              "      flex-wrap:wrap;\n",
              "      gap: 12px;\n",
              "    }\n",
              "\n",
              "    .colab-df-convert {\n",
              "      background-color: #E8F0FE;\n",
              "      border: none;\n",
              "      border-radius: 50%;\n",
              "      cursor: pointer;\n",
              "      display: none;\n",
              "      fill: #1967D2;\n",
              "      height: 32px;\n",
              "      padding: 0 0 0 0;\n",
              "      width: 32px;\n",
              "    }\n",
              "\n",
              "    .colab-df-convert:hover {\n",
              "      background-color: #E2EBFA;\n",
              "      box-shadow: 0px 1px 2px rgba(60, 64, 67, 0.3), 0px 1px 3px 1px rgba(60, 64, 67, 0.15);\n",
              "      fill: #174EA6;\n",
              "    }\n",
              "\n",
              "    [theme=dark] .colab-df-convert {\n",
              "      background-color: #3B4455;\n",
              "      fill: #D2E3FC;\n",
              "    }\n",
              "\n",
              "    [theme=dark] .colab-df-convert:hover {\n",
              "      background-color: #434B5C;\n",
              "      box-shadow: 0px 1px 3px 1px rgba(0, 0, 0, 0.15);\n",
              "      filter: drop-shadow(0px 1px 2px rgba(0, 0, 0, 0.3));\n",
              "      fill: #FFFFFF;\n",
              "    }\n",
              "  </style>\n",
              "\n",
              "      <script>\n",
              "        const buttonEl =\n",
              "          document.querySelector('#df-60de6886-8c6b-4c28-9956-27d2c739dadb button.colab-df-convert');\n",
              "        buttonEl.style.display =\n",
              "          google.colab.kernel.accessAllowed ? 'block' : 'none';\n",
              "\n",
              "        async function convertToInteractive(key) {\n",
              "          const element = document.querySelector('#df-60de6886-8c6b-4c28-9956-27d2c739dadb');\n",
              "          const dataTable =\n",
              "            await google.colab.kernel.invokeFunction('convertToInteractive',\n",
              "                                                     [key], {});\n",
              "          if (!dataTable) return;\n",
              "\n",
              "          const docLinkHtml = 'Like what you see? Visit the ' +\n",
              "            '<a target=\"_blank\" href=https://colab.research.google.com/notebooks/data_table.ipynb>data table notebook</a>'\n",
              "            + ' to learn more about interactive tables.';\n",
              "          element.innerHTML = '';\n",
              "          dataTable['output_type'] = 'display_data';\n",
              "          await google.colab.output.renderOutput(dataTable, element);\n",
              "          const docLink = document.createElement('div');\n",
              "          docLink.innerHTML = docLinkHtml;\n",
              "          element.appendChild(docLink);\n",
              "        }\n",
              "      </script>\n",
              "    </div>\n",
              "  </div>\n",
              "  "
            ]
          },
          "metadata": {}
        }
      ]
    }
  ]
}