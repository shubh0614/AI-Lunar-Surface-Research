{
  "cells": [
    {
      "cell_type": "markdown",
      "metadata": {
        "id": "IdbVnJBb9Smp"
      },
      "source": [
        "# <center> WEEK 5 - Assignment\n",
        "### <center> Total:- 60 (50: questions, 10: presentaiton)"
      ]
    },
    {
      "cell_type": "code",
      "execution_count": null,
      "metadata": {
        "id": "zs_ashU19Rwa"
      },
      "outputs": [],
      "source": [
        "###### IMPORTANT ########\n",
        "Your_Name = \"Shubh Pathak\"\n",
        "Your_Email_id = \"shubhpathakpro@gmail.com\""
      ]
    },
    {
      "cell_type": "markdown",
      "metadata": {
        "id": "SwEbyM279Zky"
      },
      "source": [
        "---"
      ]
    },
    {
      "cell_type": "markdown",
      "metadata": {
        "id": "NKGd-Jfa4bfC"
      },
      "source": [
        "#### Q1) [12 Points]\n",
        "\n",
        "***State differences between the following with one example for each:-*** \n",
        "\n",
        "**A.** *Convolution and Pooling*\n",
        "\n",
        "**B.** *Padding and strides in convolution*\n",
        "\n",
        "**C.** *Convolution layer and Dense layer*\n",
        "\n",
        "**D.** *Sigmoid and ReLU activation function*\n"
      ]
    },
    {
      "cell_type": "code",
      "execution_count": 41,
      "metadata": {
        "id": "uHSZthxh4cOE",
        "colab": {
          "base_uri": "https://localhost:8080/"
        },
        "outputId": "2b146c0b-c6f6-4e41-dbb4-5358d76baff0"
      },
      "outputs": [
        {
          "output_type": "stream",
          "name": "stdout",
          "text": [
            "+------------------------------------------------------------------------------------------------------------------------------------------------------------+----------------------------------------------------------------------------------------------------------------------------------------------------------------------------------+\n",
            "| Convolution                                                                                                                                                | Pooling                                                                                                                                                                          |\n",
            "+============================================================================================================================================================+==================================================================================================================================================================================+\n",
            "| Convolution can be visualised as a filter which takes the neighbouring pixels into consideration.                                                          | Pooling is a process of compressing the images which is used alongside the convolution process.                                                                                  |\n",
            "| If our filter is 3x3 then we can look at the neigbouring pixels and multiply the value with the the corresponding filter value to get the new pixel value. | It goes through the image in a fixed number of pixels per time and chooses the highest number of pixel in that frame. This process continues till the whole image is compressed. |\n",
            "+------------------------------------------------------------------------------------------------------------------------------------------------------------+----------------------------------------------------------------------------------------------------------------------------------------------------------------------------------+\n",
            "| A convolution layer has parameters to learn (that is your weights which you update each step)                                                              | The pooling layer does not - it is just applying some given function e.g max-function.                                                                                           |\n",
            "+------------------------------------------------------------------------------------------------------------------------------------------------------------+----------------------------------------------------------------------------------------------------------------------------------------------------------------------------------+\n",
            "+-------------------------------------------------------------------------------------------------------------------------+------------------------------------------------------------------------------+\n",
            "| Padding                                                                                                                 | Strides                                                                      |\n",
            "+=========================================================================================================================+==============================================================================+\n",
            "| It describes the number of pixels that are added to an image during a CNN's kernel processing.                          | The number of pixels shifted across the input matrix called the stride.      |\n",
            "|   For instance, if the padding in a CNN is set to 0, then any additional pixels will have a value of 0.                 | The filters are moved to 1 pixel at a time when the stride is 1.             |\n",
            "|   However, if the zero padding is set to 1, an additional border with a pixel value of zero will be added to the image. | The filters are moved to 2 pixels at a time when the stride is 2, and so on. |\n",
            "|   It increases the area of an image that a convolutional neural network can process.                                    |                                                                              |\n",
            "|  There are three forms of padding:                                                                                      |                                                                              |\n",
            "| Same padding (input shape=(28, 28, 1))), padding='same')), Causal padding, and Valid padding.                           |                                                                              |\n",
            "+-------------------------------------------------------------------------------------------------------------------------+------------------------------------------------------------------------------+\n",
            "+--------------------------------------------------------------------------------------------------------+--------------------------------------------------------------------------------------------------------------------------------------------------------+\n",
            "| Convolution layer                                                                                      | Dense layer                                                                                                                                            |\n",
            "+========================================================================================================+========================================================================================================================================================+\n",
            "| The foundation of a CNN is a convolutional layer.                                                      | A layer that is densely connected to the layer above it is one in which every neuron in the layer is coupled to every other neuron in the layer above. |\n",
            "|  It has a number of filters (or kernels), whose settings must be learned over the course of training.  |  In artificial neural network networks, this layer is the one that is most frequently utilised.                                                        |\n",
            "| Typically, the filters' size is smaller than the original image.                                       |                                                                                                                                                        |\n",
            "|  Each filter produces an activation map after it convolves with the image.                             |                                                                                                                                                        |\n",
            "+--------------------------------------------------------------------------------------------------------+--------------------------------------------------------------------------------------------------------------------------------------------------------+\n",
            "+--------------------------------------------------------------------------------------------------------------------------------------+------------------------------------------------------------------------------------------------------------------------------------------+\n",
            "| Sigmoid activation function                                                                                                          | ReLU activation function                                                                                                                 |\n",
            "+======================================================================================================================================+==========================================================================================================================================+\n",
            "| The sigmoid function is a type of mathematical function that changes numbers between 0 and 1.                                        | Rectified Linear Unit is referred to as ReLU.                                                                                            |\n",
            "| It is also referred to as the Sigmoidal Curve and is an S-shaped curve that is mostly employed with non-linear activation functions. |  In deep learning, this activation unit is most frequently utilised. max(0, x) = R(x).                                                   |\n",
            "| Here is the mathematical expression for sigmoid-f(x) = 1/(1+e^-x)                                                                    |   As a result, R(x) = 0 if x 0 and R(x) = x if x 0.                                                                                      |\n",
            "|                                                                                                                                      |   In comparison to sigmoid or tanh activation functions, it also improves the convergence of gradient descent.In comparison to sigmoid,  |\n",
            "|                                                                                                                                      | ReLU boasts of training sophisticated models and neural networks with constant values.                                                   |\n",
            "+--------------------------------------------------------------------------------------------------------------------------------------+------------------------------------------------------------------------------------------------------------------------------------------+\n"
          ]
        }
      ],
      "source": [
        "\n",
        "## Soln - 1\n",
        "from tabulate import tabulate\n",
        "\n",
        "# A\n",
        "data=[[\"Convolution can be visualised as a filter which takes the neighbouring pixels into consideration. \\nIf our filter is 3x3 then we can look at the neigbouring pixels and multiply the value with the the corresponding filter value to get the new pixel value.\",\"Pooling is a process of compressing the images which is used alongside the convolution process. \\nIt goes through the image in a fixed number of pixels per time and chooses the highest number of pixel in that frame. This process continues till the whole image is compressed.\"],\n",
        "      [\"A convolution layer has parameters to learn (that is your weights which you update each step)\",\"The pooling layer does not - it is just applying some given function e.g max-function.\"]]\n",
        "head = [\"Convolution\", \"Pooling\"]\n",
        "print(tabulate(data, headers=head, tablefmt=\"grid\"))\n",
        "\n",
        "# B\n",
        "data=[[\"  It describes the number of pixels that are added to an image during a CNN's kernel processing.\\n  For instance, if the padding in a CNN is set to 0, then any additional pixels will have a value of 0.\\n  However, if the zero padding is set to 1, an additional border with a pixel value of zero will be added to the image.\\n  It increases the area of an image that a convolutional neural network can process.\\n There are three forms of padding: \\nSame padding (input shape=(28, 28, 1))), padding='same')), Causal padding, and Valid padding.\",\"The number of pixels shifted across the input matrix called the stride.\\nThe filters are moved to 1 pixel at a time when the stride is 1. \\nThe filters are moved to 2 pixels at a time when the stride is 2, and so on.\"],\n",
        "      ]\n",
        "head = [\"Padding\", \"Strides\"]\n",
        "print(tabulate(data, headers=head, tablefmt=\"grid\"))\n",
        "\n",
        "# C\n",
        "data=[[\"The foundation of a CNN is a convolutional layer.\\n It has a number of filters (or kernels), whose settings must be learned over the course of training. \\nTypically, the filters' size is smaller than the original image.\\n Each filter produces an activation map after it convolves with the image.\",\"A layer that is densely connected to the layer above it is one in which every neuron in the layer is coupled to every other neuron in the layer above.\\n In artificial neural network networks, this layer is the one that is most frequently utilised.\"]]\n",
        "head = [\"Convolution layer\", \"Dense layer\"]\n",
        "print(tabulate(data, headers=head, tablefmt=\"grid\"))\n",
        "\n",
        "# D\n",
        "data=[[\"The sigmoid function is a type of mathematical function that changes numbers between 0 and 1. \\nIt is also referred to as the Sigmoidal Curve and is an S-shaped curve that is mostly employed with non-linear activation functions.\\nHere is the mathematical expression for sigmoid-f(x) = 1/(1+e^-x)\",\"Rectified Linear Unit is referred to as ReLU. \\n In deep learning, this activation unit is most frequently utilised. max(0, x) = R(x).\\n  As a result, R(x) = 0 if x 0 and R(x) = x if x 0.\\n  In comparison to sigmoid or tanh activation functions, it also improves the convergence of gradient descent.In comparison to sigmoid, \\nReLU boasts of training sophisticated models and neural networks with constant values.\"]]\n",
        "head = [\"Sigmoid activation function\", \"ReLU activation function\"]\n",
        "print(tabulate(data, headers=head, tablefmt=\"grid\"))\n"
      ]
    },
    {
      "cell_type": "markdown",
      "metadata": {
        "id": "HPRQ_8Hc4cvJ"
      },
      "source": [
        "#### Q2) [4 Points]\n",
        "\n",
        "***What will be the output shape of the feature map after each layers mentioned below if the Input shape given is (32, 32, 3)?***          \n",
        "***Explain your answer.***\n",
        "\n",
        "*Conv2D(16 filters, kernel_size = 3, strides = 1, padding = 'valid', activation = 'relu')*      \n",
        "\n",
        "*MaxPooling2D(pool_size = 2)*\n",
        "\n",
        "*BatchNormalization()*\n",
        "\n",
        "\n",
        "\n",
        "\n"
      ]
    },
    {
      "cell_type": "code",
      "execution_count": 31,
      "metadata": {
        "id": "4v3X5pFG4j-J",
        "colab": {
          "base_uri": "https://localhost:8080/"
        },
        "outputId": "8123455c-3508-4646-cd62-d6156d7535ab"
      },
      "outputs": [
        {
          "output_type": "stream",
          "name": "stdout",
          "text": [
            "Output Shape after applying Convolution Layer is (None, 30, 30, 16).\n",
            "Using formula :C=(((n + 2P-f)/S) + 1) where \n",
            "n =  (32, 32, 3) ,f = 3 ,S = 1,P = 0 \n",
            "C=(((32+2*0-3)/1)+1)=30\n",
            "\n",
            "Output Shape after applying Pooling Layer is (None, 15,15, 16) . \n",
            "Pooling layer halfs the no of rows and columns.\n",
            "\n",
            "Output Shape after  applying Batch Normalization  is  (None, 15,15, 16) .\n"
          ]
        }
      ],
      "source": [
        "## Soln - 2\n",
        "print(\"\"\"Output Shape after applying Convolution Layer is (None, 30, 30, 16).\n",
        "Using formula :C=(((n + 2P-f)/S) + 1) where \n",
        "n =  (32, 32, 3) ,f = 3 ,S = 1,P = 0 \n",
        "C=(((32+2*0-3)/1)+1)=30\n",
        "\n",
        "Output Shape after applying Pooling Layer is (None, 15,15, 16) . \n",
        "Pooling layer halfs the no of rows and columns.\n",
        "\n",
        "Output Shape after  applying Batch Normalization  is  (None, 15,15, 16) .\"\"\")\n",
        "\n",
        "\n"
      ]
    },
    {
      "cell_type": "markdown",
      "metadata": {
        "id": "wzPrJoKx4ktx"
      },
      "source": [
        "#### Q3) [2 Points]\n",
        "\n",
        "***Perform max and avg pooling on:-*** \n",
        "\n",
        "![maxpool-1.png](data:image/png;base64,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)\n",
        "\n",
        "\n",
        "*Provide the output in tuple containing values of final grid (top left, top right, bottom left, bottom right)*\n",
        "\n",
        "Example : (1,2,3,4)"
      ]
    },
    {
      "cell_type": "code",
      "execution_count": 32,
      "metadata": {
        "id": "0tKQJUUY4pdn",
        "colab": {
          "base_uri": "https://localhost:8080/"
        },
        "outputId": "695e5370-a6a8-47d7-f6b1-17f9de2fd81b"
      },
      "outputs": [
        {
          "output_type": "stream",
          "name": "stdout",
          "text": [
            "Max Pooling: (9,7,8,6)\n",
            " The term \"max pooling\" refers to  process that chooses the largest element from the feature map area that the filter covers. The output of the max-pooling layer would therefore be a feature map that included the most prominent  features from the prior feature map.\n",
            "\n",
            "Average Pooling: (4.25,4.25,4.25,3.5)\n",
            " The average of the items in the feature map region that the filter is covering are calculated using average pooling. Thus, average pooling delivers the average of the features present in a patch.\n"
          ]
        }
      ],
      "source": [
        "## Soln - 3\n",
        "print(\"Max Pooling: (9,7,8,6)\")\n",
        "print(\"\"\" The term \"max pooling\" refers to  process that chooses the largest element from the feature map area that the filter covers. The output of the max-pooling layer would therefore be a feature map that included the most prominent  features from the prior feature map.\\n\"\"\")\n",
        "\n",
        "\n",
        "print(\"Average Pooling: (4.25,4.25,4.25,3.5)\")\n",
        "print(\"\"\" The average of the items in the feature map region that the filter is covering are calculated using average pooling. Thus, average pooling delivers the average of the features present in a patch.\"\"\")"
      ]
    },
    {
      "cell_type": "markdown",
      "metadata": {
        "id": "t0GtQbAU4ri5"
      },
      "source": [
        "#### Q4) [4 Points]\n",
        "\n",
        "***Convolution operation shrinks the image size. How is this problem addressed in deep network development? Explain.***\n"
      ]
    },
    {
      "cell_type": "code",
      "execution_count": 33,
      "metadata": {
        "id": "mmG-TWI24yke",
        "colab": {
          "base_uri": "https://localhost:8080/"
        },
        "outputId": "3ca2b5cd-4649-40e8-f643-4c782ab9ffac"
      },
      "outputs": [
        {
          "output_type": "stream",
          "name": "stdout",
          "text": [
            "During Convolution operation when the convolution filter is applied after each step there is a loss of information which inturn shrinks the imaze size. \n",
            "To tackle this problem the concept of padding was introduced in deep network development.\n",
            "\n",
            "There are 2 ways for achieving padding :\n",
            "i) Valid Padding:  It essentially means no padding and it assumes that all the dimensions are valid so that the input image gets fully covered by a filter and the stride specified by us. \n",
            "ii) Same Padding: It applies padding to the input image so that the input image gets fully covered by the filter and specified stride. In this he output will be the same as the input.\n",
            "\n",
            "Adding padding to an image processed by a CNN allows for more accurate analysis of images without any information loss.\n"
          ]
        }
      ],
      "source": [
        "## Soln - 4\n",
        "answer_explanation = \"\"\"During Convolution operation when the convolution filter is applied after each step there is a loss of information which inturn shrinks the imaze size. \n",
        "To tackle this problem the concept of padding was introduced in deep network development.\n",
        "\n",
        "There are 2 ways for achieving padding :\n",
        "i) Valid Padding:  It essentially means no padding and it assumes that all the dimensions are valid so that the input image gets fully covered by a filter and the stride specified by us. \n",
        "ii) Same Padding: It applies padding to the input image so that the input image gets fully covered by the filter and specified stride. In this he output will be the same as the input.\n",
        "\n",
        "Adding padding to an image processed by a CNN allows for more accurate analysis of images without any information loss.\"\"\"\n",
        "\n",
        "print(answer_explanation)\n",
        "\n"
      ]
    },
    {
      "cell_type": "markdown",
      "metadata": {
        "id": "MaLVTSz0406H"
      },
      "source": [
        "#### Q5) [1 point]\n",
        "\n",
        "***Which of the following steps can be taken to prevent overfitting in a neural network?*** \n",
        "\n",
        "**MORE THAN ONE OPTION CAN BE CORRECT!**\n",
        "\n",
        "**A.** *Dropout of neurons*\n",
        "\n",
        "**B.** *Early stopping*\n",
        "\n",
        "**C.** *Batch normalization*\n",
        " \n",
        "**Note:-**           \n",
        "*Read about Early Stopping here: https://keras.io/api/callbacks/early_stopping/*"
      ]
    },
    {
      "cell_type": "code",
      "execution_count": 34,
      "metadata": {
        "id": "cvmffuIK49-O",
        "colab": {
          "base_uri": "https://localhost:8080/"
        },
        "outputId": "830ddf43-321d-40da-beaa-ed64d59bd0ba"
      },
      "outputs": [
        {
          "output_type": "stream",
          "name": "stdout",
          "text": [
            " \n",
            "A. Dropout of neurons\n",
            "Reason:Neuron Dropout is a regularisation method that avoids overfitting in neural networks. Each iteration's training phase involves the random removal of neurons from the neural network. It is the same as training distinct neural networks when we delete different sets of neurons. Dropout will ultimately reduce overfitting since different networks will overfit in different ways.\n",
            "\n",
            "B. Early stopping\n",
            "Reason:Early stopping is a type of regularisation used when a model is being trained iteratively, like with gradient descent. Early halting is an approach that works for all issues because gradient descent is the only learning method used by neural networks. With each iteration of this technique, the model is updated to improve its fit to the training set of data.\n",
            "\n",
            "C. Batch normalization\n",
            "Reason:Due to the addition of noise to each layer's inputs, batch normalisation has a regularising impact. As a result, overfitting is discouraged because the model no longer generates deterministic values based solely on a given training example.\n",
            "\n",
            "\n"
          ]
        }
      ],
      "source": [
        "## Soln - 5\n",
        "print(\"\"\" \n",
        "A. Dropout of neurons\n",
        "Reason:Neuron Dropout is a regularisation method that avoids overfitting in neural networks. Each iteration's training phase involves the random removal of neurons from the neural network. It is the same as training distinct neural networks when we delete different sets of neurons. Dropout will ultimately reduce overfitting since different networks will overfit in different ways.\\n\n",
        "B. Early stopping\n",
        "Reason:Early stopping is a type of regularisation used when a model is being trained iteratively, like with gradient descent. Early halting is an approach that works for all issues because gradient descent is the only learning method used by neural networks. With each iteration of this technique, the model is updated to improve its fit to the training set of data.\\n\n",
        "C. Batch normalization\n",
        "Reason:Due to the addition of noise to each layer's inputs, batch normalisation has a regularising impact. As a result, overfitting is discouraged because the model no longer generates deterministic values based solely on a given training example.\\n\n",
        "\"\"\")\n",
        "\n"
      ]
    },
    {
      "cell_type": "markdown",
      "metadata": {
        "id": "VKUp3sZk5Atl"
      },
      "source": [
        "#### Q6) [10 Points]\n",
        "\n",
        "***Create function named cnn_model***\n",
        "\n",
        "- *Inside the function create a sequential model consisting of stack of Conv2D and MaxPooling2D layers.*\n",
        "\n",
        "- *Configure your CNN to process inputs of shape (32, 32, 3)*\n",
        "\n",
        "- *Use 'relu' as activation function*\n",
        "\n",
        "- *Flatten your 3D output to 1D*\n",
        "\n",
        "- *Add two Dense layers on top*\n",
        "\n",
        "- *Add a final Dense layer with 10 Outputs and 'softmax' activation function*\n",
        "\n",
        "- *Show your model summary*\n",
        "\n",
        "- *Finally compile your model using:* \n",
        "  *   *adam optimizer*\n",
        "  *   *sparse_categorical_crossentropy as the loss function*\n",
        "  *   *metrics=[‘accuracy’]*\n",
        "\n"
      ]
    },
    {
      "cell_type": "code",
      "execution_count": 35,
      "metadata": {
        "id": "usXkBrY85E5H",
        "colab": {
          "base_uri": "https://localhost:8080/"
        },
        "outputId": "1edb73ef-c87a-4bed-a8c2-f84574884b90"
      },
      "outputs": [
        {
          "output_type": "stream",
          "name": "stdout",
          "text": [
            "Model: \"sequential_4\"\n",
            "_________________________________________________________________\n",
            " Layer (type)                Output Shape              Param #   \n",
            "=================================================================\n",
            " conv2d_12 (Conv2D)          (None, 30, 30, 32)        896       \n",
            "                                                                 \n",
            " max_pooling2d_12 (MaxPoolin  (None, 15, 15, 32)       0         \n",
            " g2D)                                                            \n",
            "                                                                 \n",
            " conv2d_13 (Conv2D)          (None, 13, 13, 32)        9248      \n",
            "                                                                 \n",
            " max_pooling2d_13 (MaxPoolin  (None, 6, 6, 32)         0         \n",
            " g2D)                                                            \n",
            "                                                                 \n",
            " conv2d_14 (Conv2D)          (None, 4, 4, 32)          9248      \n",
            "                                                                 \n",
            " max_pooling2d_14 (MaxPoolin  (None, 2, 2, 32)         0         \n",
            " g2D)                                                            \n",
            "                                                                 \n",
            " flatten_3 (Flatten)         (None, 128)               0         \n",
            "                                                                 \n",
            " dense_11 (Dense)            (None, 128)               16512     \n",
            "                                                                 \n",
            " dense_12 (Dense)            (None, 128)               16512     \n",
            "                                                                 \n",
            " dense_13 (Dense)            (None, 10)                1290      \n",
            "                                                                 \n",
            "=================================================================\n",
            "Total params: 53,706\n",
            "Trainable params: 53,706\n",
            "Non-trainable params: 0\n",
            "_________________________________________________________________\n"
          ]
        }
      ],
      "source": [
        "## Soln - 6\n",
        "import tensorflow as tf\n",
        "from keras.engine.sequential import Sequential\n",
        "from keras.layers import Input, Conv2D, MaxPooling2D\n",
        "\n",
        "def cnn_model():\n",
        "  model = tf.keras.Sequential([\n",
        "      Input(shape = (32, 32, 3)),     \n",
        "      tf.keras.layers.Conv2D(32, 3, activation = \"relu\"),\n",
        "      tf.keras.layers.MaxPooling2D(),\n",
        "      tf.keras.layers.Conv2D(32, 3, activation = \"relu\"),\n",
        "      tf.keras.layers.MaxPooling2D(),\n",
        "      tf.keras.layers.Conv2D(32, 3, activation = \"relu\"),\n",
        "      tf.keras.layers.MaxPooling2D(),\n",
        "      tf.keras.layers.Flatten(),\n",
        "      tf.keras.layers.Dense(128),\n",
        "      tf.keras.layers.Dense(128),\n",
        "      tf.keras.layers.Dense(10, activation = \"softmax\")\n",
        "  ])\n",
        "  model.summary()\n",
        "  model.compile(\n",
        "      optimizer='adam', \n",
        "      loss = tf.losses.SparseCategoricalCrossentropy(from_logits=True), \n",
        "      metrics=['accuracy'])\n",
        "\n",
        "cnn_model()"
      ]
    },
    {
      "cell_type": "markdown",
      "metadata": {
        "id": "iJACnrqx5OnO"
      },
      "source": [
        "#### Q7) [2 Points]\n",
        "\n",
        "In how many ways we can make model pipeline using keras API? Explain with the example."
      ]
    },
    {
      "cell_type": "code",
      "execution_count": 36,
      "metadata": {
        "id": "QN5C6h655PnF",
        "colab": {
          "base_uri": "https://localhost:8080/"
        },
        "outputId": "b6d02d9d-fd47-48f1-8747-38a06eec7b8f"
      },
      "outputs": [
        {
          "output_type": "stream",
          "name": "stdout",
          "text": [
            "Keras and TensorFlow 2.0 provide us with three methods to implement your own neural network architectures:\n",
            "\n",
            "1) Using the Sequential class- A Sequential model is appropriate for a plain stack of layers where each layer has exactly one input tensor and one output tensor.”\n",
            "Examples include:-LeNet,AlexNet and VGGNet\n",
            "\n",
            "2)Using Keras’s functional interface- The functional interface uses the layers as functions instead, taking in a Tensor and outputting a Tensor as well. The functional interface is a more flexible way of representing a Keras model as you are not restricted only to sequential models with layers stacked on top of one another. Instead, you can build models that branch into multiple paths, have multiple inputs, etc.\n",
            "Examples include:- ResNet, GoogLeNet/Inception, Xception and SqueezeNet\n",
            "\n",
            "3)Subclassing keras.Model- Keras also provides an object-oriented approach to creating models, which helps with reusability and allows you to represent the models you want to create as classes. This representation might be more intuitive since you can think about models as a set of layers strung together to form your network.\n",
            "Examples include:- MiniVGGNet\n"
          ]
        }
      ],
      "source": [
        "## Soln - 7\n",
        "\n",
        "print(\"\"\"Keras and TensorFlow 2.0 provide us with three methods to implement your own neural network architectures:\n",
        "\n",
        "1) Using the Sequential class- A Sequential model is appropriate for a plain stack of layers where each layer has exactly one input tensor and one output tensor.”\n",
        "Examples include:-LeNet,AlexNet and VGGNet\n",
        "\n",
        "2)Using Keras’s functional interface- The functional interface uses the layers as functions instead, taking in a Tensor and outputting a Tensor as well. The functional interface is a more flexible way of representing a Keras model as you are not restricted only to sequential models with layers stacked on top of one another. Instead, you can build models that branch into multiple paths, have multiple inputs, etc.\n",
        "Examples include:- ResNet, GoogLeNet/Inception, Xception and SqueezeNet\n",
        "\n",
        "3)Subclassing keras.Model- Keras also provides an object-oriented approach to creating models, which helps with reusability and allows you to represent the models you want to create as classes. This representation might be more intuitive since you can think about models as a set of layers strung together to form your network.\n",
        "Examples include:- MiniVGGNet\"\"\")\n",
        "\n",
        "\n",
        "\n",
        "\n",
        "\n"
      ]
    },
    {
      "cell_type": "markdown",
      "metadata": {
        "id": "ulIp7EK1OTeI"
      },
      "source": [
        "#### Q8) [10 Points]\n",
        "***Consider the model given below in the code cell. Your tasks are:-***        \n",
        "**1.** *Research about how can we get information about all the layers in model through coding.*            \n",
        "**2.** *Use that in your code to print each layer info as we usually get in model summary.*   \n",
        "**3.** *Don't use any inbuilt functions to **calculate the number of parameters** in each layer.*        \n",
        "<u>*Do that manually with the formula for each layer and print that value in respective layer.</u>*       \n",
        "**4.** *At the end calculate the total number of TRAINABLE PARAMETERS.*\n",
        "\n",
        "**The Final Output should be something like this:-**\n",
        "\n",
        "<img src = \"https://drive.google.com/uc?id=1wfCikrWHnUBMKqDO3o94PvfzyuN-yw3O\">"
      ]
    },
    {
      "cell_type": "code",
      "execution_count": 37,
      "metadata": {
        "id": "rupyrH1WPgRk",
        "colab": {
          "base_uri": "https://localhost:8080/"
        },
        "outputId": "fef9fad0-a8f3-4b65-e664-bff28109902e"
      },
      "outputs": [
        {
          "output_type": "stream",
          "name": "stdout",
          "text": [
            "================ PRINTING ALL THE MODEL LAYERS ================\n",
            "\n",
            "Key:~ Layer Name, Output Shape, Params #\n",
            "\n",
            "--------------------------------------------------\n",
            "1) conv2d_15, (None, 498, 288, 16), 448\n",
            "--------------------------------------------------\n",
            "2) max_pooling2d_15, (None, 249, 144, 16), 0\n",
            "--------------------------------------------------\n",
            "3) conv2d_16, (None, 247, 142, 32), 4640\n",
            "--------------------------------------------------\n",
            "4) max_pooling2d_16, (None, 123, 71, 32), 0\n",
            "--------------------------------------------------\n",
            "5) conv2d_17, (None, 121, 69, 64), 18496\n",
            "--------------------------------------------------\n",
            "6) max_pooling2d_17, (None, 60, 34, 64), 0\n",
            "--------------------------------------------------\n",
            "7) dense_14, (None, 60, 34, 256), 16640\n",
            "--------------------------------------------------\n",
            "8) dropout_1, (None, 60, 34, 256), 0\n",
            "--------------------------------------------------\n",
            "9) dense_15, (None, 60, 34, 5), 1285\n",
            "--------------------------------------------------\n",
            "\n",
            "===================== THE END =====================\n",
            "\n",
            "Trainable parameters: 41509\n"
          ]
        }
      ],
      "source": [
        "## Importing all the modules\n",
        "import tensorflow as tf\n",
        "from keras.engine.sequential import Sequential\n",
        "from keras.layers import Input, Conv2D, Dense, MaxPooling2D, Dropout, ZeroPadding2D\n",
        "import numpy as np\n",
        "\n",
        "## Building the model\n",
        "model = Sequential([\n",
        "                    Input(shape = (500, 290, 3)),\n",
        "                    Conv2D(16, (3,3), activation = 'relu'),\n",
        "                    MaxPooling2D(2,2),\n",
        "                    Conv2D(32, (3,3), activation = 'relu'),\n",
        "                    MaxPooling2D(2,2),\n",
        "                    Conv2D(64, (3,3), activation = 'relu'),\n",
        "                    MaxPooling2D(2,2),\n",
        "                    Dense(256, activation = \"relu\"),\n",
        "                    Dropout(0.5),\n",
        "                    Dense(5, activation = \"sigmoid\")\n",
        "])\n",
        "## Soln - 8\n",
        "from keras.utils.layer_utils import count_params\n",
        "trainable = [np.prod(v.get_shape()) for v in model.trainable_weights]\n",
        "non_trainable = [np.prod(v.get_shape()) for v in model.non_trainable_weights]\n",
        "i = 0\n",
        "print(\"================ PRINTING ALL THE MODEL LAYERS ================\\n\")\n",
        "print(\"Key:~ Layer Name, Output Shape, Params #\\n\")\n",
        "print(\"-\"*50)\n",
        "for layer in model.layers:\n",
        "  params = count_params(layer.trainable_weights) + count_params(layer.non_trainable_weights)\n",
        "  print(f\"{i + 1}) {layer.name}, {layer.output.shape}, {params}\")\n",
        "  i =i+1\n",
        "  print(\"-\" * 50)\n",
        "print()\n",
        "print(\"===================== THE END =====================\\n\")\n",
        "print(\"Trainable parameters:\", int(np.sum(trainable) + np.sum(non_trainable)))\n",
        "\n"
      ]
    },
    {
      "cell_type": "markdown",
      "metadata": {
        "id": "AJSwqvb55nrP"
      },
      "source": [
        "#### Q9 [5 Points]\n",
        "\n",
        "**Given:-**\n",
        "```\n",
        "Input shape = (64, 64, 3)                 \n",
        "Convolutional filter size = (3,3)            \n",
        "Number of Conv Filters = 16         \n",
        "Padding = \"same\"       \n",
        "Strides = 1\n",
        "```\n",
        "\n",
        "*Find out the <u>computational cost</u>*.\n",
        "\n",
        "**Hint:-** *Computational cost is the total number of matrics multiplication.*"
      ]
    },
    {
      "cell_type": "code",
      "execution_count": 40,
      "metadata": {
        "id": "gS0wg4Zv5p8t",
        "colab": {
          "base_uri": "https://localhost:8080/"
        },
        "outputId": "ca3049fc-6219-4860-eafb-2efdb445e764"
      },
      "outputs": [
        {
          "output_type": "stream",
          "name": "stdout",
          "text": [
            "Input shape = (64, 64, 3).\n",
            "Given Padding= Same \n",
            "So p = (f - 1) / 2= 3-1/2 =1.\n",
            "Input shape after adding padding = (66, 66, 3).\n",
            "Computation cost for Single layer = 66 x 66 x 3 x 3 = 39204\n",
            "Computation cost for 16 layers = 39204 x 16 = 627264 \n",
            "\n"
          ]
        }
      ],
      "source": [
        "## Soln - 9\n",
        "print(\"\"\"Input shape = (64, 64, 3).\n",
        "Given Padding= Same \n",
        "So p = (f - 1) / 2= 3-1/2 =1.\n",
        "Input shape after adding padding = (66, 66, 3).\n",
        "Computation cost for Single layer = 66 x 66 x 3 x 3 = 39204\n",
        "Computation cost for 16 layers = 39204 x 16 = 627264 \n",
        "\"\"\")"
      ]
    },
    {
      "cell_type": "markdown",
      "metadata": {
        "id": "73IVpXnW5sCQ"
      },
      "source": [
        "---\n",
        "### <center> Thank you for completing this assignment\n",
        "# <center> THE END"
      ]
    }
  ],
  "metadata": {
    "colab": {
      "provenance": []
    },
    "kernelspec": {
      "display_name": "Python 3 (ipykernel)",
      "language": "python",
      "name": "python3"
    },
    "language_info": {
      "codemirror_mode": {
        "name": "ipython",
        "version": 3
      },
      "file_extension": ".py",
      "mimetype": "text/x-python",
      "name": "python",
      "nbconvert_exporter": "python",
      "pygments_lexer": "ipython3",
      "version": "3.9.12"
    }
  },
  "nbformat": 4,
  "nbformat_minor": 0
}