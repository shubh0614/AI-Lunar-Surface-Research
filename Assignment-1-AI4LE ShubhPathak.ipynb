{
 "cells": [
  {
   "cell_type": "markdown",
   "metadata": {
    "id": "CvmMB2DLK8ZE"
   },
   "source": [
    "# <center> Assignment-1 (AI4LR)\n",
    "Total Points: 50"
   ]
  },
  {
   "cell_type": "code",
   "execution_count": 1,
   "metadata": {
    "id": "OCuwC_CTLSOk"
   },
   "outputs": [],
   "source": [
    "Your_Name = \"Shubh Pathak \"\n",
    "Your_Email_id = \"shubhpathakpro@gmail.com \""
   ]
  },
  {
   "cell_type": "markdown",
   "metadata": {
    "id": "7Sv80hlEMBBx"
   },
   "source": [
    "### Q1 (2 points)\n",
    "Which of the following statements is used to terminate the statement ?\n",
    "\n",
    "> A. Next\n",
    " \n",
    "> B. Switch\n",
    "\n",
    "> C. Break\n",
    "\n",
    "> D. With\n"
   ]
  },
  {
   "cell_type": "code",
   "execution_count": 2,
   "metadata": {
    "execution": {
     "iopub.execute_input": "2021-12-30T12:56:45.862246Z",
     "iopub.status.busy": "2021-12-30T12:56:45.861941Z",
     "iopub.status.idle": "2021-12-30T12:56:45.867215Z",
     "shell.execute_reply": "2021-12-30T12:56:45.866353Z",
     "shell.execute_reply.started": "2021-12-30T12:56:45.862215Z"
    },
    "id": "AfgvicjUMBBy"
   },
   "outputs": [
    {
     "name": "stdout",
     "output_type": "stream",
     "text": [
      "C\n"
     ]
    }
   ],
   "source": [
    "# print your answer. for ex if your answer is B\n",
    "# print(\"B\")\n",
    "\n",
    "print(\"C\")"
   ]
  },
  {
   "cell_type": "markdown",
   "metadata": {
    "id": "I7Gga9qyMBBz"
   },
   "source": [
    "### Q2 (2 points)\n",
    "For the below code, specify the datatype of variable X,\n",
    "\n",
    "X = 'achgd7698'\n",
    "\n",
    "> A. Complex \n",
    "\n",
    "> B. String \n",
    "\n",
    "> C. Integer\n",
    "\n",
    "> D. Boolean\n"
   ]
  },
  {
   "cell_type": "code",
   "execution_count": 3,
   "metadata": {
    "id": "RKU1-4p6MBB0"
   },
   "outputs": [
    {
     "name": "stdout",
     "output_type": "stream",
     "text": [
      "B\n"
     ]
    }
   ],
   "source": [
    "# print your answer.\n",
    "print(\"B\")"
   ]
  },
  {
   "cell_type": "markdown",
   "metadata": {
    "id": "D5a2ZPy2MBB1"
   },
   "source": [
    "### Q3 (2 points)\n",
    "Consider the if-elseif-else statement, how many elseif are possible between if and else statements?\n",
    "\n",
    "> A. 1\n",
    "\n",
    "> B. 0\n",
    "\n",
    "> C. Multiple\n",
    "\n",
    "> D. None of the above\n"
   ]
  },
  {
   "cell_type": "code",
   "execution_count": 4,
   "metadata": {
    "id": "mEKIS0KHMBB1"
   },
   "outputs": [
    {
     "name": "stdout",
     "output_type": "stream",
     "text": [
      "C\n"
     ]
    }
   ],
   "source": [
    "# print your answer.\n",
    "\n",
    "print(\"C\")"
   ]
  },
  {
   "cell_type": "markdown",
   "metadata": {
    "id": "uOT4gIO5MBB2"
   },
   "source": [
    "### Q4 (2 points)\n",
    "What will be the data type of variable 'C' after executing this code ?\n",
    "\n",
    "A = 5\n",
    "\n",
    "B = 6\n",
    "\n",
    "C = print(A/B)\n",
    " \n",
    "> A. Float\n",
    "\n",
    "> B. None-type\n",
    "\n",
    "> C. Int\n",
    "\n",
    "> D. Object\n"
   ]
  },
  {
   "cell_type": "code",
   "execution_count": 5,
   "metadata": {
    "id": "qHc66_slMBB3"
   },
   "outputs": [
    {
     "name": "stdout",
     "output_type": "stream",
     "text": [
      "B\n"
     ]
    }
   ],
   "source": [
    "# print your answer.\n",
    "\n",
    "print(\"B\")"
   ]
  },
  {
   "cell_type": "markdown",
   "metadata": {
    "id": "gDoZrMKxMBB3"
   },
   "source": [
    "### Q5 (5 points)\n",
    "Write a function that takes any number N as input and returns the square of that number."
   ]
  },
  {
   "cell_type": "code",
   "execution_count": 7,
   "metadata": {
    "execution": {
     "iopub.execute_input": "2021-12-30T13:14:52.170795Z",
     "iopub.status.busy": "2021-12-30T13:14:52.170290Z",
     "iopub.status.idle": "2021-12-30T13:14:56.494996Z",
     "shell.execute_reply": "2021-12-30T13:14:56.494467Z",
     "shell.execute_reply.started": "2021-12-30T13:14:52.170761Z"
    },
    "id": "LmFDV1hSMBB3"
   },
   "outputs": [
    {
     "name": "stdout",
     "output_type": "stream",
     "text": [
      "5\n",
      "The square of N is:  25\n"
     ]
    }
   ],
   "source": [
    "# complete the code below\n",
    "\n",
    "def fibonacci(N):\n",
    "    x=N**2\n",
    "    \n",
    "    \n",
    "    return x\n",
    "\n",
    "\n",
    "N = int(input())\n",
    "\n",
    "print(\"The square of N is: \", fibonacci(N))"
   ]
  },
  {
   "cell_type": "markdown",
   "metadata": {
    "id": "qkK6yM8zMBB4"
   },
   "source": [
    "### Q6 (8 points)\n",
    "Write a program which will find all such numbers which are divisible by 7 but are not a multiple of 5,\n",
    "between 2000 and 3200 (both included). \n",
    "The numbers obtained should be printed in a comma-separated sequence on a single line."
   ]
  },
  {
   "cell_type": "code",
   "execution_count": 21,
   "metadata": {
    "execution": {
     "iopub.execute_input": "2021-12-30T13:18:00.146749Z",
     "iopub.status.busy": "2021-12-30T13:18:00.146388Z",
     "iopub.status.idle": "2021-12-30T13:18:00.150072Z",
     "shell.execute_reply": "2021-12-30T13:18:00.149479Z",
     "shell.execute_reply.started": "2021-12-30T13:18:00.146710Z"
    },
    "id": "5I3wZuJ5MBB4"
   },
   "outputs": [
    {
     "name": "stdout",
     "output_type": "stream",
     "text": [
      "2002,2009,2016,2023,2037,2044,2051,2058,2072,2079,2086,2093,2107,2114,2121,2128,2142,2149,2156,2163,2177,2184,2191,2198,2212,2219,2226,2233,2247,2254,2261,2268,2282,2289,2296,2303,2317,2324,2331,2338,2352,2359,2366,2373,2387,2394,2401,2408,2422,2429,2436,2443,2457,2464,2471,2478,2492,2499,2506,2513,2527,2534,2541,2548,2562,2569,2576,2583,2597,2604,2611,2618,2632,2639,2646,2653,2667,2674,2681,2688,2702,2709,2716,2723,2737,2744,2751,2758,2772,2779,2786,2793,2807,2814,2821,2828,2842,2849,2856,2863,2877,2884,2891,2898,2912,2919,2926,2933,2947,2954,2961,2968,2982,2989,2996,3003,3017,3024,3031,3038,3052,3059,3066,3073,3087,3094,3101,3108,3122,3129,3136,3143,3157,3164,3171,3178,3192,3199\n"
     ]
    }
   ],
   "source": [
    "# write your solution here\n",
    "l=[]\n",
    "for i in range(2000, 3201):\n",
    "    if i % 7 == 0 and i % 5 != 0:\n",
    "        l.append(str(i))\n",
    "s=\",\"\n",
    "print(s.join(l))"
   ]
  },
  {
   "cell_type": "markdown",
   "metadata": {
    "id": "eW2kZHF2MBB5"
   },
   "source": [
    "### Q7 (5 points)\n",
    "Write a Python program to accept the user's first and last name and then get them printed in the reverse order with a space between first name and last name."
   ]
  },
  {
   "cell_type": "code",
   "execution_count": 9,
   "metadata": {
    "id": "73ejcwgVMBB5"
   },
   "outputs": [
    {
     "name": "stdout",
     "output_type": "stream",
     "text": [
      "Enter First name:Shubh\n",
      "Enter Last name:Pathak\n",
      "Pathak Shubh\n"
     ]
    }
   ],
   "source": [
    "# write your code here\n",
    "\n",
    "first_name = input(\"Enter First name:\")\n",
    "last_name = input(\"Enter Last name:\")\n",
    "\n",
    "print(last_name, first_name)"
   ]
  },
  {
   "cell_type": "markdown",
   "metadata": {
    "id": "3JWpW06sMBB5"
   },
   "source": [
    "### Q8 (3 points)\n",
    "Given this given nested list, use indexing to grab and print the word \"hello\".\n"
   ]
  },
  {
   "cell_type": "code",
   "execution_count": 10,
   "metadata": {
    "execution": {
     "iopub.execute_input": "2021-12-30T13:24:15.570340Z",
     "iopub.status.busy": "2021-12-30T13:24:15.569584Z",
     "iopub.status.idle": "2021-12-30T13:24:15.575669Z",
     "shell.execute_reply": "2021-12-30T13:24:15.574960Z",
     "shell.execute_reply.started": "2021-12-30T13:24:15.570297Z"
    },
    "id": "yu65O8BEMBB6"
   },
   "outputs": [
    {
     "name": "stdout",
     "output_type": "stream",
     "text": [
      "hello\n"
     ]
    }
   ],
   "source": [
    "lst = [1,2,[3,4],[5,[100,200,['hello']],23,11],1,7]\n",
    "\n",
    "# print the word 'hello' using list indexing \n",
    "print(lst[3][1][2][0])"
   ]
  },
  {
   "cell_type": "markdown",
   "metadata": {
    "id": "sjXLbOxXMBB6"
   },
   "source": [
    "### Q9 (3 points)\n",
    "Write a program to get the index of 'abc' in the list a =['bca', 'cba', 'abc']\n"
   ]
  },
  {
   "cell_type": "code",
   "execution_count": 11,
   "metadata": {
    "id": "J5Vbkz-gMBB6"
   },
   "outputs": [
    {
     "name": "stdout",
     "output_type": "stream",
     "text": [
      "2\n"
     ]
    }
   ],
   "source": [
    "#Write your program here and print index as the output\n",
    "a =['bca', 'cba', 'abc']\n",
    "print(a.index('abc'))"
   ]
  },
  {
   "cell_type": "markdown",
   "metadata": {
    "id": "4kgiFnixMBB6"
   },
   "source": [
    "### Q10 (5 points)\n",
    "Write a program to print the following using while loop\n",
    "\n",
    "> a. First 10 Even numbers\n",
    "\n",
    "> b. First 10 Odd numbers\n"
   ]
  },
  {
   "cell_type": "code",
   "execution_count": 12,
   "metadata": {
    "execution": {
     "iopub.execute_input": "2021-12-30T13:31:07.762045Z",
     "iopub.status.busy": "2021-12-30T13:31:07.761618Z",
     "iopub.status.idle": "2021-12-30T13:31:07.767551Z",
     "shell.execute_reply": "2021-12-30T13:31:07.766669Z",
     "shell.execute_reply.started": "2021-12-30T13:31:07.762013Z"
    },
    "id": "_2VGjdWqMBB7"
   },
   "outputs": [
    {
     "name": "stdout",
     "output_type": "stream",
     "text": [
      "First 10 Even numbers:\n",
      "[0, 2, 4, 6, 8, 10, 12, 14, 16, 18, 20]\n",
      "First 10 Odd numbers:\n",
      "[1, 3, 5, 7, 9, 11, 13, 15, 17, 19]\n"
     ]
    }
   ],
   "source": [
    "n=0\n",
    "even_list=[]\n",
    "odd_list=[]\n",
    "while(n<21):\n",
    "    if n%2==0:\n",
    "        even_list.append(n)\n",
    "    else:\n",
    "        odd_list.append(n)\n",
    "    n+=1\n",
    "\n",
    "print(\"First 10 Even numbers:\")\n",
    "print(even_list)\n",
    "print(\"First 10 Odd numbers:\")\n",
    "print(odd_list)\n",
    "\n",
    "    \n",
    "  "
   ]
  },
  {
   "cell_type": "markdown",
   "metadata": {
    "id": "jcsI6ulLMBB7"
   },
   "source": [
    "### Q11 (3 points)\n",
    "For the given program\n",
    "\n",
    "\n",
    "```\n",
    "number = 5\n",
    "while number <= 5:\n",
    "    if number < 5:\n",
    "        number = number + 1\n",
    "    print(number)\n",
    "```\n",
    "\n",
    "\n",
    "\n",
    "* A. The program will loop indefinitely\n",
    "* B. The value of number will be printed exactly 1 time\n",
    "* C. The while loop will never get executed\n",
    "* D. The value of number will be printed exactly 5 times\n"
   ]
  },
  {
   "cell_type": "code",
   "execution_count": 13,
   "metadata": {
    "execution": {
     "iopub.execute_input": "2021-12-30T13:38:10.279245Z",
     "iopub.status.busy": "2021-12-30T13:38:10.278884Z",
     "iopub.status.idle": "2021-12-30T13:38:10.284062Z",
     "shell.execute_reply": "2021-12-30T13:38:10.283092Z",
     "shell.execute_reply.started": "2021-12-30T13:38:10.279210Z"
    },
    "id": "IfADTUT2MBB8"
   },
   "outputs": [
    {
     "name": "stdout",
     "output_type": "stream",
     "text": [
      "A\n"
     ]
    }
   ],
   "source": [
    "# print your answer here\n",
    "\n",
    "print(\"A\")"
   ]
  },
  {
   "cell_type": "markdown",
   "metadata": {
    "id": "gh6aj2lvMBB9"
   },
   "source": [
    "### Q12 (5 points)\n",
    "\n",
    "Share your views on the upcoming Moon Missions. Do you think ISRO will succed with Chandrayaan-3? (Explain in Atleast 100 words) "
   ]
  },
  {
   "cell_type": "code",
   "execution_count": 14,
   "metadata": {
    "id": "Y9DCT-ZJMBB9"
   },
   "outputs": [
    {
     "name": "stdout",
     "output_type": "stream",
     "text": [
      "The Moon is one of the most popular destinations in the Solar System. Countries like India, Japan, Russia, South Korea, the United Arab Emirates and the United States, along with several companies are aiming moon missions.Artemis 1 of USA will be the first of three missions that are aiming to put a person back on the moon by 2025. The Chandrayaan-3 mission is a continuation of Chandrayaan-2, which was launched in July 2019 and had the goal of putting a rover on the lunar South Pole. It was launched on the GSLV-Mk3, the nation's most potent geosynchronous launch vehicle. If the mission had been successful, it would have been the first time a nation had successfully attempted to land a rover on the moon.ISRO has frequently astonished the globe. Undoubtedly, Chandrayaan-3 will be a success. \n"
     ]
    }
   ],
   "source": [
    "# print your answer\n",
    "\n",
    "my_answer = \"The Moon is one of the most popular destinations in the Solar System. Countries like India, Japan, Russia, South Korea, the United Arab Emirates and the United States, along with several companies are aiming moon missions.Artemis 1 of USA will be the first of three missions that are aiming to put a person back on the moon by 2025. The Chandrayaan-3 mission is a continuation of Chandrayaan-2, which was launched in July 2019 and had the goal of putting a rover on the lunar South Pole. It was launched on the GSLV-Mk3, the nation's most potent geosynchronous launch vehicle. If the mission had been successful, it would have been the first time a nation had successfully attempted to land a rover on the moon.ISRO has frequently astonished the globe. Undoubtedly, Chandrayaan-3 will be a success. \"\n",
    "\n",
    "print(my_answer)"
   ]
  },
  {
   "cell_type": "markdown",
   "metadata": {
    "id": "A8aUy0tHMBB9"
   },
   "source": [
    "### Q13 (5 points)\n",
    "\n",
    "Describe your experience while learning python so far. Now that you are somewhat familiar with this tool, can you name some more use cases and examples where we can use python. (Atleast 150 words)"
   ]
  },
  {
   "cell_type": "code",
   "execution_count": 15,
   "metadata": {
    "id": "OvZrki2iMBB9"
   },
   "outputs": [
    {
     "name": "stdout",
     "output_type": "stream",
     "text": [
      "The digital world in which we live is entirely controlled by lines of code. Software is essential to the smooth operation of every sector, including banking, healthcare, the military, research, and many more.The most lucrative and exciting programming language today is Python. Python as a language always drew my attention. With so many powerful and easy to learn modules helped me explore different engineering fields. Machine learning, data science, and artificial intelligence innovation have all been led by Python. Additionally, it makes the production of several programmes, web development procedures, and much more simple.Python is an excellent choice for many machine learning (ML) and artificial intelligence (AI) projects because it is so reliable, adaptable, and straightforward.Data analytics is another quickly evolving subject that makes use of Python programming, much like AI and machine learning.An additional prominent and expanding field of interest is data visualisation. Once more, it utilises several of Python's advantages.Python is a great choice for web development.Python's syntax and straightforward architecture have influenced the development of other programming languages. \n"
     ]
    }
   ],
   "source": [
    "# print your answer\n",
    "\n",
    "my_answer = \"The digital world in which we live is entirely controlled by lines of code. Software is essential to the smooth operation of every sector, including banking, healthcare, the military, research, and many more.The most lucrative and exciting programming language today is Python. Python as a language always drew my attention. With so many powerful and easy to learn modules helped me explore different engineering fields. Machine learning, data science, and artificial intelligence innovation have all been led by Python. Additionally, it makes the production of several programmes, web development procedures, and much more simple.Python is an excellent choice for many machine learning (ML) and artificial intelligence (AI) projects because it is so reliable, adaptable, and straightforward.Data analytics is another quickly evolving subject that makes use of Python programming, much like AI and machine learning.An additional prominent and expanding field of interest is data visualisation. Once more, it utilises several of Python's advantages.Python is a great choice for web development.Python's syntax and straightforward architecture have influenced the development of other programming languages. \"\n",
    "\n",
    "print(my_answer)"
   ]
  },
  {
   "cell_type": "markdown",
   "metadata": {
    "id": "V-EtNtnsMBB9"
   },
   "source": [
    "### Q14 (Bonus)\n",
    "Tell us anything very interesting. And try asking a very intelligent question."
   ]
  },
  {
   "cell_type": "code",
   "execution_count": 16,
   "metadata": {
    "id": "aP3FbDy4MBB-"
   },
   "outputs": [
    {
     "name": "stdout",
     "output_type": "stream",
     "text": [
      "Eugene Shoemaker the man with his grave on moon.  The only individual whose remains have been sent to the Moon is the late geologist Eugene Shoemaker.On January 6, 1998, NASA's Lunar Prospector launched toward the Moon's south pole in search of ice while also bringing a small amount of Shoemaker's ashes.The mission was terminated on July 31, 1999, when NASA intentionally crashed the spacecraft onto the moon's surface, taking Shoemaker with it and making him the first and only human to be buried off-world.So, do ghosts exist on Moon as well?\n"
     ]
    }
   ],
   "source": [
    "# print your answer\n",
    "\n",
    "my_answer = \"Eugene Shoemaker the man with his grave on moon.  The only individual whose remains have been sent to the Moon is the late geologist Eugene Shoemaker.On January 6, 1998, NASA's Lunar Prospector launched toward the Moon's south pole in search of ice while also bringing a small amount of Shoemaker's ashes.The mission was terminated on July 31, 1999, when NASA intentionally crashed the spacecraft onto the moon's surface, taking Shoemaker with it and making him the first and only human to be buried off-world.So, do ghosts exist on Moon as well?\"\n",
    "\n",
    "print(my_answer)"
   ]
  },
  {
   "cell_type": "markdown",
   "metadata": {
    "id": "EKwUJmuZMBB-"
   },
   "source": [
    "## Thank you for completing all the questions\n",
    "\n",
    "\n",
    "#### Download your notebook and submit it in the google form"
   ]
  },
  {
   "cell_type": "code",
   "execution_count": null,
   "metadata": {
    "id": "KTavJZuFM474"
   },
   "outputs": [],
   "source": []
  }
 ],
 "metadata": {
  "colab": {
   "collapsed_sections": [],
   "name": "Assignment-1-aiforlr.ipynb",
   "provenance": [
    {
     "file_id": "1hAfZugzbS9dE_PfzLU8aG9yvOFdEHk2Q",
     "timestamp": 1646234543688
    }
   ],
   "toc_visible": true
  },
  "kernelspec": {
   "display_name": "Python 3 (ipykernel)",
   "language": "python",
   "name": "python3"
  },
  "language_info": {
   "codemirror_mode": {
    "name": "ipython",
    "version": 3
   },
   "file_extension": ".py",
   "mimetype": "text/x-python",
   "name": "python",
   "nbconvert_exporter": "python",
   "pygments_lexer": "ipython3",
   "version": "3.9.12"
  }
 },
 "nbformat": 4,
 "nbformat_minor": 1
}
