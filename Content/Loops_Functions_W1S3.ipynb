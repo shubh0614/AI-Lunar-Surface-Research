{
  "nbformat": 4,
  "nbformat_minor": 0,
  "metadata": {
    "colab": {
      "provenance": [],
      "collapsed_sections": []
    },
    "kernelspec": {
      "name": "python3",
      "display_name": "Python 3"
    },
    "language_info": {
      "name": "python"
    }
  },
  "cells": [
    {
      "cell_type": "markdown",
      "source": [
        "### Today we will look at Control Flow, and Functions!\n",
        "\n"
      ],
      "metadata": {
        "id": "Q5tgwbPsvbls"
      }
    },
    {
      "cell_type": "markdown",
      "source": [
        "### Control Flow in Python"
      ],
      "metadata": {
        "id": "kp5oy1deQExi"
      }
    },
    {
      "cell_type": "code",
      "source": [
        "for index in range(5):\n",
        "    print(index)"
      ],
      "metadata": {
        "id": "nC4UZIJQTp4Q",
        "colab": {
          "base_uri": "https://localhost:8080/"
        },
        "outputId": "601d0d4d-3689-4c91-92f3-97b9e8605824"
      },
      "execution_count": null,
      "outputs": [
        {
          "output_type": "stream",
          "name": "stdout",
          "text": [
            "0\n",
            "1\n",
            "2\n",
            "3\n",
            "4\n"
          ]
        }
      ]
    },
    {
      "cell_type": "code",
      "source": [
        "# range(start, stop, step)\n",
        "\n",
        "for index in range(0, 11, 2):\n",
        "    print(index)"
      ],
      "metadata": {
        "colab": {
          "base_uri": "https://localhost:8080/"
        },
        "id": "fLPBdNcETzlL",
        "outputId": "3ea85582-cd41-406c-fb48-08bea842a1b9"
      },
      "execution_count": null,
      "outputs": [
        {
          "output_type": "stream",
          "name": "stdout",
          "text": [
            "0\n",
            "2\n",
            "4\n",
            "6\n",
            "8\n",
            "10\n"
          ]
        }
      ]
    },
    {
      "cell_type": "markdown",
      "source": [
        "1. Use the if statement when you want to run a code block based on a condition.\n",
        "2. Use the if...else statement when you want to run another code block if the   condition is not True.\n",
        "3. Use the if...elif...else statement when you want to check multiple conditions and run the corresponding code block that follows the condition that evaluates to True."
      ],
      "metadata": {
        "id": "XDp7cv3sTVsh"
      }
    },
    {
      "cell_type": "code",
      "source": [
        "# break: used to terminate a for loop or a while loop prematurely.\n",
        "\n",
        "for index in range(0, 10):\n",
        "    print(index)\n",
        "    if index == 3:\n",
        "        break"
      ],
      "metadata": {
        "colab": {
          "base_uri": "https://localhost:8080/"
        },
        "id": "j5hi3s_OUI3Y",
        "outputId": "64759e0e-8cf8-45b7-cb43-25dee1793a12"
      },
      "execution_count": null,
      "outputs": [
        {
          "output_type": "stream",
          "name": "stdout",
          "text": [
            "0\n",
            "1\n",
            "2\n",
            "3\n"
          ]
        }
      ]
    },
    {
      "cell_type": "code",
      "source": [
        "# when used in a nested loop, break terminates the innermost loop\n",
        "for x in range(5):\n",
        "    for y in range(5):\n",
        "        # terminates the innermost loop\n",
        "        if y > 1:  \n",
        "            break\n",
        "        # shows coordinates on the screen\n",
        "        print(f\"({x},{y})\")"
      ],
      "metadata": {
        "colab": {
          "base_uri": "https://localhost:8080/"
        },
        "id": "WPaWATuuUM3Q",
        "outputId": "c14a60e0-7dd6-4a6d-95be-01bce7af8ef6"
      },
      "execution_count": null,
      "outputs": [
        {
          "output_type": "stream",
          "name": "stdout",
          "text": [
            "(0,0)\n",
            "(0,1)\n",
            "(1,0)\n",
            "(1,1)\n",
            "(2,0)\n",
            "(2,1)\n",
            "(3,0)\n",
            "(3,1)\n",
            "(4,0)\n",
            "(4,1)\n"
          ]
        }
      ]
    },
    {
      "cell_type": "code",
      "source": [
        "# using break inside while\n",
        "\n",
        "print('-- Help: type quit to exit --')\n",
        "while True:\n",
        "    color = input('Enter your favorite color:')\n",
        "    if color.lower() == 'quit':\n",
        "        break"
      ],
      "metadata": {
        "colab": {
          "base_uri": "https://localhost:8080/"
        },
        "id": "1xbKRUZvVfup",
        "outputId": "c5f67201-8958-42a0-9a96-375cbbd44542"
      },
      "execution_count": null,
      "outputs": [
        {
          "name": "stdout",
          "output_type": "stream",
          "text": [
            "-- Help: type quit to exit --\n",
            "Enter your favorite color:orange\n",
            "Enter your favorite color:blue\n",
            "Enter your favorite color:quit\n"
          ]
        }
      ]
    },
    {
      "cell_type": "code",
      "source": [
        "# The continue statement skips the current iteration and starts the next one.\n",
        "\n",
        "for index in range(10):\n",
        "    if index % 2:\n",
        "        continue\n",
        "    print(index)"
      ],
      "metadata": {
        "colab": {
          "base_uri": "https://localhost:8080/"
        },
        "id": "46JcWL8iWCXQ",
        "outputId": "a2c4d2ae-24ad-40a0-b795-7e776c7d0bcb"
      },
      "execution_count": null,
      "outputs": [
        {
          "output_type": "stream",
          "name": "stdout",
          "text": [
            "0\n",
            "2\n",
            "4\n",
            "6\n",
            "8\n"
          ]
        }
      ]
    },
    {
      "cell_type": "code",
      "source": [
        "# continue inside while\n",
        "\n",
        "index = 0\n",
        "while index < 10:\n",
        "    index += 1\n",
        "\n",
        "    if not index % 2:\n",
        "        continue\n",
        "\n",
        "    print(index)"
      ],
      "metadata": {
        "colab": {
          "base_uri": "https://localhost:8080/"
        },
        "id": "DnN9xBSEWhnA",
        "outputId": "cd2607f3-ce39-46a3-e36a-8dd55b317ba2"
      },
      "execution_count": null,
      "outputs": [
        {
          "output_type": "stream",
          "name": "stdout",
          "text": [
            "1\n",
            "3\n",
            "5\n",
            "7\n",
            "9\n"
          ]
        }
      ]
    },
    {
      "cell_type": "code",
      "source": [
        "# The pass statement is a statement that does nothing. \n",
        "# It’s just a placeholder for the code that you’ll write in the future.\n",
        "\n",
        "if index < 80:\n",
        "    pass\n",
        "\n",
        "for i in range(1,100):\n",
        "    pass\n",
        "\n",
        "while index < 100:\n",
        "    pass\n",
        "\n",
        "def fn():\n",
        "    pass"
      ],
      "metadata": {
        "id": "fM7hl6bXXAY5",
        "colab": {
          "base_uri": "https://localhost:8080/",
          "height": 244
        },
        "outputId": "4478fb49-ba7b-4e2c-c04c-1659ba4bdad7"
      },
      "execution_count": null,
      "outputs": [
        {
          "output_type": "error",
          "ename": "KeyboardInterrupt",
          "evalue": "ignored",
          "traceback": [
            "\u001b[0;31m---------------------------------------------------------------------------\u001b[0m",
            "\u001b[0;31mKeyboardInterrupt\u001b[0m                         Traceback (most recent call last)",
            "\u001b[0;32m<ipython-input-2-afced5328008>\u001b[0m in \u001b[0;36m<module>\u001b[0;34m()\u001b[0m\n\u001b[1;32m      8\u001b[0m     \u001b[0;32mpass\u001b[0m\u001b[0;34m\u001b[0m\u001b[0;34m\u001b[0m\u001b[0m\n\u001b[1;32m      9\u001b[0m \u001b[0;34m\u001b[0m\u001b[0m\n\u001b[0;32m---> 10\u001b[0;31m \u001b[0;32mwhile\u001b[0m \u001b[0mindex\u001b[0m \u001b[0;34m<\u001b[0m \u001b[0;36m100\u001b[0m\u001b[0;34m:\u001b[0m\u001b[0;34m\u001b[0m\u001b[0;34m\u001b[0m\u001b[0m\n\u001b[0m\u001b[1;32m     11\u001b[0m     \u001b[0;32mpass\u001b[0m\u001b[0;34m\u001b[0m\u001b[0;34m\u001b[0m\u001b[0m\n\u001b[1;32m     12\u001b[0m \u001b[0;34m\u001b[0m\u001b[0m\n",
            "\u001b[0;31mKeyboardInterrupt\u001b[0m: "
          ]
        }
      ]
    },
    {
      "cell_type": "markdown",
      "source": [
        "### Functions!\n",
        "\n",
        "To avoid rewriting the same code."
      ],
      "metadata": {
        "id": "3fKZJlOwXaDA"
      }
    },
    {
      "cell_type": "markdown",
      "source": [
        "Default Parameters\n",
        "\n",
        "1. Use Python default parameters to simplify the function calls.\n",
        "2. Place default parameters after the non-default parameters."
      ],
      "metadata": {
        "id": "My1b__PGcRC4"
      }
    },
    {
      "cell_type": "code",
      "source": [
        "# default parameters\n",
        "\n",
        "def greet():\n",
        "  return 'Hi'\n",
        "\n",
        "greet()"
      ],
      "metadata": {
        "colab": {
          "base_uri": "https://localhost:8080/",
          "height": 35
        },
        "id": "-TWJnqJRapEr",
        "outputId": "652c58af-507d-4881-bbf2-0dc48394a47d"
      },
      "execution_count": null,
      "outputs": [
        {
          "output_type": "execute_result",
          "data": {
            "text/plain": [
              "'Hi'"
            ],
            "application/vnd.google.colaboratory.intrinsic+json": {
              "type": "string"
            }
          },
          "metadata": {},
          "execution_count": 119
        }
      ]
    },
    {
      "cell_type": "code",
      "source": [
        "def greet(name):\n",
        "  return f'Hi, {name}'\n",
        "\n",
        "greet('Rohan')"
      ],
      "metadata": {
        "colab": {
          "base_uri": "https://localhost:8080/",
          "height": 35
        },
        "id": "mWqZJ1flbDJw",
        "outputId": "051edcaf-0a80-415a-9ec4-9bfc2202620d"
      },
      "execution_count": null,
      "outputs": [
        {
          "output_type": "execute_result",
          "data": {
            "text/plain": [
              "'Hi, Rohan'"
            ],
            "application/vnd.google.colaboratory.intrinsic+json": {
              "type": "string"
            }
          },
          "metadata": {},
          "execution_count": 125
        }
      ]
    },
    {
      "cell_type": "code",
      "source": [
        "def greet(name, message='Hey!'):\n",
        "    return f'{message} {name}'\n",
        "\n",
        "greet('Rohan')\n",
        "greet('Yash')\n",
        "greet('Aman')"
      ],
      "metadata": {
        "colab": {
          "base_uri": "https://localhost:8080/",
          "height": 35
        },
        "id": "IkwY907ga9RY",
        "outputId": "31d3f6fa-82bf-43fa-ad1a-4a7bd6a702f1"
      },
      "execution_count": null,
      "outputs": [
        {
          "output_type": "execute_result",
          "data": {
            "text/plain": [
              "'Hey! Aman'"
            ],
            "application/vnd.google.colaboratory.intrinsic+json": {
              "type": "string"
            }
          },
          "metadata": {},
          "execution_count": 130
        }
      ]
    },
    {
      "cell_type": "code",
      "source": [
        "def greet(name, message='Hey', question='Did you attend the last session?'):\n",
        "    return f'{message} {name}, {question}'\n",
        "\n",
        "greet('Rohan')"
      ],
      "metadata": {
        "colab": {
          "base_uri": "https://localhost:8080/",
          "height": 35
        },
        "id": "3eSBQC9Fb20B",
        "outputId": "3bbcf0bf-5b89-42c6-8587-bf4bb98a382d"
      },
      "execution_count": null,
      "outputs": [
        {
          "output_type": "execute_result",
          "data": {
            "text/plain": [
              "'Hey Rohan, Did you attend the last session?'"
            ],
            "application/vnd.google.colaboratory.intrinsic+json": {
              "type": "string"
            }
          },
          "metadata": {},
          "execution_count": 133
        }
      ]
    },
    {
      "cell_type": "code",
      "source": [
        "# keyword arguments\n",
        "\n",
        "def get_net_price(price, discount):\n",
        "    return price * (1-discount)   "
      ],
      "metadata": {
        "id": "MmNrlUBycmIJ"
      },
      "execution_count": null,
      "outputs": []
    },
    {
      "cell_type": "code",
      "source": [
        "net_price = get_net_price(100, 0.1)\n",
        "print(net_price)"
      ],
      "metadata": {
        "id": "TuZLqcXVcn_Q",
        "colab": {
          "base_uri": "https://localhost:8080/"
        },
        "outputId": "a47f6a71-9cf5-49db-d3d5-30c4b82f86c3"
      },
      "execution_count": null,
      "outputs": [
        {
          "output_type": "stream",
          "name": "stdout",
          "text": [
            "90.0\n"
          ]
        }
      ]
    },
    {
      "cell_type": "code",
      "source": [
        "# what happens now?\n",
        "\n",
        "net_price = get_net_price(0.1, 100)\n",
        "print(net_price)\n",
        "\n",
        "# we passed arguments in the wrong order!"
      ],
      "metadata": {
        "id": "fJ3N861_cn6O",
        "colab": {
          "base_uri": "https://localhost:8080/"
        },
        "outputId": "bd876d22-dbd9-4d77-ff50-866bcc76ca47"
      },
      "execution_count": null,
      "outputs": [
        {
          "output_type": "stream",
          "name": "stdout",
          "text": [
            "-9.9\n"
          ]
        }
      ]
    },
    {
      "cell_type": "markdown",
      "source": [
        "By using the keyword argument syntax, you don’t need to specify the arguments in the same order as defined in the function.\n",
        "\n",
        "`fn(parameter2=value2,parameter1=value1)`"
      ],
      "metadata": {
        "id": "njXbG__NSX-h"
      }
    },
    {
      "cell_type": "code",
      "source": [
        "net_price = get_net_price(price=100, discount=0.1)\n",
        "print(net_price)"
      ],
      "metadata": {
        "id": "rHObuBEJcn3y",
        "colab": {
          "base_uri": "https://localhost:8080/"
        },
        "outputId": "d5bfd7db-8722-4cd0-c523-7a48fb8ac270"
      },
      "execution_count": null,
      "outputs": [
        {
          "output_type": "stream",
          "name": "stdout",
          "text": [
            "90.0\n"
          ]
        }
      ]
    },
    {
      "cell_type": "code",
      "source": [
        "net_price = get_net_price(discount=0.1, price=100)\n",
        "print(net_price)"
      ],
      "metadata": {
        "colab": {
          "base_uri": "https://localhost:8080/"
        },
        "id": "h06WV2aeSiu7",
        "outputId": "445e51c0-060c-4e6f-97f7-41820aa644eb"
      },
      "execution_count": null,
      "outputs": [
        {
          "output_type": "stream",
          "name": "stdout",
          "text": [
            "90.0\n"
          ]
        }
      ]
    },
    {
      "cell_type": "code",
      "source": [
        "# Note that you can call a function by mixing positional and keyword arguments. \n",
        "\n",
        "net_price = get_net_price(100, discount=0.1)\n",
        "print(net_price)"
      ],
      "metadata": {
        "colab": {
          "base_uri": "https://localhost:8080/"
        },
        "id": "6D1KzsedSiaQ",
        "outputId": "0dab2441-4724-4b5b-b39f-4c239f75fd6f"
      },
      "execution_count": null,
      "outputs": [
        {
          "output_type": "stream",
          "name": "stdout",
          "text": [
            "90.0\n"
          ]
        }
      ]
    },
    {
      "cell_type": "code",
      "source": [
        "# Keyword arguments and default parameters\n",
        "\n",
        "def get_net_price(price, tax=0.07, discount=0.05):\n",
        "    return price * (1 + tax - discount)"
      ],
      "metadata": {
        "id": "xuKn7y_hS9b3"
      },
      "execution_count": null,
      "outputs": []
    },
    {
      "cell_type": "code",
      "source": [
        "net_price = get_net_price(100)\n",
        "print(net_price)"
      ],
      "metadata": {
        "colab": {
          "base_uri": "https://localhost:8080/"
        },
        "id": "eXw8G65dS9YW",
        "outputId": "c9da6b86-6677-42df-851c-e8e6c5b6920c"
      },
      "execution_count": null,
      "outputs": [
        {
          "output_type": "stream",
          "name": "stdout",
          "text": [
            "102.0\n"
          ]
        }
      ]
    },
    {
      "cell_type": "code",
      "source": [
        "# Once you use a keyword argument, you need to use keyword arguments for the remaining parameters.\n",
        "net_price = get_net_price(100, tax=0.08, 0.06)"
      ],
      "metadata": {
        "colab": {
          "base_uri": "https://localhost:8080/",
          "height": 130
        },
        "id": "mTauQrFIS9WB",
        "outputId": "60708254-5192-4c00-f174-9ef81a7fd0ae"
      },
      "execution_count": null,
      "outputs": [
        {
          "output_type": "error",
          "ename": "SyntaxError",
          "evalue": "ignored",
          "traceback": [
            "\u001b[0;36m  File \u001b[0;32m\"<ipython-input-13-0aeac5c666de>\"\u001b[0;36m, line \u001b[0;32m3\u001b[0m\n\u001b[0;31m    net_price = get_net_price(100, tax=0.08, 0.06)\u001b[0m\n\u001b[0m                                            ^\u001b[0m\n\u001b[0;31mSyntaxError\u001b[0m\u001b[0;31m:\u001b[0m positional argument follows keyword argument\n"
          ]
        }
      ]
    },
    {
      "cell_type": "code",
      "source": [
        "# To fix this, you need to use the keyword argument for the third argument like this:\n",
        "net_price = get_net_price(100, tax=0.08, discount=0.06)\n",
        "print(net_price)"
      ],
      "metadata": {
        "colab": {
          "base_uri": "https://localhost:8080/"
        },
        "id": "VJiAVwpFS9Tb",
        "outputId": "d5691436-6dfa-4b2a-cafb-1cedd63f75d6"
      },
      "execution_count": null,
      "outputs": [
        {
          "output_type": "stream",
          "name": "stdout",
          "text": [
            "102.0\n"
          ]
        }
      ]
    },
    {
      "cell_type": "markdown",
      "source": [
        "#### Recursive functions"
      ],
      "metadata": {
        "id": "00lT1vgxUqfj"
      }
    },
    {
      "cell_type": "code",
      "source": [
        "# let's write a function to count down before a rocket launch!\n",
        "\n",
        "def count_down(start):\n",
        "    \"\"\" Count down from a number  \"\"\"\n",
        "    print(start)"
      ],
      "metadata": {
        "id": "7n-Zcymecnz4"
      },
      "execution_count": null,
      "outputs": []
    },
    {
      "cell_type": "code",
      "source": [
        "count_down(3)"
      ],
      "metadata": {
        "id": "d5XPgeEucrqH",
        "colab": {
          "base_uri": "https://localhost:8080/"
        },
        "outputId": "f54a8d1c-2e7b-4184-bd99-3573ae795320"
      },
      "execution_count": null,
      "outputs": [
        {
          "output_type": "stream",
          "name": "stdout",
          "text": [
            "3\n"
          ]
        }
      ]
    },
    {
      "cell_type": "code",
      "source": [
        "count_down(3)\n",
        "count_down(2)\n",
        "count_down(1)"
      ],
      "metadata": {
        "id": "K_sT6OAKcrnr",
        "colab": {
          "base_uri": "https://localhost:8080/"
        },
        "outputId": "819873e5-13e9-469b-b59e-dbab6cb983d8"
      },
      "execution_count": null,
      "outputs": [
        {
          "output_type": "stream",
          "name": "stdout",
          "text": [
            "3\n",
            "2\n",
            "1\n"
          ]
        }
      ]
    },
    {
      "cell_type": "code",
      "source": [
        "# let's use recursion to make this function call itself\n",
        "def count_down(start):\n",
        "    \"\"\" Count down from a number  \"\"\"\n",
        "    print(start)\n",
        "    count_down(start-1)\n",
        "\n",
        "\n",
        "count_down(3)"
      ],
      "metadata": {
        "id": "1mAyWo95crjy"
      },
      "execution_count": null,
      "outputs": []
    },
    {
      "cell_type": "code",
      "source": [
        "# Since you need to stop counting down the number reaches zero, you add a condition like this:\n",
        "\n",
        "def count_down(start):\n",
        "    \"\"\" Count down from a number  \"\"\"\n",
        "    print(start)\n",
        "\n",
        "    # call the count_down if the next\n",
        "    # number is greater than 0\n",
        "    next = start - 1\n",
        "    if next > 0:\n",
        "        count_down(next)\n",
        "\n",
        "\n",
        "count_down(3)"
      ],
      "metadata": {
        "id": "DKcrVUwxcrdY",
        "colab": {
          "base_uri": "https://localhost:8080/"
        },
        "outputId": "1f0b119f-b4d2-4f2a-f509-1e120b3a2adc"
      },
      "execution_count": null,
      "outputs": [
        {
          "output_type": "stream",
          "name": "stdout",
          "text": [
            "3\n",
            "2\n",
            "1\n"
          ]
        }
      ]
    },
    {
      "cell_type": "markdown",
      "source": [
        "## Get ready for some quick questions!"
      ],
      "metadata": {
        "id": "mF10tnlwfhV8"
      }
    },
    {
      "cell_type": "markdown",
      "source": [
        "**Q1.** *Which of the following code would give [6, 8, 10] as its output?*       \n",
        "**A)**\n",
        "```\n",
        "num = [i for i in range(0,11,2) if i >=  6]\n",
        "print(num)\n",
        "```          \n",
        "**B)** \n",
        "```\n",
        "num = [i for i in range(0,10,2) if i >=  6]\n",
        "print(num)\n",
        "```         \n",
        "**C)** \n",
        "```\n",
        "num = [if i >=  6 i for i in range(0,11,2)]\n",
        "print(num)\n",
        "```            \n",
        "**D)**\n",
        "```\n",
        "num = [if i >=  6 i for i in range(0,10,2)]\n",
        "print(num)\n",
        "```\n"
      ],
      "metadata": {
        "id": "CTczk3Nsvbm8"
      }
    },
    {
      "cell_type": "code",
      "source": [
        "num = [if i >=  6 i for i in range(0,11,2)]\n",
        "num"
      ],
      "metadata": {
        "colab": {
          "base_uri": "https://localhost:8080/",
          "height": 130
        },
        "id": "wUxP9ItIpqtX",
        "outputId": "6293a368-a57e-41ae-dc71-c684751547e3"
      },
      "execution_count": null,
      "outputs": [
        {
          "output_type": "error",
          "ename": "SyntaxError",
          "evalue": "ignored",
          "traceback": [
            "\u001b[0;36m  File \u001b[0;32m\"<ipython-input-1-b296ae761651>\"\u001b[0;36m, line \u001b[0;32m1\u001b[0m\n\u001b[0;31m    num = [if i >=  6 i for i in range(0,11,2)]\u001b[0m\n\u001b[0m            ^\u001b[0m\n\u001b[0;31mSyntaxError\u001b[0m\u001b[0;31m:\u001b[0m invalid syntax\n"
          ]
        }
      ]
    },
    {
      "cell_type": "code",
      "source": [
        "num = [i for i in range(0,11,2) if i >=  6]\n",
        "num"
      ],
      "metadata": {
        "colab": {
          "base_uri": "https://localhost:8080/"
        },
        "id": "_xcVQEIDqBGO",
        "outputId": "a0c78292-1bde-4907-bda3-b0af7242dc76"
      },
      "execution_count": null,
      "outputs": [
        {
          "output_type": "execute_result",
          "data": {
            "text/plain": [
              "[6, 8, 10]"
            ]
          },
          "metadata": {},
          "execution_count": 2
        }
      ]
    },
    {
      "cell_type": "code",
      "source": [
        "# print the output \n",
        "\n",
        "print()"
      ],
      "metadata": {
        "id": "Q2DLGYceWHLP"
      },
      "execution_count": null,
      "outputs": []
    },
    {
      "cell_type": "markdown",
      "source": [
        "**Q2.** *What will be the output of the following code?*        \n",
        "```\n",
        "for letter in 'Spartificial':\n",
        "  if 'i' in letter:\n",
        "    pass\n",
        "  print(letter , end = \"\")\n",
        "```        \n",
        "\n",
        "**A)** Spartfcal            \n",
        "**B)** Spartficial        \n",
        "**C)** Spartificial          \n",
        "**D)** Spartfcial            "
      ],
      "metadata": {
        "id": "c9xl9bqbxq78"
      }
    },
    {
      "cell_type": "code",
      "source": [
        "for letter in 'Spartificial':\n",
        "  if 'i' in letter:\n",
        "    pass\n",
        "  print(letter , end = \"\")"
      ],
      "metadata": {
        "colab": {
          "base_uri": "https://localhost:8080/"
        },
        "id": "8PO1x9zOqRT1",
        "outputId": "4ce9798d-a9ac-42af-c0df-0d6ea8858542"
      },
      "execution_count": null,
      "outputs": [
        {
          "output_type": "stream",
          "name": "stdout",
          "text": [
            "Spartificial"
          ]
        }
      ]
    },
    {
      "cell_type": "code",
      "source": [
        "# print the output \n",
        "\n",
        "print()"
      ],
      "metadata": {
        "id": "sYkINPUgWAbF"
      },
      "execution_count": null,
      "outputs": []
    },
    {
      "cell_type": "markdown",
      "source": [
        "**Q3.** *What will the code below print?*\n",
        "```\n",
        "for num_1 in range(7, -1, -1):\n",
        "  for num_2 in range(2, num_1):\n",
        "    if num_1 % num_2 == 1:\n",
        "      print(num_1, end = \" \")\n",
        "      break\n",
        "```\n",
        "**A)** 7 6 5 4 3        \n",
        "**B)** 7 6 5 4 3 2 1 0 -1       \n",
        "**C)** 7 6 5 4 3 2 1 0           \n",
        "**D)** -1 0 1 2 3 4 5 6         "
      ],
      "metadata": {
        "id": "E0eCbBFwaagV"
      }
    },
    {
      "cell_type": "code",
      "source": [
        "for num_1 in range(7, -1, -1):\n",
        "  for num_2 in range(2, num_1):\n",
        "    if num_1 % num_2 == 1:\n",
        "      print(num_1, end = \" \")\n",
        "      break"
      ],
      "metadata": {
        "colab": {
          "base_uri": "https://localhost:8080/"
        },
        "id": "Ca8VCEwCqgcd",
        "outputId": "a283fbd2-830f-44e4-e544-e441e4547792"
      },
      "execution_count": null,
      "outputs": [
        {
          "output_type": "stream",
          "name": "stdout",
          "text": [
            "7 6 5 4 3 "
          ]
        }
      ]
    },
    {
      "cell_type": "code",
      "source": [
        "# print the output \n",
        "\n",
        "print()"
      ],
      "metadata": {
        "id": "M5Pn8lnfV9GK"
      },
      "execution_count": null,
      "outputs": []
    },
    {
      "cell_type": "markdown",
      "source": [
        "**Q4.** *What will be the output of the code,*\n",
        "```\n",
        "num1 = 6\n",
        "num2 = 3\n",
        "\n",
        "if (0 <= num1 <= 10) and (0 <= num2 <= 10):\n",
        "  if num1 > num2:\n",
        "    print(f\"{num1} > {num2}\")\n",
        "  else:\n",
        "    print(f\"{num2} > {num1}\")\n",
        "```\n",
        "**A)** True        \n",
        "**B)** False        \n",
        "**C)** 6        \n",
        "**D)** 6 > 3"
      ],
      "metadata": {
        "id": "8WD-HrkQo8gL"
      }
    },
    {
      "cell_type": "code",
      "source": [
        "# print the output \n",
        "\n",
        "num1 = 6\n",
        "num2 = 3\n",
        "\n",
        "if (0 <= num1 <= 10) and (0 <= num2 <= 10):\n",
        "  if num1 > num2:\n",
        "    print(f\"{num1} > {num2}\")\n",
        "  else:\n",
        "    print(f\"{num2} > {num1}\")"
      ],
      "metadata": {
        "id": "QHqau2DGV4q5",
        "colab": {
          "base_uri": "https://localhost:8080/"
        },
        "outputId": "22ea7ab9-3ffb-48ca-fd71-88c61d2b32f9"
      },
      "execution_count": null,
      "outputs": [
        {
          "output_type": "stream",
          "name": "stdout",
          "text": [
            "6 > 3\n"
          ]
        }
      ]
    },
    {
      "cell_type": "markdown",
      "source": [
        "**Q5.** *What would be the output for Line 1, Line 2 and Line 3 in the code given below,*\n",
        "```\n",
        "def func(num):\n",
        "  if (type(num) != int) or num < 0:\n",
        "    raise Exception(\"This function only accepts a positive integer as an input!\")\n",
        "  else:\n",
        "    sum = 0\n",
        "    for i in range(1, num+1):\n",
        "      sum += i\n",
        "    return sum\n",
        "\n",
        "sum1 = func(10)    # Line 1\n",
        "sum2 = func(-10)   # Line 2\n",
        "sum3 = func(9.5)   # Line 3\n",
        "```\n",
        "\n",
        "   \n",
        "\n"
      ],
      "metadata": {
        "id": "D6t6ufkZxb9Y"
      }
    },
    {
      "cell_type": "code",
      "source": [
        "def func(num):\n",
        "  if (type(num) != int) or num < 0:\n",
        "    raise Exception(\"This function only accepts a positive integer as an input!\")\n",
        "  else:\n",
        "    sum = 0\n",
        "    for i in range(1, num+1):\n",
        "      sum += i\n",
        "    return sum\n",
        "\n",
        "sum1 = func(10)    # Line 1\n",
        "print(sum1)\n",
        "#sum2 = func(-10)\n",
        "#print(sum2)"
      ],
      "metadata": {
        "colab": {
          "base_uri": "https://localhost:8080/"
        },
        "id": "sA_4jXAbrnmb",
        "outputId": "2dc7594b-80cd-4ef5-ab60-bf8a0f439448"
      },
      "execution_count": null,
      "outputs": [
        {
          "output_type": "stream",
          "name": "stdout",
          "text": [
            "55\n"
          ]
        }
      ]
    },
    {
      "cell_type": "code",
      "source": [
        "# print the output \n",
        "\n",
        "#for sum1\n",
        "print()\n",
        "\n",
        "#for sum2\n",
        "print()\n",
        "\n",
        "#for sum3\n",
        "print()"
      ],
      "metadata": {
        "id": "UAuB_JU0Vnr8"
      },
      "execution_count": null,
      "outputs": []
    },
    {
      "cell_type": "markdown",
      "source": [
        "**Q4)** *Write a code to create a calculator which would calculate the sum of first n terms of Arithmetic Progression(AP) or Geometric Progression(GP)*\n",
        "  - *User must be asked to choose if progression is AP or GP*\n",
        "  - *If AP, ask for first term, common difference, number of terms*\n",
        "  - *If GP, ask for first term, common ratio, number of terms*\n",
        "  - *Calculate sum of first n terms from the information provided by the user*\n",
        "  - *Calculator should only work if progression chosen is either AP or GP*        \n",
        "\n",
        "**Hint:-** *It will use a lot of if and else statements*"
      ],
      "metadata": {
        "id": "o2wbLEUao1rN"
      }
    },
    {
      "cell_type": "code",
      "source": [
        "# write your code here\n"
      ],
      "metadata": {
        "id": "nAY36d9FVirN"
      },
      "execution_count": null,
      "outputs": []
    }
  ]
}