{
  "nbformat": 4,
  "nbformat_minor": 0,
  "metadata": {
    "colab": {
      "provenance": [],
      "collapsed_sections": []
    },
    "kernelspec": {
      "name": "python3",
      "display_name": "Python 3"
    },
    "language_info": {
      "name": "python"
    }
  },
  "cells": [
    {
      "cell_type": "markdown",
      "source": [
        "# <center> Starting with Semantic Segmentation"
      ],
      "metadata": {
        "id": "ns5OL2MIOBCz"
      }
    },
    {
      "cell_type": "markdown",
      "source": [
        "# <center> Transpose Convolution"
      ],
      "metadata": {
        "id": "katgEikoOs2C"
      }
    },
    {
      "cell_type": "markdown",
      "source": [
        "#### Transposed Convolutions are used to upsample the input feature map to a desired output feature map using some learnable parameters.\n",
        "\n"
      ],
      "metadata": {
        "id": "9M1Q0NmUTJmz"
      }
    },
    {
      "cell_type": "markdown",
      "source": [
        "## Why do we need transpose convolution?\n",
        "\n",
        "\n",
        "\n",
        "\n",
        "One of the best ways for us to gain some intuition is by looking at examples from Computer Vision that use the transposed convolution. Most of these examples start with a series of regular convolutions to compress the input data into an abstract spatial representation, and then use transposed convolutions to decompress the abstract representation into something of use.\n",
        "\n",
        "\n",
        "![](https://miro.medium.com/max/1400/1*1OabPemOWCLrpCwIUmIsCg.png)\n",
        "\n",
        "\n",
        "A convolutional auto-encoder is tasked with recreating its input image, after passing intermediate results through a ‘bottleneck’ of a limited size. Uses of auto-encoders include compression, noise removal, colourisation and in-painting. Success depends on being able to learn dataset specific compression in the convolution kernels and dataset specific decompression in the transposed convolution kernels. Why stop there though?\n",
        "\n",
        "\n",
        "## Super Resolution\n",
        "![](https://miro.medium.com/max/1400/1*eTMo62iQxKp9aR3b5iG14w.png)\n",
        "\n",
        "\n",
        "With ‘super resolution’ the objective is to upscale the input image to higher resolutions, so transposed convolutions can be used as an alternative to classical methods such as bicubic interpolation. Similar arguments to convolutions using learnable kernels over hand crafted kernels apply here.\n",
        "\n",
        "## Semantic Segmentation\n",
        "\n",
        "\n",
        "Semantic segmentation is an example of using transposed convolution layers to decompress the abstract representation into a different domain (from the RGB image input). We output a class for each pixel of the input image, and then just for visualisation purposes, we render each class as a distinct colour (e.g. the person class shown in red, cars in dark blue, etc.).\n",
        "\n",
        "\n",
        "![](https://miro.medium.com/max/1400/1*KICInky28yGdU9T45kIL5Q.jpeg)"
      ],
      "metadata": {
        "id": "DYzUi4PGc5HL"
      }
    },
    {
      "cell_type": "markdown",
      "source": [
        "1. The CNN layers we have seen so far, such as convolutional layers and pooling layers typically reduce (downsample) the spatial dimensions (height and width) of the input, or keep them unchanged. \n",
        "\n",
        "2. In semantic segmentation that classifies at pixel-level, it will be convenient if the spatial dimensions of the input and output are the same. For example, the channel dimension at one output pixel can hold the classification results for the input pixel at the same spatial position.\n",
        "\n",
        "3. To achieve this, especially after the spatial dimensions are reduced by CNN layers, we can use another type of CNN layers that can increase (upsample) the spatial dimensions of intermediate feature maps. \n",
        "\n",
        "4. In this session, we will introduce transposed convolution, which is also called fractionally-strided convolution, for reversing downsampling operations by the convolution."
      ],
      "metadata": {
        "id": "efVG-Tz9RDYE"
      }
    },
    {
      "cell_type": "markdown",
      "source": [
        "# Now let's understand how transpose convolution works \n",
        "\n"
      ],
      "metadata": {
        "id": "RFhD-P9Qep2p"
      }
    },
    {
      "cell_type": "markdown",
      "source": [
        "### The basic operation that goes in a transposed convolution is explained below:\n",
        "### 1. Consider a 2x2 encoded feature map which needs to be upsampled to a 3x3 feature map"
      ],
      "metadata": {
        "id": "7Y19GH5Ccxvz"
      }
    },
    {
      "cell_type": "markdown",
      "source": [
        "![](https://miro.medium.com/max/97/1*BMJnnOKPhK8hoFP6sQ9edQ.png) \n",
        "\n",
        "Input Feature map\n",
        "\n",
        "![](https://miro.medium.com/max/252/1*VxtMdM-DsGwIa51GyDx-XQ.png)\n",
        "\n",
        "Output feature shape\n",
        "\n",
        "\n",
        "\n"
      ],
      "metadata": {
        "id": "HePsk9b6Tj8h"
      }
    },
    {
      "cell_type": "markdown",
      "source": [
        "### 2. We take a kernel of size 2x2 with unit stride and zero padding.\n",
        "\n",
        "![](https://miro.medium.com/max/102/1*e6UnrcsFRaOidCq7mwJpTA.png)\n",
        "\n",
        "kernel of size 2*2"
      ],
      "metadata": {
        "id": "K0X3rUS2ZPlU"
      }
    },
    {
      "cell_type": "markdown",
      "source": [
        "### 3. Now we take the upper left element of the input feature map and multiply it with every element of the kernel\n",
        "\n",
        "![](https://miro.medium.com/max/429/1*7hVid7EAqCPkG6sEjHMI5w.png)\n",
        "\n"
      ],
      "metadata": {
        "id": "dVBnkoFhZhM8"
      }
    },
    {
      "cell_type": "markdown",
      "source": [
        "### 4. Similarly, we do it for all the remaining elements of the input feature map\n",
        "\n",
        "![](https://miro.medium.com/max/700/1*yxBd_pCiEVVwEQFmc-Heog.png)"
      ],
      "metadata": {
        "id": "9rKOfEFyaW_D"
      }
    },
    {
      "cell_type": "markdown",
      "source": [
        "### 5. As you can see, some of the elements of the resulting upsampled feature maps are over-lapping. To solve this issue, we simply add the elements of the over-lapping positions\n",
        "\n",
        "![](https://miro.medium.com/max/700/1*faRskFzI7GtvNCLNeCN8cg.png)\n",
        "\n",
        "\n"
      ],
      "metadata": {
        "id": "63TJ9CHObYnW"
      }
    },
    {
      "cell_type": "markdown",
      "source": [
        "## 6. The resulting output will be the final upsampled feature map having the required spatial dimensions of 3x3\n",
        "\n",
        "![](https://miro.medium.com/max/790/1*Lpn4nag_KRMfGkx1k6bV-g.gif)"
      ],
      "metadata": {
        "id": "Bw17loKScMYq"
      }
    },
    {
      "cell_type": "code",
      "source": [
        "def trans_conv(X, K):\n",
        "    h, w = K.shape\n",
        "    Y = np.zeros((X.shape[0] + h - 1, X.shape[1] + w - 1))\n",
        "    for i in range(X.shape[0]):\n",
        "        for j in range(X.shape[1]):\n",
        "            \n",
        "    return Y"
      ],
      "metadata": {
        "id": "ipLCMGRQucrc"
      },
      "execution_count": null,
      "outputs": []
    },
    {
      "cell_type": "code",
      "source": [
        "import numpy as np\n",
        "X = np.array()\n",
        "K = np.array()\n",
        "trans_conv(X, K)"
      ],
      "metadata": {
        "id": "mZOhZAQ8udyi",
        "colab": {
          "base_uri": "https://localhost:8080/"
        },
        "outputId": "10898f53-28aa-4688-c037-ed30a681aa1c"
      },
      "execution_count": null,
      "outputs": [
        {
          "output_type": "execute_result",
          "data": {
            "text/plain": [
              "array([[ 0.,  0.,  1.],\n",
              "       [ 0.,  4.,  6.],\n",
              "       [ 4., 12.,  9.]])"
            ]
          },
          "metadata": {},
          "execution_count": 3
        }
      ]
    },
    {
      "cell_type": "markdown",
      "source": [
        "## Experimenting with Transpose convolution with tensorflow"
      ],
      "metadata": {
        "id": "kELqsxvCYqd9"
      }
    },
    {
      "cell_type": "code",
      "source": [
        "import tensorflow as tf"
      ],
      "metadata": {
        "id": "la_Cuz45Vgdq"
      },
      "execution_count": null,
      "outputs": []
    },
    {
      "cell_type": "code",
      "execution_count": null,
      "metadata": {
        "colab": {
          "base_uri": "https://localhost:8080/"
        },
        "id": "LJH58u2kNzHM",
        "outputId": "b1279d1a-1134-4af3-bad2-405369b9acde"
      },
      "outputs": [
        {
          "output_type": "stream",
          "name": "stdout",
          "text": [
            "tf.Tensor(\n",
            "[[[[-0.03889751  0.15880191 -0.6228331 ]\n",
            "   [ 0.59077346  0.27995276  0.1568805 ]\n",
            "   [ 0.20918417  0.1426722   0.20924921]]\n",
            "\n",
            "  [[ 0.7025579  -0.33298817 -1.0997314 ]\n",
            "   [ 0.7622224   0.11959708  0.27228004]\n",
            "   [ 0.35491088  0.02095272  0.41483644]]\n",
            "\n",
            "  [[ 0.39930668 -0.00877144 -0.33141065]\n",
            "   [ 0.21797168 -0.7138029  -0.05770034]\n",
            "   [ 0.0172114  -0.2627305   0.17915061]]]], shape=(1, 3, 3, 3), dtype=float32)\n"
          ]
        }
      ],
      "source": [
        "kz = 2 # kernel_size\n",
        "st = 1 # strides\n",
        "\n",
        "input = tf.random.uniform((1, 2, 2, 2)) #batch size, width, height, channels\n",
        "\n",
        "trans_conv1 = \n",
        "\n",
        "output = trans_conv1(input)\n",
        "\n",
        "print(output)\n"
      ]
    },
    {
      "cell_type": "code",
      "source": [
        "kz = 3 # kernel_size\n",
        "st = 1 # strides\n",
        "\n",
        "input = tf.random.uniform((1, 2, 2, 2)) #batch size, width, height, channels\n",
        "\n",
        "trans_conv1 = \n",
        "\n",
        "output = trans_conv1(input)\n",
        "\n",
        "print(output)"
      ],
      "metadata": {
        "colab": {
          "base_uri": "https://localhost:8080/"
        },
        "id": "XnUQVuY8XwmY",
        "outputId": "c0715a53-f92e-4982-9e9e-361f39be4bea"
      },
      "execution_count": null,
      "outputs": [
        {
          "output_type": "stream",
          "name": "stdout",
          "text": [
            "tf.Tensor(\n",
            "[[[[-0.11209656 -0.27499148 -0.13187832]\n",
            "   [ 0.10768551 -0.4161841   0.06970149]\n",
            "   [-0.21159905 -0.41713256  0.36059037]\n",
            "   [-0.03529995 -0.04829163  0.03959601]]\n",
            "\n",
            "  [[-0.575434   -0.25036544  0.14100556]\n",
            "   [-0.11381018 -0.33323848 -0.37841514]\n",
            "   [-0.09271055 -0.44242233  0.55248183]\n",
            "   [-0.25185734 -0.42277905  0.4132728 ]]\n",
            "\n",
            "  [[-0.41210997 -0.21410598  0.17040288]\n",
            "   [-0.5856804   0.5106653   0.0050596 ]\n",
            "   [ 0.22441702  0.49383527 -0.03997694]\n",
            "   [ 0.165867    0.16605446  0.35261524]]\n",
            "\n",
            "  [[-0.05118412 -0.02201918 -0.05709676]\n",
            "   [ 0.06698136  0.10163553  0.22887588]\n",
            "   [ 0.40975782  0.04867091 -0.11633299]\n",
            "   [ 0.22611399  0.21017109  0.27243763]]]], shape=(1, 4, 4, 3), dtype=float32)\n"
          ]
        }
      ]
    },
    {
      "cell_type": "code",
      "source": [
        "kz = 3 # kernel_size\n",
        "st = 2 # strides\n",
        "\n",
        "input = tf.random.uniform((1, 2, 2, 2)) #batch size, width, height, channels\n",
        "\n",
        "trans_conv1 = tf.keras.layers.Conv2DTranspose(filters = 3, kernel_size = kz, strides= st , padding='valid')\n",
        "\n",
        "output = trans_conv1(input)\n",
        "\n",
        "print(output)"
      ],
      "metadata": {
        "colab": {
          "base_uri": "https://localhost:8080/"
        },
        "id": "z6I64TYzYD1J",
        "outputId": "188cf5ba-2ad8-4b2d-cbbf-b5463c8d5426"
      },
      "execution_count": null,
      "outputs": [
        {
          "output_type": "stream",
          "name": "stdout",
          "text": [
            "tf.Tensor(\n",
            "[[[[-2.55586624e-01 -1.87857181e-01 -1.40791982e-01]\n",
            "   [ 2.38769889e-01 -1.12117015e-01 -4.34987955e-02]\n",
            "   [-4.63412791e-01 -3.54007244e-01 -2.52539635e-01]\n",
            "   [ 3.00569057e-01 -2.13020876e-01  7.98673704e-02]\n",
            "   [-9.44526270e-02 -1.09445848e-01  1.04657494e-01]]\n",
            "\n",
            "  [[ 1.15001284e-01  9.94654670e-02  7.74565265e-02]\n",
            "   [-2.60280743e-02 -1.73205614e-01 -6.54332787e-02]\n",
            "   [ 1.24085873e-01  3.71668667e-01  8.76246169e-02]\n",
            "   [-3.08722607e-03 -1.86397448e-01  6.26173392e-02]\n",
            "   [ 7.93697983e-02  2.69464254e-01  5.61633855e-02]]\n",
            "\n",
            "  [[-4.39700216e-01 -6.17476761e-01 -6.10527247e-02]\n",
            "   [ 3.74516696e-01 -2.21871972e-01 -1.57265551e-02]\n",
            "   [ 2.46817470e-02 -3.58934373e-01  2.20224723e-01]\n",
            "   [ 2.27812588e-01 -1.49999753e-01 -1.61039457e-01]\n",
            "   [ 3.20491612e-01  1.52359590e-01  2.95387749e-02]]\n",
            "\n",
            "  [[ 2.08820581e-01  1.95154816e-01  1.32111773e-01]\n",
            "   [-3.72059904e-02 -2.96601921e-01 -7.27361217e-02]\n",
            "   [ 2.94942670e-02  3.80933464e-01  6.88693076e-02]\n",
            "   [-1.66558251e-02 -9.77039710e-02 -4.74449508e-02]\n",
            "   [-3.21968868e-02  9.59360227e-02 -5.18025190e-04]]\n",
            "\n",
            "  [[ 4.70933430e-02 -4.74766165e-01  3.56998354e-01]\n",
            "   [-3.73422615e-02 -3.14029902e-02 -7.63639389e-03]\n",
            "   [ 5.19016147e-01  1.77912369e-01  1.90296635e-01]\n",
            "   [-3.83261293e-02  5.77078993e-03  2.38622371e-02]\n",
            "   [ 1.54149547e-01  1.11974858e-01  2.49737874e-02]]]], shape=(1, 5, 5, 3), dtype=float32)\n"
          ]
        }
      ]
    },
    {
      "cell_type": "markdown",
      "source": [
        "## Difference between Conv2DTranspose and UpSampling2D in keras\n",
        "\n",
        "Transpose: https://keras.io/api/layers/convolution_layers/convolution2d_transpose/\n",
        "\n",
        "UpSampling: https://keras.io/api/layers/reshaping_layers/up_sampling2d/"
      ],
      "metadata": {
        "id": "XNUJwMkA6vMD"
      }
    },
    {
      "cell_type": "code",
      "source": [
        "# Reference: https://www.matthewzeiler.com/mattzeiler/deconvolutionalnetworks.pdf"
      ],
      "metadata": {
        "id": "e7Ne9N2UN_XG"
      },
      "execution_count": null,
      "outputs": []
    },
    {
      "cell_type": "code",
      "source": [],
      "metadata": {
        "id": "Ut4aajgOU5uE"
      },
      "execution_count": null,
      "outputs": []
    }
  ]
}