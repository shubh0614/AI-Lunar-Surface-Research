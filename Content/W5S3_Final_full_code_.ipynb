{
  "metadata": {
    "kernelspec": {
      "language": "python",
      "display_name": "Python 3",
      "name": "python3"
    },
    "language_info": {
      "name": "python",
      "version": "3.7.12",
      "mimetype": "text/x-python",
      "codemirror_mode": {
        "name": "ipython",
        "version": 3
      },
      "pygments_lexer": "ipython3",
      "nbconvert_exporter": "python",
      "file_extension": ".py"
    },
    "colab": {
      "provenance": [],
      "collapsed_sections": [
        "v77rlkCKW0IJ",
        "0GoKGm1duzgk",
        "yO1Q2JaW5sIy",
        "MYfcVwYLiR98",
        "bAywKtuVn8uK",
        "OkH-kazQecHB",
        "rlx56nQtfe8Y",
        "CnMLieHBCwil",
        "jsNHwpm7BeVM",
        "wdMRM8YModbk",
        "g0ylJXE_kRLi",
        "RxvgOYTDSWTx",
        "Hd94CKImf8vi",
        "CqwV-CRdS6Nv",
        "CPXnzUK0QonF",
        "4Uk1dgsxT0IS",
        "4G5O4jd6TuAG",
        "gG8szq4Dbt8C",
        "R6cWgjgfrsn5",
        "_TZTwG7nhm0C"
      ]
    }
  },
  "nbformat_minor": 0,
  "nbformat": 4,
  "cells": [
    {
      "cell_type": "markdown",
      "source": [
        "# <center> W5S3 - Transfer learning and fine-tuning"
      ],
      "metadata": {
        "id": "hRTa3Ee15WsJ"
      }
    },
    {
      "cell_type": "markdown",
      "source": [
        "In this tutorial, you will learn how to classify images of cats and dogs by using transfer learning from a pre-trained network.\n",
        "\n",
        "A pre-trained model is a saved network that was previously trained on a large dataset, typically on a large-scale image-classification task. You either use the pretrained model as is or use transfer learning to customize this model to a given task.\n",
        "\n",
        "The intuition behind transfer learning for image classification is that if a model is trained on a large and general enough dataset, this model will effectively serve as a generic model of the visual world. You can then take advantage of these learned feature maps without having to start from scratch by training a large model on a large dataset.\n",
        "\n",
        "\n",
        "An example from my Ph.D. work: https://ietresearch.onlinelibrary.wiley.com/doi/full/10.1049/iet-ipr.2019.0404 \n",
        "\n",
        "Transfer learning paper I used: https://arxiv.org/pdf/1703.08493v2.pdf \n",
        "\n",
        "My dataset download link: https://sites.google.com/view/aditipanda/plain-carbon-steel-microstructure-image-library\n",
        "\n",
        "\n",
        "In this notebook, you will try two ways to customize a pretrained model:\n",
        "\n",
        "1. Feature Extraction: Use the representations learned by a previous network to extract meaningful features from new samples. You simply add a new classifier, which will be trained from scratch, on top of the pretrained model so that you can repurpose the feature maps learned previously for the dataset.\n",
        "\n",
        " You do not need to (re)train the entire model. The base convolutional network already contains features that are generically useful for classifying pictures. However, the final, classification part of the pretrained model is specific to the original classification task, and subsequently specific to the set of classes on which the model was trained.\n",
        "\n",
        "1. Fine-Tuning: Unfreeze a few of the top layers of a frozen model base and jointly train both the newly-added classifier layers and the last layers of the base model. This allows us to \"fine-tune\" the higher-order feature representations in the base model in order to make them more relevant for the specific task.\n",
        "\n",
        "You will follow the general machine learning workflow.\n",
        "\n",
        "1. Examine and understand the data\n",
        "1. Build an input pipeline, in this case using Keras ImageDataGenerator\n",
        "1. Compose the model\n",
        "   * Load in the pretrained base model (and pretrained weights)\n",
        "   * Stack the classification layers on top\n",
        "1. Train the model\n",
        "1. Evaluate model\n"
      ],
      "metadata": {
        "id": "2X4KyhORdSeO"
      }
    },
    {
      "cell_type": "code",
      "source": [
        "import matplotlib.pyplot as plt\n",
        "import numpy as np\n",
        "import os\n",
        "import tensorflow as tf"
      ],
      "metadata": {
        "id": "TqOt6Sv7AsMi",
        "execution": {
          "iopub.status.busy": "2022-03-22T06:25:01.240678Z",
          "iopub.execute_input": "2022-03-22T06:25:01.240963Z",
          "iopub.status.idle": "2022-03-22T06:25:01.247414Z",
          "shell.execute_reply.started": "2022-03-22T06:25:01.240917Z",
          "shell.execute_reply": "2022-03-22T06:25:01.246670Z"
        },
        "trusted": true
      },
      "execution_count": null,
      "outputs": []
    },
    {
      "cell_type": "markdown",
      "source": [
        "## Data preprocessing"
      ],
      "metadata": {
        "id": "v77rlkCKW0IJ"
      }
    },
    {
      "cell_type": "markdown",
      "source": [
        "### Data download"
      ],
      "metadata": {
        "id": "0GoKGm1duzgk"
      }
    },
    {
      "cell_type": "markdown",
      "source": [
        "In this tutorial, you will use a dataset containing several thousand images of cats and dogs.\n",
        "\n",
        "If you are using kaggle notebook, then from Add data option, go to search url option and paste https://www.kaggle.com/datasets/d4rklucif3r/cat-and-dogs.\n",
        "\n",
        "Import data"
      ],
      "metadata": {
        "id": "vHP9qMJxt2oz"
      }
    },
    {
      "cell_type": "code",
      "source": [
        "# getting path to our root directory\n",
        "data_dir = '../input/cat-and-dogs/dataset'\n",
        "\n",
        "# getting path to train and test set using os.path\n",
        "train_dir = os.path.join(data_dir, \"training_set\")\n",
        "test_dir = os.path.join(data_dir, \"test_set\")\n",
        "\n",
        "\n",
        "BATCH_SIZE = 32\n",
        "IMG_SIZE = (160, 160)\n",
        "\n",
        "# we will create a tf.data.Dataset for training and validation using the tf.keras.utils.image_dataset_from_directory utility. \n",
        "# read more about it here https://www.tensorflow.org/api_docs/python/tf/keras/utils/image_dataset_from_directory\n",
        "# converting our dataset into tf.data.Dataset object will provide us many advantages and convenience for further data processing and usability\n",
        "# read more about tf.keras.Dataset here https://www.tensorflow.org/api_docs/python/tf/data/Dataset\n",
        "train_dataset = tf.keras.utils.image_dataset_from_directory(train_dir,\n",
        "                                                            shuffle=True,\n",
        "                                                            batch_size=BATCH_SIZE,\n",
        "                                                            image_size=IMG_SIZE)\n",
        "\n",
        "test_dataset = tf.keras.utils.image_dataset_from_directory(test_dir,\n",
        "                                                             shuffle=True,\n",
        "                                                             batch_size=BATCH_SIZE,\n",
        "                                                             image_size=IMG_SIZE)"
      ],
      "metadata": {
        "id": "ro4oYaEmxe4r",
        "execution": {
          "iopub.status.busy": "2022-03-22T06:25:01.349231Z",
          "iopub.execute_input": "2022-03-22T06:25:01.349522Z",
          "iopub.status.idle": "2022-03-22T06:25:03.028768Z",
          "shell.execute_reply.started": "2022-03-22T06:25:01.349494Z",
          "shell.execute_reply": "2022-03-22T06:25:03.027990Z"
        },
        "trusted": true
      },
      "execution_count": null,
      "outputs": []
    },
    {
      "cell_type": "markdown",
      "source": [
        "### Show the first nine images and labels from the training set:"
      ],
      "metadata": {
        "id": "yO1Q2JaW5sIy"
      }
    },
    {
      "cell_type": "code",
      "source": [
        "class_names = train_dataset.class_names\n",
        "\n",
        "plt.figure(figsize=(10, 10))\n",
        "\n",
        "# take method creates a Dataset with at most count(1) elements from this dataset.\n",
        "# in our case take(1) means 1 batch which contains 32 images and 32 labels\n",
        "for images, labels in train_dataset.take(1):\n",
        "    for i in range(9):\n",
        "        ax = plt.subplot(3, 3, i + 1)\n",
        "        plt.imshow(images[i].numpy().astype(\"uint8\"))\n",
        "        plt.title(class_names[labels[i]])\n",
        "        plt.axis(\"off\")"
      ],
      "metadata": {
        "id": "K5BeQyKThC_Y",
        "execution": {
          "iopub.status.busy": "2022-03-22T06:25:03.030353Z",
          "iopub.execute_input": "2022-03-22T06:25:03.030959Z",
          "iopub.status.idle": "2022-03-22T06:25:03.967363Z",
          "shell.execute_reply.started": "2022-03-22T06:25:03.030904Z",
          "shell.execute_reply": "2022-03-22T06:25:03.966762Z"
        },
        "trusted": true
      },
      "execution_count": null,
      "outputs": []
    },
    {
      "cell_type": "markdown",
      "source": [
        "As the original dataset doesn't contain a validation set, we will create one. To do so, determine how many batches of data are available in the test set using `tf.data.experimental.cardinality`, then move 20% of them to a validation set.\n",
        "\n",
        "> train set = the data on which our model will be trained\n",
        "\n",
        "> validation set = will be used while training just to check our model performance, but will not be trained on\n",
        "\n",
        "> test set = will stay untouched till the very end, used to determine final performance of our model"
      ],
      "metadata": {
        "id": "EZqCX_mpV3Mx"
      }
    },
    {
      "cell_type": "code",
      "source": [
        "test_batches = tf.data.experimental.cardinality(test_dataset)\n",
        "val_dataset = test_dataset.skip(test_batches // 5)\n",
        "test_dataset = test_dataset.take(test_batches // 5)"
      ],
      "metadata": {
        "id": "uFFIYrTFV9RO",
        "execution": {
          "iopub.status.busy": "2022-03-22T06:25:03.968721Z",
          "iopub.execute_input": "2022-03-22T06:25:03.969206Z",
          "iopub.status.idle": "2022-03-22T06:25:03.976661Z",
          "shell.execute_reply.started": "2022-03-22T06:25:03.969169Z",
          "shell.execute_reply": "2022-03-22T06:25:03.976075Z"
        },
        "trusted": true
      },
      "execution_count": null,
      "outputs": []
    },
    {
      "cell_type": "code",
      "source": [
        "print('Number of validation batches: %d' % tf.data.experimental.cardinality(val_dataset))\n",
        "print('Number of test batches: %d' % tf.data.experimental.cardinality(test_dataset))"
      ],
      "metadata": {
        "id": "Q9pFlFWgBKgH",
        "execution": {
          "iopub.status.busy": "2022-03-22T06:25:03.978888Z",
          "iopub.execute_input": "2022-03-22T06:25:03.979333Z",
          "iopub.status.idle": "2022-03-22T06:25:03.985112Z",
          "shell.execute_reply.started": "2022-03-22T06:25:03.979300Z",
          "shell.execute_reply": "2022-03-22T06:25:03.984327Z"
        },
        "trusted": true
      },
      "execution_count": null,
      "outputs": []
    },
    {
      "cell_type": "markdown",
      "source": [
        "### Use data augmentation"
      ],
      "metadata": {
        "id": "MYfcVwYLiR98"
      }
    },
    {
      "cell_type": "markdown",
      "source": [
        "When you don't have a large image dataset, it's a good practice to artificially introduce sample diversity by applying random, yet realistic, transformations to the training images, such as rotation and horizontal flipping. This helps expose the model to different aspects of the training data and reduce [overfitting](https://www.tensorflow.org/tutorials/keras/overfit_and_underfit). You can learn more about data augmentation in this [tutorial](https://www.tensorflow.org/tutorials/images/data_augmentation)."
      ],
      "metadata": {
        "id": "bDWc5Oad1daX"
      }
    },
    {
      "cell_type": "code",
      "source": [
        "data_augmentation = tf.keras.Sequential([\n",
        "  tf.keras.layers.RandomFlip('horizontal'),\n",
        "  tf.keras.layers.RandomRotation(0.2),\n",
        "])"
      ],
      "metadata": {
        "id": "3P99QiMGit1A",
        "execution": {
          "iopub.status.busy": "2022-03-22T06:25:03.986671Z",
          "iopub.execute_input": "2022-03-22T06:25:03.987319Z",
          "iopub.status.idle": "2022-03-22T06:25:04.003837Z",
          "shell.execute_reply.started": "2022-03-22T06:25:03.987281Z",
          "shell.execute_reply": "2022-03-22T06:25:04.003221Z"
        },
        "trusted": true
      },
      "execution_count": null,
      "outputs": []
    },
    {
      "cell_type": "markdown",
      "source": [
        "Note: These layers are active only during training, when you call `Model.fit`. They are inactive when the model is used in inference mode in `Model.evaluate` or `Model.fit`."
      ],
      "metadata": {
        "id": "s9SlcbhrarOO"
      }
    },
    {
      "cell_type": "markdown",
      "source": [
        "Let's repeatedly apply these layers to the same image and see the result."
      ],
      "metadata": {
        "id": "9mD3rE2Lm7-d"
      }
    },
    {
      "cell_type": "code",
      "source": [
        "for image, _ in train_dataset.take(1):\n",
        "    plt.figure(figsize=(10, 10))\n",
        "    first_image = image[0]\n",
        "    for i in range(9):\n",
        "        ax = plt.subplot(3, 3, i + 1)\n",
        "        augmented_image = data_augmentation(tf.expand_dims(first_image, 0))\n",
        "        plt.imshow(augmented_image[0] / 255)\n",
        "        plt.axis('off')"
      ],
      "metadata": {
        "id": "aQullOUHkm67",
        "execution": {
          "iopub.status.busy": "2022-03-22T06:25:04.005132Z",
          "iopub.execute_input": "2022-03-22T06:25:04.005372Z",
          "iopub.status.idle": "2022-03-22T06:25:05.082915Z",
          "shell.execute_reply.started": "2022-03-22T06:25:04.005339Z",
          "shell.execute_reply": "2022-03-22T06:25:05.082235Z"
        },
        "trusted": true
      },
      "execution_count": null,
      "outputs": []
    },
    {
      "cell_type": "markdown",
      "source": [
        "### Rescale pixel values\n",
        "\n",
        "In a moment, you will download `tf.keras.applications.MobileNetV2` for use as your base model. This model expects pixel values in `[-1, 1]`, but at this point, the pixel values in your images are in `[0, 255]`. To rescale them, use the preprocessing method included with the model."
      ],
      "metadata": {
        "id": "bAywKtuVn8uK"
      }
    },
    {
      "cell_type": "code",
      "source": [
        "preprocess_input = tf.keras.applications.mobilenet_v2.preprocess_input"
      ],
      "metadata": {
        "id": "cO0HM9JAQUFq",
        "execution": {
          "iopub.status.busy": "2022-03-22T06:25:05.083996Z",
          "iopub.execute_input": "2022-03-22T06:25:05.084367Z",
          "iopub.status.idle": "2022-03-22T06:25:05.092406Z",
          "shell.execute_reply.started": "2022-03-22T06:25:05.084335Z",
          "shell.execute_reply": "2022-03-22T06:25:05.091553Z"
        },
        "trusted": true
      },
      "execution_count": null,
      "outputs": []
    },
    {
      "cell_type": "markdown",
      "source": [
        "Note: Alternatively, you could rescale pixel values from `[0, 255]` to `[-1, 1]` using `tf.keras.layers.Rescaling`."
      ],
      "metadata": {
        "id": "xnr81qRMzcs5"
      }
    },
    {
      "cell_type": "code",
      "source": [
        "rescale = tf.keras.layers.Rescaling(1./127.5, offset=-1)"
      ],
      "metadata": {
        "id": "R2NyJn4KQMux",
        "execution": {
          "iopub.status.busy": "2022-03-22T06:25:05.094054Z",
          "iopub.execute_input": "2022-03-22T06:25:05.094524Z",
          "iopub.status.idle": "2022-03-22T06:25:05.099534Z",
          "shell.execute_reply.started": "2022-03-22T06:25:05.094486Z",
          "shell.execute_reply": "2022-03-22T06:25:05.098902Z"
        },
        "trusted": true
      },
      "execution_count": null,
      "outputs": []
    },
    {
      "cell_type": "markdown",
      "source": [
        "Note: If using other `tf.keras.applications`, be sure to check the API doc to determine if they expect pixels in `[-1, 1]` or `[0, 1]`, or use the included `preprocess_input` function."
      ],
      "metadata": {
        "id": "Wz7qgImhTxw4"
      }
    },
    {
      "cell_type": "markdown",
      "source": [
        "## Create the base model from the pre-trained convnets\n",
        "\n",
        "![](https://www.topbots.com/wp-content/uploads/2019/12/cover_transfer_learning_1600px_web.jpg)\n",
        "\n",
        "\n",
        "> You will create the base model from the **MobileNet V2** model developed at Google. This is pre-trained on the ImageNet dataset, a large dataset consisting of 1.4M images and 1000 classes.\n",
        "\n",
        "### ImageNet\n",
        "> ImageNet is a research training dataset with a wide variety of categories like `jackfruit` and `syringe`. This base of knowledge will help us classify cats and dogs from our specific dataset.\n",
        "\n",
        "### Steps\n",
        "\n",
        "1. First, you need to pick which layer of MobileNet V2 you will use for feature extraction.\n",
        "2. The very last classification layer (on \"top\", as most diagrams of machine learning models go from bottom to top) is not very useful. Instead, you will follow the common practice to depend on the very last layer before the flatten operation. This layer is called the \"bottleneck layer\". The bottleneck layer features retain more generality as compared to the final/top layer.\n"
      ],
      "metadata": {
        "id": "OkH-kazQecHB"
      }
    },
    {
      "cell_type": "code",
      "source": [
        "# Create the base model from the pre-trained model MobileNet V2\n",
        "'''First, instantiate a MobileNet V2 model pre-loaded with weights trained on ImageNet. \n",
        "By specifying the **include_top=False** argument, you load a network that doesn't include the classification layers at the top, \n",
        "which is ideal for feature extraction.'''\n",
        "\n",
        "IMG_SHAPE = IMG_SIZE + (3,)\n",
        "base_model = tf.keras.applications.MobileNetV2(input_shape=IMG_SHAPE,\n",
        "                                               include_top=False,\n",
        "                                               weights='imagenet')"
      ],
      "metadata": {
        "id": "19IQ2gqneqmS",
        "execution": {
          "iopub.status.busy": "2022-03-22T06:25:05.100796Z",
          "iopub.execute_input": "2022-03-22T06:25:05.101251Z",
          "iopub.status.idle": "2022-03-22T06:25:06.061119Z",
          "shell.execute_reply.started": "2022-03-22T06:25:05.101217Z",
          "shell.execute_reply": "2022-03-22T06:25:06.060347Z"
        },
        "trusted": true
      },
      "execution_count": null,
      "outputs": []
    },
    {
      "cell_type": "markdown",
      "source": [
        "This feature extractor converts each `160x160x3` image into a `5x5x1280` block of features. Let's see what it does to an example batch of images:"
      ],
      "metadata": {
        "id": "AqcsxoJIEVXZ"
      }
    },
    {
      "cell_type": "code",
      "source": [
        "# iter converts any object into an iterator object\n",
        "# next returns the next batch in the iterator, everytime you run it\n",
        "\n",
        "image_batch, label_batch = next(iter(train_dataset))\n",
        "feature_batch = base_model(image_batch)\n",
        "print(feature_batch.shape)"
      ],
      "metadata": {
        "id": "Y-2LJL0EEUcx",
        "execution": {
          "iopub.status.busy": "2022-03-22T06:25:06.064685Z",
          "iopub.execute_input": "2022-03-22T06:25:06.064913Z",
          "iopub.status.idle": "2022-03-22T06:25:06.432417Z",
          "shell.execute_reply.started": "2022-03-22T06:25:06.064882Z",
          "shell.execute_reply": "2022-03-22T06:25:06.431653Z"
        },
        "trusted": true
      },
      "execution_count": null,
      "outputs": []
    },
    {
      "cell_type": "markdown",
      "source": [
        "## Feature extraction\n",
        "In this step, you will freeze the convolutional base created from the previous step and to use as a feature extractor. Additionally, you add a classifier on top of it and train the top-level classifier."
      ],
      "metadata": {
        "id": "rlx56nQtfe8Y"
      }
    },
    {
      "cell_type": "markdown",
      "source": [
        "### Freeze the convolutional base"
      ],
      "metadata": {
        "id": "CnMLieHBCwil"
      }
    },
    {
      "cell_type": "markdown",
      "source": [
        "It is important to freeze the convolutional base before you compile and train the model. Freezing (by setting layer.trainable = False) prevents the weights in a given layer from being updated during training. MobileNet V2 has many layers, so setting the entire model's `trainable` flag to False will freeze all of them."
      ],
      "metadata": {
        "id": "7fL6upiN3ekS"
      }
    },
    {
      "cell_type": "code",
      "source": [
        "base_model.trainable = False"
      ],
      "metadata": {
        "id": "OTCJH4bphOeo",
        "execution": {
          "iopub.status.busy": "2022-03-22T06:25:06.433506Z",
          "iopub.execute_input": "2022-03-22T06:25:06.433995Z",
          "iopub.status.idle": "2022-03-22T06:25:06.444779Z",
          "shell.execute_reply.started": "2022-03-22T06:25:06.433956Z",
          "shell.execute_reply": "2022-03-22T06:25:06.443993Z"
        },
        "trusted": true
      },
      "execution_count": null,
      "outputs": []
    },
    {
      "cell_type": "markdown",
      "source": [
        "### Important note about BatchNormalization layers\n",
        "\n",
        "Many models contain `tf.keras.layers.BatchNormalization` layers. This layer is a special case and precautions should be taken in the context of fine-tuning, as shown later in this tutorial. \n",
        "\n",
        "When you set `layer.trainable = False`, the `BatchNormalization` layer will run in inference mode, and will not update its mean and variance statistics. \n",
        "\n",
        "When you unfreeze a model that contains BatchNormalization layers in order to do fine-tuning, you should keep the BatchNormalization layers in inference mode by passing `training = False` when calling the base model. Otherwise, the updates applied to the non-trainable weights will destroy what the model has learned.\n",
        "\n",
        "For more details, see the [Transfer learning guide](https://www.tensorflow.org/guide/keras/transfer_learning)."
      ],
      "metadata": {
        "id": "jsNHwpm7BeVM"
      }
    },
    {
      "cell_type": "code",
      "source": [
        "# Let's take a look at the base model architecture\n",
        "base_model.summary()"
      ],
      "metadata": {
        "id": "KpbzSmPkDa-N",
        "execution": {
          "iopub.status.busy": "2022-03-22T06:25:06.446536Z",
          "iopub.execute_input": "2022-03-22T06:25:06.447042Z",
          "iopub.status.idle": "2022-03-22T06:25:06.516487Z",
          "shell.execute_reply.started": "2022-03-22T06:25:06.447004Z",
          "shell.execute_reply": "2022-03-22T06:25:06.514737Z"
        },
        "trusted": true
      },
      "execution_count": null,
      "outputs": []
    },
    {
      "cell_type": "markdown",
      "source": [
        "### Add a classification head"
      ],
      "metadata": {
        "id": "wdMRM8YModbk"
      }
    },
    {
      "cell_type": "markdown",
      "source": [
        "To generate predictions from the block of features, average over the spatial `5x5` spatial locations, using a `tf.keras.layers.GlobalAveragePooling2D` layer to convert the features to  a single 1280-element vector per image."
      ],
      "metadata": {
        "id": "QBc31c4tMOdH"
      }
    },
    {
      "cell_type": "code",
      "source": [
        "global_average_layer = tf.keras.layers.GlobalAveragePooling2D()\n",
        "feature_batch_average = global_average_layer(feature_batch)\n",
        "print(feature_batch_average.shape)"
      ],
      "metadata": {
        "id": "dLnpMF5KOALm",
        "execution": {
          "iopub.status.busy": "2022-03-22T06:25:06.517842Z",
          "iopub.execute_input": "2022-03-22T06:25:06.518113Z",
          "iopub.status.idle": "2022-03-22T06:25:06.525259Z",
          "shell.execute_reply.started": "2022-03-22T06:25:06.518070Z",
          "shell.execute_reply": "2022-03-22T06:25:06.524404Z"
        },
        "trusted": true
      },
      "execution_count": null,
      "outputs": []
    },
    {
      "cell_type": "markdown",
      "source": [
        "Apply a `tf.keras.layers.Dense` layer to convert these features into a single prediction per image. You don't need an activation function here because this prediction will be treated as a `logit`, or a raw prediction value. Positive numbers predict class 1, negative numbers predict class 0."
      ],
      "metadata": {
        "id": "O1p0OJBR6dOT"
      }
    },
    {
      "cell_type": "code",
      "source": [
        "prediction_layer = tf.keras.layers.Dense(1)\n",
        "prediction_batch = prediction_layer(feature_batch_average)\n",
        "print(prediction_batch.shape)"
      ],
      "metadata": {
        "id": "Wv4afXKj6cVa",
        "execution": {
          "iopub.status.busy": "2022-03-22T06:25:06.526808Z",
          "iopub.execute_input": "2022-03-22T06:25:06.527132Z",
          "iopub.status.idle": "2022-03-22T06:25:06.536345Z",
          "shell.execute_reply.started": "2022-03-22T06:25:06.527086Z",
          "shell.execute_reply": "2022-03-22T06:25:06.535432Z"
        },
        "trusted": true
      },
      "execution_count": null,
      "outputs": []
    },
    {
      "cell_type": "markdown",
      "source": [
        "Build a model by chaining together the data augmentation, rescaling, `base_model` and feature extractor layers using the [Keras Functional API](https://www.tensorflow.org/guide/keras/functional). As previously mentioned, use `training=False` as our model contains a `BatchNormalization` layer."
      ],
      "metadata": {
        "id": "HXvz-ZkTa9b3"
      }
    },
    {
      "cell_type": "code",
      "source": [
        "inputs = tf.keras.Input(shape=(160, 160, 3))\n",
        "x = data_augmentation(inputs)\n",
        "x = preprocess_input(x)\n",
        "x = base_model(x, training=False)\n",
        "x = global_average_layer(x)\n",
        "x = tf.keras.layers.Dropout(0.2)(x)\n",
        "outputs = prediction_layer(x)\n",
        "model = tf.keras.Model(inputs, outputs)"
      ],
      "metadata": {
        "id": "DgzQX6Veb2WT",
        "execution": {
          "iopub.status.busy": "2022-03-22T06:25:06.537982Z",
          "iopub.execute_input": "2022-03-22T06:25:06.538315Z",
          "iopub.status.idle": "2022-03-22T06:25:07.015227Z",
          "shell.execute_reply.started": "2022-03-22T06:25:06.538283Z",
          "shell.execute_reply": "2022-03-22T06:25:07.014471Z"
        },
        "trusted": true
      },
      "execution_count": null,
      "outputs": []
    },
    {
      "cell_type": "markdown",
      "source": [
        "### Compile the model\n",
        "\n",
        "Compile the model before training it. Since there are two classes, use the `tf.keras.losses.BinaryCrossentropy` loss with `from_logits=True` since the model provides a linear output."
      ],
      "metadata": {
        "id": "g0ylJXE_kRLi"
      }
    },
    {
      "cell_type": "code",
      "source": [
        "base_learning_rate = 0.0001\n",
        "model.compile(optimizer=tf.keras.optimizers.Adam(learning_rate=base_learning_rate),\n",
        "              loss=tf.keras.losses.BinaryCrossentropy(from_logits=True),\n",
        "              metrics=['accuracy'])"
      ],
      "metadata": {
        "id": "RpR8HdyMhukJ",
        "execution": {
          "iopub.status.busy": "2022-03-22T06:25:07.016622Z",
          "iopub.execute_input": "2022-03-22T06:25:07.016872Z",
          "iopub.status.idle": "2022-03-22T06:25:07.029526Z",
          "shell.execute_reply.started": "2022-03-22T06:25:07.016839Z",
          "shell.execute_reply": "2022-03-22T06:25:07.028807Z"
        },
        "trusted": true
      },
      "execution_count": null,
      "outputs": []
    },
    {
      "cell_type": "code",
      "source": [
        "model.summary()"
      ],
      "metadata": {
        "id": "I8ARiyMFsgbH",
        "execution": {
          "iopub.status.busy": "2022-03-22T06:25:07.030686Z",
          "iopub.execute_input": "2022-03-22T06:25:07.032567Z",
          "iopub.status.idle": "2022-03-22T06:25:07.051037Z",
          "shell.execute_reply.started": "2022-03-22T06:25:07.032533Z",
          "shell.execute_reply": "2022-03-22T06:25:07.050233Z"
        },
        "trusted": true
      },
      "execution_count": null,
      "outputs": []
    },
    {
      "cell_type": "markdown",
      "source": [
        "The 2.5 million parameters in MobileNet are frozen, but there are 1.2 thousand _trainable_ parameters in the Dense layer. These are divided between two `tf.Variable` objects, the weights and biases."
      ],
      "metadata": {
        "id": "lxOcmVr0ydFZ"
      }
    },
    {
      "cell_type": "code",
      "source": [
        "len(model.trainable_variables)"
      ],
      "metadata": {
        "id": "krvBumovycVA",
        "execution": {
          "iopub.status.busy": "2022-03-22T06:25:07.052539Z",
          "iopub.execute_input": "2022-03-22T06:25:07.052908Z",
          "iopub.status.idle": "2022-03-22T06:25:07.059353Z",
          "shell.execute_reply.started": "2022-03-22T06:25:07.052866Z",
          "shell.execute_reply": "2022-03-22T06:25:07.058441Z"
        },
        "trusted": true
      },
      "execution_count": null,
      "outputs": []
    },
    {
      "cell_type": "code",
      "source": [
        "weights = model.trainable_variables[0]\n",
        "biases = model.trainable_variables[1]\n",
        "\n",
        "print(weights)\n",
        "print(weights.shape)\n",
        "print(biases.shape)\n",
        "\n",
        "# y = Wt * X + b\n",
        "# (1,1) = (1, 1280) * (1280, 1) + (1,1)"
      ],
      "metadata": {
        "execution": {
          "iopub.status.busy": "2022-03-22T06:25:07.061045Z",
          "iopub.execute_input": "2022-03-22T06:25:07.061775Z",
          "iopub.status.idle": "2022-03-22T06:25:07.070520Z",
          "shell.execute_reply.started": "2022-03-22T06:25:07.061731Z",
          "shell.execute_reply": "2022-03-22T06:25:07.069706Z"
        },
        "trusted": true,
        "id": "aMoAfVzfbt79"
      },
      "execution_count": null,
      "outputs": []
    },
    {
      "cell_type": "markdown",
      "source": [
        "### Train the model\n"
      ],
      "metadata": {
        "id": "RxvgOYTDSWTx"
      }
    },
    {
      "cell_type": "code",
      "source": [
        "initial_epochs = 3\n",
        "\n",
        "loss0, accuracy0 = model.evaluate(val_dataset)"
      ],
      "metadata": {
        "id": "Om4O3EESkab1",
        "execution": {
          "iopub.status.busy": "2022-03-22T06:25:07.072657Z",
          "iopub.execute_input": "2022-03-22T06:25:07.075190Z",
          "iopub.status.idle": "2022-03-22T06:25:11.566490Z",
          "shell.execute_reply.started": "2022-03-22T06:25:07.075162Z",
          "shell.execute_reply": "2022-03-22T06:25:11.565756Z"
        },
        "trusted": true
      },
      "execution_count": null,
      "outputs": []
    },
    {
      "cell_type": "code",
      "source": [
        "print(\"initial loss: {:.2f}\".format(loss0))\n",
        "print(\"initial accuracy: {:.2f}\".format(accuracy0))"
      ],
      "metadata": {
        "id": "8cYT1c48CuSd",
        "execution": {
          "iopub.status.busy": "2022-03-22T06:25:11.568039Z",
          "iopub.execute_input": "2022-03-22T06:25:11.568283Z",
          "iopub.status.idle": "2022-03-22T06:25:11.573275Z",
          "shell.execute_reply.started": "2022-03-22T06:25:11.568249Z",
          "shell.execute_reply": "2022-03-22T06:25:11.572509Z"
        },
        "trusted": true
      },
      "execution_count": null,
      "outputs": []
    },
    {
      "cell_type": "code",
      "source": [
        "# After training for 3 epochs, you should see ~95% accuracy on the validation set.\n",
        "history = model.fit(train_dataset,\n",
        "                    epochs=initial_epochs,\n",
        "                    validation_data=val_dataset)"
      ],
      "metadata": {
        "id": "JsaRFlZ9B6WK",
        "execution": {
          "iopub.status.busy": "2022-03-22T06:25:11.574574Z",
          "iopub.execute_input": "2022-03-22T06:25:11.575119Z",
          "iopub.status.idle": "2022-03-22T06:26:09.024666Z",
          "shell.execute_reply.started": "2022-03-22T06:25:11.575082Z",
          "shell.execute_reply": "2022-03-22T06:26:09.023874Z"
        },
        "trusted": true
      },
      "execution_count": null,
      "outputs": []
    },
    {
      "cell_type": "markdown",
      "source": [
        "### Learning curves\n",
        "\n",
        "Let's take a look at the learning curves of the training and validation accuracy/loss when using the MobileNetV2 base model as a fixed feature extractor."
      ],
      "metadata": {
        "id": "Hd94CKImf8vi"
      }
    },
    {
      "cell_type": "code",
      "source": [
        "acc = history.history['accuracy']\n",
        "val_acc = history.history['val_accuracy']\n",
        "\n",
        "loss = history.history['loss']\n",
        "val_loss = history.history['val_loss']\n",
        "\n",
        "plt.figure(figsize=(8, 8))\n",
        "plt.subplot(2, 1, 1)\n",
        "plt.plot(acc, label='Training Accuracy')\n",
        "plt.plot(val_acc, label='Validation Accuracy')\n",
        "plt.legend(loc='lower right')\n",
        "plt.ylabel('Accuracy')\n",
        "plt.ylim([min(plt.ylim()),1])\n",
        "plt.title('Training and Validation Accuracy')\n",
        "\n",
        "plt.subplot(2, 1, 2)\n",
        "plt.plot(loss, label='Training Loss')\n",
        "plt.plot(val_loss, label='Validation Loss')\n",
        "plt.legend(loc='upper right')\n",
        "plt.ylabel('Cross Entropy')\n",
        "plt.ylim([0,1.0])\n",
        "plt.title('Training and Validation Loss')\n",
        "plt.xlabel('epoch')\n",
        "plt.show()"
      ],
      "metadata": {
        "id": "53OTCh3jnbwV",
        "execution": {
          "iopub.status.busy": "2022-03-22T06:26:43.169504Z",
          "iopub.execute_input": "2022-03-22T06:26:43.169775Z",
          "iopub.status.idle": "2022-03-22T06:26:43.480133Z",
          "shell.execute_reply.started": "2022-03-22T06:26:43.169744Z",
          "shell.execute_reply": "2022-03-22T06:26:43.479435Z"
        },
        "trusted": true
      },
      "execution_count": null,
      "outputs": []
    },
    {
      "cell_type": "markdown",
      "source": [
        "Note: If you are wondering why the validation metrics are clearly better than the training metrics, the main factor is because layers like `tf.keras.layers.BatchNormalization` and `tf.keras.layers.Dropout` affect accuracy during training. They are turned off when calculating validation loss.\n",
        "\n",
        "To a lesser extent, it is also because training metrics report the average for an epoch, while validation metrics are evaluated after the epoch, so validation metrics see a model that has trained slightly longer."
      ],
      "metadata": {
        "id": "foWMyyUHbc1j"
      }
    },
    {
      "cell_type": "markdown",
      "source": [
        "## Fine tuning\n",
        "In the feature extraction experiment, you were only training a few layers on top of a MobileNetV2 base model. The weights of the pre-trained network were **not** updated during training.\n",
        "\n",
        "One way to increase performance even further is to train (or \"fine-tune\") the weights of the top layers of the pre-trained model alongside the training of the classifier you added. The training process will force the weights to be tuned from generic feature maps to features associated specifically with the dataset.\n",
        "\n",
        "Note: This should only be attempted after you have trained the top-level classifier with the pre-trained model set to non-trainable. If you add a randomly initialized classifier on top of a pre-trained model and attempt to train all layers jointly, the magnitude of the gradient updates will be too large (due to the random weights from the classifier) and your pre-trained model will forget what it has learned.\n",
        "\n",
        "Also, you should try to fine-tune a small number of top layers rather than the whole MobileNet model. \n",
        "\n",
        "**In most convolutional networks, the higher up a layer is, the more specialized it is. The first few layers learn very simple and generic features that generalize to almost all types of images. As you go higher up, the features are increasingly more specific to the dataset on which the model was trained. The goal of fine-tuning is to adapt these specialized features to work with the new dataset, rather than overwrite the generic learning.**"
      ],
      "metadata": {
        "id": "CqwV-CRdS6Nv"
      }
    },
    {
      "cell_type": "markdown",
      "source": [
        "### Un-freeze the top layers of the model\n"
      ],
      "metadata": {
        "id": "CPXnzUK0QonF"
      }
    },
    {
      "cell_type": "markdown",
      "source": [
        "All you need to do is unfreeze the `base_model` and set the bottom layers to be un-trainable. Then, you should recompile the model (necessary for these changes to take effect), and resume training."
      ],
      "metadata": {
        "id": "rfxv_ifotQak"
      }
    },
    {
      "cell_type": "code",
      "source": [
        "base_model.trainable = True"
      ],
      "metadata": {
        "id": "4nzcagVitLQm",
        "execution": {
          "iopub.status.busy": "2022-03-22T06:29:44.674345Z",
          "iopub.execute_input": "2022-03-22T06:29:44.674826Z",
          "iopub.status.idle": "2022-03-22T06:29:44.683774Z",
          "shell.execute_reply.started": "2022-03-22T06:29:44.674789Z",
          "shell.execute_reply": "2022-03-22T06:29:44.683011Z"
        },
        "trusted": true
      },
      "execution_count": null,
      "outputs": []
    },
    {
      "cell_type": "code",
      "source": [
        "# Let's take a look to see how many layers are in the base model\n",
        "print(\"Number of layers in the base model: \", len(base_model.layers))\n",
        "\n",
        "# Fine-tune from this layer onwards\n",
        "fine_tune_at = 100\n",
        "\n",
        "# Freeze all the layers before the `fine_tune_at` layer\n",
        "for layer in base_model.layers[:fine_tune_at]:\n",
        "    layer.trainable = False"
      ],
      "metadata": {
        "id": "-4HgVAacRs5v",
        "execution": {
          "iopub.status.busy": "2022-03-22T06:30:22.315182Z",
          "iopub.execute_input": "2022-03-22T06:30:22.315435Z",
          "iopub.status.idle": "2022-03-22T06:30:22.323595Z",
          "shell.execute_reply.started": "2022-03-22T06:30:22.315408Z",
          "shell.execute_reply": "2022-03-22T06:30:22.322925Z"
        },
        "trusted": true
      },
      "execution_count": null,
      "outputs": []
    },
    {
      "cell_type": "markdown",
      "source": [
        "### Compile the model\n",
        "\n",
        "As you are training a much larger model and want to readapt the pretrained weights, it is important to use a lower learning rate at this stage. Otherwise, your model could overfit very quickly."
      ],
      "metadata": {
        "id": "4Uk1dgsxT0IS"
      }
    },
    {
      "cell_type": "code",
      "source": [
        "model.compile(loss=tf.keras.losses.BinaryCrossentropy(from_logits=True),\n",
        "              optimizer = tf.keras.optimizers.RMSprop(learning_rate=base_learning_rate/10),\n",
        "              metrics=['accuracy'])"
      ],
      "metadata": {
        "id": "NtUnaz0WUDva",
        "execution": {
          "iopub.status.busy": "2022-03-22T06:30:30.595098Z",
          "iopub.execute_input": "2022-03-22T06:30:30.595397Z",
          "iopub.status.idle": "2022-03-22T06:30:30.620644Z",
          "shell.execute_reply.started": "2022-03-22T06:30:30.595365Z",
          "shell.execute_reply": "2022-03-22T06:30:30.619875Z"
        },
        "trusted": true
      },
      "execution_count": null,
      "outputs": []
    },
    {
      "cell_type": "code",
      "source": [
        "model.summary()"
      ],
      "metadata": {
        "id": "WwBWy7J2kZvA",
        "execution": {
          "iopub.status.busy": "2022-03-22T06:30:34.322154Z",
          "iopub.execute_input": "2022-03-22T06:30:34.322626Z",
          "iopub.status.idle": "2022-03-22T06:30:34.340585Z",
          "shell.execute_reply.started": "2022-03-22T06:30:34.322586Z",
          "shell.execute_reply": "2022-03-22T06:30:34.339905Z"
        },
        "trusted": true
      },
      "execution_count": null,
      "outputs": []
    },
    {
      "cell_type": "code",
      "source": [
        "# total pairs of weights and biases that are going tp be trained\n",
        "len(model.trainable_variables)\n",
        "\n",
        "# 154-100 = 54 from your base model and 2 from the head"
      ],
      "metadata": {
        "id": "bNXelbMQtonr",
        "execution": {
          "iopub.status.busy": "2022-03-22T06:31:35.148073Z",
          "iopub.execute_input": "2022-03-22T06:31:35.148397Z",
          "iopub.status.idle": "2022-03-22T06:31:35.155709Z",
          "shell.execute_reply.started": "2022-03-22T06:31:35.148357Z",
          "shell.execute_reply": "2022-03-22T06:31:35.154959Z"
        },
        "trusted": true
      },
      "execution_count": null,
      "outputs": []
    },
    {
      "cell_type": "markdown",
      "source": [
        "### Continue training the model"
      ],
      "metadata": {
        "id": "4G5O4jd6TuAG"
      }
    },
    {
      "cell_type": "markdown",
      "source": [
        "If you trained to convergence earlier, this step will improve your accuracy by a few percentage points."
      ],
      "metadata": {
        "id": "0foWUN-yDLo_"
      }
    },
    {
      "cell_type": "code",
      "source": [
        "fine_tune_epochs = 3\n",
        "total_epochs =  initial_epochs + fine_tune_epochs\n",
        "\n",
        "history_fine = model.fit(train_dataset,\n",
        "                         epochs=total_epochs,\n",
        "                         initial_epoch=history.epoch[-1],\n",
        "                         validation_data=val_dataset)"
      ],
      "metadata": {
        "id": "ECQLkAsFTlun",
        "execution": {
          "iopub.status.busy": "2022-03-22T06:33:01.877762Z",
          "iopub.execute_input": "2022-03-22T06:33:01.878521Z",
          "iopub.status.idle": "2022-03-22T06:34:17.498719Z",
          "shell.execute_reply.started": "2022-03-22T06:33:01.878473Z",
          "shell.execute_reply": "2022-03-22T06:34:17.497895Z"
        },
        "trusted": true
      },
      "execution_count": null,
      "outputs": []
    },
    {
      "cell_type": "markdown",
      "source": [
        "Let's take a look at the learning curves of the training and validation accuracy/loss when fine-tuning the last few layers of the MobileNetV2 base model and training the classifier on top of it. The validation loss is much higher than the training loss, so you may get some overfitting.\n",
        "\n",
        "You may also get some overfitting as the new training set is relatively small and similar to the original MobileNetV2 datasets.\n"
      ],
      "metadata": {
        "id": "TfXEmsxQf6eP"
      }
    },
    {
      "cell_type": "markdown",
      "source": [
        "After fine tuning the model nearly reaches 98% accuracy on the validation set."
      ],
      "metadata": {
        "id": "DNtfNZKlInGT"
      }
    },
    {
      "cell_type": "code",
      "source": [
        "acc += history_fine.history['accuracy']\n",
        "val_acc += history_fine.history['val_accuracy']\n",
        "\n",
        "loss += history_fine.history['loss']\n",
        "val_loss += history_fine.history['val_loss']"
      ],
      "metadata": {
        "id": "PpA8PlpQKygw",
        "execution": {
          "iopub.status.busy": "2022-03-22T06:34:51.609521Z",
          "iopub.execute_input": "2022-03-22T06:34:51.609818Z",
          "iopub.status.idle": "2022-03-22T06:34:51.615022Z",
          "shell.execute_reply.started": "2022-03-22T06:34:51.609786Z",
          "shell.execute_reply": "2022-03-22T06:34:51.613933Z"
        },
        "trusted": true
      },
      "execution_count": null,
      "outputs": []
    },
    {
      "cell_type": "code",
      "source": [
        "plt.figure(figsize=(8, 8))\n",
        "plt.subplot(2, 1, 1)\n",
        "plt.plot(acc, label='Training Accuracy')\n",
        "plt.plot(val_acc, label='Validation Accuracy')\n",
        "plt.ylim([0.8, 1])\n",
        "plt.plot([initial_epochs-1,initial_epochs-1],\n",
        "          plt.ylim(), label='Start Fine Tuning')\n",
        "plt.legend(loc='lower right')\n",
        "plt.title('Training and Validation Accuracy')\n",
        "\n",
        "plt.subplot(2, 1, 2)\n",
        "plt.plot(loss, label='Training Loss')\n",
        "plt.plot(val_loss, label='Validation Loss')\n",
        "plt.ylim([0, 1.0])\n",
        "plt.plot([initial_epochs-1,initial_epochs-1],\n",
        "         plt.ylim(), label='Start Fine Tuning')\n",
        "plt.legend(loc='upper right')\n",
        "plt.title('Training and Validation Loss')\n",
        "plt.xlabel('epoch')\n",
        "plt.show()"
      ],
      "metadata": {
        "id": "chW103JUItdk",
        "execution": {
          "iopub.status.busy": "2022-03-22T06:34:54.511587Z",
          "iopub.execute_input": "2022-03-22T06:34:54.511838Z",
          "iopub.status.idle": "2022-03-22T06:34:54.820304Z",
          "shell.execute_reply.started": "2022-03-22T06:34:54.511811Z",
          "shell.execute_reply": "2022-03-22T06:34:54.819625Z"
        },
        "trusted": true
      },
      "execution_count": null,
      "outputs": []
    },
    {
      "cell_type": "markdown",
      "source": [
        "## to get the idea of real effects of fine-tuning, increase the number of epochs to 10-15 both time. "
      ],
      "metadata": {
        "id": "gG8szq4Dbt8C"
      }
    },
    {
      "cell_type": "markdown",
      "source": [
        "### Evaluation and prediction"
      ],
      "metadata": {
        "id": "R6cWgjgfrsn5"
      }
    },
    {
      "cell_type": "markdown",
      "source": [
        "Finaly you can verify the performance of the model on new data using test set."
      ],
      "metadata": {
        "id": "PSXH7PRMxOi5"
      }
    },
    {
      "cell_type": "code",
      "source": [
        "loss, accuracy = model.evaluate(test_dataset)\n",
        "print('Test accuracy :', accuracy)"
      ],
      "metadata": {
        "id": "2KyNhagHwfar",
        "execution": {
          "iopub.status.busy": "2022-03-22T06:36:53.399718Z",
          "iopub.execute_input": "2022-03-22T06:36:53.400011Z",
          "iopub.status.idle": "2022-03-22T06:36:54.688507Z",
          "shell.execute_reply.started": "2022-03-22T06:36:53.399978Z",
          "shell.execute_reply": "2022-03-22T06:36:54.687608Z"
        },
        "trusted": true
      },
      "execution_count": null,
      "outputs": []
    },
    {
      "cell_type": "markdown",
      "source": [
        "And now you are all set to use this model to predict if your pet is a cat or dog."
      ],
      "metadata": {
        "id": "8UjS5ukZfOcR"
      }
    },
    {
      "cell_type": "code",
      "source": [
        "# Retrieve a batch of images from the test set\n",
        "image_batch, label_batch = test_dataset.as_numpy_iterator().next()\n",
        "predictions = model.predict_on_batch(image_batch).flatten()\n",
        "\n",
        "# Apply a sigmoid since our model returns logits\n",
        "predictions = tf.nn.sigmoid(predictions)\n",
        "predictions = tf.where(predictions < 0.5, 0, 1)\n",
        "\n",
        "print('Predictions:\\n', predictions.numpy())\n",
        "print('Labels:\\n', label_batch)\n",
        "\n",
        "plt.figure(figsize=(10, 10))\n",
        "for i in range(9):\n",
        "  ax = plt.subplot(3, 3, i + 1)\n",
        "  plt.imshow(image_batch[i].astype(\"uint8\"))\n",
        "  plt.title(class_names[predictions[i]])\n",
        "  plt.axis(\"off\")"
      ],
      "metadata": {
        "id": "RUNoQNgtfNgt",
        "execution": {
          "iopub.status.busy": "2022-03-22T06:37:00.389416Z",
          "iopub.execute_input": "2022-03-22T06:37:00.390108Z",
          "iopub.status.idle": "2022-03-22T06:37:02.309662Z",
          "shell.execute_reply.started": "2022-03-22T06:37:00.390070Z",
          "shell.execute_reply": "2022-03-22T06:37:02.308992Z"
        },
        "trusted": true
      },
      "execution_count": null,
      "outputs": []
    },
    {
      "cell_type": "markdown",
      "source": [
        "## Summary\n",
        "\n",
        "* **Using a pre-trained model for feature extraction**:  When working with a small dataset, it is a common practice to take advantage of features learned by a model trained on a larger dataset in the same domain. This is done by instantiating the pre-trained model and adding a fully-connected classifier on top. The pre-trained model is \"frozen\" and only the weights of the classifier get updated during training.\n",
        "In this case, the convolutional base extracted all the features associated with each image and you just trained a classifier that determines the image class given that set of extracted features.\n",
        "\n",
        "* **Fine-tuning a pre-trained model**: To further improve performance, one might want to repurpose the top-level layers of the pre-trained models to the new dataset via fine-tuning.\n",
        "In this case, you tuned your weights such that your model learned high-level features specific to the dataset. This technique is usually recommended when the training dataset is large and very similar to the original dataset that the pre-trained model was trained on.\n"
      ],
      "metadata": {
        "id": "_TZTwG7nhm0C"
      }
    },
    {
      "cell_type": "markdown",
      "source": [
        "## In next lecture, you will learn Data Annotation using Labelme tool\n",
        "\n",
        "![](https://www.tarjama.com/wp-content/uploads/2020/08/Image-annotation.jpg)"
      ],
      "metadata": {
        "id": "o0l1aqCabt8E"
      }
    },
    {
      "cell_type": "markdown",
      "source": [],
      "metadata": {
        "id": "6TfAfiiVbt8E"
      }
    },
    {
      "cell_type": "code",
      "source": [],
      "metadata": {
        "id": "wtr4X6YYbt8E"
      },
      "execution_count": null,
      "outputs": []
    },
    {
      "cell_type": "markdown",
      "source": [
        "# Time to practice some questions!"
      ],
      "metadata": {
        "id": "Duocdn5l87_T"
      }
    },
    {
      "cell_type": "markdown",
      "source": [
        "Q-1 What do you mean by transfer learning?\n"
      ],
      "metadata": {
        "id": "RV_QpFco9BPu"
      }
    },
    {
      "cell_type": "code",
      "source": [
        "# Write the ans in the form of string\n",
        "ans_1 = \"\"\n",
        "\n",
        "print(ans_1)"
      ],
      "metadata": {
        "id": "qvaxkNty9EGP"
      },
      "execution_count": null,
      "outputs": []
    },
    {
      "cell_type": "markdown",
      "source": [
        "Q-2 Why should we perform fine tuning in transfer learning?\n"
      ],
      "metadata": {
        "id": "INu8gQYc9KIK"
      }
    },
    {
      "cell_type": "code",
      "source": [
        "# Write the ans in the form of string\n",
        "ans_2 = \"\"\n",
        "\n",
        "print(ans_2)"
      ],
      "metadata": {
        "id": "W592Ib939MKL"
      },
      "execution_count": null,
      "outputs": []
    },
    {
      "cell_type": "markdown",
      "source": [
        "Q-3 How feature extraction plays a key role in training a model?"
      ],
      "metadata": {
        "id": "cTBc0Iak9MiE"
      }
    },
    {
      "cell_type": "code",
      "source": [
        "# Write the ans in the form of string\n",
        "ans_3 = \"\"\n",
        "\n",
        "print(ans_3)"
      ],
      "metadata": {
        "id": "7MXeNp5x9NdB"
      },
      "execution_count": null,
      "outputs": []
    },
    {
      "cell_type": "markdown",
      "source": [
        "# Thank you for completing the notebook!\n"
      ],
      "metadata": {
        "id": "SYWIp2hQ9N0F"
      }
    }
  ]
}