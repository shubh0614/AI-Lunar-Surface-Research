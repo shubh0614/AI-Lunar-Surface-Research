{
  "metadata": {
    "kernelspec": {
      "language": "python",
      "display_name": "Python 3",
      "name": "python3"
    },
    "language_info": {
      "name": "python",
      "version": "3.7.12",
      "mimetype": "text/x-python",
      "codemirror_mode": {
        "name": "ipython",
        "version": 3
      },
      "pygments_lexer": "ipython3",
      "nbconvert_exporter": "python",
      "file_extension": ".py"
    },
    "colab": {
      "provenance": [],
      "collapsed_sections": []
    }
  },
  "nbformat_minor": 0,
  "nbformat": 4,
  "cells": [
    {
      "cell_type": "markdown",
      "source": [
        "# <center> Best Practices for Image segmentation (W8 S1)"
      ],
      "metadata": {
        "id": "kD6lbSNVLszk"
      }
    },
    {
      "cell_type": "markdown",
      "source": [
        "#### This session will provide you brief introduction to some best practices to improve performance of your Image segmentation model"
      ],
      "metadata": {
        "id": "pHL8t-2oLszp"
      }
    },
    {
      "cell_type": "code",
      "source": [
        "import numpy as np\n",
        "import os\n",
        "from skimage.io import imread\n",
        "import matplotlib.pyplot as plt"
      ],
      "metadata": {
        "id": "3eItJm1hLszr",
        "execution": {
          "iopub.status.busy": "2022-06-01T13:52:48.505508Z",
          "iopub.execute_input": "2022-06-01T13:52:48.506220Z",
          "iopub.status.idle": "2022-06-01T13:52:49.117568Z",
          "shell.execute_reply.started": "2022-06-01T13:52:48.506097Z",
          "shell.execute_reply": "2022-06-01T13:52:49.116640Z"
        },
        "trusted": true
      },
      "execution_count": null,
      "outputs": []
    },
    {
      "cell_type": "code",
      "source": [
        "'''\n",
        "Here load_data function is called. This will load the dataset paths and \n",
        "split it into X_train, X_test, y_train, y_test '''\n",
        "\n",
        "img_dir = '../input/artificial-lunar-rocky-landscape-dataset/images/render'\n",
        "mask_dir = '../input/artificial-lunar-rocky-landscape-dataset/images/clean'\n",
        "\n",
        "\n",
        "# let's get the list of image paths and mask paths in sorted order from the given directory respectively\n",
        "images = [os.path.join(img_dir, x) for x in sorted(os.listdir(img_dir))]\n",
        "masks = [os.path.join(mask_dir, x) for x in sorted(os.listdir(mask_dir))]\n"
      ],
      "metadata": {
        "id": "ofv9tYqEkO5V",
        "execution": {
          "iopub.status.busy": "2022-06-01T13:53:13.263388Z",
          "iopub.execute_input": "2022-06-01T13:53:13.263850Z",
          "iopub.status.idle": "2022-06-01T13:53:13.821846Z",
          "shell.execute_reply.started": "2022-06-01T13:53:13.263812Z",
          "shell.execute_reply": "2022-06-01T13:53:13.821054Z"
        },
        "trusted": true
      },
      "execution_count": null,
      "outputs": []
    },
    {
      "cell_type": "code",
      "source": [
        "s_path = images[0]\n",
        "\n",
        "sample = imread(s_path)\n",
        "\n",
        "plt.imshow(sample)\n",
        "\n",
        "plt.show()"
      ],
      "metadata": {
        "id": "Eivn-ZTpRXWG",
        "execution": {
          "iopub.status.busy": "2022-06-01T14:05:32.021836Z",
          "iopub.execute_input": "2022-06-01T14:05:32.023084Z",
          "iopub.status.idle": "2022-06-01T14:05:32.283009Z",
          "shell.execute_reply.started": "2022-06-01T14:05:32.023024Z",
          "shell.execute_reply": "2022-06-01T14:05:32.282206Z"
        },
        "trusted": true
      },
      "execution_count": null,
      "outputs": []
    },
    {
      "cell_type": "markdown",
      "source": [
        "## Difference of Gaussians\n",
        "\n",
        "https://scikit-image.org/docs/dev/api/skimage.filters.html?highlight=gaussian#difference-of-gaussians\n",
        "\n",
        "The input array is blurred with two Gaussian kernels of differing sigmas to produce two intermediate, filtered images. The more-blurred image is then subtracted from the less-blurred image. The final output image will therefore have had high-frequency components attenuated by the smaller-sigma Gaussian, and low frequency components will have been removed due to their presence in the more-blurred intermediate."
      ],
      "metadata": {
        "id": "iN9cFTOFRXWG"
      }
    },
    {
      "cell_type": "code",
      "source": [
        "import skimage\n",
        "\n",
        "# Find features between low_sigma and high_sigma in size.\n",
        "pre = skimage.filters.difference_of_gaussians(sample, low_sigma = 2, high_sigma = 8)\n",
        "\n",
        "plt.imshow(pre)\n",
        "plt.show()"
      ],
      "metadata": {
        "id": "ldw3ht4lRXWG",
        "execution": {
          "iopub.status.busy": "2022-06-01T14:05:37.580926Z",
          "iopub.execute_input": "2022-06-01T14:05:37.582006Z",
          "iopub.status.idle": "2022-06-01T14:05:38.068224Z",
          "shell.execute_reply.started": "2022-06-01T14:05:37.581956Z",
          "shell.execute_reply": "2022-06-01T14:05:38.067169Z"
        },
        "trusted": true
      },
      "execution_count": null,
      "outputs": []
    },
    {
      "cell_type": "markdown",
      "source": [
        "## Ensure that all the images have the same orientation\n",
        "\n",
        "https://albumentations.ai/"
      ],
      "metadata": {
        "id": "NW_XBy0uRXWH"
      }
    },
    {
      "cell_type": "code",
      "source": [
        "import albumentations as A\n",
        "import cv2\n",
        "\n",
        "# Declare an augmentation pipeline\n",
        "transform = A.Compose([\n",
        "    A.RandomCrop(width=256, height=256),\n",
        "    A.HorizontalFlip(p=0.5),\n",
        "    A.RandomBrightnessContrast(p=0.2),\n",
        "])\n",
        "\n",
        "# Read an image with OpenCV and convert it to the RGB colorspace\n",
        "image = cv2.imread(s_path)\n",
        "image = cv2.cvtColor(image, cv2.COLOR_BGR2RGB)\n",
        "\n",
        "# Augment an image\n",
        "transformed = transform(image=image)\n",
        "transformed_image = transformed[\"image\"]\n",
        "\n",
        "plt.imshow(transformed_image)"
      ],
      "metadata": {
        "id": "ADniPDy_RXWH",
        "execution": {
          "iopub.status.busy": "2022-06-01T14:14:33.322748Z",
          "iopub.execute_input": "2022-06-01T14:14:33.324865Z",
          "iopub.status.idle": "2022-06-01T14:14:33.686679Z",
          "shell.execute_reply.started": "2022-06-01T14:14:33.324830Z",
          "shell.execute_reply": "2022-06-01T14:14:33.685677Z"
        },
        "trusted": true
      },
      "execution_count": null,
      "outputs": []
    },
    {
      "cell_type": "markdown",
      "source": [
        "## Why Albumentations?\n",
        "\n",
        "https://github.com/albumentations-team/albumentations\n",
        "\n",
        "* Albumentations supports all common computer vision tasks such as classification, semantic segmentation, instance segmentation, object detection, and pose estimation.\n",
        "* The library provides a simple unified API to work with all data types: images (RBG-images, grayscale images, multispectral images), segmentation masks, bounding boxes, and keypoints.\n",
        "*     The library contains more than 70 different augmentations to generate new training samples from the existing data.\n",
        "*     Albumentations is fast. They benchmark each new release to ensure that augmentations provide maximum speed.\n",
        "*     It works with popular deep learning frameworks such as PyTorch and TensorFlow. By the way, Albumentations is a part of the PyTorch ecosystem.\n",
        "*     Written by experts. The authors have experience both working on production computer vision systems and participating in competitive machine learning. Many core team members are Kaggle Masters and Grandmasters.\n",
        "*     The library is widely used in industry, deep learning research, machine learning competitions, and open source projects.\n"
      ],
      "metadata": {
        "id": "7YZ-UHkmRXWI"
      }
    },
    {
      "cell_type": "markdown",
      "source": [
        "## Contrast Streching and Histogram Equalization"
      ],
      "metadata": {
        "id": "teaFdGOyRXWJ"
      }
    },
    {
      "cell_type": "code",
      "source": [
        "# Contrast stretching - improve the contrast in an image by \n",
        "# `stretching' the range of intensity values it contains to span a desired range of values\n",
        "p2, p98 = np.percentile(sample, (2, 98))\n",
        "img_rescale = skimage.exposure.rescale_intensity(sample, in_range=(p2, p98))\n",
        "\n",
        "# Equalization - spreads out the most frequent intensity values\n",
        "img_eq = skimage.exposure.equalize_hist(sample)\n",
        "\n",
        "# plotting\n",
        "fig, (ax1, ax2, ax3) = plt.subplots(1, 3, figsize = (20, 8))\n",
        "\n",
        "ax1.set_title(\"Original\")\n",
        "ax1.imshow(sample)\n",
        "\n",
        "ax2.set_title(\"Contrast streching\")\n",
        "ax2.imshow(img_rescale)\n",
        "\n",
        "ax3.set_title(\"Histogram Equalization\")\n",
        "ax3.imshow(img_eq)\n",
        "\n",
        "plt.show()"
      ],
      "metadata": {
        "id": "viiwW9X2RXWJ",
        "execution": {
          "iopub.status.busy": "2022-06-01T14:20:34.665151Z",
          "iopub.execute_input": "2022-06-01T14:20:34.665676Z",
          "iopub.status.idle": "2022-06-01T14:20:35.384040Z",
          "shell.execute_reply.started": "2022-06-01T14:20:34.665628Z",
          "shell.execute_reply": "2022-06-01T14:20:35.383087Z"
        },
        "trusted": true
      },
      "execution_count": null,
      "outputs": []
    },
    {
      "cell_type": "markdown",
      "source": [
        "While histogram equalization has the advantage that it requires no parameters, it sometimes yields unnatural looking images.\n",
        "\n",
        "In Contrast stretching, the image is rescaled to include all intensities that fall within the 2nd and 98th percentiles."
      ],
      "metadata": {
        "id": "ffcegrkORXWK"
      }
    },
    {
      "cell_type": "markdown",
      "source": [
        "## Pseudo labeling (Semi Supervised learning)\n",
        "\n",
        "https://towardsdatascience.com/pseudo-labeling-to-deal-with-small-datasets-what-why-how-fd6f903213af\n",
        "\n",
        "It will be useful in those cases when you have labels for a very small subset of data but not for the other. In that case, you can generate model training pipeline to use outputs from model unlabeled data to act as labels and train with unlabeled data also.\n",
        "\n",
        "\n"
      ],
      "metadata": {
        "id": "-x4xRzrNRXWK"
      }
    },
    {
      "cell_type": "markdown",
      "source": [
        "![](https://miro.medium.com/max/1118/1*Yk_mGPVIJgkIhf0gWo7PTA.png)"
      ],
      "metadata": {
        "id": "6xskFKKsRXWL"
      }
    },
    {
      "cell_type": "markdown",
      "source": [
        "## Ensemble with different SOTA models. \n",
        "\n",
        "https://www.kaggle.com/c/inclusive-images-challenge/discussion/72450\n",
        "\n",
        "https://github.com/IVPLatNU/DeepCovidXR\n",
        "\n",
        "![](https://miro.medium.com/max/1400/1*MxD8Kn_Rn9p_Au4MOGgsmg.png)\n"
      ],
      "metadata": {
        "id": "KJoBGXa1RXWL"
      }
    },
    {
      "cell_type": "markdown",
      "source": [
        "## Different metrics to use:-\n",
        "\n",
        "* https://www.jeremyjordan.me/evaluating-image-segmentation-models/\n",
        "* https://towardsdatascience.com/metrics-to-evaluate-your-semantic-segmentation-model-6bcb99639aa2\n",
        "* https://www.kaggle.com/code/yassinealouini/all-the-segmentation-metrics/notebook"
      ],
      "metadata": {
        "id": "GmFGRzkpRXWM"
      }
    },
    {
      "cell_type": "markdown",
      "source": [
        "## Some more references for future:-\n",
        "\n",
        "* https://journals.plos.org/plosone/article?id=10.1371/journal.pone.0255397\n",
        "* https://neptune.ai/blog/image-segmentation\n",
        "* https://www.v7labs.com/blog/panoptic-segmentation-guide\n",
        "* https://www.v7labs.com/blog/image-annotation-guide\n",
        "* And always: https://spartificial.com/resources\n"
      ],
      "metadata": {
        "id": "AIBvOiItRXWM"
      }
    },
    {
      "cell_type": "markdown",
      "source": [
        "# <center> And by the way have you seen convolved foxes before? :)"
      ],
      "metadata": {
        "id": "JWN3T3OtRXWM"
      }
    },
    {
      "cell_type": "markdown",
      "source": [
        "![](https://raw.githubusercontent.com/vecxoz/kag18_inclusive_images/master/explore/6edc75f64a451387.jpg)"
      ],
      "metadata": {
        "id": "EIPwwS_ZRXWM"
      }
    },
    {
      "cell_type": "code",
      "source": [],
      "metadata": {
        "id": "3ajAnaiZkO5m"
      },
      "execution_count": null,
      "outputs": []
    },
    {
      "cell_type": "code",
      "source": [],
      "metadata": {
        "id": "q26M3dwpkO5n"
      },
      "execution_count": null,
      "outputs": []
    },
    {
      "cell_type": "markdown",
      "source": [
        "# Time to practice few questions!"
      ],
      "metadata": {
        "id": "EMfgcSZyysnT"
      }
    },
    {
      "cell_type": "markdown",
      "source": [
        "Q-1 Explain how difference in gaussian affects the performance of the model?"
      ],
      "metadata": {
        "id": "oJMKJZ6dy4QY"
      }
    },
    {
      "cell_type": "code",
      "source": [],
      "metadata": {
        "id": "5rV0Nas-zSXr"
      },
      "execution_count": null,
      "outputs": []
    },
    {
      "cell_type": "markdown",
      "source": [
        "Q-2 What do you understand by the term Albumentations?"
      ],
      "metadata": {
        "id": "8GRyG626zS4U"
      }
    },
    {
      "cell_type": "code",
      "source": [],
      "metadata": {
        "id": "gebDpAIO0McB"
      },
      "execution_count": null,
      "outputs": []
    },
    {
      "cell_type": "markdown",
      "source": [
        "Q-3 What is Semi Supervised Learning?"
      ],
      "metadata": {
        "id": "AcKvzOGi0Q_t"
      }
    },
    {
      "cell_type": "code",
      "source": [],
      "metadata": {
        "id": "4EWxlmrs0U4f"
      },
      "execution_count": null,
      "outputs": []
    },
    {
      "cell_type": "markdown",
      "source": [
        "# Thank you for completing the notebook!"
      ],
      "metadata": {
        "id": "lZXHZ0_g0Vqm"
      }
    }
  ]
}