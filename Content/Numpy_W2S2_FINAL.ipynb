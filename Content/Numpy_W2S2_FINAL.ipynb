{
  "nbformat": 4,
  "nbformat_minor": 0,
  "metadata": {
    "colab": {
      "provenance": [],
      "collapsed_sections": []
    },
    "kernelspec": {
      "name": "python3",
      "display_name": "Python 3"
    },
    "language_info": {
      "name": "python"
    }
  },
  "cells": [
    {
      "cell_type": "markdown",
      "source": [
        "### **NumPy**\n",
        "\n",
        "1. NumPy is a Python library for scientific computing in Python. \n",
        "2. It contains a collection of tools and techniques that can be used to solve on a computer mathematical models of problems in Science and Engineering. \n",
        "3. One of these tools is a high-performance multidimensional array object that is a powerful data structure for efficient computation of arrays and matrices. \n",
        "4. To work with these arrays, there’s a vast amount of high-level mathematical functions operate on these matrices and arrays."
      ],
      "metadata": {
        "id": "SLmHlp-_IRz2"
      }
    },
    {
      "cell_type": "code",
      "source": [
        "import numpy as np \n",
        "np.__version__"
      ],
      "metadata": {
        "colab": {
          "base_uri": "https://localhost:8080/",
          "height": 35
        },
        "id": "uH9ihjhDIqZ0",
        "outputId": "32754b45-e666-41bc-a2db-547e4e78930b"
      },
      "execution_count": null,
      "outputs": [
        {
          "output_type": "execute_result",
          "data": {
            "text/plain": [
              "'1.21.6'"
            ],
            "application/vnd.google.colaboratory.intrinsic+json": {
              "type": "string"
            }
          },
          "metadata": {},
          "execution_count": 1
        }
      ]
    },
    {
      "cell_type": "code",
      "source": [
        "# Make the array `my_array`\n",
        "my_array = np.array([[1,2,3,4], [5,6,7,8]], dtype=np.int64)\n",
        "\n",
        "# Print `my_array`\n",
        "print(my_array)"
      ],
      "metadata": {
        "colab": {
          "base_uri": "https://localhost:8080/"
        },
        "id": "CzGjbeGgq_Eg",
        "outputId": "7d678fde-b7c9-4548-8542-45f06023fdc8"
      },
      "execution_count": null,
      "outputs": [
        {
          "output_type": "stream",
          "name": "stdout",
          "text": [
            "[[1 2 3 4]\n",
            " [5 6 7 8]]\n"
          ]
        }
      ]
    },
    {
      "cell_type": "code",
      "source": [
        "# Create an array of ones\n",
        "a = np.ones((3,4))\n",
        "\n",
        "# Create an array of zeros\n",
        "b = np.zeros((2,3,4))\n",
        "\n",
        "# Create an array with random values\n",
        "c = np.random.random((2,2))\n",
        "\n",
        "# Create an empty array\n",
        "d = np.empty((3,2))\n",
        "\n",
        "# Create a full array\n",
        "e = np.full((2,2),7)\n",
        "\n",
        "# Create an array of evenly-spaced values\n",
        "f = np.arange(10,25,3)\n",
        "\n",
        "# Create an array of evenly-spaced values\n",
        "g = np.linspace(0,2,9)"
      ],
      "metadata": {
        "id": "s8IAiCszJfN3"
      },
      "execution_count": null,
      "outputs": []
    },
    {
      "cell_type": "code",
      "source": [
        "print(a)\n",
        "print(b)\n",
        "print(c)\n",
        "print(d)\n",
        "print(e)\n",
        "print(f)\n",
        "print(g)"
      ],
      "metadata": {
        "colab": {
          "base_uri": "https://localhost:8080/"
        },
        "id": "6NVVBRnxJpnN",
        "outputId": "6c4f05f0-2409-47b3-a8b0-0eb8efbd7009"
      },
      "execution_count": null,
      "outputs": [
        {
          "output_type": "stream",
          "name": "stdout",
          "text": [
            "[[1. 1. 1. 1.]\n",
            " [1. 1. 1. 1.]\n",
            " [1. 1. 1. 1.]]\n",
            "[[[0. 0. 0. 0.]\n",
            "  [0. 0. 0. 0.]\n",
            "  [0. 0. 0. 0.]]\n",
            "\n",
            " [[0. 0. 0. 0.]\n",
            "  [0. 0. 0. 0.]\n",
            "  [0. 0. 0. 0.]]]\n",
            "[[0.45514185 0.64532065]\n",
            " [0.73799193 0.44648558]]\n",
            "[[2.5572806e-316 0.0000000e+000]\n",
            " [0.0000000e+000 0.0000000e+000]\n",
            " [0.0000000e+000 0.0000000e+000]]\n",
            "[[7 7]\n",
            " [7 7]]\n",
            "[10 13 16 19 22]\n",
            "[0.   0.25 0.5  0.75 1.   1.25 1.5  1.75 2.  ]\n"
          ]
        }
      ]
    },
    {
      "cell_type": "code",
      "source": [
        "# Print the number of `my_array`'s dimensions\n",
        "print(a.ndim)\n",
        "\n",
        "# Print the number of `my_array`'s elements\n",
        "print(a.size)\n",
        "\n",
        "# Print information about `my_array`'s memory layout\n",
        "#print(a.flags)\n",
        "\n",
        "# Print the length of one array element in bytes\n",
        "print(a.itemsize)\n",
        "\n",
        "# Print the total consumed bytes by `my_array`'s elements\n",
        "print(a.nbytes)"
      ],
      "metadata": {
        "colab": {
          "base_uri": "https://localhost:8080/"
        },
        "id": "SJlRlHieKkA9",
        "outputId": "6f2cf1e2-cf7b-4e27-8ae6-fd53b948a60d"
      },
      "execution_count": null,
      "outputs": [
        {
          "output_type": "stream",
          "name": "stdout",
          "text": [
            "2\n",
            "12\n",
            "8\n",
            "96\n"
          ]
        }
      ]
    },
    {
      "cell_type": "code",
      "source": [
        "# Print the length of `my_array`\n",
        "print(len(a))\n",
        "\n",
        "print(a)\n",
        "\n",
        "# Change the data type of `my_array`\n",
        "a.astype(float)"
      ],
      "metadata": {
        "id": "9WCsqBqHK7X1",
        "outputId": "c3fd26a0-1569-4c8a-edeb-06f4b88d078a",
        "colab": {
          "base_uri": "https://localhost:8080/"
        }
      },
      "execution_count": null,
      "outputs": [
        {
          "output_type": "stream",
          "name": "stdout",
          "text": [
            "3\n",
            "[[1. 1. 1. 1.]\n",
            " [1. 1. 1. 1.]\n",
            " [1. 1. 1. 1.]]\n"
          ]
        },
        {
          "output_type": "execute_result",
          "data": {
            "text/plain": [
              "array([[1., 1., 1., 1.],\n",
              "       [1., 1., 1., 1.],\n",
              "       [1., 1., 1., 1.]])"
            ]
          },
          "metadata": {},
          "execution_count": 20
        }
      ]
    },
    {
      "cell_type": "code",
      "source": [
        "# Initialize `x`\n",
        "x = np.ones((3,4))\n",
        "\n",
        "# Check shape of `x`\n",
        "print(x.shape)\n",
        "\n",
        "# Initialize `y`\n",
        "y = np.random.random((3,4))\n",
        "print(y)\n",
        "\n",
        "# Check shape of `y`\n",
        "print(y.shape)\n",
        "\n",
        "# Add `x` and `y`\n",
        "x + y"
      ],
      "metadata": {
        "colab": {
          "base_uri": "https://localhost:8080/"
        },
        "id": "bZQtlHhPfNYR",
        "outputId": "e4eee0af-1730-45d7-b711-b42bf4ef8ab4"
      },
      "execution_count": null,
      "outputs": [
        {
          "output_type": "stream",
          "name": "stdout",
          "text": [
            "(3, 4)\n",
            "[[0.49600737 0.55682332 0.64488    0.07123746]\n",
            " [0.47923484 0.1690564  0.82659783 0.50917673]\n",
            " [0.25502385 0.66485885 0.54735054 0.15407815]]\n",
            "(3, 4)\n"
          ]
        },
        {
          "output_type": "execute_result",
          "data": {
            "text/plain": [
              "array([[1.49600737, 1.55682332, 1.64488   , 1.07123746],\n",
              "       [1.47923484, 1.1690564 , 1.82659783, 1.50917673],\n",
              "       [1.25502385, 1.66485885, 1.54735054, 1.15407815]])"
            ]
          },
          "metadata": {},
          "execution_count": 22
        }
      ]
    },
    {
      "cell_type": "code",
      "source": [
        "# Broadcasting works if one dimension of one of the numpy arrays is 1\n",
        "\n",
        "# Initialize `x`\n",
        "x = np.ones((3,4))\n",
        "\n",
        "# Check shape of `x`\n",
        "print(x.shape)\n",
        "\n",
        "# Initialize `y`\n",
        "y = np.arange(4)\n",
        "\n",
        "# Check shape of `y`\n",
        "print(y.shape)\n",
        "\n",
        "# Subtract `x` and `y`\n",
        "x - y "
      ],
      "metadata": {
        "colab": {
          "base_uri": "https://localhost:8080/"
        },
        "id": "oKpWEMFnfdyA",
        "outputId": "b8989666-4ad2-41b8-8c35-13bdacb467e3"
      },
      "execution_count": null,
      "outputs": [
        {
          "output_type": "stream",
          "name": "stdout",
          "text": [
            "(3, 4)\n",
            "(4,)\n"
          ]
        },
        {
          "output_type": "execute_result",
          "data": {
            "text/plain": [
              "array([[ 1.,  0., -1., -2.],\n",
              "       [ 1.,  0., -1., -2.],\n",
              "       [ 1.,  0., -1., -2.]])"
            ]
          },
          "metadata": {},
          "execution_count": 23
        }
      ]
    },
    {
      "cell_type": "code",
      "source": [
        "# The shape of the resulting array will again be the maximum size along each dimension of x and y\n",
        "\n",
        "# Initialize `x` and `y`\n",
        "x = np.ones((3, 4))\n",
        "#print(x)\n",
        "\n",
        "# y = np.random.random((5, 1, 4))\n",
        "y = np.random.randint(1, 100, size=(5,1,4))\n",
        "print(y)\n",
        "\n",
        "# Add `x` and `y`\n",
        "z = x + y\n",
        "print(z.shape)\n",
        "z"
      ],
      "metadata": {
        "colab": {
          "base_uri": "https://localhost:8080/"
        },
        "id": "tU3FgWozgGZA",
        "outputId": "1c1139de-dd8a-45df-b10c-49e04563923f"
      },
      "execution_count": null,
      "outputs": [
        {
          "output_type": "stream",
          "name": "stdout",
          "text": [
            "[[[53 11 21 70]]\n",
            "\n",
            " [[57 64 52 97]]\n",
            "\n",
            " [[16 24 55 41]]\n",
            "\n",
            " [[ 6 84 43 78]]\n",
            "\n",
            " [[69 42 37 58]]]\n",
            "(5, 3, 4)\n"
          ]
        },
        {
          "output_type": "execute_result",
          "data": {
            "text/plain": [
              "array([[[54., 12., 22., 71.],\n",
              "        [54., 12., 22., 71.],\n",
              "        [54., 12., 22., 71.]],\n",
              "\n",
              "       [[58., 65., 53., 98.],\n",
              "        [58., 65., 53., 98.],\n",
              "        [58., 65., 53., 98.]],\n",
              "\n",
              "       [[17., 25., 56., 42.],\n",
              "        [17., 25., 56., 42.],\n",
              "        [17., 25., 56., 42.]],\n",
              "\n",
              "       [[ 7., 85., 44., 79.],\n",
              "        [ 7., 85., 44., 79.],\n",
              "        [ 7., 85., 44., 79.]],\n",
              "\n",
              "       [[70., 43., 38., 59.],\n",
              "        [70., 43., 38., 59.],\n",
              "        [70., 43., 38., 59.]]])"
            ]
          },
          "metadata": {},
          "execution_count": 76
        }
      ]
    },
    {
      "cell_type": "code",
      "source": [
        "# Add `x` and `y`\n",
        "sum = np.add(x,y)\n",
        "print(sum)\n",
        "\n",
        "# Subtract `x` and `y`\n",
        "diff = np.subtract(x,y)\n",
        "print(diff)\n",
        "\n",
        "# Multiply `x` and `y`\n",
        "prod = np.multiply(x,y)\n",
        "print(prod)\n",
        "\n",
        "# Divide `x` and `y`\n",
        "quo = np.divide(x,y)\n",
        "print(quo)\n",
        "\n",
        "# Calculate the remainder of `x` and `y`\n",
        "rem = np.remainder(x,y)\n",
        "print(rem)"
      ],
      "metadata": {
        "id": "yHfBH-MUluNI"
      },
      "execution_count": null,
      "outputs": []
    },
    {
      "cell_type": "code",
      "source": [
        "print(x)\n",
        "print(x.min())\n",
        "print(x.sum())\n",
        "print(x.max(axis=0))\n",
        "print(x.cumsum(axis=1))\n",
        "print(x.mean())\n",
        "print(np.std(a))"
      ],
      "metadata": {
        "colab": {
          "base_uri": "https://localhost:8080/"
        },
        "id": "-8p3F_r9nFBY",
        "outputId": "5cd82874-baff-4e29-92a9-c20e2bf52855"
      },
      "execution_count": null,
      "outputs": [
        {
          "output_type": "stream",
          "name": "stdout",
          "text": [
            "[[1. 1. 1. 1.]\n",
            " [1. 1. 1. 1.]\n",
            " [1. 1. 1. 1.]]\n",
            "1.0\n",
            "12.0\n",
            "[1. 1. 1. 1.]\n",
            "[[1. 2. 3. 4.]\n",
            " [1. 2. 3. 4.]\n",
            " [1. 2. 3. 4.]]\n",
            "1.0\n",
            "0.0\n"
          ]
        }
      ]
    },
    {
      "cell_type": "code",
      "source": [
        "# `a` AND `b` \n",
        "np.logical_and(a, b)\n",
        "\n",
        "# `a` OR `b` \n",
        "np.logical_or(a, b)\n",
        "\n",
        "# `a` NOT `b` \n",
        "np.logical_not(a,b)"
      ],
      "metadata": {
        "colab": {
          "base_uri": "https://localhost:8080/"
        },
        "id": "4nSU831LouaI",
        "outputId": "5cde30b0-32dd-4137-9b68-dfb58e85beba"
      },
      "execution_count": null,
      "outputs": [
        {
          "output_type": "execute_result",
          "data": {
            "text/plain": [
              "array([[[0., 0., 0., 0.],\n",
              "        [0., 0., 0., 0.],\n",
              "        [0., 0., 0., 0.]],\n",
              "\n",
              "       [[0., 0., 0., 0.],\n",
              "        [0., 0., 0., 0.],\n",
              "        [0., 0., 0., 0.]]])"
            ]
          },
          "metadata": {},
          "execution_count": 70
        }
      ]
    },
    {
      "cell_type": "markdown",
      "source": [
        "## Subset, slice, index arrays"
      ],
      "metadata": {
        "id": "rT9nUzEno8N4"
      }
    },
    {
      "cell_type": "code",
      "source": [
        "# Make the array `my_array`\n",
        "my_2d_array = np.array([[1,2,3,4], [5,6,7,8]], dtype=np.int64)\n",
        "\n",
        "# Print `my_array`\n",
        "print(my_2d_array)\n",
        "print(my_2d_array.ndim)"
      ],
      "metadata": {
        "colab": {
          "base_uri": "https://localhost:8080/"
        },
        "id": "gv1Hifc_tVmm",
        "outputId": "9f008a84-41d4-4508-d619-11875bcf91b1"
      },
      "execution_count": null,
      "outputs": [
        {
          "output_type": "stream",
          "name": "stdout",
          "text": [
            "[[1 2 3 4]\n",
            " [5 6 7 8]]\n",
            "2\n"
          ]
        }
      ]
    },
    {
      "cell_type": "code",
      "source": [
        "my_3d_array = np.random.randint(1, 100, size=(5,2,4))\n",
        "print(my_3d_array.ndim)\n",
        "print(my_3d_array)"
      ],
      "metadata": {
        "colab": {
          "base_uri": "https://localhost:8080/"
        },
        "id": "bOsNxf4OtyAY",
        "outputId": "3b2a8340-8d83-406b-8703-1aef0e995abe"
      },
      "execution_count": null,
      "outputs": [
        {
          "output_type": "stream",
          "name": "stdout",
          "text": [
            "3\n",
            "[[[91 79 25 50]\n",
            "  [59 27  5 70]]\n",
            "\n",
            " [[33 52 56  7]\n",
            "  [79 41 61 86]]\n",
            "\n",
            " [[56 25 57  9]\n",
            "  [83 40 42 29]]\n",
            "\n",
            " [[46 71 41  4]\n",
            "  [83  2  4 46]]\n",
            "\n",
            " [[11 27 65  8]\n",
            "  [16 38 70 36]]]\n"
          ]
        }
      ]
    },
    {
      "cell_type": "code",
      "source": [
        "# Select the element at row 1 column 2\n",
        "print(my_2d_array[1][2])\n",
        "\n",
        "# Select the element at row 1 column 2\n",
        "print(my_2d_array[1,2])\n",
        "\n",
        "# Select the element at row 1, column 2 and \n",
        "print(my_3d_array[1,1,2])"
      ],
      "metadata": {
        "colab": {
          "base_uri": "https://localhost:8080/"
        },
        "id": "rEaVo3TstlkY",
        "outputId": "b31ede79-1b85-474e-ec4e-627594593def"
      },
      "execution_count": null,
      "outputs": [
        {
          "output_type": "stream",
          "name": "stdout",
          "text": [
            "7\n",
            "7\n",
            "61\n"
          ]
        }
      ]
    },
    {
      "cell_type": "code",
      "source": [
        "# Select items at index 0 and 1\n",
        "print(my_2d_array[0:2])\n",
        "\n",
        "# Select items at row 0 and 1, column 1\n",
        "print(my_2d_array[0:2,1])\n",
        "\n",
        "# Select items at row 1\n",
        "# This is the same as saying `my_3d_array[1,:,:]\n",
        "print(my_3d_array[1,...])"
      ],
      "metadata": {
        "colab": {
          "base_uri": "https://localhost:8080/"
        },
        "id": "woNtY-X0u0Gw",
        "outputId": "33866ed2-3038-4b18-bf68-af37ddeb6562"
      },
      "execution_count": null,
      "outputs": [
        {
          "output_type": "stream",
          "name": "stdout",
          "text": [
            "[[1 2 3 4]\n",
            " [5 6 7 8]]\n",
            "[2 6]\n",
            "[[33 52 56  7]\n",
            " [79 41 61 86]]\n"
          ]
        }
      ]
    },
    {
      "cell_type": "code",
      "source": [
        "# Try out a simple example\n",
        "print(my_2d_array[my_2d_array<2])\n",
        "\n",
        "# Specify a condition\n",
        "bigger_than_3 = (my_3d_array >= 3)\n",
        "\n",
        "# Use the condition to index our 3d array\n",
        "print(my_3d_array[bigger_than_3])"
      ],
      "metadata": {
        "colab": {
          "base_uri": "https://localhost:8080/"
        },
        "id": "vNpksaG4u7YK",
        "outputId": "73e2d3ac-7c35-4712-ee0c-f7fe594aa4ed"
      },
      "execution_count": null,
      "outputs": [
        {
          "output_type": "stream",
          "name": "stdout",
          "text": [
            "[1]\n",
            "[91 79 25 50 59 27  5 70 33 52 56  7 79 41 61 86 56 25 57  9 83 40 42 29\n",
            " 46 71 41  4 83  4 46 11 27 65  8 16 38 70 36]\n"
          ]
        }
      ]
    },
    {
      "cell_type": "code",
      "source": [
        "print(y)\n",
        "print(np.sort(y, axis = 0))\n",
        "print(y.transpose())\n",
        "print(y.T)"
      ],
      "metadata": {
        "colab": {
          "base_uri": "https://localhost:8080/"
        },
        "id": "vZT-wDzTvZOY",
        "outputId": "8ec546fd-32c2-4701-83a0-9a64f28abf24"
      },
      "execution_count": null,
      "outputs": [
        {
          "output_type": "stream",
          "name": "stdout",
          "text": [
            "[[[53 11 21 70]]\n",
            "\n",
            " [[57 64 52 97]]\n",
            "\n",
            " [[16 24 55 41]]\n",
            "\n",
            " [[ 6 84 43 78]]\n",
            "\n",
            " [[69 42 37 58]]]\n",
            "[[[ 6 11 21 41]]\n",
            "\n",
            " [[16 24 37 58]]\n",
            "\n",
            " [[53 42 43 70]]\n",
            "\n",
            " [[57 64 52 78]]\n",
            "\n",
            " [[69 84 55 97]]]\n",
            "[[[53 57 16  6 69]]\n",
            "\n",
            " [[11 64 24 84 42]]\n",
            "\n",
            " [[21 52 55 43 37]]\n",
            "\n",
            " [[70 97 41 78 58]]]\n",
            "[[[53 57 16  6 69]]\n",
            "\n",
            " [[11 64 24 84 42]]\n",
            "\n",
            " [[21 52 55 43 37]]\n",
            "\n",
            " [[70 97 41 78 58]]]\n"
          ]
        }
      ]
    },
    {
      "cell_type": "code",
      "source": [
        "first = np.array([1, 2, 3])\n",
        "second = np.array([4, 5, 6])\n",
        "\n",
        "import numpy.ma as ma\n",
        "\n",
        "con = ma.concatenate([first, second])\n",
        "print(con.data)\n",
        "\n",
        "print(ma.concatenate([first, second]))"
      ],
      "metadata": {
        "colab": {
          "base_uri": "https://localhost:8080/"
        },
        "id": "kHmSA9aLv82g",
        "outputId": "03baf11a-4c21-4135-bbf7-ebb8394c9e1a"
      },
      "execution_count": null,
      "outputs": [
        {
          "output_type": "stream",
          "name": "stdout",
          "text": [
            "[1 2 3 4 5 6]\n",
            "[1 2 3 4 5 6]\n"
          ]
        }
      ]
    },
    {
      "cell_type": "code",
      "source": [
        "square = np.array([\n",
        "    [16, 3, 2, 13],\n",
        "    [5, 10, 11, 8],\n",
        "    [9, 6, 7, 12],\n",
        "    [4, 15, 14, 1]\n",
        "])\n",
        "\n",
        "for i in range(4):\n",
        "    assert square[:, i].sum() == 34\n",
        "    assert square[i, :].sum() == 34\n",
        "\n",
        "\n",
        "assert square[:2, :2].sum() == 34\n",
        "\n",
        "assert square[2:, :2].sum() == 34\n",
        "\n",
        "assert square[:2, 2:].sum() == 34\n",
        "\n",
        "assert square[2:, 2:].sum() == 34"
      ],
      "metadata": {
        "id": "vfmj4hpfw-R5"
      },
      "execution_count": null,
      "outputs": []
    },
    {
      "cell_type": "code",
      "source": [
        "square[2:, :2]"
      ],
      "metadata": {
        "colab": {
          "base_uri": "https://localhost:8080/"
        },
        "id": "WJ55rVbBxTjf",
        "outputId": "9d6af44e-7fe4-412f-b88c-30034074e165"
      },
      "execution_count": null,
      "outputs": [
        {
          "output_type": "execute_result",
          "data": {
            "text/plain": [
              "array([[ 9,  6],\n",
              "       [ 4, 15]])"
            ]
          },
          "metadata": {},
          "execution_count": 114
        }
      ]
    },
    {
      "cell_type": "code",
      "source": [
        "numbers = np.linspace(5, 50, 24, dtype=int).reshape(4, -1)\n",
        "\n",
        "numbers"
      ],
      "metadata": {
        "colab": {
          "base_uri": "https://localhost:8080/"
        },
        "id": "ZBfmcZnafYMk",
        "outputId": "68676b12-b207-4017-8dcb-839c1422021d"
      },
      "execution_count": null,
      "outputs": [
        {
          "output_type": "execute_result",
          "data": {
            "text/plain": [
              "array([[ 5,  6,  8, 10, 12, 14],\n",
              "       [16, 18, 20, 22, 24, 26],\n",
              "       [28, 30, 32, 34, 36, 38],\n",
              "       [40, 42, 44, 46, 48, 50]])"
            ]
          },
          "metadata": {},
          "execution_count": 3
        }
      ]
    },
    {
      "cell_type": "code",
      "source": [
        "mask = numbers % 4 == 0\n",
        "mask"
      ],
      "metadata": {
        "colab": {
          "base_uri": "https://localhost:8080/"
        },
        "id": "CudUfBLnfhGM",
        "outputId": "2bb5ea4e-4d5e-4850-cbdd-a9d441d8b6fe"
      },
      "execution_count": null,
      "outputs": [
        {
          "output_type": "execute_result",
          "data": {
            "text/plain": [
              "array([[False, False,  True, False,  True, False],\n",
              "       [ True, False,  True, False,  True, False],\n",
              "       [ True, False,  True, False,  True, False],\n",
              "       [ True, False,  True, False,  True, False]])"
            ]
          },
          "metadata": {},
          "execution_count": 4
        }
      ]
    },
    {
      "cell_type": "code",
      "source": [
        "numbers[mask]"
      ],
      "metadata": {
        "colab": {
          "base_uri": "https://localhost:8080/"
        },
        "id": "vrS4uj_-fk3M",
        "outputId": "9985189b-67ee-4b5d-f2f6-02e40ac08a38"
      },
      "execution_count": null,
      "outputs": [
        {
          "output_type": "execute_result",
          "data": {
            "text/plain": [
              "array([ 8, 12, 16, 20, 24, 28, 32, 36, 40, 44, 48])"
            ]
          },
          "metadata": {},
          "execution_count": 5
        }
      ]
    },
    {
      "cell_type": "code",
      "source": [
        "by_four = numbers[numbers % 4 == 0]"
      ],
      "metadata": {
        "id": "XYEP1CDrfpVm"
      },
      "execution_count": null,
      "outputs": []
    },
    {
      "cell_type": "code",
      "source": [
        "from numpy.random import default_rng\n",
        "\n",
        "rng = default_rng()"
      ],
      "metadata": {
        "id": "RD2dBSvFgHOE"
      },
      "execution_count": null,
      "outputs": []
    },
    {
      "cell_type": "code",
      "source": [
        "values = rng.standard_normal(10000)"
      ],
      "metadata": {
        "id": "d3G0KlyxgMED"
      },
      "execution_count": null,
      "outputs": []
    },
    {
      "cell_type": "code",
      "source": [
        "values[:5]"
      ],
      "metadata": {
        "colab": {
          "base_uri": "https://localhost:8080/"
        },
        "id": "aRsSFL0YgRDc",
        "outputId": "d829ae7e-26a5-4975-ee5d-773fb9f0369c"
      },
      "execution_count": null,
      "outputs": [
        {
          "output_type": "execute_result",
          "data": {
            "text/plain": [
              "array([ 2.81507517, -0.1313348 , -0.45806688,  0.32963905,  0.62134456])"
            ]
          },
          "metadata": {},
          "execution_count": 8
        }
      ]
    },
    {
      "cell_type": "code",
      "source": [
        "std = values.std()\n",
        "std"
      ],
      "metadata": {
        "colab": {
          "base_uri": "https://localhost:8080/"
        },
        "id": "5UBDHVebgUYz",
        "outputId": "43bd1928-cdc2-4838-b0c7-1657a05413fe"
      },
      "execution_count": null,
      "outputs": [
        {
          "output_type": "execute_result",
          "data": {
            "text/plain": [
              "1.0016759064484266"
            ]
          },
          "metadata": {},
          "execution_count": 9
        }
      ]
    },
    {
      "cell_type": "code",
      "source": [
        "filtered = values[(values > -2 * std) & (values < 2 * std)]"
      ],
      "metadata": {
        "id": "Vb7Sb7lPgajG"
      },
      "execution_count": null,
      "outputs": []
    },
    {
      "cell_type": "code",
      "source": [
        "filtered.size / values.size"
      ],
      "metadata": {
        "colab": {
          "base_uri": "https://localhost:8080/"
        },
        "id": "RrXZ7O2mgdBL",
        "outputId": "ff7dc7e2-e468-4477-ef34-f2ffa149ddc0"
      },
      "execution_count": null,
      "outputs": [
        {
          "output_type": "execute_result",
          "data": {
            "text/plain": [
              "0.954"
            ]
          },
          "metadata": {},
          "execution_count": 12
        }
      ]
    },
    {
      "cell_type": "code",
      "source": [
        "arr = np.array([1, 2, 3, 4, 5, 6])\n",
        "\n",
        "newarr = np.array_split(arr, 3)\n",
        "\n",
        "print(newarr)"
      ],
      "metadata": {
        "colab": {
          "base_uri": "https://localhost:8080/"
        },
        "id": "Dw3lQ3lEhHA0",
        "outputId": "6e7ff556-405c-46fd-ef28-2349cd013859"
      },
      "execution_count": null,
      "outputs": [
        {
          "output_type": "stream",
          "name": "stdout",
          "text": [
            "[array([1, 2]), array([3, 4]), array([5, 6])]\n"
          ]
        }
      ]
    },
    {
      "cell_type": "code",
      "source": [
        "arr = np.array([[1, 2], [3, 4], [5, 6], [7, 8], [9, 10], [11, 12]])\n",
        "\n",
        "newarr = np.array_split(arr, 3)\n",
        "\n",
        "print(newarr[0])\n",
        "print(newarr[1])\n",
        "print(newarr[2])\n"
      ],
      "metadata": {
        "colab": {
          "base_uri": "https://localhost:8080/"
        },
        "id": "P9jyiuOihRMd",
        "outputId": "b12b788c-892d-405d-d360-4d9478b24d72"
      },
      "execution_count": null,
      "outputs": [
        {
          "output_type": "stream",
          "name": "stdout",
          "text": [
            "[[1 2]\n",
            " [3 4]]\n",
            "[[5 6]\n",
            " [7 8]]\n",
            "[[ 9 10]\n",
            " [11 12]]\n"
          ]
        }
      ]
    },
    {
      "cell_type": "code",
      "source": [
        "# split along rows\n",
        "\n",
        "arr = np.array([[1, 2, 3], [4, 5, 6], [7, 8, 9], [10, 11, 12], [13, 14, 15], [16, 17, 18]])\n",
        "\n",
        "newarr = np.array_split(arr, 3, axis=1)\n",
        "# newarr = np.array_split(arr, 3)\n",
        "\n",
        "print(arr)\n",
        "print(newarr[0])\n",
        "print(newarr[1])\n",
        "print(newarr[2])\n"
      ],
      "metadata": {
        "id": "-Ypj9VunhaUU"
      },
      "execution_count": null,
      "outputs": []
    },
    {
      "cell_type": "code",
      "source": [
        "arr = np.array([[1, 2, 3], [4, 5, 6], [7, 8, 9], [10, 11, 12], [13, 14, 15], [16, 17, 18]])\n",
        "\n",
        "newarr = np.hsplit(arr, 3)\n",
        "\n",
        "print(newarr[0])\n",
        "print(newarr[1])\n",
        "print(newarr[2])\n"
      ],
      "metadata": {
        "id": "lNeHAtcthsb0"
      },
      "execution_count": null,
      "outputs": []
    },
    {
      "cell_type": "code",
      "source": [
        "## JOIN\n",
        "\n",
        "arr1 = np.array([1, 2, 3])\n",
        "\n",
        "arr2 = np.array([4, 5, 6])\n",
        "\n",
        "arr = np.concatenate((arr1, arr2))\n",
        "\n",
        "print(arr)"
      ],
      "metadata": {
        "colab": {
          "base_uri": "https://localhost:8080/"
        },
        "id": "_crQAmNxhznN",
        "outputId": "8f3f1d0d-d3ec-4f8b-a7f7-ad2f3f82fd12"
      },
      "execution_count": null,
      "outputs": [
        {
          "output_type": "stream",
          "name": "stdout",
          "text": [
            "[1 2 3 4 5 6]\n"
          ]
        }
      ]
    },
    {
      "cell_type": "code",
      "source": [
        "arr1 = np.array([[1, 2], [3, 4]])\n",
        "\n",
        "arr2 = np.array([[5, 6], [7, 8]])\n",
        "\n",
        "arr = np.concatenate((arr1, arr2), axis=1)\n",
        "\n",
        "print(arr)"
      ],
      "metadata": {
        "colab": {
          "base_uri": "https://localhost:8080/"
        },
        "id": "s6w4LwR3h4FG",
        "outputId": "b73f6ac3-93d2-4034-de46-4346c35f3a6d"
      },
      "execution_count": null,
      "outputs": [
        {
          "output_type": "stream",
          "name": "stdout",
          "text": [
            "[[1 2 5 6]\n",
            " [3 4 7 8]]\n"
          ]
        }
      ]
    },
    {
      "cell_type": "code",
      "source": [
        "arr1 = np.array([1, 2, 3])\n",
        "\n",
        "arr2 = np.array([4, 5, 6])\n",
        "\n",
        "arr = np.stack((arr1, arr2), axis=1)\n",
        "\n",
        "print(arr)"
      ],
      "metadata": {
        "colab": {
          "base_uri": "https://localhost:8080/"
        },
        "id": "rA-fhiq-h_4D",
        "outputId": "c98dae1c-bffe-4d2e-e584-bebd765bd741"
      },
      "execution_count": null,
      "outputs": [
        {
          "output_type": "stream",
          "name": "stdout",
          "text": [
            "[[1 4]\n",
            " [2 5]\n",
            " [3 6]]\n"
          ]
        }
      ]
    },
    {
      "cell_type": "code",
      "source": [
        "arr1 = np.array([1, 2, 3])\n",
        "\n",
        "arr2 = np.array([4, 5, 6])\n",
        "\n",
        "arr = np.hstack((arr1, arr2))\n",
        "\n",
        "print(arr)"
      ],
      "metadata": {
        "colab": {
          "base_uri": "https://localhost:8080/"
        },
        "id": "FB9nt0BgiFqz",
        "outputId": "9997900d-1348-419e-ee56-c3cfffc9ed30"
      },
      "execution_count": null,
      "outputs": [
        {
          "output_type": "stream",
          "name": "stdout",
          "text": [
            "[1 2 3 4 5 6]\n"
          ]
        }
      ]
    },
    {
      "cell_type": "code",
      "source": [
        "arr1 = np.array([1, 2, 3])\n",
        "\n",
        "arr2 = np.array([4, 5, 6])\n",
        "\n",
        "arr = np.vstack((arr1, arr2))\n",
        "\n",
        "print(arr)"
      ],
      "metadata": {
        "colab": {
          "base_uri": "https://localhost:8080/"
        },
        "id": "-2R1mg83iI6M",
        "outputId": "0250e241-bce5-4e3c-cce1-ac2d36b52a32"
      },
      "execution_count": null,
      "outputs": [
        {
          "output_type": "stream",
          "name": "stdout",
          "text": [
            "[[1 2 3]\n",
            " [4 5 6]]\n"
          ]
        }
      ]
    },
    {
      "cell_type": "code",
      "source": [
        "arr1 = np.array([1, 2, 3])\n",
        "\n",
        "arr2 = np.array([4, 5, 6])\n",
        "\n",
        "arr = np.dstack((arr1, arr2))\n",
        "\n",
        "print(arr)"
      ],
      "metadata": {
        "colab": {
          "base_uri": "https://localhost:8080/"
        },
        "id": "erHvM9U1iMit",
        "outputId": "1b13fddf-a702-408a-d9f3-4cd0053c91fe"
      },
      "execution_count": null,
      "outputs": [
        {
          "output_type": "stream",
          "name": "stdout",
          "text": [
            "[[[1 4]\n",
            "  [2 5]\n",
            "  [3 6]]]\n"
          ]
        }
      ]
    },
    {
      "cell_type": "code",
      "source": [
        "a = np.array([[1,2],[3,4]]) \n",
        "b = np.array([[11,12],[13,14]]) \n",
        "np.dot(a,b)\n",
        "\n",
        "# [[1*11+2*13, 1*12+2*14],[3*11+4*13, 3*12+4*14]]"
      ],
      "metadata": {
        "colab": {
          "base_uri": "https://localhost:8080/"
        },
        "id": "8hjBkuiLibr0",
        "outputId": "624d8f73-509f-44e8-bb39-0901c5288277"
      },
      "execution_count": null,
      "outputs": [
        {
          "output_type": "execute_result",
          "data": {
            "text/plain": [
              "array([[37, 40],\n",
              "       [85, 92]])"
            ]
          },
          "metadata": {},
          "execution_count": 29
        }
      ]
    },
    {
      "cell_type": "code",
      "source": [
        "a = np.array([[1,2],[3,4]]) \n",
        "b = np.array([[11,12],[13,14]]) \n",
        "np.vdot(a,b)\n",
        "\n",
        "# 1*11 + 2*12 + 3*13 + 4*14 = 130"
      ],
      "metadata": {
        "colab": {
          "base_uri": "https://localhost:8080/"
        },
        "id": "GLuRnn4Zinhc",
        "outputId": "d1801b54-662f-46e4-bdf4-5b8a197351ef"
      },
      "execution_count": null,
      "outputs": [
        {
          "output_type": "execute_result",
          "data": {
            "text/plain": [
              "130"
            ]
          },
          "metadata": {},
          "execution_count": 31
        }
      ]
    },
    {
      "cell_type": "markdown",
      "source": [
        "Bit-wise ops"
      ],
      "metadata": {
        "id": "tjIb1F4_jN65"
      }
    },
    {
      "cell_type": "code",
      "source": [
        "a,b = 13,17 \n",
        "print(bin(a))\n",
        "print(bin(b))\n",
        "\n",
        "print(np.bitwise_and(13, 17))"
      ],
      "metadata": {
        "colab": {
          "base_uri": "https://localhost:8080/",
          "height": 235
        },
        "id": "FY_X4nhHi4sl",
        "outputId": "0f1a72ff-eb36-435a-d9f7-3da134842d2d"
      },
      "execution_count": null,
      "outputs": [
        {
          "output_type": "stream",
          "name": "stdout",
          "text": [
            "b1101\n",
            "0b10001\n"
          ]
        },
        {
          "output_type": "error",
          "ename": "NameError",
          "evalue": "ignored",
          "traceback": [
            "\u001b[0;31m---------------------------------------------------------------------------\u001b[0m",
            "\u001b[0;31mNameError\u001b[0m                                 Traceback (most recent call last)",
            "\u001b[0;32m<ipython-input-1-6e9dac74af77>\u001b[0m in \u001b[0;36m<module>\u001b[0;34m()\u001b[0m\n\u001b[1;32m      3\u001b[0m \u001b[0mprint\u001b[0m\u001b[0;34m(\u001b[0m\u001b[0mbin\u001b[0m\u001b[0;34m(\u001b[0m\u001b[0mb\u001b[0m\u001b[0;34m)\u001b[0m\u001b[0;34m)\u001b[0m\u001b[0;34m\u001b[0m\u001b[0;34m\u001b[0m\u001b[0m\n\u001b[1;32m      4\u001b[0m \u001b[0;34m\u001b[0m\u001b[0m\n\u001b[0;32m----> 5\u001b[0;31m \u001b[0mprint\u001b[0m\u001b[0;34m(\u001b[0m\u001b[0mnp\u001b[0m\u001b[0;34m.\u001b[0m\u001b[0mbitwise_and\u001b[0m\u001b[0;34m(\u001b[0m\u001b[0;36m13\u001b[0m\u001b[0;34m,\u001b[0m \u001b[0;36m17\u001b[0m\u001b[0;34m)\u001b[0m\u001b[0;34m)\u001b[0m\u001b[0;34m\u001b[0m\u001b[0;34m\u001b[0m\u001b[0m\n\u001b[0m",
            "\u001b[0;31mNameError\u001b[0m: name 'np' is not defined"
          ]
        }
      ]
    },
    {
      "cell_type": "code",
      "source": [
        "np.bitwise_or(13, 17)"
      ],
      "metadata": {
        "colab": {
          "base_uri": "https://localhost:8080/"
        },
        "id": "9X_zOEKYjNF8",
        "outputId": "d1bb9258-85d5-4764-ada5-263eab916bdc"
      },
      "execution_count": null,
      "outputs": [
        {
          "output_type": "execute_result",
          "data": {
            "text/plain": [
              "29"
            ]
          },
          "metadata": {},
          "execution_count": 34
        }
      ]
    },
    {
      "cell_type": "code",
      "source": [
        "np.invert(np.array([13], dtype = np.uint8)) \n",
        "np.binary_repr(13, width = 8) \n",
        "np.binary_repr(242, width = 8)"
      ],
      "metadata": {
        "colab": {
          "base_uri": "https://localhost:8080/",
          "height": 35
        },
        "id": "gdJlepuUjVFL",
        "outputId": "9b96de5b-236e-4449-b661-ea623e4dd30c"
      },
      "execution_count": null,
      "outputs": [
        {
          "output_type": "execute_result",
          "data": {
            "text/plain": [
              "'11110010'"
            ],
            "application/vnd.google.colaboratory.intrinsic+json": {
              "type": "string"
            }
          },
          "metadata": {},
          "execution_count": 39
        }
      ]
    },
    {
      "cell_type": "code",
      "source": [
        "print('Left shift of 10 by two positions:' )\n",
        "print(np.left_shift(10,2) )\n",
        "\n",
        "\n",
        "print('Binary representation of 10:' )\n",
        "print(np.binary_repr(10, width = 8) )\n",
        " \n",
        "\n",
        "print('Binary representation of 40:' )\n",
        "np.binary_repr(40, width = 8)  "
      ],
      "metadata": {
        "colab": {
          "base_uri": "https://localhost:8080/",
          "height": 122
        },
        "id": "FRSMB_vxjtW7",
        "outputId": "4c717a64-716b-4281-a00d-4e2011aafe06"
      },
      "execution_count": null,
      "outputs": [
        {
          "output_type": "stream",
          "name": "stdout",
          "text": [
            "Left shift of 10 by two positions:\n",
            "40\n",
            "Binary representation of 10:\n",
            "00001010\n",
            "Binary representation of 40:\n"
          ]
        },
        {
          "output_type": "execute_result",
          "data": {
            "text/plain": [
              "'00101000'"
            ],
            "application/vnd.google.colaboratory.intrinsic+json": {
              "type": "string"
            }
          },
          "metadata": {},
          "execution_count": 40
        }
      ]
    },
    {
      "cell_type": "code",
      "source": [
        "print('Left shift of 10 by two positions:' )\n",
        "print(np.right_shift(40,2) )\n",
        "\n",
        "\n",
        "print('Binary representation of 10:' )\n",
        "print(np.binary_repr(40, width = 8) )\n",
        " \n",
        "\n",
        "print('Binary representation of 40:' )\n",
        "np.binary_repr(10, width = 8)  "
      ],
      "metadata": {
        "colab": {
          "base_uri": "https://localhost:8080/",
          "height": 122
        },
        "id": "NGndPPdAj9hV",
        "outputId": "005eba0f-7611-4e80-da49-e175e40dfa62"
      },
      "execution_count": null,
      "outputs": [
        {
          "output_type": "stream",
          "name": "stdout",
          "text": [
            "Left shift of 10 by two positions:\n",
            "10\n",
            "Binary representation of 10:\n",
            "00101000\n",
            "Binary representation of 40:\n"
          ]
        },
        {
          "output_type": "execute_result",
          "data": {
            "text/plain": [
              "'00001010'"
            ],
            "application/vnd.google.colaboratory.intrinsic+json": {
              "type": "string"
            }
          },
          "metadata": {},
          "execution_count": 42
        }
      ]
    },
    {
      "cell_type": "code",
      "source": [
        "print('Concatenate two strings:' )\n",
        "print(np.char.add(['hello'],[' xyz']) )\n",
        "\n",
        "print('Concatenation example:' )\n",
        "print(np.char.add(['hello', 'hi'],[' abc', ' xyz']))"
      ],
      "metadata": {
        "colab": {
          "base_uri": "https://localhost:8080/"
        },
        "id": "YYMKXlWBdKA0",
        "outputId": "94f8779c-51fa-4831-847c-ca29caa62e3b"
      },
      "execution_count": null,
      "outputs": [
        {
          "output_type": "stream",
          "name": "stdout",
          "text": [
            "Concatenate two strings:\n",
            "['hello xyz']\n",
            "Concatenation example:\n",
            "['hello abc' 'hi xyz']\n"
          ]
        }
      ]
    },
    {
      "cell_type": "code",
      "source": [
        "np.char.multiply('Hello ',3)"
      ],
      "metadata": {
        "colab": {
          "base_uri": "https://localhost:8080/"
        },
        "id": "JYDIJxopdXFw",
        "outputId": "557f842e-2360-4cc3-c439-95fecd51d338"
      },
      "execution_count": null,
      "outputs": [
        {
          "output_type": "execute_result",
          "data": {
            "text/plain": [
              "array('Hello Hello Hello ', dtype='<U18')"
            ]
          },
          "metadata": {},
          "execution_count": 3
        }
      ]
    },
    {
      "cell_type": "code",
      "source": [
        "np.char.center('hello', 20, fillchar = '*')"
      ],
      "metadata": {
        "colab": {
          "base_uri": "https://localhost:8080/"
        },
        "id": "Ysa96NK0dbOD",
        "outputId": "3dece074-ba80-4683-f506-d8b695a52ae7"
      },
      "execution_count": null,
      "outputs": [
        {
          "output_type": "execute_result",
          "data": {
            "text/plain": [
              "array('*******hello********', dtype='<U20')"
            ]
          },
          "metadata": {},
          "execution_count": 4
        }
      ]
    },
    {
      "cell_type": "code",
      "source": [
        "np.char.capitalize('hello world')"
      ],
      "metadata": {
        "colab": {
          "base_uri": "https://localhost:8080/"
        },
        "id": "rxwBPmq3dt6M",
        "outputId": "debd998c-d42d-40e0-a52d-0df8bc04a6c2"
      },
      "execution_count": null,
      "outputs": [
        {
          "output_type": "execute_result",
          "data": {
            "text/plain": [
              "array('Hello world', dtype='<U11')"
            ]
          },
          "metadata": {},
          "execution_count": 5
        }
      ]
    },
    {
      "cell_type": "code",
      "source": [
        "np.char.title('hello how are you?')"
      ],
      "metadata": {
        "colab": {
          "base_uri": "https://localhost:8080/"
        },
        "id": "utdcVS3tdxC7",
        "outputId": "413676e4-4698-43b2-a1ec-65528fe852d0"
      },
      "execution_count": null,
      "outputs": [
        {
          "output_type": "execute_result",
          "data": {
            "text/plain": [
              "array('Hello How Are You?', dtype='<U18')"
            ]
          },
          "metadata": {},
          "execution_count": 6
        }
      ]
    },
    {
      "cell_type": "code",
      "source": [
        "np.char.lower(['HELLO','WORLD']) "
      ],
      "metadata": {
        "colab": {
          "base_uri": "https://localhost:8080/"
        },
        "id": "Ufj-qJDFd3cl",
        "outputId": "88ca1e60-b3f5-4d59-a9a9-2990f69417d9"
      },
      "execution_count": null,
      "outputs": [
        {
          "output_type": "execute_result",
          "data": {
            "text/plain": [
              "array(['hello', 'world'], dtype='<U5')"
            ]
          },
          "metadata": {},
          "execution_count": 7
        }
      ]
    },
    {
      "cell_type": "code",
      "source": [
        "np.char.upper('hello') "
      ],
      "metadata": {
        "colab": {
          "base_uri": "https://localhost:8080/"
        },
        "id": "qbB4GXnfd7Kb",
        "outputId": "1e0d15a4-1981-4b70-ac22-89d7612a78aa"
      },
      "execution_count": null,
      "outputs": [
        {
          "output_type": "execute_result",
          "data": {
            "text/plain": [
              "array('HELLO', dtype='<U5')"
            ]
          },
          "metadata": {},
          "execution_count": 8
        }
      ]
    },
    {
      "cell_type": "code",
      "source": [
        "print(np.char.split ('hello how are you?') )\n",
        "print(np.char.split ('TutorialsPoint, Hyderabad, Telangana', sep = ','))"
      ],
      "metadata": {
        "colab": {
          "base_uri": "https://localhost:8080/"
        },
        "id": "LeJtRvkxd_Hj",
        "outputId": "f34888b0-02db-478d-a4c2-138f592125b8"
      },
      "execution_count": null,
      "outputs": [
        {
          "output_type": "stream",
          "name": "stdout",
          "text": [
            "['hello', 'how', 'are', 'you?']\n",
            "['TutorialsPoint', ' Hyderabad', ' Telangana']\n"
          ]
        }
      ]
    },
    {
      "cell_type": "code",
      "source": [
        "print(np.char.splitlines('hello\\nhow are you?') )\n",
        "print(np.char.splitlines('hello\\rhow are you?'))\n",
        "\n",
        "#This function returns a list of elements in the array, breaking at line boundaries."
      ],
      "metadata": {
        "colab": {
          "base_uri": "https://localhost:8080/"
        },
        "id": "iXA_BLMOeHpE",
        "outputId": "b9ac9e3c-f75c-4646-a4f0-03c1c19ac83b"
      },
      "execution_count": null,
      "outputs": [
        {
          "output_type": "stream",
          "name": "stdout",
          "text": [
            "['hello', 'how are you?']\n",
            "['hello', 'how are you?']\n"
          ]
        }
      ]
    },
    {
      "cell_type": "code",
      "source": [
        "print(np.char.strip('ashok arora','a') )\n",
        "print(np.char.strip(['arora','admin','java'],'a'))\n",
        "\n",
        "#This function returns a copy of array with elements stripped of the specified characters leading and/or trailing in it."
      ],
      "metadata": {
        "colab": {
          "base_uri": "https://localhost:8080/"
        },
        "id": "gTOE1XVseOwj",
        "outputId": "163e0bc6-6a5d-4fc8-99b0-66170b6c1b9d"
      },
      "execution_count": null,
      "outputs": [
        {
          "output_type": "stream",
          "name": "stdout",
          "text": [
            "shok aror\n",
            "['ror' 'dmin' 'jav']\n"
          ]
        }
      ]
    },
    {
      "cell_type": "code",
      "source": [
        "print(np.char.join(':','dmy') )\n",
        "print(np.char.join([':','-'],['dmy','ymd']))"
      ],
      "metadata": {
        "colab": {
          "base_uri": "https://localhost:8080/"
        },
        "id": "UbsBIKmGegwb",
        "outputId": "5d8b8e6a-a3a5-4426-d201-1ceba947ca4f"
      },
      "execution_count": null,
      "outputs": [
        {
          "output_type": "stream",
          "name": "stdout",
          "text": [
            "d:m:y\n",
            "['d:m:y' 'y-m-d']\n"
          ]
        }
      ]
    },
    {
      "cell_type": "code",
      "source": [
        "np.char.replace ('He is a good boy', 'is', 'was')"
      ],
      "metadata": {
        "colab": {
          "base_uri": "https://localhost:8080/"
        },
        "id": "Kfuf-Oi0g3u0",
        "outputId": "a300758f-ef3e-49cc-b313-f5703323556a"
      },
      "execution_count": null,
      "outputs": [
        {
          "output_type": "execute_result",
          "data": {
            "text/plain": [
              "array('He was a good boy', dtype='<U17')"
            ]
          },
          "metadata": {},
          "execution_count": 14
        }
      ]
    },
    {
      "cell_type": "markdown",
      "source": [
        "Resources:\n",
        "\n",
        "https://www.geeksforgeeks.org/numpy-tutorial/\n",
        "\n",
        "https://realpython.com/numpy-tutorial/"
      ],
      "metadata": {
        "id": "917ELJRaueTI"
      }
    },
    {
      "cell_type": "markdown",
      "source": [
        "## Time for practice few questions!"
      ],
      "metadata": {
        "id": "5hN9zf63sjfD"
      }
    },
    {
      "cell_type": "markdown",
      "source": [
        "Q1. Faltten the following array.\n",
        "\n",
        "A. [[1,2,3],\n",
        "[4,5,6],\n",
        "[7,8,9]]\n",
        "\n",
        "B.e"
      ],
      "metadata": {
        "id": "q4_B00fass5k"
      }
    },
    {
      "cell_type": "code",
      "source": [],
      "metadata": {
        "id": "EtiijUKqvqlv"
      },
      "execution_count": null,
      "outputs": []
    },
    {
      "cell_type": "markdown",
      "source": [
        "Q2. What will the output of the following code and explain the code with proper comments.\n",
        "\n",
        "```\n",
        "import numpy as np\n",
        "\n",
        "arr = []\n",
        "temp = []\n",
        "\n",
        "for i in range(12):\n",
        "    temp.append(np.random.rand()*10)\n",
        "    if((len(temp)) % 3 == 0):\n",
        "        arr.append(temp)\n",
        "        temp = []\n",
        "        \n",
        "arr =  np.array(arr)\n",
        "print(arr.flatten())\n",
        "print(arr)\n",
        "```\n",
        "\n",
        "\n"
      ],
      "metadata": {
        "id": "wtLz1cHcvrHi"
      }
    },
    {
      "cell_type": "code",
      "source": [
        "# Copy paste your ans in string format in print function below\n",
        "print()\n",
        "\n",
        "print()"
      ],
      "metadata": {
        "id": "oWZP7Jqz8-q-"
      },
      "execution_count": null,
      "outputs": []
    },
    {
      "cell_type": "code",
      "source": [
        "# Do proper commenting\n",
        "import numpy as np\n",
        "\n",
        "arr = []\n",
        "temp = []\n",
        "\n",
        "for i in range(12):\n",
        "    temp.append(np.random.rand()*10)\n",
        "    if((len(temp)) % 3 == 0):\n",
        "        arr.append(temp)\n",
        "        temp = []\n",
        "\n",
        "arr =  np.array(arr)\n",
        "print(arr.flatten())\n",
        "print(arr)"
      ],
      "metadata": {
        "id": "ewx2f0yD9OHy"
      },
      "execution_count": null,
      "outputs": []
    },
    {
      "cell_type": "markdown",
      "source": [
        "Q3. Explain the difference between the following and when they are used? \n",
        "\n",
        "A. np.identity() and np.eye() \n",
        "\n",
        "B. np.zeros() and np.ones()\n",
        "\n",
        "C. np.random.randint() and np.random.rand()"
      ],
      "metadata": {
        "id": "NdSAJnhi98ez"
      }
    },
    {
      "cell_type": "code",
      "source": [
        "# write your answers in below print statement in form of string\n",
        "\n",
        "print()\n",
        "\n",
        "print()\n",
        "\n",
        "print()"
      ],
      "metadata": {
        "id": "WTNHPyLy-lMy"
      },
      "execution_count": null,
      "outputs": []
    },
    {
      "cell_type": "markdown",
      "source": [
        "Q4. What will be the output of the following code?\n",
        "\n",
        "```\n",
        "import numpy as np\n",
        "\n",
        "a = np.array( [[21,15, 19, 18, 17],[16, 20, 14, 13, 12], [11, 10 , 9 , 8 , 7], [6 , 5,  4,  3,  2]])\n",
        "b = a[:,1]\n",
        "b = sorted(b)\n",
        "c = a.copy()\n",
        "k = 0\n",
        "for i in b:\n",
        "    index = np.where(a[:,1] == i)\n",
        "    c[k] = a[index]\n",
        "    k+=1\n",
        "    \n",
        "print(c)\n",
        "```\n",
        "\n"
      ],
      "metadata": {
        "id": "5el2qryJAS-h"
      }
    },
    {
      "cell_type": "code",
      "source": [
        "# print the output in the form of string.\n",
        "print()"
      ],
      "metadata": {
        "id": "WtsF5XmuAZaN"
      },
      "execution_count": null,
      "outputs": []
    }
  ]
}