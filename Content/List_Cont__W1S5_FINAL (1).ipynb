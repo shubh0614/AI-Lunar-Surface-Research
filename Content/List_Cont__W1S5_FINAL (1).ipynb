{
  "nbformat": 4,
  "nbformat_minor": 0,
  "metadata": {
    "colab": {
      "provenance": [],
      "collapsed_sections": []
    },
    "kernelspec": {
      "name": "python3",
      "display_name": "Python 3"
    },
    "language_info": {
      "name": "python"
    }
  },
  "cells": [
    {
      "cell_type": "markdown",
      "source": [
        "# List (Continued)"
      ],
      "metadata": {
        "id": "Z92fYkUpYCQF"
      }
    },
    {
      "cell_type": "markdown",
      "source": [
        "## List unpacking\n",
        "\n",
        "Unpacking assigns elements of the list to multiple variables."
      ],
      "metadata": {
        "id": "Nz5oWbKaZ7ud"
      }
    },
    {
      "cell_type": "code",
      "source": [
        "colors = ['purple', 'cyan', 'black']\n",
        "\n",
        "p, c, b = colors\n",
        "\n",
        "print(p)\n",
        "print(c)\n",
        "print(b)"
      ],
      "metadata": {
        "colab": {
          "base_uri": "https://localhost:8080/"
        },
        "id": "v0V4kX6KaCSb",
        "outputId": "fc43ffa1-4117-4cc0-cc9f-fac4c6c05560"
      },
      "execution_count": null,
      "outputs": [
        {
          "output_type": "stream",
          "name": "stdout",
          "text": [
            "purple\n",
            "cyan\n",
            "black\n"
          ]
        }
      ]
    },
    {
      "cell_type": "code",
      "source": [
        "p1, c1, *other = colors\n",
        "\n",
        "print(p1)\n",
        "print(c1)\n",
        "print(other)"
      ],
      "metadata": {
        "colab": {
          "base_uri": "https://localhost:8080/"
        },
        "id": "qEUtaX8GaaBT",
        "outputId": "5ea268d3-5cb0-4c3b-d1c4-df7833460961"
      },
      "execution_count": null,
      "outputs": [
        {
          "output_type": "stream",
          "name": "stdout",
          "text": [
            "purple\n",
            "cyan\n",
            "['black']\n"
          ]
        }
      ]
    },
    {
      "cell_type": "code",
      "source": [
        "colors.append('blue')\n",
        "\n",
        "p2, c2, *other = colors\n",
        "\n",
        "print(p1)\n",
        "print(c1)\n",
        "print(other)"
      ],
      "metadata": {
        "colab": {
          "base_uri": "https://localhost:8080/"
        },
        "id": "Rzx0Uwq5akms",
        "outputId": "4b252bb1-5e74-40d5-aab9-9a24e198122d"
      },
      "execution_count": null,
      "outputs": [
        {
          "output_type": "stream",
          "name": "stdout",
          "text": [
            "purple\n",
            "cyan\n",
            "['black', 'blue']\n"
          ]
        }
      ]
    },
    {
      "cell_type": "markdown",
      "source": [
        "#### Iterate over lists"
      ],
      "metadata": {
        "id": "e7nweuFxbLId"
      }
    },
    {
      "cell_type": "code",
      "source": [
        "flowers = ['tulip', 'rose', 'sage', 'lily', 'iris', 'daisy', 'orchid', 'jasmine', 'poppy', 'ivy', 'violet', 'holly', 'heather', 'yolanda']\n",
        "\n",
        "for flower in flowers:\n",
        "  print(flower)"
      ],
      "metadata": {
        "colab": {
          "base_uri": "https://localhost:8080/"
        },
        "id": "Z5O2c8WIbOJD",
        "outputId": "b6cad380-caf8-45e9-d228-a47b7f0abf39"
      },
      "execution_count": null,
      "outputs": [
        {
          "output_type": "stream",
          "name": "stdout",
          "text": [
            "tulip\n",
            "rose\n",
            "sage\n",
            "lily\n",
            "iris\n",
            "daisy\n",
            "orchid\n",
            "jasmine\n",
            "poppy\n",
            "ivy\n",
            "violet\n",
            "holly\n",
            "heather\n",
            "yolanda\n"
          ]
        }
      ]
    },
    {
      "cell_type": "code",
      "source": [
        "for item in enumerate(flowers):\n",
        "  print(item)\n",
        "\n",
        "# this returns tuples"
      ],
      "metadata": {
        "colab": {
          "base_uri": "https://localhost:8080/"
        },
        "id": "WVcVYe-Mbeac",
        "outputId": "1db666f3-2732-443a-ce9e-84d6fe5a746d"
      },
      "execution_count": null,
      "outputs": [
        {
          "output_type": "stream",
          "name": "stdout",
          "text": [
            "(0, 'tulip')\n",
            "(1, 'rose')\n",
            "(2, 'sage')\n",
            "(3, 'lily')\n",
            "(4, 'iris')\n",
            "(5, 'daisy')\n",
            "(6, 'orchid')\n",
            "(7, 'jasmine')\n",
            "(8, 'poppy')\n",
            "(9, 'ivy')\n",
            "(10, 'violet')\n",
            "(11, 'holly')\n",
            "(12, 'heather')\n",
            "(13, 'yolanda')\n"
          ]
        }
      ]
    },
    {
      "cell_type": "code",
      "source": [
        "# what is we want the index and the flower separately?\n",
        "\n",
        "for idx, flower in enumerate(flowers):\n",
        "  print(f'{idx}: {flower}')\n"
      ],
      "metadata": {
        "colab": {
          "base_uri": "https://localhost:8080/"
        },
        "id": "DjBijqNqb211",
        "outputId": "8bb6df7b-3360-43f1-8c2f-4ffb2012fe70"
      },
      "execution_count": null,
      "outputs": [
        {
          "output_type": "stream",
          "name": "stdout",
          "text": [
            "0: tulip\n",
            "1: rose\n",
            "2: sage\n",
            "3: lily\n",
            "4: iris\n",
            "5: daisy\n",
            "6: orchid\n",
            "7: jasmine\n",
            "8: poppy\n",
            "9: ivy\n",
            "10: violet\n",
            "11: holly\n",
            "12: heather\n",
            "13: yolanda\n"
          ]
        }
      ]
    },
    {
      "cell_type": "markdown",
      "source": [
        "#### Index of a particular flower! or element.."
      ],
      "metadata": {
        "id": "AlkYqos4cTcD"
      }
    },
    {
      "cell_type": "code",
      "source": [
        "flowers.index('ivy')"
      ],
      "metadata": {
        "colab": {
          "base_uri": "https://localhost:8080/"
        },
        "id": "DSeMh2q5cR5M",
        "outputId": "43a76651-9ad7-42cb-cd5c-2e176ee7bb4b"
      },
      "execution_count": null,
      "outputs": [
        {
          "output_type": "execute_result",
          "data": {
            "text/plain": [
              "9"
            ]
          },
          "metadata": {},
          "execution_count": 62
        }
      ]
    },
    {
      "cell_type": "code",
      "source": [
        "flowers.index('hibiscus')"
      ],
      "metadata": {
        "colab": {
          "base_uri": "https://localhost:8080/",
          "height": 166
        },
        "id": "F3Zj6nCHceUu",
        "outputId": "fb2cae4d-b46b-454a-d712-ff9be19705f1"
      },
      "execution_count": null,
      "outputs": [
        {
          "output_type": "error",
          "ename": "ValueError",
          "evalue": "ignored",
          "traceback": [
            "\u001b[0;31m---------------------------------------------------------------------------\u001b[0m",
            "\u001b[0;31mValueError\u001b[0m                                Traceback (most recent call last)",
            "\u001b[0;32m<ipython-input-64-3500a1044909>\u001b[0m in \u001b[0;36m<module>\u001b[0;34m()\u001b[0m\n\u001b[0;32m----> 1\u001b[0;31m \u001b[0mflowers\u001b[0m\u001b[0;34m.\u001b[0m\u001b[0mindex\u001b[0m\u001b[0;34m(\u001b[0m\u001b[0;34m'hibiscus'\u001b[0m\u001b[0;34m)\u001b[0m\u001b[0;34m\u001b[0m\u001b[0;34m\u001b[0m\u001b[0m\n\u001b[0m",
            "\u001b[0;31mValueError\u001b[0m: 'hibiscus' is not in list"
          ]
        }
      ]
    },
    {
      "cell_type": "code",
      "source": [
        "to_find = 'hibiscus'\n",
        "\n",
        "if to_find in flowers:\n",
        "  print(flowers.index(to_find))\n",
        "else:\n",
        "  print(f'{to_find} is not found in the flowers list !')"
      ],
      "metadata": {
        "colab": {
          "base_uri": "https://localhost:8080/"
        },
        "id": "Zkp_-rZmcrks",
        "outputId": "ab00c44d-82d1-4e45-969a-883c6b0ed376"
      },
      "execution_count": null,
      "outputs": [
        {
          "output_type": "stream",
          "name": "stdout",
          "text": [
            "hibiscus is not found in the flowers list !\n"
          ]
        }
      ]
    },
    {
      "cell_type": "markdown",
      "source": [
        "#### Python Iterables\n",
        "\n",
        "\n",
        "In Python, an iterable is an object that includes zero, one, or many elements. \n",
        "\n",
        "An iterable has the ability to return its elements one at a time.\n",
        "\n",
        "Because of this feature, you can use a for loop to iterate over an iterable.\n",
        "\n"
      ],
      "metadata": {
        "id": "Sh313tzZdMhP"
      }
    },
    {
      "cell_type": "code",
      "source": [
        "# range function is an iterable\n",
        "\n",
        "for idx in range(3):\n",
        "    print(idx)"
      ],
      "metadata": {
        "colab": {
          "base_uri": "https://localhost:8080/"
        },
        "id": "LacJej2Xd_cX",
        "outputId": "158a44ff-742a-4c94-ae12-f76cfc92ea60"
      },
      "execution_count": null,
      "outputs": [
        {
          "output_type": "stream",
          "name": "stdout",
          "text": [
            "0\n",
            "1\n",
            "2\n"
          ]
        }
      ]
    },
    {
      "cell_type": "code",
      "source": [
        "# every string is an iterable\n",
        "\n",
        "my_favorite_language = 'my_favorite_language'\n",
        "\n",
        "for ch in my_favorite_language:\n",
        "  print(ch)"
      ],
      "metadata": {
        "colab": {
          "base_uri": "https://localhost:8080/"
        },
        "id": "2zNYZTddeKr1",
        "outputId": "85954a7c-30fe-421a-8e13-75dd55ee6c71"
      },
      "execution_count": null,
      "outputs": [
        {
          "output_type": "stream",
          "name": "stdout",
          "text": [
            "m\n",
            "y\n",
            "_\n",
            "f\n",
            "a\n",
            "v\n",
            "o\n",
            "r\n",
            "i\n",
            "t\n",
            "e\n",
            "_\n",
            "l\n",
            "a\n",
            "n\n",
            "g\n",
            "u\n",
            "a\n",
            "g\n",
            "e\n"
          ]
        }
      ]
    },
    {
      "cell_type": "code",
      "source": [
        "# so are lists!\n",
        "\n",
        "for flower in flowers:\n",
        "  print(flower)"
      ],
      "metadata": {
        "colab": {
          "base_uri": "https://localhost:8080/"
        },
        "id": "ycPx3hctejYJ",
        "outputId": "79037da2-f65c-4745-bbc2-8fab652375b7"
      },
      "execution_count": null,
      "outputs": [
        {
          "output_type": "stream",
          "name": "stdout",
          "text": [
            "tulip\n",
            "rose\n",
            "sage\n",
            "lily\n",
            "iris\n",
            "daisy\n",
            "orchid\n",
            "jasmine\n",
            "poppy\n",
            "ivy\n",
            "violet\n",
            "holly\n",
            "heather\n",
            "yolanda\n"
          ]
        }
      ]
    },
    {
      "cell_type": "code",
      "source": [
        "flowers_iter = iter(flowers)\n",
        "\n",
        "next_flower = next(flowers_iter)\n",
        "print(next_flower)"
      ],
      "metadata": {
        "colab": {
          "base_uri": "https://localhost:8080/"
        },
        "id": "sbXr7vQseqML",
        "outputId": "4533f9d2-b143-4f23-f4b4-61f22beabcfd"
      },
      "execution_count": null,
      "outputs": [
        {
          "output_type": "stream",
          "name": "stdout",
          "text": [
            "tulip\n"
          ]
        }
      ]
    },
    {
      "cell_type": "code",
      "source": [
        "next_flower = next(flowers_iter)\n",
        "print(next_flower)\n",
        "\n",
        "# Every time, you call the next() function, it returns the next element in the iterable."
      ],
      "metadata": {
        "colab": {
          "base_uri": "https://localhost:8080/"
        },
        "id": "3cmoJ7rCiNtD",
        "outputId": "b4c9778d-814a-47fb-fa30-76bc30dee8e0"
      },
      "execution_count": null,
      "outputs": [
        {
          "output_type": "stream",
          "name": "stdout",
          "text": [
            "sage\n"
          ]
        }
      ]
    },
    {
      "cell_type": "code",
      "source": [
        "# Once you complete looping over an iterator, the iterator becomes empty. \n",
        "# If you iterate over it again, it’ll return nothing.\n",
        "\n",
        "colors = ['red', 'green', 'blue']\n",
        "colors_iter = iter(colors)\n",
        "\n",
        "color = next(colors_iter)\n",
        "print(color)\n",
        "\n",
        "color = next(colors_iter)\n",
        "print(color)\n",
        "\n",
        "color = next(colors_iter)\n",
        "print(color)\n",
        "\n",
        "# cause an exception\n",
        "color = next(colors_iter)\n",
        "print(color)"
      ],
      "metadata": {
        "colab": {
          "base_uri": "https://localhost:8080/",
          "height": 270
        },
        "id": "VjIHVk8kiuUT",
        "outputId": "ad84f043-f5dc-4d0a-8fe6-e046eadd4b6a"
      },
      "execution_count": null,
      "outputs": [
        {
          "output_type": "stream",
          "name": "stdout",
          "text": [
            "red\n",
            "green\n",
            "blue\n"
          ]
        },
        {
          "output_type": "error",
          "ename": "StopIteration",
          "evalue": "ignored",
          "traceback": [
            "\u001b[0;31m---------------------------------------------------------------------------\u001b[0m",
            "\u001b[0;31mStopIteration\u001b[0m                             Traceback (most recent call last)",
            "\u001b[0;32m<ipython-input-78-b1435b3ff0a8>\u001b[0m in \u001b[0;36m<module>\u001b[0;34m()\u001b[0m\n\u001b[1;32m     15\u001b[0m \u001b[0;34m\u001b[0m\u001b[0m\n\u001b[1;32m     16\u001b[0m \u001b[0;31m# cause an exception\u001b[0m\u001b[0;34m\u001b[0m\u001b[0;34m\u001b[0m\u001b[0;34m\u001b[0m\u001b[0m\n\u001b[0;32m---> 17\u001b[0;31m \u001b[0mcolor\u001b[0m \u001b[0;34m=\u001b[0m \u001b[0mnext\u001b[0m\u001b[0;34m(\u001b[0m\u001b[0mcolors_iter\u001b[0m\u001b[0;34m)\u001b[0m\u001b[0;34m\u001b[0m\u001b[0;34m\u001b[0m\u001b[0m\n\u001b[0m\u001b[1;32m     18\u001b[0m \u001b[0mprint\u001b[0m\u001b[0;34m(\u001b[0m\u001b[0mcolor\u001b[0m\u001b[0;34m)\u001b[0m\u001b[0;34m\u001b[0m\u001b[0;34m\u001b[0m\u001b[0m\n",
            "\u001b[0;31mStopIteration\u001b[0m: "
          ]
        }
      ]
    },
    {
      "cell_type": "markdown",
      "source": [
        "Since you can iterate over an iterator, the iterator is also an iterable object. "
      ],
      "metadata": {
        "id": "Ln6F64gHjGQ7"
      }
    },
    {
      "cell_type": "code",
      "source": [
        "colors = ['red', 'green', 'blue']\n",
        "iterator = iter(colors)\n",
        "\n",
        "for color in iterator:\n",
        "    print(color)\n"
      ],
      "metadata": {
        "colab": {
          "base_uri": "https://localhost:8080/"
        },
        "id": "hutX_HYWjO0U",
        "outputId": "a7cdf260-b496-48d6-bbd2-c4abdc4dd184"
      },
      "execution_count": null,
      "outputs": [
        {
          "output_type": "stream",
          "name": "stdout",
          "text": [
            "red\n",
            "green\n",
            "blue\n"
          ]
        }
      ]
    },
    {
      "cell_type": "markdown",
      "source": [
        "#### Lambda, Map, Reduce, Filter"
      ],
      "metadata": {
        "id": "hf-D0UC6_BIz"
      }
    },
    {
      "cell_type": "markdown",
      "source": [
        "Lambda\n",
        "\n",
        "1. Lambda expressions are used to create anonymous functions - that have no names and are called just once.\n",
        "\n",
        "2. They can have multiple arguments, but only one expression.\n",
        "\n",
        "3. Usually look like: `lambda parameters: expression`"
      ],
      "metadata": {
        "id": "DiNSb2FTxbT4"
      }
    },
    {
      "cell_type": "code",
      "source": [
        "# Use Case 1 - One-off Functions\n",
        "\n",
        "# Remember name_age : name_age[1] from yesterday?!"
      ],
      "metadata": {
        "id": "1zEdE267bliu"
      },
      "execution_count": null,
      "outputs": []
    },
    {
      "cell_type": "code",
      "source": [
        "# Use Case 2 - Functions returning functions\n",
        "\n",
        "def times(n):\n",
        "    return lambda x: x * n"
      ],
      "metadata": {
        "id": "gBE48K0Z-KUY"
      },
      "execution_count": null,
      "outputs": []
    },
    {
      "cell_type": "code",
      "source": [
        "doubler = times(2)\n",
        "print(doubler)"
      ],
      "metadata": {
        "colab": {
          "base_uri": "https://localhost:8080/"
        },
        "id": "hTOviVYI-R8F",
        "outputId": "97353a45-86e6-47e1-a4f8-9112b66a977b"
      },
      "execution_count": null,
      "outputs": [
        {
          "output_type": "stream",
          "name": "stdout",
          "text": [
            "<function times.<locals>.<lambda> at 0x7f8ac2dd7170>\n"
          ]
        }
      ]
    },
    {
      "cell_type": "code",
      "source": [
        "two_times_3 = doubler(3)\n",
        "print(two_times_3)"
      ],
      "metadata": {
        "colab": {
          "base_uri": "https://localhost:8080/"
        },
        "id": "Jdx9sQz8-YmF",
        "outputId": "206d43b5-047f-494a-f044-155ccf360b7d"
      },
      "execution_count": null,
      "outputs": [
        {
          "output_type": "stream",
          "name": "stdout",
          "text": [
            "6\n"
          ]
        }
      ]
    },
    {
      "cell_type": "code",
      "source": [
        "tripler = times(3)\n",
        "three_times_4 = tripler(4)\n",
        "print(three_times_4)"
      ],
      "metadata": {
        "colab": {
          "base_uri": "https://localhost:8080/"
        },
        "id": "Xgp1O180-kEW",
        "outputId": "3ab42b70-62b6-4d6c-ae8c-19fd4be4263a"
      },
      "execution_count": null,
      "outputs": [
        {
          "output_type": "stream",
          "name": "stdout",
          "text": [
            "12\n"
          ]
        }
      ]
    },
    {
      "cell_type": "markdown",
      "source": [
        "Map - transformation of an entire list.\n",
        "\n",
        "It calls a function on every item of a list and returns an iterator."
      ],
      "metadata": {
        "id": "WHtiAz4O9_f1"
      }
    },
    {
      "cell_type": "code",
      "source": [
        "my_marks = [80, 91, 78, 100, 87]\n",
        "\n",
        "my_new_marks = []\n",
        "\n",
        "for mark in my_marks:\n",
        "    my_new_marks.append(mark*2)\n",
        "\n",
        "print(my_new_marks)"
      ],
      "metadata": {
        "colab": {
          "base_uri": "https://localhost:8080/"
        },
        "id": "z6s24INw_As3",
        "outputId": "d075c5e2-7a08-4491-8a47-b14aa6c9999d"
      },
      "execution_count": null,
      "outputs": [
        {
          "output_type": "stream",
          "name": "stdout",
          "text": [
            "[160, 182, 156, 200, 174]\n"
          ]
        }
      ]
    },
    {
      "cell_type": "code",
      "source": [
        "my_new_marks_1 = map(lambda mark: mark*2, my_marks)\n",
        "print(list(my_new_marks_1))"
      ],
      "metadata": {
        "id": "Oemw-H8k_eu0",
        "colab": {
          "base_uri": "https://localhost:8080/"
        },
        "outputId": "62469745-1d07-49da-b901-f959e9423d5d"
      },
      "execution_count": null,
      "outputs": [
        {
          "output_type": "stream",
          "name": "stdout",
          "text": [
            "[160, 182, 156, 200, 174]\n"
          ]
        }
      ]
    },
    {
      "cell_type": "code",
      "source": [
        "# applying map to strings\n",
        "\n",
        "problems = ['finish College', 'Pay rent', 'study for EXAM']\n",
        "\n",
        "big_problems = map(lambda problem:problem.upper(), problems)\n",
        "print(list(big_problems))"
      ],
      "metadata": {
        "colab": {
          "base_uri": "https://localhost:8080/"
        },
        "id": "V-rTHxpYAkMQ",
        "outputId": "1e7245ed-abc0-4495-ff43-43fcf9610d35"
      },
      "execution_count": null,
      "outputs": [
        {
          "output_type": "stream",
          "name": "stdout",
          "text": [
            "['FINISH COLLEGE', 'PAY RENT', 'STUDY FOR EXAM']\n"
          ]
        }
      ]
    },
    {
      "cell_type": "code",
      "source": [
        "small_problems = map(lambda problem:problem.lower(), problems)\n",
        "print(list(small_problems))"
      ],
      "metadata": {
        "colab": {
          "base_uri": "https://localhost:8080/"
        },
        "id": "-8p62HVABAEY",
        "outputId": "604e3379-876d-4797-c4d5-1a36bae78cdc"
      },
      "execution_count": null,
      "outputs": [
        {
          "output_type": "stream",
          "name": "stdout",
          "text": [
            "['finish college', 'pay rent', 'study for exam']\n"
          ]
        }
      ]
    },
    {
      "cell_type": "code",
      "source": [
        "# applying map to tuples\n",
        "\n",
        "costs = [['Samsung', 400],\n",
        "         ['Toshiba', 450],\n",
        "         ['Lenovo', 700]]\n",
        "\n",
        "tax = 0.1\n",
        "\n",
        "costs = map(lambda item: [item[0], item[1], item[1] * tax], costs)\n",
        "\n",
        "print(list(costs))\n",
        "\n",
        "# costs = list(map(lambda item: [item[0], item[1], item[1] * tax], costs))\n",
        "# print(costs)\n",
        "# costs"
      ],
      "metadata": {
        "colab": {
          "base_uri": "https://localhost:8080/"
        },
        "id": "lzHnJvgLDKDq",
        "outputId": "1ed9bf66-6efe-4f1a-8ab2-0c2ed191c389"
      },
      "execution_count": null,
      "outputs": [
        {
          "output_type": "stream",
          "name": "stdout",
          "text": [
            "[['Samsung', 400, 40.0], ['Toshiba', 450, 45.0], ['Lenovo', 700, 70.0]]\n"
          ]
        }
      ]
    },
    {
      "cell_type": "markdown",
      "source": [
        "The filter() function iterates over the elements of the list and applies the fn() function to each element. \n",
        "\n",
        "It returns an iterator for the elements where the fn() returns True.\n",
        "\n",
        "```\n",
        "filter(fn, list)\n",
        "```\n",
        "\n"
      ],
      "metadata": {
        "id": "FbOwZ3AHGBoS"
      }
    },
    {
      "cell_type": "code",
      "source": [
        "my_marks = [80, 51, 78, 60, 87]\n",
        "\n",
        "good_marks = []\n",
        "\n",
        "for mark in my_marks:\n",
        "  if mark > 60:\n",
        "    good_marks.append(mark)\n",
        "\n",
        "print(good_marks)"
      ],
      "metadata": {
        "colab": {
          "base_uri": "https://localhost:8080/"
        },
        "id": "cxg70I20EIJg",
        "outputId": "3e14cdb8-f8e8-4d2e-d70b-ebbb72a8a465"
      },
      "execution_count": null,
      "outputs": [
        {
          "output_type": "stream",
          "name": "stdout",
          "text": [
            "[80, 78, 87]\n"
          ]
        }
      ]
    },
    {
      "cell_type": "code",
      "source": [
        "good_marks_1 = list(filter(lambda mark: mark > 60, my_marks))\n",
        "\n",
        "good_marks_1"
      ],
      "metadata": {
        "colab": {
          "base_uri": "https://localhost:8080/"
        },
        "id": "8Tez7GpCEfzv",
        "outputId": "62a56ee1-a88a-4943-ef32-9877224ddffd"
      },
      "execution_count": null,
      "outputs": [
        {
          "output_type": "execute_result",
          "data": {
            "text/plain": [
              "[80, 78, 87]"
            ]
          },
          "metadata": {},
          "execution_count": 51
        }
      ]
    },
    {
      "cell_type": "code",
      "source": [
        "# filter on lists\n",
        "\n",
        "countries = [\n",
        "    ['China', 1394015977],\n",
        "    ['United States', 329877505],\n",
        "    ['India', 1326093247],\n",
        "    ['Indonesia', 267026366],\n",
        "    ['Bangladesh', 162650853],\n",
        "    ['Pakistan', 233500636],\n",
        "    ['Nigeria', 214028302],\n",
        "    ['Brazil', 21171597],\n",
        "    ['Russia', 141722205],\n",
        "    ['Mexico', 128649565]\n",
        "]\n",
        "\n",
        "\n",
        "populated = filter(lambda c: c[1] > 300000000, countries)\n",
        "\n",
        "print(list(populated))"
      ],
      "metadata": {
        "colab": {
          "base_uri": "https://localhost:8080/"
        },
        "id": "XG0VcD12GZwB",
        "outputId": "537946ac-9c33-44bd-9295-536428df51df"
      },
      "execution_count": null,
      "outputs": [
        {
          "output_type": "stream",
          "name": "stdout",
          "text": [
            "[['China', 1394015977], ['United States', 329877505], ['India', 1326093247]]\n"
          ]
        }
      ]
    },
    {
      "cell_type": "markdown",
      "source": [
        "Reduce - to reduce a list of elements to one element."
      ],
      "metadata": {
        "id": "KBlnEn1NGwii"
      }
    },
    {
      "cell_type": "code",
      "source": [
        "my_marks = [80, 51, 78, 60, 87]\n",
        "\n",
        "total = 0\n",
        "\n",
        "for mark in my_marks:\n",
        "    total += mark\n",
        "\n",
        "print(total)"
      ],
      "metadata": {
        "colab": {
          "base_uri": "https://localhost:8080/"
        },
        "id": "y3G-vlwAG2cY",
        "outputId": "5df026fd-b047-46ca-aac6-72ebb4e22a22"
      },
      "execution_count": null,
      "outputs": [
        {
          "output_type": "stream",
          "name": "stdout",
          "text": [
            "356\n"
          ]
        }
      ]
    },
    {
      "cell_type": "code",
      "source": [
        "# Unlike the map() and filter() functions, the reduce() isn’t a built-in function in Python. \n",
        "# It belongs to the functools module.\n",
        "from functools import reduce\n",
        "\n",
        "def sum(a, b):\n",
        "  print(f\"a = {a}, b = {b}, {a} + {b} = {a+b}\")\n",
        "  return a + b\n",
        "\n",
        "total = reduce(sum, my_marks)\n",
        "total"
      ],
      "metadata": {
        "colab": {
          "base_uri": "https://localhost:8080/"
        },
        "id": "grQ30t0aH3lm",
        "outputId": "2b1d497a-70db-4807-ef2b-9f7dada6c1ca"
      },
      "execution_count": null,
      "outputs": [
        {
          "output_type": "stream",
          "name": "stdout",
          "text": [
            "a = 80, b = 51, 80 + 51 = 131\n",
            "a = 131, b = 78, 131 + 78 = 209\n",
            "a = 209, b = 60, 209 + 60 = 269\n",
            "a = 269, b = 87, 269 + 87 = 356\n"
          ]
        },
        {
          "output_type": "execute_result",
          "data": {
            "text/plain": [
              "356"
            ]
          },
          "metadata": {},
          "execution_count": 60
        }
      ]
    },
    {
      "cell_type": "markdown",
      "source": [
        "The reduce() function cumulatively adds two elements of the list from left to right and reduces the whole list into a single value."
      ],
      "metadata": {
        "id": "eQTM6BTjI94v"
      }
    },
    {
      "cell_type": "code",
      "source": [
        "# we can define the sum function by a lambda exp\n",
        "\n",
        "total = reduce(lambda a, b: a + b, my_marks)\n",
        "\n",
        "print(total)"
      ],
      "metadata": {
        "colab": {
          "base_uri": "https://localhost:8080/"
        },
        "id": "OY4p1AOWG3Ct",
        "outputId": "94d89353-5634-4667-b37d-4dbd3d2d3fb7"
      },
      "execution_count": null,
      "outputs": [
        {
          "output_type": "stream",
          "name": "stdout",
          "text": [
            "356\n"
          ]
        }
      ]
    },
    {
      "cell_type": "markdown",
      "source": [
        "#### List Comprehensions\n",
        "\n",
        "Use list comprehensions instead of map() or filter() to make your code more concise and readable."
      ],
      "metadata": {
        "id": "kKZLhtZlKn8b"
      }
    },
    {
      "cell_type": "code",
      "source": [
        "my_marks = [80, 70, 100, 67, 89]\n",
        "\n",
        "my_marks_squared = list(map(lambda mark:mark**2, my_marks))\n",
        "print(my_marks_squared)\n",
        "\n",
        "my_marks_squared_1 = [mark**2 for mark in my_marks]\n",
        "print(my_marks_squared_1)"
      ],
      "metadata": {
        "colab": {
          "base_uri": "https://localhost:8080/"
        },
        "id": "2xVyoKAVKrFC",
        "outputId": "6401b57e-21f6-46a1-b9e6-38aa7d20b658"
      },
      "execution_count": null,
      "outputs": [
        {
          "output_type": "stream",
          "name": "stdout",
          "text": [
            "[6400, 4900, 10000, 4489, 7921]\n",
            "[6400, 4900, 10000, 4489, 7921]\n"
          ]
        }
      ]
    },
    {
      "cell_type": "code",
      "source": [
        "mountains = [\n",
        "    ['Makalu', 8485],\n",
        "    ['Lhotse', 8516],\n",
        "    ['Kanchendzonga', 8586],\n",
        "    ['K2', 8611],\n",
        "    ['Everest', 8848]\n",
        "]\n",
        "\n",
        "\n",
        "highest_mountains = list(filter(lambda m: m[1] > 8600, mountains))\n",
        "\n",
        "print(highest_mountains)"
      ],
      "metadata": {
        "colab": {
          "base_uri": "https://localhost:8080/"
        },
        "id": "NaU5Lsl3LRr7",
        "outputId": "dd54d361-a513-48fe-84ce-052f6a388aef"
      },
      "execution_count": null,
      "outputs": [
        {
          "output_type": "stream",
          "name": "stdout",
          "text": [
            "[['K2', 8611], ['Everest', 8848]]\n"
          ]
        }
      ]
    },
    {
      "cell_type": "code",
      "source": [
        "highest_mountains_1 = [m for m in mountains if m[1] > 8600]\n",
        "print(highest_mountains_1)"
      ],
      "metadata": {
        "colab": {
          "base_uri": "https://localhost:8080/"
        },
        "id": "2tycv38aLUMk",
        "outputId": "36757bc0-7b75-4232-8df7-cd0535a5894e"
      },
      "execution_count": null,
      "outputs": [
        {
          "output_type": "stream",
          "name": "stdout",
          "text": [
            "[['K2', 8611], ['Everest', 8848]]\n"
          ]
        }
      ]
    },
    {
      "cell_type": "markdown",
      "source": [
        "### Dictionary Data Structure"
      ],
      "metadata": {
        "id": "_UKkboSPpdU6"
      }
    },
    {
      "cell_type": "code",
      "source": [
        "empty_dict = {}"
      ],
      "metadata": {
        "id": "x4Q4081tpkGZ"
      },
      "execution_count": null,
      "outputs": []
    },
    {
      "cell_type": "code",
      "source": [
        "planet_info = {\n",
        "    'name' : 'Jupiter',\n",
        "    'number_of_moons' : 79,\n",
        "    'number_in_solar_system' : 'fifth',\n",
        "    'life_support' : 'some moons have oceans with water',\n",
        "    'others' : 'gas_giant, biggest_planet, eternal_storms'\n",
        "}"
      ],
      "metadata": {
        "id": "6-sT3RawqYbk"
      },
      "execution_count": null,
      "outputs": []
    },
    {
      "cell_type": "code",
      "source": [
        "planet_info['number_of_moons']"
      ],
      "metadata": {
        "colab": {
          "base_uri": "https://localhost:8080/"
        },
        "id": "F5d32zTOrzmx",
        "outputId": "7bc9cc59-a7f7-4668-fa46-0e8473e8d468"
      },
      "execution_count": null,
      "outputs": [
        {
          "output_type": "execute_result",
          "data": {
            "text/plain": [
              "79"
            ]
          },
          "metadata": {},
          "execution_count": 57
        }
      ]
    },
    {
      "cell_type": "code",
      "source": [
        "planet_info"
      ],
      "metadata": {
        "colab": {
          "base_uri": "https://localhost:8080/"
        },
        "id": "F1LHu-0sr3_K",
        "outputId": "e5e4e06d-e1d2-4d9b-a5f4-d90e1e6166b9"
      },
      "execution_count": null,
      "outputs": [
        {
          "output_type": "execute_result",
          "data": {
            "text/plain": [
              "{'life_support': 'some moons have oceans with water',\n",
              " 'name': 'Jupiter',\n",
              " 'number_in_solar_system': 'fifth',\n",
              " 'number_of_moons': 79,\n",
              " 'others': 'gas_giant, biggest_planet, eternal_storms'}"
            ]
          },
          "metadata": {},
          "execution_count": 58
        }
      ]
    },
    {
      "cell_type": "code",
      "source": [
        "# we can change values \n",
        "\n",
        "planet_info['life_support'] = 'Nothing concrete we know of so far'"
      ],
      "metadata": {
        "id": "f6ZdrmRyrpKY"
      },
      "execution_count": null,
      "outputs": []
    },
    {
      "cell_type": "code",
      "source": [
        "planet_info"
      ],
      "metadata": {
        "colab": {
          "base_uri": "https://localhost:8080/"
        },
        "id": "l_nw7I05sA4b",
        "outputId": "26ba1e2d-fee4-42b8-b357-f807275b21bc"
      },
      "execution_count": null,
      "outputs": [
        {
          "output_type": "execute_result",
          "data": {
            "text/plain": [
              "{'life_support': 'Nothing concrete we know of so far',\n",
              " 'name': 'Jupiter',\n",
              " 'number_in_solar_system': 'fifth',\n",
              " 'number_of_moons': 79,\n",
              " 'others': 'gas_giant, biggest_planet, eternal_storms'}"
            ]
          },
          "metadata": {},
          "execution_count": 7
        }
      ]
    },
    {
      "cell_type": "code",
      "source": [
        "# we cannot change keys\n",
        "\n",
        "planet_info['planet_name'] = 'Jupiter'\n",
        "planet_info"
      ],
      "metadata": {
        "colab": {
          "base_uri": "https://localhost:8080/"
        },
        "id": "dyMIIsNysFd7",
        "outputId": "e4d0cfb9-6b6a-499b-a8a7-558f3ef6b1f8"
      },
      "execution_count": null,
      "outputs": [
        {
          "output_type": "execute_result",
          "data": {
            "text/plain": [
              "{'life_support': 'Nothing concrete we know of so far',\n",
              " 'name': 'Jupiter',\n",
              " 'number_in_solar_system': 'fifth',\n",
              " 'number_of_moons': 79,\n",
              " 'others': 'gas_giant, biggest_planet, eternal_storms',\n",
              " 'planet_name': 'Jupiter'}"
            ]
          },
          "metadata": {},
          "execution_count": 8
        }
      ]
    },
    {
      "cell_type": "code",
      "source": [
        "del planet_info['planet_name']"
      ],
      "metadata": {
        "id": "YqfeB-M7sQS-"
      },
      "execution_count": null,
      "outputs": []
    },
    {
      "cell_type": "code",
      "source": [
        "planet_info"
      ],
      "metadata": {
        "colab": {
          "base_uri": "https://localhost:8080/"
        },
        "id": "XI-MJk5ZwAko",
        "outputId": "9f995ff0-0950-4cef-ccd7-2b9f78f55c3e"
      },
      "execution_count": null,
      "outputs": [
        {
          "output_type": "execute_result",
          "data": {
            "text/plain": [
              "{'life_support': 'Nothing concrete we know of so far',\n",
              " 'name': 'Jupiter',\n",
              " 'number_in_solar_system': 'fifth',\n",
              " 'number_of_moons': 79,\n",
              " 'others': 'gas_giant, biggest_planet, eternal_storms'}"
            ]
          },
          "metadata": {},
          "execution_count": 10
        }
      ]
    },
    {
      "cell_type": "code",
      "source": [
        "moons = planet_info.get('number_of_moons')\n",
        "moons"
      ],
      "metadata": {
        "colab": {
          "base_uri": "https://localhost:8080/"
        },
        "id": "K41cGoHqwLAZ",
        "outputId": "163cde4c-d003-4caa-d6f1-5769e296b5df"
      },
      "execution_count": null,
      "outputs": [
        {
          "output_type": "execute_result",
          "data": {
            "text/plain": [
              "79"
            ]
          },
          "metadata": {},
          "execution_count": 11
        }
      ]
    },
    {
      "cell_type": "code",
      "source": [
        "# It returns the '0-00-000' string if the ssn key doesn’t exist in the dictionary:\n",
        "\n",
        "storms = planet_info.get('storms', '0-00-000')\n",
        "storms"
      ],
      "metadata": {
        "colab": {
          "base_uri": "https://localhost:8080/",
          "height": 36
        },
        "id": "LxpevpudxjYG",
        "outputId": "a59d699c-9813-4ee0-b4a4-92c0dfed9f13"
      },
      "execution_count": null,
      "outputs": [
        {
          "output_type": "execute_result",
          "data": {
            "text/plain": [
              "'0-00-000'"
            ],
            "application/vnd.google.colaboratory.intrinsic+json": {
              "type": "string"
            }
          },
          "metadata": {},
          "execution_count": 15
        }
      ]
    },
    {
      "cell_type": "code",
      "source": [
        "# looping through a dictionary\n",
        "\n",
        "for key, value in planet_info.items():\n",
        "    print(f\"{key}: {value}\")"
      ],
      "metadata": {
        "colab": {
          "base_uri": "https://localhost:8080/"
        },
        "id": "985Cqf0qzis4",
        "outputId": "0b294612-06d7-4287-b817-9527f5a7b81d"
      },
      "execution_count": null,
      "outputs": [
        {
          "output_type": "stream",
          "name": "stdout",
          "text": [
            "name: Jupiter\n",
            "number_of_moons: 79\n",
            "number_in_solar_system: fifth\n",
            "life_support: Nothing concrete we know of so far\n",
            "others: gas_giant, biggest_planet, eternal_storms\n"
          ]
        }
      ]
    },
    {
      "cell_type": "code",
      "source": [
        "for key in planet_info.keys():\n",
        "    print(key)"
      ],
      "metadata": {
        "colab": {
          "base_uri": "https://localhost:8080/"
        },
        "id": "XwmOnWW-0p_p",
        "outputId": "0f7fbbf3-78f5-4f6b-8102-041a79f7676c"
      },
      "execution_count": null,
      "outputs": [
        {
          "output_type": "stream",
          "name": "stdout",
          "text": [
            "name\n",
            "number_of_moons\n",
            "number_in_solar_system\n",
            "life_support\n",
            "others\n"
          ]
        }
      ]
    },
    {
      "cell_type": "code",
      "source": [
        "for key in planet_info:\n",
        "  print(key)"
      ],
      "metadata": {
        "colab": {
          "base_uri": "https://localhost:8080/"
        },
        "id": "YxHA9CRl09J5",
        "outputId": "dc454c5f-ed40-408d-a5c5-2c63096b49af"
      },
      "execution_count": null,
      "outputs": [
        {
          "output_type": "stream",
          "name": "stdout",
          "text": [
            "name\n",
            "number_of_moons\n",
            "number_in_solar_system\n",
            "life_support\n",
            "others\n"
          ]
        }
      ]
    },
    {
      "cell_type": "code",
      "source": [
        "for value in planet_info.values():\n",
        "    print(value)"
      ],
      "metadata": {
        "colab": {
          "base_uri": "https://localhost:8080/"
        },
        "id": "LHaN0VyU1P9F",
        "outputId": "acf04f23-9875-4ae1-d983-3e87ef96041c"
      },
      "execution_count": null,
      "outputs": [
        {
          "output_type": "stream",
          "name": "stdout",
          "text": [
            "Jupiter\n",
            "79\n",
            "fifth\n",
            "Nothing concrete we know of so far\n",
            "gas_giant, biggest_planet, eternal_storms\n"
          ]
        }
      ]
    },
    {
      "cell_type": "markdown",
      "source": [
        "#### Dictionary Comprehension"
      ],
      "metadata": {
        "id": "X_BEP38V29Ra"
      }
    },
    {
      "cell_type": "code",
      "source": [
        "stocks = {\n",
        "    'AAPL': 121,\n",
        "    'AMZN': 3380,\n",
        "    'MSFT': 219,\n",
        "    'BIIB': 280,\n",
        "    'QDEL': 266,\n",
        "    'LVGO': 144\n",
        "}"
      ],
      "metadata": {
        "id": "jvVQqyS22GuE"
      },
      "execution_count": null,
      "outputs": []
    },
    {
      "cell_type": "code",
      "source": [
        "new_stocks = {}\n",
        "for symbol, price in stocks.items():\n",
        "    new_stocks[symbol] = price*1.02\n",
        "\n",
        "print(new_stocks)"
      ],
      "metadata": {
        "colab": {
          "base_uri": "https://localhost:8080/"
        },
        "id": "llnBULte3Ht3",
        "outputId": "877afb32-3189-48fe-a039-4d5179238651"
      },
      "execution_count": null,
      "outputs": [
        {
          "output_type": "stream",
          "name": "stdout",
          "text": [
            "{'AAPL': 123.42, 'AMZN': 3447.6, 'MSFT': 223.38, 'BIIB': 285.6, 'QDEL': 271.32, 'LVGO': 146.88}\n"
          ]
        }
      ]
    },
    {
      "cell_type": "code",
      "source": [
        "new_stocks_1 = {symbol: price * 1.02 for (symbol, price) in stocks.items()}\n",
        "\n",
        "print(new_stocks_1)"
      ],
      "metadata": {
        "colab": {
          "base_uri": "https://localhost:8080/"
        },
        "id": "r8zdTqbv3cXX",
        "outputId": "07919422-f56a-4c0a-a37c-92adefbbcb80"
      },
      "execution_count": null,
      "outputs": [
        {
          "output_type": "stream",
          "name": "stdout",
          "text": [
            "{'AAPL': 123.42, 'AMZN': 3447.6, 'MSFT': 223.38, 'BIIB': 285.6, 'QDEL': 271.32, 'LVGO': 146.88}\n"
          ]
        }
      ]
    },
    {
      "cell_type": "code",
      "source": [
        "selected_stocks = {}\n",
        "for symbol, price in stocks.items():\n",
        "    if price > 200:\n",
        "        selected_stocks[symbol] = price\n",
        "\n",
        "print(selected_stocks)"
      ],
      "metadata": {
        "colab": {
          "base_uri": "https://localhost:8080/"
        },
        "id": "-UAsNSWz3yWe",
        "outputId": "ab323832-4e07-4adc-ae7c-004b0b5ca3fc"
      },
      "execution_count": null,
      "outputs": [
        {
          "output_type": "stream",
          "name": "stdout",
          "text": [
            "{'AMZN': 3380, 'MSFT': 219, 'BIIB': 280, 'QDEL': 266}\n"
          ]
        }
      ]
    },
    {
      "cell_type": "code",
      "source": [
        "#A dictionary comprehension iterates over items of a dictionary \n",
        "# and allows you to create a new dictionary by transforming or filtering each item.\n",
        "\n",
        "selected_stocks_1 = {s: p for (s, p) in stocks.items() if p > 200}\n",
        "\n",
        "print(selected_stocks_1)"
      ],
      "metadata": {
        "colab": {
          "base_uri": "https://localhost:8080/"
        },
        "id": "KtoJcUnN33R-",
        "outputId": "d8f5ebe5-e7eb-4581-c402-50e54af78827"
      },
      "execution_count": null,
      "outputs": [
        {
          "output_type": "stream",
          "name": "stdout",
          "text": [
            "{'AMZN': 3380, 'MSFT': 219, 'BIIB': 280, 'QDEL': 266}\n"
          ]
        }
      ]
    },
    {
      "cell_type": "markdown",
      "source": [
        "### Unpacking Tuples"
      ],
      "metadata": {
        "id": "-kW969Yn5ONE"
      }
    },
    {
      "cell_type": "code",
      "source": [
        "a = tuple()\n",
        "print(type(a))\n",
        "print(a)"
      ],
      "metadata": {
        "colab": {
          "base_uri": "https://localhost:8080/"
        },
        "id": "d03S29LG5SVN",
        "outputId": "41d3b955-8fd0-424d-b2c5-8201cc2f2284"
      },
      "execution_count": null,
      "outputs": [
        {
          "output_type": "stream",
          "name": "stdout",
          "text": [
            "<class 'tuple'>\n",
            "()\n"
          ]
        }
      ]
    },
    {
      "cell_type": "code",
      "source": [
        "b = (1,)\n",
        "print(b)"
      ],
      "metadata": {
        "colab": {
          "base_uri": "https://localhost:8080/"
        },
        "id": "UWAn5Rnx5fDO",
        "outputId": "3ae6b664-c7de-4fea-9315-7c65511f7111"
      },
      "execution_count": null,
      "outputs": [
        {
          "output_type": "stream",
          "name": "stdout",
          "text": [
            "(1,)\n"
          ]
        }
      ]
    },
    {
      "cell_type": "code",
      "source": [
        "c = (1)\n",
        "print(type(c))"
      ],
      "metadata": {
        "colab": {
          "base_uri": "https://localhost:8080/"
        },
        "id": "WnwCrtYk5jJZ",
        "outputId": "2a065fe9-72d8-4feb-a23f-83080edfb9cc"
      },
      "execution_count": null,
      "outputs": [
        {
          "output_type": "stream",
          "name": "stdout",
          "text": [
            "<class 'int'>\n"
          ]
        }
      ]
    },
    {
      "cell_type": "code",
      "source": [
        "x, y = (1, 2)\n",
        "print(x + y)\n",
        "print(x - y)\n",
        "print(x * y)\n",
        "print(x / y)\n",
        "print(x // y)"
      ],
      "metadata": {
        "colab": {
          "base_uri": "https://localhost:8080/"
        },
        "id": "MtFIBXwA5pKG",
        "outputId": "46ebe192-9811-4b7f-e22f-fba631d27cd7"
      },
      "execution_count": null,
      "outputs": [
        {
          "output_type": "stream",
          "name": "stdout",
          "text": [
            "3\n",
            "-1\n",
            "2\n",
            "0.5\n",
            "0\n"
          ]
        }
      ]
    },
    {
      "cell_type": "code",
      "source": [
        "x, y, z = 10, 20, 30\n",
        "\n",
        "print(x + y +z)"
      ],
      "metadata": {
        "colab": {
          "base_uri": "https://localhost:8080/"
        },
        "id": "QJEPVLgr6dN0",
        "outputId": "9330bdba-76a2-4690-d92f-2fcab20a58b1"
      },
      "execution_count": null,
      "outputs": [
        {
          "output_type": "stream",
          "name": "stdout",
          "text": [
            "60\n"
          ]
        }
      ]
    },
    {
      "cell_type": "code",
      "source": [
        "x, y = 10, 20, 30"
      ],
      "metadata": {
        "colab": {
          "base_uri": "https://localhost:8080/",
          "height": 165
        },
        "id": "3XohThKS6hYq",
        "outputId": "a5710f8d-b177-4c71-99dc-23551795efa2"
      },
      "execution_count": null,
      "outputs": [
        {
          "output_type": "error",
          "ename": "ValueError",
          "evalue": "ignored",
          "traceback": [
            "\u001b[0;31m---------------------------------------------------------------------------\u001b[0m",
            "\u001b[0;31mValueError\u001b[0m                                Traceback (most recent call last)",
            "\u001b[0;32m<ipython-input-38-275e7e2ee983>\u001b[0m in \u001b[0;36m<module>\u001b[0;34m()\u001b[0m\n\u001b[0;32m----> 1\u001b[0;31m \u001b[0mx\u001b[0m\u001b[0;34m,\u001b[0m \u001b[0my\u001b[0m \u001b[0;34m=\u001b[0m \u001b[0;36m10\u001b[0m\u001b[0;34m,\u001b[0m \u001b[0;36m20\u001b[0m\u001b[0;34m,\u001b[0m \u001b[0;36m30\u001b[0m\u001b[0;34m\u001b[0m\u001b[0;34m\u001b[0m\u001b[0m\n\u001b[0m",
            "\u001b[0;31mValueError\u001b[0m: too many values to unpack (expected 2)"
          ]
        }
      ]
    },
    {
      "cell_type": "code",
      "source": [
        "x, y, _ = 10, 20, 30\n",
        "print(_)"
      ],
      "metadata": {
        "colab": {
          "base_uri": "https://localhost:8080/"
        },
        "id": "vMFdsm0c6uav",
        "outputId": "8f7f28c7-f324-4607-d686-b7c662038b86"
      },
      "execution_count": null,
      "outputs": [
        {
          "output_type": "stream",
          "name": "stdout",
          "text": [
            "30\n"
          ]
        }
      ]
    },
    {
      "cell_type": "markdown",
      "source": [
        "Extended unpacking using the * operator"
      ],
      "metadata": {
        "id": "TbKOguoM7PUy"
      }
    },
    {
      "cell_type": "code",
      "source": [
        "r, g, *other = (192, 210, 100, 0.5)\n",
        "print(other)\n",
        "print(r)\n",
        "print(g)"
      ],
      "metadata": {
        "colab": {
          "base_uri": "https://localhost:8080/"
        },
        "id": "JZSmR_D8624N",
        "outputId": "1397edc5-eb06-4210-fd22-e74425571b31"
      },
      "execution_count": null,
      "outputs": [
        {
          "output_type": "stream",
          "name": "stdout",
          "text": [
            "[100, 0.5]\n",
            "192\n",
            "210\n"
          ]
        }
      ]
    },
    {
      "cell_type": "code",
      "source": [
        "x, y, *z, *t = (10, 20, 30, '10:30')"
      ],
      "metadata": {
        "colab": {
          "base_uri": "https://localhost:8080/",
          "height": 130
        },
        "id": "qjX7F_cX7KOW",
        "outputId": "e1bb70fa-629e-4e02-c204-a0d3e6cdc95b"
      },
      "execution_count": null,
      "outputs": [
        {
          "output_type": "error",
          "ename": "SyntaxError",
          "evalue": "ignored",
          "traceback": [
            "\u001b[0;36m  File \u001b[0;32m\"<ipython-input-43-791c377882a9>\"\u001b[0;36m, line \u001b[0;32m1\u001b[0m\n\u001b[0;31m    x, y, *z, *t = (10, 20, 30, '10:30')\u001b[0m\n\u001b[0m                                        ^\u001b[0m\n\u001b[0;31mSyntaxError\u001b[0m\u001b[0;31m:\u001b[0m two starred expressions in assignment\n"
          ]
        }
      ]
    },
    {
      "cell_type": "markdown",
      "source": [
        "Using the * operator on the right hand side"
      ],
      "metadata": {
        "id": "hgMTqpYF7loF"
      }
    },
    {
      "cell_type": "code",
      "source": [
        "odd_numbers = (1, 3, 5)\n",
        "even_numbers = (2, 4, 6)\n",
        "\n",
        "# The following example uses the * operator to unpack those tuples and merge them into a single tuple:\n",
        "\n",
        "numbers = (*odd_numbers, *even_numbers)\n",
        "print(numbers)"
      ],
      "metadata": {
        "colab": {
          "base_uri": "https://localhost:8080/"
        },
        "id": "T4bBHfwD7Y0j",
        "outputId": "b59ac1a9-ced7-4edd-de5e-a145b0269c15"
      },
      "execution_count": null,
      "outputs": [
        {
          "output_type": "stream",
          "name": "stdout",
          "text": [
            "(1, 3, 5, 2, 4, 6)\n"
          ]
        }
      ]
    },
    {
      "cell_type": "markdown",
      "source": [
        "#### *args"
      ],
      "metadata": {
        "id": "9Hr7rdUE8PYN"
      }
    },
    {
      "cell_type": "markdown",
      "source": [
        "## Time for some questions!"
      ],
      "metadata": {
        "id": "6fjnV7bQHa4k"
      }
    },
    {
      "cell_type": "markdown",
      "source": [
        "**Q1.** *Which of the following statements are **not true** for lambda functions? Also, correct the statements*         \n",
        "\n",
        "**1.** *Doesn't require def or return to build a function*       \n",
        "**2.** *It's a short way of defining any normal functions in Python*                      \n",
        "**3.** *Reduces lines of code to define a function*           \n",
        "**4.** *Call the function immediately after defining it at the end of defination*      \n",
        "**5.** *Often can be used inside another function such as map(), filter()*        \n",
        "**6.** *It can take any number of input arguments*      \n",
        "**7.** *It can have any number of expressions*     \n",
        "**8.** *Very difficult to construct as compared to normal def functions*    \n",
        "**9.** *We can use more than one line to construct them*      \n",
        "**10.** *Syntax of lambda function is:- \"**lambda arguments: expressions**\"*\n"
      ],
      "metadata": {
        "id": "ZbQ1QtVjpN5w"
      }
    },
    {
      "cell_type": "code",
      "source": [
        "# Print the indexes of the incorrect statements and write the correct statements\n",
        "print(\"\"\"2 - Not any function can be made using lambda functions as its limited to only 1 expression\n",
        "7 - It can take only one expression\n",
        "8 - It's not really difficult once you know the correct syntax\n",
        "9 - Multilines cannot be possible in lambda functions\n",
        "10 - lambda arguments: expression (Converted plural to singular)\"\"\")"
      ],
      "metadata": {
        "id": "hSlylXlPpU6f",
        "colab": {
          "base_uri": "https://localhost:8080/"
        },
        "outputId": "8abaf033-5db2-4515-937e-888687549a21"
      },
      "execution_count": null,
      "outputs": [
        {
          "output_type": "stream",
          "name": "stdout",
          "text": [
            "2 - Not any function can be made using lambda functions as its limited to only 1 expression\n",
            "7 - It can take only one expression\n",
            "8 - It's not really difficult once you know the correct syntax\n",
            "9 - Multilines cannot be possible in lambda functions\n",
            "10 - lambda arguments: expression (Converted plural to singular)\n"
          ]
        }
      ]
    },
    {
      "cell_type": "markdown",
      "source": [
        "**Q2.** *Print the output of tup1 in the following code,*\n",
        "```\n",
        "tup = (1, 2, 3, 4, 5)\n",
        "tup1 = tuple(map(lambda x: x/2, tup))\n",
        "```"
      ],
      "metadata": {
        "id": "TBiGJr_-pc-l"
      }
    },
    {
      "cell_type": "code",
      "source": [
        "# Print the output of tup1\n",
        "print(\"(0.5, 1.0, 1.5, 2.0, 2.5)\")"
      ],
      "metadata": {
        "id": "1KsWn-CBphoG"
      },
      "execution_count": null,
      "outputs": []
    },
    {
      "cell_type": "markdown",
      "source": [
        "**Q3.** *Explain the code snippet posted below*\n",
        "```\n",
        "def func(val, dict):\n",
        "  for key, value in dict.items():\n",
        "    if val == value:\n",
        "      return key\n",
        "  return \"Key does not exist for the provided value!\"\n",
        "```\n",
        "*What will be the output of the following code?*\n",
        "```\n",
        "moon_data = {\n",
        "    \"Mercury\" : 0,\n",
        "    \"Venus\" : 0,\n",
        "    \"Earth\" : 1, \n",
        "    \"Mars\" : 2,\n",
        "    \"Jupiter\" : 79,\n",
        "    \"Saturn\" : 82, \n",
        "    \"Uranus\" : 27,\n",
        "    \"Neptune\" : 14,\n",
        "}\n",
        "\n",
        "print(func(max(moon_data.values()), moon_data))      # Line 1\n",
        "print(func(max(moon_data.values()) + 1, moon_data))  # Line 2\n",
        "```\n"
      ],
      "metadata": {
        "id": "u2OdgYbkpmOe"
      }
    },
    {
      "cell_type": "code",
      "source": [
        "# Explain the code snippet\n",
        "explanation = \"\"\" \"\"\"\n",
        "print(explanation)\n",
        "\n",
        "\n",
        "\n",
        "# Print the outputs\n",
        "print(\"Saturn\")          # Line 1    \n",
        "print(\"Key does not exist for the provided value!\")          # Line 2"
      ],
      "metadata": {
        "id": "6lqfmhINpqqw",
        "colab": {
          "base_uri": "https://localhost:8080/"
        },
        "outputId": "9b9898cf-98d6-4a1d-e0c6-4377ece4166c"
      },
      "execution_count": null,
      "outputs": [
        {
          "output_type": "stream",
          "name": "stdout",
          "text": [
            " \n",
            "Saturn\n",
            "Key does not exist for the provided value!\n"
          ]
        }
      ]
    },
    {
      "cell_type": "markdown",
      "source": [
        "**Q4.** Remove empty strings from the list of physics concepts given below,*\n",
        "```\n",
        "phy_concepts = [\"Gravitational Lensing\", \"\", \"Black Holes\", \"Quantum Entanglment\", \"\", \"Photoelectric Effect\", \"\", \"Gravitational Waves\"]\n",
        "```"
      ],
      "metadata": {
        "id": "0PtU1giDprtk"
      }
    },
    {
      "cell_type": "code",
      "source": [
        "# Given List\n",
        "phy_concepts = [\"Gravitational Lensing\", \"\", \"Black Holes\", \"Quantum Entanglment\", \"\", \"Photoelectric Effect\", \"\", \"Gravitational Waves\"]\n",
        "\n",
        "# Code for removing the empty strings \n",
        "phy_concepts = list(filter(None, phy_concepts))\n",
        "\n",
        "# Print the output\n",
        "print(phy_concepts)"
      ],
      "metadata": {
        "colab": {
          "base_uri": "https://localhost:8080/"
        },
        "id": "IkI_0kppqEFy",
        "outputId": "5d302cf0-225e-44e1-a4b6-0ebc3269e777"
      },
      "execution_count": null,
      "outputs": [
        {
          "output_type": "stream",
          "name": "stdout",
          "text": [
            "['Gravitational Lensing', 'Black Holes', 'Quantum Entanglment', 'Photoelectric Effect', 'Gravitational Waves']\n"
          ]
        }
      ]
    },
    {
      "cell_type": "markdown",
      "source": [
        "**Q5.** *Add appropriate comments in the code such that anyone with basic knowledge of python would be able to understand what's going on here* "
      ],
      "metadata": {
        "id": "jv7LRS6H8OmD"
      }
    },
    {
      "cell_type": "code",
      "source": [
        "\"\"\"\n",
        "Add the main purpose of code here\n",
        "Use # to comment anywhere in the code the way you like \n",
        "Make sure you to add as many comments as possible keeping in mind this code will be shown to a newbiees\n",
        "They must understand the working of the code completely!\n",
        "Remove these lines in your answer \n",
        "Good luck!\n",
        "\"\"\"\n",
        "\n",
        "lst = [1, 2, [3, 4, 5, [6], 7, 8, 9], 10, 12]\n",
        "\n",
        "print(f\"Original List:-  {lst}\")\n",
        "\n",
        "for i in list(range(2, 5)):\n",
        "\n",
        "  if i == 2:\n",
        "    for j in list(range(-3, 0)):\n",
        "      lst[i][j] = lst[i][-j-1]\n",
        "  \n",
        "  else:\n",
        "    lst[i] = lst[-i-1]\n",
        "\n",
        "print(f\"Altered List:-   {lst}\")"
      ],
      "metadata": {
        "colab": {
          "base_uri": "https://localhost:8080/"
        },
        "id": "6zDKRKZ48tie",
        "outputId": "45f19efe-cf16-4819-acd7-6df3c9e3a40b"
      },
      "execution_count": null,
      "outputs": [
        {
          "output_type": "stream",
          "name": "stdout",
          "text": [
            "Original List:-  [1, 2, [3, 4, 5, [6], 7, 8, 9], 10, 12]\n",
            "Altered List:-   [1, 2, [3, 4, 5, [6], 5, 4, 3], 2, 1]\n"
          ]
        }
      ]
    }
  ]
}