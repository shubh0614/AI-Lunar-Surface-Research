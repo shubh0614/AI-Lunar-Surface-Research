{
  "cells": [
    {
      "cell_type": "markdown",
      "source": [
        "# Star Size Classification - Big or Small"
      ],
      "metadata": {
        "id": "OOpluKxfBFjh"
      },
      "id": "OOpluKxfBFjh"
    },
    {
      "cell_type": "markdown",
      "source": [
        "# Linear regression:\n",
        "\n",
        "\n",
        "Supervised Learning:\n",
        "\n",
        "Input data --> Corresponding lables as well \n",
        "\n",
        "y = m*x + c\n",
        "\n",
        "m = slope and c = intercept \n",
        "\n",
        "output = weight * input + bias\n",
        "\n",
        "output = w1*x1 + w2*x2 + w3*x3 + b\n",
        "\n",
        "x parameters are input parameters and that we already have with us\n",
        "y is dependent on x and w and b\n",
        "\n",
        "w and b are : model parameters \n",
        "\n",
        "\n"
      ],
      "metadata": {
        "id": "_xCmlHwZBFhC"
      },
      "id": "_xCmlHwZBFhC"
    },
    {
      "cell_type": "code",
      "execution_count": null,
      "id": "8135c1d1",
      "metadata": {
        "colab": {
          "base_uri": "https://localhost:8080/",
          "height": 312
        },
        "id": "8135c1d1",
        "outputId": "84d49c71-cc07-44e9-dba8-e0be56d61981"
      },
      "outputs": [
        {
          "output_type": "display_data",
          "data": {
            "text/plain": [
              "<Figure size 432x288 with 1 Axes>"
            ],
            "image/png": "[encoded data removed]"
          },
          "metadata": {
            "needs_background": "light"
          }
        },
        {
          "output_type": "display_data",
          "data": {
            "text/plain": [
              "<Figure size 1080x1800 with 0 Axes>"
            ]
          },
          "metadata": {}
        }
      ],
      "source": [
        "# Importing Libraries\n",
        "import numpy as np\n",
        "import matplotlib.pyplot as plt\n",
        "\n",
        "# Generating Randomized dataset\n",
        "X = 3*np.random.rand(100,1)\n",
        "y = 9 + 2*X + np.random.rand(100,1)\n",
        "\n",
        "# Scatter plot\n",
        "plt.scatter(X,y)\n",
        "plt.xlabel('Brightness')\n",
        "plt.ylabel('Size')\n",
        "plt.title('Brightness of Star vs Size of Star')\n",
        "plt.figure(figsize=(15,25));"
      ]
    },
    {
      "cell_type": "code",
      "source": [
        "X"
      ],
      "metadata": {
        "id": "EjiGClgOENjn",
        "colab": {
          "base_uri": "https://localhost:8080/"
        },
        "outputId": "f55e214a-313c-4d79-f934-f99fb0c00a56"
      },
      "id": "EjiGClgOENjn",
      "execution_count": null,
      "outputs": [
        {
          "output_type": "execute_result",
          "data": {
            "text/plain": [
              "array([[1.07681222],\n",
              "       [2.03763103],\n",
              "       [1.4368564 ],\n",
              "       [1.40633788],\n",
              "       [1.39145332],\n",
              "       [0.59150148],\n",
              "       [0.60771454],\n",
              "       [1.72818639],\n",
              "       [0.66749126],\n",
              "       [1.31473856],\n",
              "       [2.99870335],\n",
              "       [1.07689186],\n",
              "       [0.83591924],\n",
              "       [1.75377948],\n",
              "       [1.11983918],\n",
              "       [0.09190261],\n",
              "       [0.51516824],\n",
              "       [2.08439116],\n",
              "       [2.02973926],\n",
              "       [0.39142052],\n",
              "       [0.1554983 ],\n",
              "       [0.7329017 ],\n",
              "       [1.2567177 ],\n",
              "       [0.30773327],\n",
              "       [1.14025182],\n",
              "       [0.81325323],\n",
              "       [1.04110328],\n",
              "       [0.03176184],\n",
              "       [0.88219675],\n",
              "       [1.94778995],\n",
              "       [1.15846652],\n",
              "       [0.60310699],\n",
              "       [1.48326621],\n",
              "       [2.0895491 ],\n",
              "       [0.21803274],\n",
              "       [1.26276242],\n",
              "       [1.87064845],\n",
              "       [0.44632374],\n",
              "       [2.8744962 ],\n",
              "       [0.94450692],\n",
              "       [0.24847289],\n",
              "       [0.63487221],\n",
              "       [0.38009732],\n",
              "       [1.46930321],\n",
              "       [1.05851823],\n",
              "       [1.73920148],\n",
              "       [2.28225109],\n",
              "       [1.17396092],\n",
              "       [0.72180949],\n",
              "       [0.24311965],\n",
              "       [2.61623361],\n",
              "       [0.25239091],\n",
              "       [2.57960947],\n",
              "       [0.48535217],\n",
              "       [1.24317208],\n",
              "       [0.33131246],\n",
              "       [0.50838608],\n",
              "       [0.49540806],\n",
              "       [0.198733  ],\n",
              "       [1.88088028],\n",
              "       [0.54512363],\n",
              "       [1.74416393],\n",
              "       [0.75766701],\n",
              "       [2.56692313],\n",
              "       [1.92429215],\n",
              "       [1.28155713],\n",
              "       [2.62257615],\n",
              "       [0.5887321 ],\n",
              "       [2.82767394],\n",
              "       [2.12524565],\n",
              "       [0.70514624],\n",
              "       [0.45964466],\n",
              "       [2.26132762],\n",
              "       [0.1570247 ],\n",
              "       [2.8311519 ],\n",
              "       [1.00212056],\n",
              "       [1.78119029],\n",
              "       [1.8650643 ],\n",
              "       [0.4333545 ],\n",
              "       [2.62727505],\n",
              "       [2.51195111],\n",
              "       [1.74132576],\n",
              "       [1.73595281],\n",
              "       [0.94647808],\n",
              "       [0.6425682 ],\n",
              "       [1.97766595],\n",
              "       [0.49528247],\n",
              "       [1.55709661],\n",
              "       [0.99205121],\n",
              "       [2.14907594],\n",
              "       [1.48635388],\n",
              "       [1.53690226],\n",
              "       [0.21475688],\n",
              "       [0.54690664],\n",
              "       [0.64000441],\n",
              "       [2.98936803],\n",
              "       [0.24924587],\n",
              "       [1.55320258],\n",
              "       [2.49861411],\n",
              "       [0.00838237]])"
            ]
          },
          "metadata": {},
          "execution_count": 2
        }
      ]
    },
    {
      "cell_type": "code",
      "source": [
        "y"
      ],
      "metadata": {
        "id": "ONdPvoHjEQap"
      },
      "id": "ONdPvoHjEQap",
      "execution_count": null,
      "outputs": []
    },
    {
      "cell_type": "code",
      "execution_count": null,
      "id": "b153b442",
      "metadata": {
        "colab": {
          "base_uri": "https://localhost:8080/"
        },
        "id": "b153b442",
        "outputId": "9aaa04d8-8cf5-42b1-b5a0-6e2069d56837"
      },
      "outputs": [
        {
          "output_type": "execute_result",
          "data": {
            "text/plain": [
              "11.819164192334132"
            ]
          },
          "metadata": {},
          "execution_count": 4
        }
      ],
      "source": [
        "# getting the threshold\n",
        "\n",
        "thresh = np.median(y)\n",
        "thresh\n",
        "\n",
        "# now we are concluding that if size of star is bigger than thresh, then it is a BIG star\n",
        "# otherwise it's a SMALL star"
      ]
    },
    {
      "cell_type": "code",
      "execution_count": null,
      "id": "5282de57",
      "metadata": {
        "colab": {
          "base_uri": "https://localhost:8080/"
        },
        "id": "5282de57",
        "outputId": "84cffd50-3648-4125-f065-2dd45ad4c6f3"
      },
      "outputs": [
        {
          "output_type": "execute_result",
          "data": {
            "text/plain": [
              "(100, 1)"
            ]
          },
          "metadata": {},
          "execution_count": 5
        }
      ],
      "source": [
        "m, n = X.shape\n",
        "m, n"
      ]
    },
    {
      "cell_type": "markdown",
      "source": [
        "output = W*x +b\n",
        "\n",
        "w,b = 0\n",
        "\n",
        "\n",
        "\n",
        "y_cap = w*X1 + b\n",
        "y = 10.07\n",
        "\n",
        "\n",
        "y_cap = 12\n",
        "\n",
        "\n",
        "find the error between predicated and actual output:\n",
        "\n",
        "Error = (y - y_cap)\n",
        "\n",
        "cost_function = Mean Square Error (L2 Error):\n",
        "\n",
        "C_f = 1/N * (summation (y-y_cap)**2)\n",
        "--------------\n",
        "--------------\n",
        "\n",
        "y_cap =  W*x + b\n",
        "\n",
        "-----------\n",
        "w, b in order to change your output.\n",
        "\n",
        "- minimize the error and update the values of weights and bias \n",
        "\n",
        "after getting the derivative of weight and bias \n",
        "\n",
        "we will update the weights and bias ⁉\n",
        "\n",
        "w_updated = weight_old - learning_rate*(derivative of weight)\n",
        "b_updated = bias_old - learning_rate* (derivative of bias)\n",
        "\n",
        "\n",
        "\n"
      ],
      "metadata": {
        "id": "_vXTo-XXErFK"
      },
      "id": "_vXTo-XXErFK"
    },
    {
      "cell_type": "code",
      "source": [],
      "metadata": {
        "id": "fgYaUMPkEqfv"
      },
      "id": "fgYaUMPkEqfv",
      "execution_count": null,
      "outputs": []
    },
    {
      "cell_type": "code",
      "execution_count": null,
      "id": "22397f92",
      "metadata": {
        "id": "22397f92"
      },
      "outputs": [],
      "source": [
        "W = np.zeros(n)\n",
        "b = 0\n",
        "\n",
        "iterations = 1000\n",
        "learning_rate = 0.01"
      ]
    },
    {
      "cell_type": "code",
      "execution_count": null,
      "id": "f6643906",
      "metadata": {
        "id": "f6643906"
      },
      "outputs": [],
      "source": [
        "def predict(X, W, b):\n",
        "    return W*X + b"
      ]
    },
    {
      "cell_type": "code",
      "execution_count": null,
      "id": "dbd852f8",
      "metadata": {
        "id": "dbd852f8"
      },
      "outputs": [],
      "source": [
        "def cost_function(X, y, W, b):\n",
        "    n = len(X)\n",
        "    total_error = 0.0\n",
        "    for i in range(n):\n",
        "        total_error += (y[i] - (W*X[i] + b))**2\n",
        "    return total_error / n"
      ]
    },
    {
      "cell_type": "markdown",
      "source": [
        "https://ml-cheatsheet.readthedocs.io/en/latest/linear_regression.html#gradient-descent"
      ],
      "metadata": {
        "id": "1U2-9DjSXbT1"
      },
      "id": "1U2-9DjSXbT1"
    },
    {
      "cell_type": "code",
      "execution_count": null,
      "id": "ba1cd681",
      "metadata": {
        "id": "ba1cd681"
      },
      "outputs": [],
      "source": [
        "def update_weights(X, y, W, b, learning_rate):\n",
        "    dW = 0\n",
        "    db = 0\n",
        "    n = len(X)\n",
        "\n",
        "    for i in range(n):\n",
        "        # Calculate partial derivatives\n",
        "        # -2x(y - (mx + b))\n",
        "        dW += -2*X[i] * (y[i] - (W*X[i] + b))\n",
        "\n",
        "        # -2(y - (mx + b))\n",
        "        db += -2*(y[i] - (W*X[i] + b))\n",
        "\n",
        "    # We subtract because the derivatives point in direction of steepest ascent\n",
        "    W -= (dW / n) * learning_rate\n",
        "    b -= (db / n) * learning_rate\n",
        "\n",
        "    return W, b"
      ]
    },
    {
      "cell_type": "code",
      "execution_count": null,
      "id": "bf2d8e30",
      "metadata": {
        "id": "bf2d8e30"
      },
      "outputs": [],
      "source": [
        "def train(X, y, W, b, learning_rate, iterations):\n",
        "    costs = []\n",
        "\n",
        "    for i in range(iterations):\n",
        "        W, b = update_weights(X, y, W, b, learning_rate)\n",
        "\n",
        "        #Calculate cost for auditing purposes\n",
        "        cost = cost_function(X, y, W, b)\n",
        "        costs.append(cost)\n",
        "\n",
        "        # Log Progress\n",
        "        if i % 10 == 0:\n",
        "            print(\"iter={}, weight={}, bias={}, cost={}\".format(i, W, b, cost))\n",
        "\n",
        "    return W, b, costs"
      ]
    },
    {
      "cell_type": "code",
      "execution_count": null,
      "id": "11396b5c",
      "metadata": {
        "colab": {
          "base_uri": "https://localhost:8080/"
        },
        "id": "11396b5c",
        "outputId": "09908bfb-59e6-4f8c-cedd-a4aeb6098bfe"
      },
      "outputs": [
        {
          "output_type": "stream",
          "name": "stdout",
          "text": [
            "iter=0, weight=[0.32466181], bias=[0.2395274], cost=[130.36266364]\n",
            "iter=10, weight=[2.63412639], bias=[2.03857105], cost=[44.63830589]\n",
            "iter=20, weight=[3.81594242], bias=[3.11540359], cost=[19.07028172]\n",
            "iter=30, weight=[4.39140243], bias=[3.79757321], cost=[11.10462074]\n",
            "iter=40, weight=[4.64199965], bias=[4.2622228], cost=[8.31841319]\n",
            "iter=50, weight=[4.71968722], bias=[4.60523445], cost=[7.08257624]\n",
            "iter=60, weight=[4.70644265], bias=[4.87858323], cost=[6.33473172]\n",
            "iter=70, weight=[4.64644571], bias=[5.11051702], cost=[5.76184702]\n",
            "iter=80, weight=[4.56346153], bias=[5.3164584], cost=[5.26983079]\n",
            "iter=90, weight=[4.47023112], bias=[5.50489445], cost=[4.82871782]\n",
            "iter=100, weight=[4.37354419], bias=[5.68055885], cost=[4.42746815]\n",
            "iter=110, weight=[4.27697942], bias=[5.84615121], cost=[4.0607579]\n",
            "iter=120, weight=[4.18238466], bias=[6.00326618], cost=[3.72510806]\n",
            "iter=130, weight=[4.09067639], bias=[6.15289564], cost=[3.41773984]\n",
            "iter=140, weight=[4.00227143], bias=[6.29570022], cost=[3.13622703]\n",
            "iter=150, weight=[3.91732009], bias=[6.43215625], cost=[2.87838211]\n",
            "iter=160, weight=[3.83583185], bias=[6.56263536], cost=[2.64221153]\n",
            "iter=170, weight=[3.75774325], bias=[6.68744774], cost=[2.42589229]\n",
            "iter=180, weight=[3.68295434], bias=[6.80686564], cost=[2.22775546]\n",
            "iter=190, weight=[3.61134828], bias=[6.92113635], cost=[2.04627266]\n",
            "iter=200, weight=[3.54280182], bias=[7.03048937], cost=[1.88004404]\n",
            "iter=210, weight=[3.47719081], bias=[7.13514046], cost=[1.72778743]\n",
            "iter=220, weight=[3.41439311], bias=[7.23529402], cost=[1.58832843]\n",
            "iter=230, weight=[3.35429], bias=[7.33114455], cost=[1.46059138]\n",
            "iter=240, weight=[3.2967669], bias=[7.42287758], cost=[1.343591]\n",
            "iter=250, weight=[3.24171362], bias=[7.51067032], cost=[1.23642484]\n",
            "iter=260, weight=[3.18902442], bias=[7.59469223], cost=[1.13826632]\n",
            "iter=270, weight=[3.13859794], bias=[7.67510537], cost=[1.04835831]\n",
            "iter=280, weight=[3.0903371], bias=[7.75206479], cost=[0.96600734]\n",
            "iter=290, weight=[3.04414895], bias=[7.82571887], cost=[0.8905782]\n",
            "iter=300, weight=[2.99994448], bias=[7.89620956], cost=[0.82148911]\n",
            "iter=310, weight=[2.95763853], bias=[7.96367276], cost=[0.75820716]\n",
            "iter=320, weight=[2.91714955], bias=[8.02823849], cost=[0.70024424]\n",
            "iter=330, weight=[2.87839952], bias=[8.0900312], cost=[0.64715328]\n",
            "iter=340, weight=[2.84131375], bias=[8.14916998], cost=[0.59852477]\n",
            "iter=350, weight=[2.80582077], bias=[8.20576883], cost=[0.55398363]\n",
            "iter=360, weight=[2.77185217], bias=[8.25993683], cost=[0.5131863]\n",
            "iter=370, weight=[2.73934248], bias=[8.31177837], cost=[0.47581811]\n",
            "iter=380, weight=[2.70822904], bias=[8.36139339], cost=[0.44159082]\n",
            "iter=390, weight=[2.67845189], bias=[8.4088775], cost=[0.41024044]\n",
            "iter=400, weight=[2.64995362], bias=[8.45432222], cost=[0.38152515]\n",
            "iter=410, weight=[2.62267932], bias=[8.49781515], cost=[0.35522347]\n",
            "iter=420, weight=[2.59657642], bias=[8.53944012], cost=[0.33113252]\n",
            "iter=430, weight=[2.57159461], bias=[8.57927734], cost=[0.30906648]\n",
            "iter=440, weight=[2.54768573], bias=[8.6174036], cost=[0.28885516]\n",
            "iter=450, weight=[2.52480371], bias=[8.65389239], cost=[0.27034266]\n",
            "iter=460, weight=[2.50290445], bias=[8.68881403], cost=[0.25338619]\n",
            "iter=470, weight=[2.48194573], bias=[8.72223582], cost=[0.23785497]\n",
            "iter=480, weight=[2.46188717], bias=[8.75422219], cost=[0.22362919]\n",
            "iter=490, weight=[2.44269009], bias=[8.78483479], cost=[0.21059912]\n",
            "iter=500, weight=[2.42431751], bias=[8.81413261], cost=[0.19866427]\n",
            "iter=510, weight=[2.406734], bias=[8.84217213], cost=[0.18773259]\n",
            "iter=520, weight=[2.38990569], bias=[8.86900738], cost=[0.17771974]\n",
            "iter=530, weight=[2.37380013], bias=[8.8946901], cost=[0.1685485]\n",
            "iter=540, weight=[2.35838628], bias=[8.91926977], cost=[0.16014813]\n",
            "iter=550, weight=[2.34363444], bias=[8.94279377], cost=[0.15245384]\n",
            "iter=560, weight=[2.32951618], bias=[8.96530745], cost=[0.14540627]\n",
            "iter=570, weight=[2.31600427], bias=[8.98685419], cost=[0.13895107]\n",
            "iter=580, weight=[2.30307269], bias=[9.00747553], cost=[0.13303846]\n",
            "iter=590, weight=[2.2906965], bias=[9.02721121], cost=[0.12762281]\n",
            "iter=600, weight=[2.27885185], bias=[9.04609926], cost=[0.12266237]\n",
            "iter=610, weight=[2.26751592], bias=[9.0641761], cost=[0.11811886]\n",
            "iter=620, weight=[2.25666685], bias=[9.08147655], cost=[0.11395725]\n",
            "iter=630, weight=[2.24628373], bias=[9.09803398], cost=[0.11014544]\n",
            "iter=640, weight=[2.23634656], bias=[9.11388028], cost=[0.10665402]\n",
            "iter=650, weight=[2.22683618], bias=[9.129046], cost=[0.10345606]\n",
            "iter=660, weight=[2.21773425], bias=[9.14356037], cost=[0.1005269]\n",
            "iter=670, weight=[2.20902325], bias=[9.15745137], cost=[0.09784395]\n",
            "iter=680, weight=[2.20068636], bias=[9.17074577], cost=[0.09538651]\n",
            "iter=690, weight=[2.19270754], bias=[9.18346919], cost=[0.09313562]\n",
            "iter=700, weight=[2.1850714], bias=[9.19564616], cost=[0.09107392]\n",
            "iter=710, weight=[2.17776322], bias=[9.20730013], cost=[0.08918552]\n",
            "iter=720, weight=[2.17076892], bias=[9.21845359], cost=[0.08745584]\n",
            "iter=730, weight=[2.16407502], bias=[9.22912802], cost=[0.08587155]\n",
            "iter=740, weight=[2.15766861], bias=[9.23934399], cost=[0.08442042]\n",
            "iter=750, weight=[2.15153735], bias=[9.2491212], cost=[0.08309127]\n",
            "iter=760, weight=[2.14566941], bias=[9.25847849], cost=[0.08187383]\n",
            "iter=770, weight=[2.1400535], bias=[9.2674339], cost=[0.08075872]\n",
            "iter=780, weight=[2.13467879], bias=[9.27600468], cost=[0.07973734]\n",
            "iter=790, weight=[2.12953491], bias=[9.28420736], cost=[0.07880181]\n",
            "iter=800, weight=[2.12461196], bias=[9.29205775], cost=[0.07794492]\n",
            "iter=810, weight=[2.11990044], bias=[9.29957097], cost=[0.07716004]\n",
            "iter=820, weight=[2.11539127], bias=[9.3067615], cost=[0.07644114]\n",
            "iter=830, weight=[2.11107577], bias=[9.31364321], cost=[0.07578267]\n",
            "iter=840, weight=[2.10694561], bias=[9.32022936], cost=[0.07517954]\n",
            "iter=850, weight=[2.10299284], bias=[9.32653265], cost=[0.07462711]\n",
            "iter=860, weight=[2.09920983], bias=[9.33256521], cost=[0.07412111]\n",
            "iter=870, weight=[2.0955893], bias=[9.33833869], cost=[0.07365764]\n",
            "iter=880, weight=[2.09212427], bias=[9.3438642], cost=[0.07323313]\n",
            "iter=890, weight=[2.08880806], bias=[9.34915239], cost=[0.0728443]\n",
            "iter=900, weight=[2.08563427], bias=[9.35421347], cost=[0.07248815]\n",
            "iter=910, weight=[2.0825968], bias=[9.35905717], cost=[0.07216193]\n",
            "iter=920, weight=[2.07968978], bias=[9.36369285], cost=[0.07186314]\n",
            "iter=930, weight=[2.07690761], bias=[9.36812943], cost=[0.07158946]\n",
            "iter=940, weight=[2.07424493], bias=[9.37237546], cost=[0.07133878]\n",
            "iter=950, weight=[2.07169662], bias=[9.37643914], cost=[0.07110918]\n",
            "iter=960, weight=[2.06925774], bias=[9.38032828], cost=[0.07089887]\n",
            "iter=970, weight=[2.06692362], bias=[9.38405039], cost=[0.07070624]\n",
            "iter=980, weight=[2.06468974], bias=[9.38761264], cost=[0.0705298]\n",
            "iter=990, weight=[2.06255181], bias=[9.39102189], cost=[0.07036819]\n"
          ]
        }
      ],
      "source": [
        "costs = np.zeros(iterations)\n",
        "\n",
        "# Running Gradient Descent\n",
        "#W, b, costs = gradient_descent(X, y, W, b, learning_rate, iterations)\n",
        "W, b, costs = train(X, y, W, b, learning_rate, iterations)"
      ]
    },
    {
      "cell_type": "code",
      "execution_count": null,
      "id": "cf36656b",
      "metadata": {
        "colab": {
          "base_uri": "https://localhost:8080/"
        },
        "id": "cf36656b",
        "outputId": "c7ad7296-e5dc-483c-aecb-c813ca0596ca"
      },
      "outputs": [
        {
          "output_type": "execute_result",
          "data": {
            "text/plain": [
              "array([2.06070629])"
            ]
          },
          "metadata": {},
          "execution_count": 12
        }
      ],
      "source": [
        "W"
      ]
    },
    {
      "cell_type": "code",
      "execution_count": null,
      "id": "d59d388b",
      "metadata": {
        "colab": {
          "base_uri": "https://localhost:8080/"
        },
        "id": "d59d388b",
        "outputId": "cfbf8b82-861a-492e-c84b-4cb7c56498b1"
      },
      "outputs": [
        {
          "output_type": "stream",
          "name": "stdout",
          "text": [
            "Final W value: [2.06070629]\n",
            "Final b value: [9.39396485]\n",
            "Final Cost/MSE(L2 Loss) Value: [0.07023439]\n"
          ]
        }
      ],
      "source": [
        "# printing final values.\n",
        "print('Final W value: {}\\nFinal b value: {}'.format(W, b))\n",
        "print('Final Cost/MSE(L2 Loss) Value: {}'.format(costs[-1]))"
      ]
    },
    {
      "cell_type": "code",
      "execution_count": null,
      "id": "7384e581",
      "metadata": {
        "colab": {
          "base_uri": "https://localhost:8080/",
          "height": 312
        },
        "id": "7384e581",
        "outputId": "7ab54d85-7b11-4921-fbba-d2ce0b4f8e49"
      },
      "outputs": [
        {
          "output_type": "execute_result",
          "data": {
            "text/plain": [
              "Text(0.5, 1.0, 'Cost vs Iterations Analysis')"
            ]
          },
          "metadata": {},
          "execution_count": 14
        },
        {
          "output_type": "display_data",
          "data": {
            "text/plain": [
              "<Figure size 432x288 with 1 Axes>"
            ],
            "image/png": "[encoded data removed]"
          },
          "metadata": {
            "needs_background": "light"
          }
        }
      ],
      "source": [
        "# Plotting Line Plot for Number of Iterations vs MSE\n",
        "plt.plot(range(iterations),costs)\n",
        "plt.xlabel('Number of Iterations')\n",
        "plt.ylabel('Mean Squared Error')\n",
        "plt.title('Cost vs Iterations Analysis')"
      ]
    },
    {
      "cell_type": "code",
      "source": [],
      "metadata": {
        "id": "NVSuHwztaJVj"
      },
      "id": "NVSuHwztaJVj",
      "execution_count": null,
      "outputs": []
    },
    {
      "cell_type": "code",
      "execution_count": null,
      "id": "1d03bc56",
      "metadata": {
        "colab": {
          "base_uri": "https://localhost:8080/"
        },
        "id": "1d03bc56",
        "outputId": "15d28a1e-15c0-40e2-8352-b8622c2d6e31"
      },
      "outputs": [
        {
          "output_type": "stream",
          "name": "stdout",
          "text": [
            "Data point: [[0.44132411]\n",
            " [1.41420005]\n",
            " [1.08643061]\n",
            " [1.67444032]\n",
            " [1.13713429]\n",
            " [0.72534124]\n",
            " [2.21728992]\n",
            " [0.78332323]\n",
            " [1.18379795]\n",
            " [0.95175   ]], [[ 9.97307522]\n",
            " [12.27194681]\n",
            " [12.00869118]\n",
            " [13.2382948 ]\n",
            " [12.17063134]\n",
            " [11.04157348]\n",
            " [14.26209958]\n",
            " [11.22682118]\n",
            " [12.34055112]\n",
            " [11.88561189]]\n"
          ]
        }
      ],
      "source": [
        "# Prediction\n",
        "\n",
        "# Generate data points like before\n",
        "X_test = 3*np.random.rand(10,1)\n",
        "y_test = 9 + 2*X_test + np.random.rand(10,1)\n",
        "\n",
        "# Show the data point\n",
        "data_string = 'Data point: {}, {}'\n",
        "print(data_string.format(X_test, y_test))"
      ]
    },
    {
      "cell_type": "code",
      "execution_count": null,
      "id": "c9a87c0f",
      "metadata": {
        "colab": {
          "base_uri": "https://localhost:8080/"
        },
        "id": "c9a87c0f",
        "outputId": "0ab734c7-20fd-4b80-f2c7-21c7596eade8"
      },
      "outputs": [
        {
          "output_type": "execute_result",
          "data": {
            "text/plain": [
              "array([[10.30340421],\n",
              "       [12.30821579],\n",
              "       [11.63277924],\n",
              "       [12.84449455],\n",
              "       [11.73726464],\n",
              "       [10.88868011],\n",
              "       [13.96314813],\n",
              "       [11.00816395],\n",
              "       [11.83342473],\n",
              "       [11.35524205]])"
            ]
          },
          "metadata": {},
          "execution_count": 16
        }
      ],
      "source": [
        "prediction = predict(X_test, W, b)\n",
        "prediction"
      ]
    },
    {
      "cell_type": "code",
      "execution_count": null,
      "id": "b1631e94",
      "metadata": {
        "colab": {
          "base_uri": "https://localhost:8080/"
        },
        "id": "b1631e94",
        "outputId": "56ee9fad-60df-4fa2-81ac-3e13f5ca522a"
      },
      "outputs": [
        {
          "output_type": "execute_result",
          "data": {
            "text/plain": [
              "0.9"
            ]
          },
          "metadata": {},
          "execution_count": 17
        }
      ],
      "source": [
        "score = float(sum(np.round(prediction) == np.round(y_test)))/ float(len(y_test))\n",
        "score"
      ]
    },
    {
      "cell_type": "code",
      "execution_count": null,
      "id": "79de7593",
      "metadata": {
        "colab": {
          "base_uri": "https://localhost:8080/",
          "height": 282
        },
        "id": "79de7593",
        "outputId": "c506a2a0-b523-41a1-ddbc-3652c196319a"
      },
      "outputs": [
        {
          "output_type": "execute_result",
          "data": {
            "text/plain": [
              "[<matplotlib.lines.Line2D at 0x7f67b4705290>]"
            ]
          },
          "metadata": {},
          "execution_count": 18
        },
        {
          "output_type": "display_data",
          "data": {
            "text/plain": [
              "<Figure size 432x288 with 1 Axes>"
            ],
            "image/png": "[encoded data removed]"
          },
          "metadata": {
            "needs_background": "light"
          }
        }
      ],
      "source": [
        "plt.scatter(X_test, y_test, color=\"blue\", label=\"original\")\n",
        "plt.plot(X_test, prediction, color=\"red\", label=\"predicted\")"
      ]
    },
    {
      "cell_type": "code",
      "execution_count": null,
      "id": "fe943512",
      "metadata": {
        "colab": {
          "base_uri": "https://localhost:8080/"
        },
        "id": "fe943512",
        "outputId": "ed9cccee-9777-46a4-a0ba-7183e4b97e8d"
      },
      "outputs": [
        {
          "output_type": "stream",
          "name": "stdout",
          "text": [
            "Data point: [[1.53030325]], [[12.18267505]]\n"
          ]
        }
      ],
      "source": [
        "# Let's talk about one star now!\n",
        "\n",
        "#Generate one data point\n",
        "X_test = 3*np.random.rand(1,1)\n",
        "y_test = 9 + 2*X_test + np.random.rand(1,1)\n",
        "\n",
        "# Show the data point\n",
        "data_string = 'Data point: {}, {}'\n",
        "print(data_string.format(X_test, y_test))"
      ]
    },
    {
      "cell_type": "code",
      "execution_count": null,
      "id": "9dfa5f35",
      "metadata": {
        "colab": {
          "base_uri": "https://localhost:8080/"
        },
        "id": "9dfa5f35",
        "outputId": "84a92442-099d-4104-e970-b694d1e0d451"
      },
      "outputs": [
        {
          "output_type": "execute_result",
          "data": {
            "text/plain": [
              "array([[12.54747037]])"
            ]
          },
          "metadata": {},
          "execution_count": 20
        }
      ],
      "source": [
        "prediction = predict(X_test, W, b)\n",
        "prediction"
      ]
    },
    {
      "cell_type": "code",
      "execution_count": null,
      "id": "ce158934",
      "metadata": {
        "id": "ce158934",
        "outputId": "60e9a2f3-936d-4987-a0c0-e6d0471976ae",
        "colab": {
          "base_uri": "https://localhost:8080/"
        }
      },
      "outputs": [
        {
          "output_type": "execute_result",
          "data": {
            "text/plain": [
              "0.0"
            ]
          },
          "metadata": {},
          "execution_count": 21
        }
      ],
      "source": [
        "score = float(sum(np.round(prediction) == np.round(y_test)))/ float(len(y_test))\n",
        "score"
      ]
    },
    {
      "cell_type": "code",
      "execution_count": null,
      "id": "77dc0cad",
      "metadata": {
        "colab": {
          "base_uri": "https://localhost:8080/"
        },
        "id": "77dc0cad",
        "outputId": "5b800cc0-77b8-4071-a3fc-b5b40cc3ed96"
      },
      "outputs": [
        {
          "output_type": "stream",
          "name": "stdout",
          "text": [
            "We've got a big star..\n"
          ]
        }
      ],
      "source": [
        "if prediction >= thresh:\n",
        "    print('We\\'ve got a big star..')\n",
        "else:\n",
        "    print('We\\'ve got a cute lil star!')"
      ]
    },
    {
      "cell_type": "code",
      "execution_count": null,
      "id": "ca520fc6",
      "metadata": {
        "id": "ca520fc6"
      },
      "outputs": [],
      "source": []
    }
  ],
  "metadata": {
    "kernelspec": {
      "display_name": "Python 3 (ipykernel)",
      "language": "python",
      "name": "python3"
    },
    "language_info": {
      "codemirror_mode": {
        "name": "ipython",
        "version": 3
      },
      "file_extension": ".py",
      "mimetype": "text/x-python",
      "name": "python",
      "nbconvert_exporter": "python",
      "pygments_lexer": "ipython3",
      "version": "3.7.3"
    },
    "colab": {
      "provenance": [],
      "collapsed_sections": []
    }
  },
  "nbformat": 4,
  "nbformat_minor": 5
}