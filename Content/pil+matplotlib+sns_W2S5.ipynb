{
  "metadata": {
    "kernelspec": {
      "language": "python",
      "display_name": "Python 3",
      "name": "python3"
    },
    "language_info": {
      "name": "python",
      "version": "3.7.12",
      "mimetype": "text/x-python",
      "codemirror_mode": {
        "name": "ipython",
        "version": 3
      },
      "pygments_lexer": "ipython3",
      "nbconvert_exporter": "python",
      "file_extension": ".py"
    },
    "colab": {
      "provenance": [],
      "collapsed_sections": [
        "3fPzc6cBKEZi",
        "XQ4SWYD2Sl8L",
        "h8_otcoyTieW"
      ]
    }
  },
  "nbformat_minor": 0,
  "nbformat": 4,
  "cells": [
    {
      "cell_type": "markdown",
      "source": [
        "# <center> W2S5 - Imagining and Visualisation Tools"
      ],
      "metadata": {
        "id": "wBCvb7nXWOSZ"
      }
    },
    {
      "cell_type": "markdown",
      "source": [
        "**In this session we will look into the following libraries:-**      \n",
        "- *Pillow*\n",
        "- *Matplotlib*\n",
        "- *Seaborn*\n"
      ],
      "metadata": {
        "id": "X6B2PJr6JJyu"
      }
    },
    {
      "cell_type": "markdown",
      "source": [
        "#### <mark>Pillow</mark>"
      ],
      "metadata": {
        "id": "3fPzc6cBKEZi"
      }
    },
    {
      "cell_type": "code",
      "source": [
        "from PIL import Image\n",
        "import warnings\n",
        "warnings.filterwarnings('ignore')"
      ],
      "metadata": {
        "execution": {
          "iopub.status.busy": "2022-07-01T08:58:06.070933Z",
          "iopub.execute_input": "2022-07-01T08:58:06.071503Z",
          "iopub.status.idle": "2022-07-01T08:58:06.109009Z",
          "shell.execute_reply.started": "2022-07-01T08:58:06.071388Z",
          "shell.execute_reply": "2022-07-01T08:58:06.107162Z"
        },
        "trusted": true,
        "id": "FeJ1dxjJGc5D"
      },
      "execution_count": null,
      "outputs": []
    },
    {
      "cell_type": "code",
      "source": [
        "im = Image.open('../input/film-image/elephant.jpg')\n",
        "print(im.getbands())\n",
        "print(im.mode)\n",
        "print(im.size)"
      ],
      "metadata": {
        "execution": {
          "iopub.status.busy": "2022-07-01T08:58:06.220460Z",
          "iopub.execute_input": "2022-07-01T08:58:06.221094Z",
          "iopub.status.idle": "2022-07-01T08:58:06.253177Z",
          "shell.execute_reply.started": "2022-07-01T08:58:06.221061Z",
          "shell.execute_reply": "2022-07-01T08:58:06.251983Z"
        },
        "trusted": true,
        "id": "YPhLt_CGGc5L"
      },
      "execution_count": null,
      "outputs": []
    },
    {
      "cell_type": "code",
      "source": [
        "im"
      ],
      "metadata": {
        "execution": {
          "iopub.status.busy": "2022-07-01T08:58:06.359528Z",
          "iopub.execute_input": "2022-07-01T08:58:06.360338Z",
          "iopub.status.idle": "2022-07-01T08:58:06.424863Z",
          "shell.execute_reply.started": "2022-07-01T08:58:06.360297Z",
          "shell.execute_reply": "2022-07-01T08:58:06.423959Z"
        },
        "trusted": true,
        "id": "d4xAhNitGc5M"
      },
      "execution_count": null,
      "outputs": []
    },
    {
      "cell_type": "code",
      "source": [
        "box = (200, 110, 300, 300)\n",
        "cropped_image = im.crop(box)\n",
        "cropped_image"
      ],
      "metadata": {
        "execution": {
          "iopub.status.busy": "2022-07-01T08:58:06.426147Z",
          "iopub.execute_input": "2022-07-01T08:58:06.426447Z",
          "iopub.status.idle": "2022-07-01T08:58:06.439823Z",
          "shell.execute_reply.started": "2022-07-01T08:58:06.426418Z",
          "shell.execute_reply": "2022-07-01T08:58:06.438923Z"
        },
        "trusted": true,
        "id": "AXVDo4Y1Gc5M"
      },
      "execution_count": null,
      "outputs": []
    },
    {
      "cell_type": "code",
      "source": [
        "rotated = im.rotate(180)\n",
        "rotated"
      ],
      "metadata": {
        "execution": {
          "iopub.status.busy": "2022-07-01T08:58:06.470575Z",
          "iopub.execute_input": "2022-07-01T08:58:06.471572Z",
          "iopub.status.idle": "2022-07-01T08:58:06.519532Z",
          "shell.execute_reply.started": "2022-07-01T08:58:06.471507Z",
          "shell.execute_reply": "2022-07-01T08:58:06.518431Z"
        },
        "trusted": true,
        "id": "SeznqaVHGc5N"
      },
      "execution_count": null,
      "outputs": []
    },
    {
      "cell_type": "code",
      "source": [
        "im_1 = Image.open('../input/film-image/film.png')\n",
        "position = (150, 400)\n",
        "im.paste(im_1, position)\n",
        "im.save('merged.jpg')\n",
        "im"
      ],
      "metadata": {
        "execution": {
          "iopub.status.busy": "2022-07-01T08:58:06.521175Z",
          "iopub.execute_input": "2022-07-01T08:58:06.522899Z",
          "iopub.status.idle": "2022-07-01T08:58:06.595302Z",
          "shell.execute_reply.started": "2022-07-01T08:58:06.522820Z",
          "shell.execute_reply": "2022-07-01T08:58:06.594072Z"
        },
        "trusted": true,
        "id": "EfN6QDthGc5O"
      },
      "execution_count": null,
      "outputs": []
    },
    {
      "cell_type": "code",
      "source": [
        "im = Image.open('../input/film-image/elephant.jpg')\n",
        "image_copy = im.copy()\n",
        "position = (150,400)\n",
        "image_copy.paste(im_1, position)\n",
        "image_copy"
      ],
      "metadata": {
        "execution": {
          "iopub.status.busy": "2022-07-01T08:58:06.598404Z",
          "iopub.execute_input": "2022-07-01T08:58:06.599684Z",
          "iopub.status.idle": "2022-07-01T08:58:06.652340Z",
          "shell.execute_reply.started": "2022-07-01T08:58:06.599631Z",
          "shell.execute_reply": "2022-07-01T08:58:06.651236Z"
        },
        "trusted": true,
        "id": "-xk4Su5lGc5P"
      },
      "execution_count": null,
      "outputs": []
    },
    {
      "cell_type": "code",
      "source": [
        "im.transpose(Image.FLIP_TOP_BOTTOM)"
      ],
      "metadata": {
        "execution": {
          "iopub.status.busy": "2022-07-01T08:58:06.654827Z",
          "iopub.execute_input": "2022-07-01T08:58:06.655537Z",
          "iopub.status.idle": "2022-07-01T08:58:06.704768Z",
          "shell.execute_reply.started": "2022-07-01T08:58:06.655490Z",
          "shell.execute_reply": "2022-07-01T08:58:06.703496Z"
        },
        "trusted": true,
        "id": "l1ii84q9Gc5Q"
      },
      "execution_count": null,
      "outputs": []
    },
    {
      "cell_type": "code",
      "source": [
        "import numpy as np\n",
        "im_array = np.array(im)"
      ],
      "metadata": {
        "execution": {
          "iopub.status.busy": "2022-07-01T08:58:06.708587Z",
          "iopub.execute_input": "2022-07-01T08:58:06.709124Z",
          "iopub.status.idle": "2022-07-01T08:58:06.720835Z",
          "shell.execute_reply.started": "2022-07-01T08:58:06.709076Z",
          "shell.execute_reply": "2022-07-01T08:58:06.716922Z"
        },
        "trusted": true,
        "id": "EDORWFWqGc5S"
      },
      "execution_count": null,
      "outputs": []
    },
    {
      "cell_type": "code",
      "source": [
        "im.convert('L')\n",
        "im"
      ],
      "metadata": {
        "execution": {
          "iopub.status.busy": "2022-07-01T08:58:06.723586Z",
          "iopub.execute_input": "2022-07-01T08:58:06.725222Z",
          "iopub.status.idle": "2022-07-01T08:58:06.773902Z",
          "shell.execute_reply.started": "2022-07-01T08:58:06.725145Z",
          "shell.execute_reply": "2022-07-01T08:58:06.772530Z"
        },
        "trusted": true,
        "id": "KygldTlJGc5T"
      },
      "execution_count": null,
      "outputs": []
    },
    {
      "cell_type": "code",
      "source": [
        "im.convert('RGBA')\n",
        "im"
      ],
      "metadata": {
        "execution": {
          "iopub.status.busy": "2022-07-01T08:58:06.775753Z",
          "iopub.execute_input": "2022-07-01T08:58:06.776504Z",
          "iopub.status.idle": "2022-07-01T08:58:06.821987Z",
          "shell.execute_reply.started": "2022-07-01T08:58:06.776460Z",
          "shell.execute_reply": "2022-07-01T08:58:06.820355Z"
        },
        "trusted": true,
        "id": "B2wfruvJGc5U"
      },
      "execution_count": null,
      "outputs": []
    },
    {
      "cell_type": "code",
      "source": [
        "dog = Image.open('../input/film-image/dog.jpg')\n",
        "dog"
      ],
      "metadata": {
        "execution": {
          "iopub.status.busy": "2022-07-01T08:58:06.824715Z",
          "iopub.execute_input": "2022-07-01T08:58:06.825891Z",
          "iopub.status.idle": "2022-07-01T08:58:06.898037Z",
          "shell.execute_reply.started": "2022-07-01T08:58:06.825839Z",
          "shell.execute_reply": "2022-07-01T08:58:06.896878Z"
        },
        "trusted": true,
        "id": "u0RU7ATwGc5V"
      },
      "execution_count": null,
      "outputs": []
    },
    {
      "cell_type": "code",
      "source": [
        "dog.convert('L')"
      ],
      "metadata": {
        "execution": {
          "iopub.status.busy": "2022-07-01T08:58:06.899783Z",
          "iopub.execute_input": "2022-07-01T08:58:06.900592Z",
          "iopub.status.idle": "2022-07-01T08:58:06.927497Z",
          "shell.execute_reply.started": "2022-07-01T08:58:06.900547Z",
          "shell.execute_reply": "2022-07-01T08:58:06.926451Z"
        },
        "trusted": true,
        "id": "C47ePeygGc5W"
      },
      "execution_count": null,
      "outputs": []
    },
    {
      "cell_type": "code",
      "source": [
        "from PIL import ImageDraw"
      ],
      "metadata": {
        "execution": {
          "iopub.status.busy": "2022-07-01T08:58:06.931642Z",
          "iopub.execute_input": "2022-07-01T08:58:06.933133Z",
          "iopub.status.idle": "2022-07-01T08:58:06.961483Z",
          "shell.execute_reply.started": "2022-07-01T08:58:06.933082Z",
          "shell.execute_reply": "2022-07-01T08:58:06.960363Z"
        },
        "trusted": true,
        "id": "78w2SysIGc5W"
      },
      "execution_count": null,
      "outputs": []
    },
    {
      "cell_type": "code",
      "source": [
        "image = Image.new('RGB', (400, 400))\n",
        "img_draw = ImageDraw.Draw(image)\n",
        "img_draw"
      ],
      "metadata": {
        "execution": {
          "iopub.status.busy": "2022-07-01T08:58:06.963191Z",
          "iopub.execute_input": "2022-07-01T08:58:06.964007Z",
          "iopub.status.idle": "2022-07-01T08:58:06.973574Z",
          "shell.execute_reply.started": "2022-07-01T08:58:06.963952Z",
          "shell.execute_reply": "2022-07-01T08:58:06.972010Z"
        },
        "trusted": true,
        "id": "QjtF0oA3Gc5X"
      },
      "execution_count": null,
      "outputs": []
    },
    {
      "cell_type": "code",
      "source": [
        "img_draw.rectangle((100, 30, 300, 200), outline='red', fill='white')\n",
        "img_draw.text((150, 100), 'red-rectangle', fill='red')\n",
        "image.save('drawing.jpg')"
      ],
      "metadata": {
        "execution": {
          "iopub.status.busy": "2022-07-01T08:58:06.978000Z",
          "iopub.execute_input": "2022-07-01T08:58:06.978706Z",
          "iopub.status.idle": "2022-07-01T08:58:06.991429Z",
          "shell.execute_reply.started": "2022-07-01T08:58:06.978657Z",
          "shell.execute_reply": "2022-07-01T08:58:06.989416Z"
        },
        "trusted": true,
        "id": "gvc3OujlGc5X"
      },
      "execution_count": null,
      "outputs": []
    },
    {
      "cell_type": "code",
      "source": [
        "drawing = Image.open('./drawing.jpg')\n",
        "drawing"
      ],
      "metadata": {
        "execution": {
          "iopub.status.busy": "2022-07-01T08:58:07.029242Z",
          "iopub.execute_input": "2022-07-01T08:58:07.031178Z",
          "iopub.status.idle": "2022-07-01T08:58:07.048354Z",
          "shell.execute_reply.started": "2022-07-01T08:58:07.031087Z",
          "shell.execute_reply": "2022-07-01T08:58:07.046952Z"
        },
        "trusted": true,
        "id": "_JwxSsrLGc5Y"
      },
      "execution_count": null,
      "outputs": []
    },
    {
      "cell_type": "markdown",
      "source": [
        "#### <mark>Matplotlib</mark>"
      ],
      "metadata": {
        "id": "XQ4SWYD2Sl8L"
      }
    },
    {
      "cell_type": "code",
      "source": [
        "## Import the necessary libraries\n",
        "import numpy as np\n",
        "import matplotlib.pyplot as plt"
      ],
      "metadata": {
        "id": "7Ac2XJxiSymP"
      },
      "execution_count": null,
      "outputs": []
    },
    {
      "cell_type": "code",
      "source": [
        "## Plot a list of some 4 different numbers of your choice\n",
        "\n",
        "# plot(list of numbers)\n",
        "plt.plot([2, 6, 3, 7])\n",
        "'''These values will be plotted on y axis against by default x value as [0, 1, 2, 3]. Example:- (0,2), (1,6)'''\n",
        "\n",
        "# You dont really need to use show function to display the graph while using colab\n",
        "plt.show()"
      ],
      "metadata": {
        "id": "t9xDZe_dS0On"
      },
      "execution_count": null,
      "outputs": []
    },
    {
      "cell_type": "code",
      "source": [
        "## Define x and y values and then plot it\n",
        "\n",
        "# Creating array of values for x between 0 to 2π with steps of 0.2\n",
        "x = np.arange(0, 2*np.pi, 0.2)\n",
        "\n",
        "# Generating respective values for y using y = sinx + cosx\n",
        "y = np.sin(x) + np.cos(x)\n",
        "\n",
        "# plot(x values, y values)\n",
        "plt.plot(x,y)\n",
        "'''The first input argument is for x and the second one is for y'''\n",
        "\n",
        "# Its just my habit to use plt.show() as I don't always use colab\n",
        "plt.show()"
      ],
      "metadata": {
        "id": "JBzqo2aRS1A3"
      },
      "execution_count": null,
      "outputs": []
    },
    {
      "cell_type": "code",
      "source": [
        "## As we have already defined x and y values we will directly focus on customisation\n",
        "plt.plot(x, y)                      # plot(x, y)\n",
        "plt.title(\"$y = sin(x) + cos(x)$\")  # Title using latex\n",
        "plt.xlabel(\"X - Values\")            # x - axis\n",
        "plt.ylabel(\"Y - Values\")            # y - axis\n",
        "plt.show()"
      ],
      "metadata": {
        "id": "azagVWITS3WE"
      },
      "execution_count": null,
      "outputs": []
    },
    {
      "cell_type": "code",
      "source": [
        "## Adding colors to line, title, labels and marker in the plot\n",
        "plt.plot(x, y, 'k', linewidth = 2,  marker = 'o', markerfacecolor = 'r')  # color = black + marker = o filled with red\n",
        "plt.title(\"$y = sin(x) + cos(x)$\", color = 'red', fontsize = 15)         \n",
        "plt.xlabel(\"X - Values\", color = 'magenta', fontsize = 13)               \n",
        "plt.ylabel(\"Y - Values\", color = 'magenta', fontsize = 13)           \n",
        "plt.show()"
      ],
      "metadata": {
        "id": "Vqi8w1NUS7Ei"
      },
      "execution_count": null,
      "outputs": []
    },
    {
      "cell_type": "code",
      "source": [
        "## Change the figure size, add limits to x and y axis, a reference line and add style to plot\n",
        "plt.figure(figsize = (7, 5))     # figure()\n",
        "plt.style.use('ggplot')          # style.use()\n",
        "plt.plot(x, y, 'k', linewidth = 2,  marker = 'o', markerfacecolor = 'r', label = 'y = f(x)')  \n",
        "plt.plot(x, np.zeros(len(x)), color = 'royalblue', linewidth = 1.5, linestyle = 'dashed', label = \"Refrence line\")\n",
        "plt.legend(loc = 'lower left', fontsize = 12)\n",
        "plt.title(\"$y = sin(x) + cos(x)$\", color = 'red', fontsize = 15)         \n",
        "plt.xlabel(\"X - Values\", color = 'magenta', fontsize = 13)           \n",
        "plt.ylabel(\"Y - Values\", color = 'magenta', fontsize = 13)   \n",
        "plt.xlim([0, max(x)])            # xlim()\n",
        "plt.ylim([-1.5, 1.5])            # ylim()\n",
        "plt.show()"
      ],
      "metadata": {
        "id": "p7ZXCfkpS8JM"
      },
      "execution_count": null,
      "outputs": []
    },
    {
      "cell_type": "code",
      "source": [
        "## Scatter Plot with new data points - Random data for simplicity of understanding\n",
        "np.random.seed(42)\n",
        "x = [np.random.uniform(1, 5) for i in range(50)]\n",
        "y = [np.random.uniform(2, 10) for i in range(50)]\n",
        "plt.figure(figsize=(6,4))\n",
        "plt.style.use('default')\n",
        "plt.scatter(x, y, s = 18, marker = 'x', c = 'maroon', alpha = 0.7)       # alpha - opacity (0 = invisible, 1 = opaque)\n",
        "plt.title(\"Scatter plot demonstration\", color = 'b')\n",
        "plt.xlabel('Random x values', color = 'm')\n",
        "plt.ylabel('Random y values', color = 'm')\n",
        "plt.show()"
      ],
      "metadata": {
        "id": "aeWoDGVETH42"
      },
      "execution_count": null,
      "outputs": []
    },
    {
      "cell_type": "code",
      "source": [
        "## Add multiple plots in a single figure - Subplot\n",
        "\n",
        "# Adjust figuresize and add sup title along with the style sheet\n",
        "plt.figure(figsize=(8, 5))\n",
        "plt.style.use(\"default\")\n",
        "plt.suptitle('Demonstrating Subplot', color = 'red')\n",
        "\n",
        "# Use of run commands parameters to change title size and color in subplot\n",
        "from matplotlib import rcParams \n",
        "rcParams['axes.titlesize'] = 12 \n",
        "rcParams['axes.titlecolor'] = 'magenta'\n",
        "\n",
        "## subplot(nrows, ncols, index) - here we will have total of 4 plots - 2 rows, 2 columns - index from 1 to 4\n",
        "\n",
        "# 1\n",
        "plt.subplot(221)\n",
        "plt.plot([1, 2, 3, 4], color= 'b')\n",
        "plt.title('Plot 1')\n",
        "plt.xlabel('x- axis', fontsize = 10)\n",
        "plt.ylabel('y-axis', fontsize = 10)\n",
        "\n",
        "# 2\n",
        "plt.subplot(222)\n",
        "plt.scatter(np.arange(10), [2, 5, 6, 8, 10, 12, 15, 8, 10, 18], color = 'g')\n",
        "plt.title('Plot 2')\n",
        "plt.xlabel('Independent var', fontsize = 10)\n",
        "plt.ylabel('Dependent var', fontsize = 10)\n",
        "\n",
        "# 3 - Basic Bar plot\n",
        "plt.subplot(223)\n",
        "plt.bar([1, 2, 3, 4],[5, 4, 10, 14], color = 'cyan')\n",
        "plt.title('Plot 3')\n",
        "plt.xticks([]) # Hiding xticks\n",
        "plt.yticks([]) # Hiding yticks\n",
        "\n",
        "# 4 - Basic Pie Plot\n",
        "plt.subplot(224)\n",
        "plt.pie([1, 2, 3, 4], shadow = True)\n",
        "plt.title('Plot 4')\n",
        "\n",
        "# Add some height and width spaces between subplot and display it\n",
        "plt.subplots_adjust(hspace = 0.6, wspace = 0.3)\n",
        "plt.show()"
      ],
      "metadata": {
        "id": "5fpGKXWCTInR"
      },
      "execution_count": null,
      "outputs": []
    },
    {
      "cell_type": "markdown",
      "source": [
        "#### <mark>Searborn</mark>"
      ],
      "metadata": {
        "id": "h8_otcoyTieW"
      }
    },
    {
      "cell_type": "markdown",
      "source": [
        "*As we are just demonstrating seaborn and to make you understand certain concepts we have used two similar datasets.*\n",
        "\n",
        "- [Dataset 1](https://www.kaggle.com/datasets/toramky/automobile-dataset)\n",
        "- [Dataset 2](https://www.kaggle.com/datasets/gargmanas/automobile)\n",
        "\n",
        "*Add this data to your notebook*"
      ],
      "metadata": {
        "id": "wIMGai8uT9TX"
      }
    },
    {
      "cell_type": "code",
      "source": [
        "## Import seaborn\n",
        "import seaborn as sns "
      ],
      "metadata": {
        "id": "vf4EAkhGTkk8"
      },
      "execution_count": null,
      "outputs": []
    },
    {
      "cell_type": "code",
      "source": [
        "# Create the data frame\n",
        "df=pd.read_csv('../input/automobile-dataset/Automobile_data.csv')\n",
        "# Display first 3 rows of data\n",
        "df.head(3)"
      ],
      "metadata": {
        "id": "Pui1tFtfT1aT"
      },
      "execution_count": null,
      "outputs": []
    },
    {
      "cell_type": "code",
      "source": [
        "# Heatmap - using the documentation\n",
        "sns.heatmap(df.isna(), cmap = \"viridis\")"
      ],
      "metadata": {
        "id": "K6iAjKdoUK9Q"
      },
      "execution_count": null,
      "outputs": []
    },
    {
      "cell_type": "code",
      "source": [
        "# Create a copy of original data\n",
        "new_df = df.copy()\n",
        "\n",
        "# Get the shape of data \n",
        "shape = new_df.shape\n",
        "\n",
        "# Create 10 random nan values in data \n",
        "for i in range(10):\n",
        "    row, col = (np.random.randint(shape[j]) for j in range(2))    \n",
        "    new_df.iloc[row, col] = np.nan "
      ],
      "metadata": {
        "id": "Mf7-ucv5UNe6"
      },
      "execution_count": null,
      "outputs": []
    },
    {
      "cell_type": "code",
      "source": [
        "# Check for null values\n",
        "new_df.isnull().sum()"
      ],
      "metadata": {
        "id": "67FnADKTUP_m"
      },
      "execution_count": null,
      "outputs": []
    },
    {
      "cell_type": "code",
      "source": [
        "# Check for null values using heatmap\n",
        "plt.figure(figsize = (15,5))\n",
        "plt.title(\"Visualising 10 randomly created null values in data\", color = 'r', weight = 'bold')\n",
        "sns.heatmap(new_df.isna(), cmap = \"magma\", cbar = False)\n",
        "plt.yticks([])"
      ],
      "metadata": {
        "id": "eMMijAyDUXKb"
      },
      "execution_count": null,
      "outputs": []
    },
    {
      "cell_type": "code",
      "source": [
        "# Correlation\n",
        "corr = df.corr()\n",
        "corr"
      ],
      "metadata": {
        "id": "-KYlINhZUaAa"
      },
      "execution_count": null,
      "outputs": []
    },
    {
      "cell_type": "code",
      "source": [
        "plt.figure(figsize=(9,9))\n",
        "# sns.heatmap(corr, cmap='Set2', annot=False);\n",
        "sns.heatmap(corr, cmap='Set2', annot=True, cbar = False, square = True, linewidth = 2);"
      ],
      "metadata": {
        "id": "vofHh-7sUcEq"
      },
      "execution_count": null,
      "outputs": []
    },
    {
      "cell_type": "code",
      "source": [
        "## Dataset 2\n",
        "df = pd.read_csv('../input/automobile/Automobile.csv')\n",
        "df = df.rename(columns = {\"num_doors\" : \"number_of_doors\"}) # Renaming column\n",
        "df.columns"
      ],
      "metadata": {
        "id": "ZFvfsFmpUej1"
      },
      "execution_count": null,
      "outputs": []
    },
    {
      "cell_type": "code",
      "source": [
        "## Scatter plot \n",
        "\n",
        "# Without regression line\n",
        "sns.lmplot(x=\"horsepower\",y=\"price\",data=df,fit_reg=False)"
      ],
      "metadata": {
        "id": "4cf2YuWbUoNA"
      },
      "execution_count": null,
      "outputs": []
    },
    {
      "cell_type": "code",
      "source": [
        "# With regression line\n",
        "sns.lmplot(x=\"horsepower\",y=\"price\",data=df,fit_reg=True)"
      ],
      "metadata": {
        "id": "dvBD0Qn1UxiD"
      },
      "execution_count": null,
      "outputs": []
    },
    {
      "cell_type": "code",
      "source": [
        "# With hue\n",
        "sns.lmplot(x=\"horsepower\",y=\"price\",data=df,hue=\"fuel_type\")"
      ],
      "metadata": {
        "id": "R-3Phl9cU2je"
      },
      "execution_count": null,
      "outputs": []
    },
    {
      "cell_type": "code",
      "source": [
        "## Distplot\n",
        "\n",
        "#kde argu for remove Density estimation line\n",
        "#color agru for color of plot\n",
        "sns.distplot(df['price'],color='Green',kde=False)"
      ],
      "metadata": {
        "id": "eFPuJEEhU5i7"
      },
      "execution_count": null,
      "outputs": []
    },
    {
      "cell_type": "code",
      "source": [
        "## Jointplot\n",
        "#kind=scatter\n",
        "sns.jointplot(x='price', y='engine_size', data=df,color='Black')"
      ],
      "metadata": {
        "id": "2CgUdKzNU8KC"
      },
      "execution_count": null,
      "outputs": []
    },
    {
      "cell_type": "code",
      "source": [
        "#kind : { \"scatter\" | \"reg\" | \"resid\" | \"kde\" | \"hex\" },\n",
        "#Kind of plot to draw\n",
        "sns.jointplot(x='horsepower', y='engine_size', data=df,color='Red',kind='hex')"
      ],
      "metadata": {
        "id": "1wCCpIr2VARo"
      },
      "execution_count": null,
      "outputs": []
    },
    {
      "cell_type": "code",
      "source": [
        "## Pairplot\n",
        "\n",
        "# It may take some time to run this cell as bunch of plots will be created together!\n",
        "sns.pairplot(df)\n"
      ],
      "metadata": {
        "id": "_hZiKP1VVB7S"
      },
      "execution_count": null,
      "outputs": []
    },
    {
      "cell_type": "code",
      "source": [
        "## Stripplot\n",
        "sns.stripplot(df['number_of_doors'],df['price'],hue=df['fuel_type'],color='Magenta',jitter=0.30)"
      ],
      "metadata": {
        "id": "kcCABnShVFHY"
      },
      "execution_count": null,
      "outputs": []
    },
    {
      "cell_type": "code",
      "source": [
        "## Boxplot\n",
        "sns.boxplot(df['number_of_doors'],df['price'],color='Red',hue=df['fuel_type'])"
      ],
      "metadata": {
        "id": "SGTexVHdVOUB"
      },
      "execution_count": null,
      "outputs": []
    },
    {
      "cell_type": "code",
      "source": [
        "## Barplot\n",
        "sns.barplot(df['body_style'],df['price'],hue=df['engine_location'])"
      ],
      "metadata": {
        "id": "sLGHdZZbVcx8"
      },
      "execution_count": null,
      "outputs": []
    },
    {
      "cell_type": "code",
      "source": [
        "## Countplot\n",
        "sns.countplot(df['fuel_type'],hue=df['number_of_doors'],saturation=1)"
      ],
      "metadata": {
        "id": "qXxoGF-BVYJW"
      },
      "execution_count": null,
      "outputs": []
    },
    {
      "cell_type": "code",
      "source": [
        "## Catplot\n",
        "sns.catplot(\n",
        "    x=\"body_style\",\n",
        "    y=\"engine_size\",\n",
        "    hue=\"number_of_doors\",\n",
        "    data=df,\n",
        "    kind=\"violin\"\n",
        ")"
      ],
      "metadata": {
        "id": "91hQ-7unVggN"
      },
      "execution_count": null,
      "outputs": []
    },
    {
      "cell_type": "markdown",
      "source": [
        "# <center> THE END"
      ],
      "metadata": {
        "id": "GMHzAlxFV6JP"
      }
    }
  ]
}