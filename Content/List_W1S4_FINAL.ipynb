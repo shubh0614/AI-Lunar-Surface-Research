{
  "nbformat": 4,
  "nbformat_minor": 0,
  "metadata": {
    "colab": {
      "provenance": [],
      "collapsed_sections": []
    },
    "kernelspec": {
      "name": "python3",
      "display_name": "Python 3"
    },
    "language_info": {
      "name": "python"
    }
  },
  "cells": [
    {
      "cell_type": "markdown",
      "source": [
        "### Today we will explore the Amazing Data Structures of Python!"
      ],
      "metadata": {
        "id": "LHlrr-f6bsF0"
      }
    },
    {
      "cell_type": "markdown",
      "source": [
        "In Python, list is an ordered collection of items. \n",
        "\n",
        "It is defined using square brackets `[]`."
      ],
      "metadata": {
        "id": "Nb0opltNcZog"
      }
    },
    {
      "cell_type": "code",
      "execution_count": null,
      "metadata": {
        "id": "R0Jgv8nRbiBX"
      },
      "outputs": [],
      "source": [
        "my_languages = ['Python', 'JAVA', 'R', 'Julia', 'Lua']"
      ]
    },
    {
      "cell_type": "code",
      "source": [
        "print(my_languages)"
      ],
      "metadata": {
        "colab": {
          "base_uri": "https://localhost:8080/"
        },
        "id": "sjgdlyupdNDl",
        "outputId": "4792d2b3-e4da-4d86-d4c4-fcdf00ba31b5"
      },
      "execution_count": null,
      "outputs": [
        {
          "output_type": "stream",
          "name": "stdout",
          "text": [
            "['Python', 'JAVA', 'R', 'Julia', 'Lua']\n"
          ]
        }
      ]
    },
    {
      "cell_type": "code",
      "source": [
        "my_marks = [88, 91, 100]\n",
        "\n",
        "my_coords = [[0, 0], [100, 100], [200, 200]]\n",
        "\n",
        "print(my_coords)"
      ],
      "metadata": {
        "colab": {
          "base_uri": "https://localhost:8080/"
        },
        "id": "e73NqPvIdV8Z",
        "outputId": "589431fd-0e9c-44c7-c731-066f6be2dde9"
      },
      "execution_count": null,
      "outputs": [
        {
          "output_type": "stream",
          "name": "stdout",
          "text": [
            "[[0, 0], [100, 100], [200, 200]]\n"
          ]
        }
      ]
    },
    {
      "cell_type": "code",
      "source": [
        "# Access elements of a list - even with negative indices\n",
        "\n",
        "print(my_marks[0])\n",
        "print(my_marks[-1])\n",
        "print(my_marks[-2])"
      ],
      "metadata": {
        "colab": {
          "base_uri": "https://localhost:8080/"
        },
        "id": "v4H1pMTye8xJ",
        "outputId": "d7fc1a44-c61b-4dea-c464-2b7d518170f6"
      },
      "execution_count": null,
      "outputs": [
        {
          "output_type": "stream",
          "name": "stdout",
          "text": [
            "88\n",
            "100\n",
            "91\n"
          ]
        }
      ]
    },
    {
      "cell_type": "code",
      "source": [
        "# Modifying a list\n",
        "\n",
        "my_marks[-1] = 99\n",
        "\n",
        "print(my_marks)"
      ],
      "metadata": {
        "colab": {
          "base_uri": "https://localhost:8080/"
        },
        "id": "dsI6cEgpfgwA",
        "outputId": "32b777f1-ffec-4e74-c9e0-30aff46520d7"
      },
      "execution_count": null,
      "outputs": [
        {
          "output_type": "stream",
          "name": "stdout",
          "text": [
            "[88, 91, 99]\n"
          ]
        }
      ]
    },
    {
      "cell_type": "code",
      "source": [
        "# Add new elements to lists - append() for end of list\n",
        "\n",
        "my_marks.append(65)\n",
        "\n",
        "print(my_marks)"
      ],
      "metadata": {
        "colab": {
          "base_uri": "https://localhost:8080/"
        },
        "id": "a50bzBoKfwEl",
        "outputId": "1b5262d0-9fe8-4451-aeb6-7ef7944ce5cb"
      },
      "execution_count": null,
      "outputs": [
        {
          "output_type": "stream",
          "name": "stdout",
          "text": [
            "[88, 91, 100, 65]\n"
          ]
        }
      ]
    },
    {
      "cell_type": "code",
      "source": [
        "# Add new elements to lists - insert() for any position\n",
        "\n",
        "my_marks.insert(1, 95)\n",
        "\n",
        "print(my_marks)"
      ],
      "metadata": {
        "colab": {
          "base_uri": "https://localhost:8080/"
        },
        "id": "jeQ8-go2gALr",
        "outputId": "c227020a-c86a-47cb-8390-4ba1bb728873"
      },
      "execution_count": null,
      "outputs": [
        {
          "output_type": "stream",
          "name": "stdout",
          "text": [
            "[88, 95, 100]\n"
          ]
        }
      ]
    },
    {
      "cell_type": "code",
      "source": [
        "# Remove elements from lists - any position\n",
        "\n",
        "del my_marks[3]\n",
        "\n",
        "print(my_marks)"
      ],
      "metadata": {
        "colab": {
          "base_uri": "https://localhost:8080/"
        },
        "id": "iWZt6OhIgN3r",
        "outputId": "a7e9d33b-b4e3-4e84-e8e5-2a380f872c7c"
      },
      "execution_count": null,
      "outputs": [
        {
          "output_type": "stream",
          "name": "stdout",
          "text": [
            "[88, 100, 91, 65]\n"
          ]
        }
      ]
    },
    {
      "cell_type": "code",
      "source": [
        "# Remove elements from lists - last position\n",
        "\n",
        "print(my_marks.pop())\n",
        "print(my_marks)\n",
        "\n",
        "# Typically, you use the pop() method when you want to remove an element from a list and still want to access the value of that element."
      ],
      "metadata": {
        "colab": {
          "base_uri": "https://localhost:8080/"
        },
        "id": "2avKD0Y2gfgG",
        "outputId": "7faea970-ce0e-4899-bfcd-8c4fc390e433"
      },
      "execution_count": null,
      "outputs": [
        {
          "output_type": "stream",
          "name": "stdout",
          "text": [
            "100\n",
            "[88, 95]\n"
          ]
        }
      ]
    },
    {
      "cell_type": "code",
      "source": [
        "# Remove elements from lists - by value\n",
        "\n",
        "my_marks.remove(95)\n",
        "print(my_marks)"
      ],
      "metadata": {
        "colab": {
          "base_uri": "https://localhost:8080/"
        },
        "id": "OrBP7-SzhANk",
        "outputId": "95b64a05-88d1-40fd-875f-cf8f42377a14"
      },
      "execution_count": null,
      "outputs": [
        {
          "output_type": "stream",
          "name": "stdout",
          "text": [
            "[88]\n"
          ]
        }
      ]
    },
    {
      "cell_type": "markdown",
      "source": [
        "#### Tuple - Immutable lists"
      ],
      "metadata": {
        "id": "qP29xMcV1hb6"
      }
    },
    {
      "cell_type": "code",
      "source": [
        "healthy_food_choices = ('oats', 'chicken', 'veggies')\n",
        "\n",
        "print(healthy_food_choices[0])"
      ],
      "metadata": {
        "colab": {
          "base_uri": "https://localhost:8080/"
        },
        "id": "DcISvSgS1gvl",
        "outputId": "40bbcf88-04cd-40b0-9f2a-119b26cb13c5"
      },
      "execution_count": null,
      "outputs": [
        {
          "output_type": "stream",
          "name": "stdout",
          "text": [
            "oats\n"
          ]
        }
      ]
    },
    {
      "cell_type": "code",
      "source": [
        "healthy_food_choices[1] = 'brown rice'"
      ],
      "metadata": {
        "colab": {
          "base_uri": "https://localhost:8080/",
          "height": 166
        },
        "id": "zEzFYA5V23Fs",
        "outputId": "5ba72247-cf11-482a-910c-e7820f6ea1de"
      },
      "execution_count": null,
      "outputs": [
        {
          "output_type": "error",
          "ename": "TypeError",
          "evalue": "ignored",
          "traceback": [
            "\u001b[0;31m---------------------------------------------------------------------------\u001b[0m",
            "\u001b[0;31mTypeError\u001b[0m                                 Traceback (most recent call last)",
            "\u001b[0;32m<ipython-input-2-a7a592486183>\u001b[0m in \u001b[0;36m<module>\u001b[0;34m()\u001b[0m\n\u001b[0;32m----> 1\u001b[0;31m \u001b[0mhealthy_food_choices\u001b[0m\u001b[0;34m[\u001b[0m\u001b[0;36m1\u001b[0m\u001b[0;34m]\u001b[0m \u001b[0;34m=\u001b[0m \u001b[0;34m'brown rice'\u001b[0m\u001b[0;34m\u001b[0m\u001b[0;34m\u001b[0m\u001b[0m\n\u001b[0m",
            "\u001b[0;31mTypeError\u001b[0m: 'tuple' object does not support item assignment"
          ]
        }
      ]
    },
    {
      "cell_type": "code",
      "source": [
        "# You can't change one element, but you can assign a full tuple to a tuple var!\n",
        "\n",
        "healthy_food_choices = ('eggs', 'quinoa', 'veggies')\n",
        "\n",
        "print(healthy_food_choices[1])\n",
        "print(healthy_food_choices)"
      ],
      "metadata": {
        "colab": {
          "base_uri": "https://localhost:8080/"
        },
        "id": "FsyV6XHX3Hne",
        "outputId": "fcffe9df-fbf4-4fd4-cb58-c481d173bee1"
      },
      "execution_count": null,
      "outputs": [
        {
          "output_type": "stream",
          "name": "stdout",
          "text": [
            "quinoa\n",
            "('eggs', 'quinoa', 'veggies')\n"
          ]
        }
      ]
    },
    {
      "cell_type": "code",
      "source": [
        "# Another way to use tuples!\n",
        "numbers = (3,)\n",
        "print(type(numbers))"
      ],
      "metadata": {
        "colab": {
          "base_uri": "https://localhost:8080/"
        },
        "id": "5D8CP6lN35Y8",
        "outputId": "5faa5968-0593-468a-9b8e-69415129cb33"
      },
      "execution_count": null,
      "outputs": [
        {
          "output_type": "stream",
          "name": "stdout",
          "text": [
            "<class 'tuple'>\n"
          ]
        }
      ]
    },
    {
      "cell_type": "code",
      "source": [
        "numbers = (300, 600, 800)\n",
        "print(numbers[-1])"
      ],
      "metadata": {
        "colab": {
          "base_uri": "https://localhost:8080/"
        },
        "id": "yaWIufCy36rV",
        "outputId": "e146e61c-451c-4004-fa4a-ffa642baf98a"
      },
      "execution_count": null,
      "outputs": [
        {
          "output_type": "stream",
          "name": "stdout",
          "text": [
            "800\n"
          ]
        }
      ]
    },
    {
      "cell_type": "markdown",
      "source": [
        "#### sort() function on lists - to sort in-place."
      ],
      "metadata": {
        "id": "DT5fqsSa4opU"
      }
    },
    {
      "cell_type": "code",
      "source": [
        "my_marks = [80, 91, 78, 100, 87]\n",
        "\n",
        "print(my_marks)\n",
        "my_marks.sort()\n",
        "print(my_marks)"
      ],
      "metadata": {
        "colab": {
          "base_uri": "https://localhost:8080/"
        },
        "id": "f-Be9NKe4n4k",
        "outputId": "c8f1c01d-dc14-4108-d821-e62bff836a07"
      },
      "execution_count": null,
      "outputs": [
        {
          "output_type": "stream",
          "name": "stdout",
          "text": [
            "[80, 91, 78, 100, 87]\n",
            "[78, 80, 87, 91, 100]\n"
          ]
        }
      ]
    },
    {
      "cell_type": "code",
      "source": [
        "my_students = ['Shubham', 'Atharv', 'Prasad', 'Ahaan', 'Selva', 'Prateek', 'Deena']\n",
        "my_students.sort()\n",
        "print(my_students)"
      ],
      "metadata": {
        "colab": {
          "base_uri": "https://localhost:8080/"
        },
        "id": "IEdPG_Bd5FPU",
        "outputId": "a6a31dcf-9194-4f6f-b623-d4c0133305e2"
      },
      "execution_count": null,
      "outputs": [
        {
          "output_type": "stream",
          "name": "stdout",
          "text": [
            "['Ahaan', 'Atharv', 'Deena', 'Prasad', 'Prateek', 'Selva', 'Shubham']\n"
          ]
        }
      ]
    },
    {
      "cell_type": "code",
      "source": [
        "my_students.sort(reverse=True)\n",
        "print(my_students)"
      ],
      "metadata": {
        "colab": {
          "base_uri": "https://localhost:8080/"
        },
        "id": "bLqujqFk5iDz",
        "outputId": "9eea0422-f5f3-47be-8b31-acc95f47d48d"
      },
      "execution_count": null,
      "outputs": [
        {
          "output_type": "stream",
          "name": "stdout",
          "text": [
            "['Shubham', 'Selva', 'Prateek', 'Prasad', 'Deena', 'Atharv', 'Ahaan']\n"
          ]
        }
      ]
    },
    {
      "cell_type": "code",
      "source": [
        "companies = [('Meta', 2021, 150.6),\n",
        "             ('Apple', 2019, 102.8),\n",
        "             ('Netflix', 2020, 95.6)]\n",
        "\n",
        "companies.sort()\n",
        "print(companies)\n",
        "\n",
        "companies.sort(reverse=True)\n",
        "print(companies) # default sorting happens as per 1st value of tuple"
      ],
      "metadata": {
        "colab": {
          "base_uri": "https://localhost:8080/"
        },
        "id": "E_5lBpVg5lEN",
        "outputId": "580aa237-f30a-4129-9240-6c77e4de5437"
      },
      "execution_count": null,
      "outputs": [
        {
          "output_type": "stream",
          "name": "stdout",
          "text": [
            "[('Apple', 2019, 102.8), ('Meta', 2021, 150.6), ('Netflix', 2020, 95.6)]\n",
            "[('Netflix', 2020, 95.6), ('Meta', 2021, 150.6), ('Apple', 2019, 102.8)]\n"
          ]
        }
      ]
    },
    {
      "cell_type": "code",
      "source": [
        "# what if you want to sort by a parameter set by you? \n",
        "\n",
        "def sort_key(company):\n",
        "    return company[2]\n",
        "\n",
        "companies.sort(key=sort_key)\n",
        "print(companies)\n",
        "\n",
        "companies.sort(key=sort_key, reverse=True)\n",
        "print(companies)"
      ],
      "metadata": {
        "colab": {
          "base_uri": "https://localhost:8080/"
        },
        "id": "K-ah3Tgc8-bE",
        "outputId": "62997abb-2c86-437e-c301-dd0340456cc1"
      },
      "execution_count": null,
      "outputs": [
        {
          "output_type": "stream",
          "name": "stdout",
          "text": [
            "[('Netflix', 2020, 95.6), ('Apple', 2019, 102.8), ('Meta', 2021, 150.6)]\n",
            "[('Meta', 2021, 150.6), ('Apple', 2019, 102.8), ('Netflix', 2020, 95.6)]\n"
          ]
        }
      ]
    },
    {
      "cell_type": "code",
      "source": [
        "companies = [('Meta', 2021, 150.6),\n",
        "             ('Apple', 2019, 102.8),\n",
        "             ('Netflix', 2020, 95.6)]\n",
        "\n",
        "companies.sort(key=lambda company: company[2])\n",
        "print(companies)\n",
        "\n",
        "companies.sort(key=sort_key, reverse=True)\n",
        "print(companies)"
      ],
      "metadata": {
        "colab": {
          "base_uri": "https://localhost:8080/"
        },
        "id": "7HaRllEd9zTs",
        "outputId": "c7ac7a83-0e7a-47e3-c1b6-54353cc8e5da"
      },
      "execution_count": null,
      "outputs": [
        {
          "output_type": "stream",
          "name": "stdout",
          "text": [
            "[('Netflix', 2020, 95.6), ('Apple', 2019, 102.8), ('Meta', 2021, 150.6)]\n",
            "[('Meta', 2021, 150.6), ('Apple', 2019, 102.8), ('Netflix', 2020, 95.6)]\n"
          ]
        }
      ]
    },
    {
      "cell_type": "code",
      "source": [
        "# To return the new sorted list from the original list, you use the sorted() function:\n",
        "\n",
        "# The original list does not change here!\n",
        "\n",
        "my_students = ['Shubham', 'Atharv', 'Prasad', 'Ahaan', 'Selva', 'Prateek', 'Deena']\n",
        "my_sorted_students = sorted(my_students)\n",
        "\n",
        "print(my_students)\n",
        "print(my_sorted_students)"
      ],
      "metadata": {
        "colab": {
          "base_uri": "https://localhost:8080/"
        },
        "id": "Y9JgFrfw8ejU",
        "outputId": "5930241c-7412-4888-deaa-874497d0f1df"
      },
      "execution_count": null,
      "outputs": [
        {
          "output_type": "stream",
          "name": "stdout",
          "text": [
            "['Shubham', 'Atharv', 'Prasad', 'Ahaan', 'Selva', 'Prateek', 'Deena']\n",
            "['Ahaan', 'Atharv', 'Deena', 'Prasad', 'Prateek', 'Selva', 'Shubham']\n"
          ]
        }
      ]
    },
    {
      "cell_type": "code",
      "source": [
        "my_students = ['Shubham', 'Atharv', 'Prasad', 'Ahaan', 'Selva', 'Prateek', 'Deena']\n",
        "my_sorted_students_desc = sorted(my_students, reverse=True)\n",
        "\n",
        "print(my_students)\n",
        "print(my_sorted_students_desc)"
      ],
      "metadata": {
        "colab": {
          "base_uri": "https://localhost:8080/"
        },
        "id": "u11JXp7o-o7W",
        "outputId": "5eb9519a-553a-4511-a71b-911ea623bd46"
      },
      "execution_count": null,
      "outputs": [
        {
          "output_type": "stream",
          "name": "stdout",
          "text": [
            "['Shubham', 'Atharv', 'Prasad', 'Ahaan', 'Selva', 'Prateek', 'Deena']\n",
            "['Shubham', 'Selva', 'Prateek', 'Prasad', 'Deena', 'Atharv', 'Ahaan']\n"
          ]
        }
      ]
    },
    {
      "cell_type": "markdown",
      "source": [
        "#### Slicing lists"
      ],
      "metadata": {
        "id": "L5TXn5rW_Ie0"
      }
    },
    {
      "cell_type": "code",
      "source": [
        "# list[begin: end: step]\n",
        "\n",
        "flowers = ['tulip', 'rose', 'lily', 'iris', 'daisy', 'orchid', 'jasmine', 'poppy', 'ivy', 'violet', 'holly', 'heather']\n",
        "\n",
        "chosen_flowers = flowers[2:5]\n",
        "print(chosen_flowers)\n",
        "\n",
        "chosen_flowers_new = flowers[2:13:3]\n",
        "print(chosen_flowers_new)"
      ],
      "metadata": {
        "colab": {
          "base_uri": "https://localhost:8080/"
        },
        "id": "pnoufDVa_K6c",
        "outputId": "1e2bb805-2207-40eb-bd8d-52a03fa56321"
      },
      "execution_count": null,
      "outputs": [
        {
          "output_type": "stream",
          "name": "stdout",
          "text": [
            "['lily', 'iris', 'daisy']\n",
            "['lily', 'orchid', 'ivy', 'heather']\n"
          ]
        }
      ]
    },
    {
      "cell_type": "code",
      "source": [
        "# To get the n-first elements from a list, you omit the begin argument: list[:n]\n",
        "\n",
        "print(flowers[:5])\n",
        "\n",
        "# this is actually equivalent to\n",
        "\n",
        "print(flowers[0:5])"
      ],
      "metadata": {
        "colab": {
          "base_uri": "https://localhost:8080/"
        },
        "id": "Y8BAQLHQBomU",
        "outputId": "3d8d2107-177b-4a10-9d47-20d427ea31a6"
      },
      "execution_count": null,
      "outputs": [
        {
          "output_type": "stream",
          "name": "stdout",
          "text": [
            "['tulip', 'rose', 'lily', 'iris', 'daisy']\n",
            "['tulip', 'rose', 'lily', 'iris', 'daisy']\n"
          ]
        }
      ]
    },
    {
      "cell_type": "code",
      "source": [
        "# To return a sublist that includes every nth element:\n",
        "\n",
        "flowers[::2]"
      ],
      "metadata": {
        "colab": {
          "base_uri": "https://localhost:8080/"
        },
        "id": "djKxLdpBB9Ts",
        "outputId": "e2469dec-bffb-4a1d-bc1e-99ef3ec07d2c"
      },
      "execution_count": null,
      "outputs": [
        {
          "output_type": "execute_result",
          "data": {
            "text/plain": [
              "['tulip', 'lily', 'daisy', 'jasmine', 'ivy', 'holly']"
            ]
          },
          "metadata": {},
          "execution_count": 41
        }
      ]
    },
    {
      "cell_type": "code",
      "source": [
        "# Using Python List slice to reverse a list\n",
        "\n",
        "reversed_flowers = flowers[::-1]\n",
        "print(reversed_flowers)\n",
        "\n",
        "# When you use a negative step, the slice includes the list elements starting from the last element to the first element. \n",
        "\n",
        "reversed_flowers = flowers[::-2]\n",
        "print(reversed_flowers)"
      ],
      "metadata": {
        "colab": {
          "base_uri": "https://localhost:8080/"
        },
        "id": "sbV43OVCCNMc",
        "outputId": "30f3cb90-9ab2-4908-8048-bb44fbc1ab22"
      },
      "execution_count": null,
      "outputs": [
        {
          "output_type": "stream",
          "name": "stdout",
          "text": [
            "['heather', 'holly', 'violet', 'ivy', 'poppy', 'jasmine', 'orchid', 'daisy', 'iris', 'lily', 'rose', 'tulip']\n",
            "['heather', 'violet', 'poppy', 'orchid', 'iris', 'rose']\n"
          ]
        }
      ]
    },
    {
      "cell_type": "code",
      "source": [
        "# Using Python List slice to substitute part a list\n",
        "\n",
        "flowers[0:2] = ['dahlia', 'peony']\n",
        "print(flowers)"
      ],
      "metadata": {
        "colab": {
          "base_uri": "https://localhost:8080/"
        },
        "id": "_LWQwkJHYsJO",
        "outputId": "42469def-a455-4d3c-8d2d-dd6438b9a206"
      },
      "execution_count": null,
      "outputs": [
        {
          "output_type": "stream",
          "name": "stdout",
          "text": [
            "['dahlia', 'peony', 'lily', 'iris', 'daisy', 'orchid', 'jasmine', 'poppy', 'ivy', 'violet', 'holly', 'heather']\n"
          ]
        }
      ]
    },
    {
      "cell_type": "code",
      "source": [
        "# Using Python List slice to partially replace and resize a list\n",
        "\n",
        "flowers[0:2] = ['hyacinth', 'lila', 'yolanda']\n",
        "print(flowers)"
      ],
      "metadata": {
        "colab": {
          "base_uri": "https://localhost:8080/"
        },
        "id": "TeTBqMQxZIQt",
        "outputId": "3f27a155-ddca-4b62-e569-a63574cf92ad"
      },
      "execution_count": null,
      "outputs": [
        {
          "output_type": "stream",
          "name": "stdout",
          "text": [
            "['hyacinth', 'lila', 'yolanda', 'sage', 'yolanda', 'lily', 'iris', 'daisy', 'orchid', 'jasmine', 'poppy', 'ivy', 'violet', 'holly', 'heather']\n"
          ]
        }
      ]
    },
    {
      "cell_type": "code",
      "source": [
        "flowers[0:2] = ['sage']\n",
        "print(flowers)\n",
        "\n",
        "# 0 to 2 flowers got replaced with sage"
      ],
      "metadata": {
        "colab": {
          "base_uri": "https://localhost:8080/"
        },
        "id": "D62s6ivTZb3c",
        "outputId": "7ae15dad-f93e-46bb-bb53-be0c2b97d47a"
      },
      "execution_count": null,
      "outputs": [
        {
          "output_type": "stream",
          "name": "stdout",
          "text": [
            "['sage', 'yolanda', 'sage', 'yolanda', 'lily', 'iris', 'daisy', 'orchid', 'jasmine', 'poppy', 'ivy', 'violet', 'holly', 'heather']\n"
          ]
        }
      ]
    },
    {
      "cell_type": "code",
      "source": [
        "del flowers[5:7]\n",
        "print(flowers)"
      ],
      "metadata": {
        "colab": {
          "base_uri": "https://localhost:8080/"
        },
        "id": "CMEAz7LsZvpE",
        "outputId": "7529f028-9c3d-47bf-fc35-e5445cd1615c"
      },
      "execution_count": null,
      "outputs": [
        {
          "output_type": "stream",
          "name": "stdout",
          "text": [
            "['sage', 'yolanda', 'sage', 'yolanda', 'lily', 'orchid', 'jasmine', 'poppy', 'ivy', 'violet', 'holly', 'heather']\n"
          ]
        }
      ]
    },
    {
      "cell_type": "code",
      "source": [],
      "metadata": {
        "id": "FUVXKbbkSDj5"
      },
      "execution_count": null,
      "outputs": []
    },
    {
      "cell_type": "markdown",
      "source": [
        "## Time for some questions!\n",
        "\n",
        "**Q1.** *Write at max 2 lines of code (excluding lines used for commenting) to,*\n",
        "  - *Crate a list of first ten positive integers*\n",
        "  - *Cube only the odd numbers from that list*\n",
        "  - *The output of the code should result into:*           \n",
        "```\n",
        "1^3 = 1\n",
        "3^3 = 27\n",
        "5^3 = 125\n",
        "7^3 = 343\n",
        "9^3 = 729\n",
        "```"
      ],
      "metadata": {
        "id": "1UNozqDRRUee"
      }
    },
    {
      "cell_type": "code",
      "source": [
        "# Code here\n"
      ],
      "metadata": {
        "id": "ofkbBxL7n_RO"
      },
      "execution_count": null,
      "outputs": []
    },
    {
      "cell_type": "markdown",
      "source": [
        "**Q2.** *What will be the output of the code below,*\n",
        "```\n",
        "nums = [[1, 2, 3, 4, 5, 6], \n",
        "        [7, 8, 9, 10, 11, 12], \n",
        "        [13, 14, 15, 16, 17, 18]]\n",
        "\n",
        "for i in range(len(nums)):\n",
        "  if i < 2:\n",
        "    print(nums[i][::2])\n",
        "  else:\n",
        "    print(nums[i][::-2])\n",
        "```\n",
        "**A)**           \n",
        "[1, 3, 5]             \n",
        "[7, 9, 11]           \n",
        "[18, 16, 14]          \n",
        "\n",
        "**B)**          \n",
        "[5, 3, 1]      \n",
        "[11, 9, 7]        \n",
        "[14, 16, 18]\n",
        "\n",
        "**C)**              \n",
        "[1, 2, 3, 4, 5, 6]        \n",
        "[13, 14, 15, 16, 17, 18]       \n",
        "\n",
        "**D)**           \n",
        "[1, 2, 3]      \n",
        "[13, 14, 15]       \n",
        "[18, 17, 16]        "
      ],
      "metadata": {
        "id": "TF7ghmphtSrA"
      }
    },
    {
      "cell_type": "code",
      "source": [
        "# Print your answer\n",
        "print(\"\")"
      ],
      "metadata": {
        "id": "_oOc7crU4dfi"
      },
      "execution_count": null,
      "outputs": []
    },
    {
      "cell_type": "markdown",
      "source": [
        "**Q3** Which of the following is an invalid list\n",
        "\n",
        "**A)** [1,2,'abc',1+5j, 3.14] \n",
        "\n",
        "**B)** [ [ (1,2),9 ] , ('m','n','o') ]\n",
        "\n",
        "**C)** list(\"Student\")\n",
        "\n",
        "**D)** All are Valid."
      ],
      "metadata": {
        "id": "2xudzUhbSOz2"
      }
    },
    {
      "cell_type": "code",
      "source": [
        "# print the output\n",
        "print()"
      ],
      "metadata": {
        "id": "hONPTWeoTfdA"
      },
      "execution_count": null,
      "outputs": []
    },
    {
      "cell_type": "markdown",
      "source": [
        "**Q4** What will be the output of the following.\n",
        "\n",
        "\n",
        "```\n",
        "arr = [[11, 12, 13, 14],\n",
        "       [44, 55, 66, 87],\n",
        "       [81, 91, 10, 111],\n",
        "       [56, 16, 17, 89]]\n",
        "\n",
        "for _ in range(3):\n",
        "    print(arr[_].pop())\n",
        "```\n",
        "\n"
      ],
      "metadata": {
        "id": "rZJIpk1DTjY8"
      }
    },
    {
      "cell_type": "code",
      "source": [
        "# print the output \n",
        "\n",
        "print()"
      ],
      "metadata": {
        "id": "rh-dCZPgWE4t",
        "colab": {
          "base_uri": "https://localhost:8080/"
        },
        "outputId": "2183b44f-b59e-462e-83f9-f35170404607"
      },
      "execution_count": null,
      "outputs": [
        {
          "output_type": "stream",
          "name": "stdout",
          "text": [
            "\n"
          ]
        }
      ]
    }
  ]
}