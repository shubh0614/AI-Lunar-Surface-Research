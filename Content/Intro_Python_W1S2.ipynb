{
  "nbformat": 4,
  "nbformat_minor": 0,
  "metadata": {
    "colab": {
      "provenance": [],
      "collapsed_sections": []
    },
    "kernelspec": {
      "name": "python3",
      "display_name": "Python 3"
    },
    "language_info": {
      "name": "python"
    }
  },
  "cells": [
    {
      "cell_type": "markdown",
      "source": [
        "##Today we will begin our journey of exploring the Python Programming Language!"
      ],
      "metadata": {
        "id": "Zf4amSsNlqnr"
      }
    },
    {
      "cell_type": "markdown",
      "source": [
        "### Different ways of writing Python Code\n",
        "\n",
        "1. Open a Google Colab or Kaggle Notebook, start typing your code, and run the cells.\n",
        "\n",
        "2. Install Python, a text editor, and run the code in CMD/Power-shell.\n",
        "\n",
        "3. Install an environment - like Anaconda, or Microsoft Visual Studio Code, code and run within it. \n",
        "\n",
        "4. Install Jupyter Notebooks only, write code and run the cells."
      ],
      "metadata": {
        "id": "UnDA08zRmI3U"
      }
    },
    {
      "cell_type": "code",
      "source": [
        "# First Code Snippet to run!\n",
        "\n",
        "print('Hello, World!')"
      ],
      "metadata": {
        "colab": {
          "base_uri": "https://localhost:8080/"
        },
        "id": "46nijgQXl-qF",
        "outputId": "c8dd2517-7b97-4e1b-d4bc-17e597408700"
      },
      "execution_count": null,
      "outputs": [
        {
          "output_type": "stream",
          "name": "stdout",
          "text": [
            "Hello, World!\n"
          ]
        }
      ]
    },
    {
      "cell_type": "code",
      "source": [
        "# Commenting Code and Variables\n",
        "\n",
        "# Create a set of variables for storing my info.\n",
        "\n",
        "my_name = 'Aditi'\n",
        "my_dob = '13-09-1867'\n",
        "my_height = 'five feets two inches'\n",
        "\n",
        "# Create a set of variables for storing planet info.\n",
        "# Get your planet info here: https://solarsystem.nasa.gov/planets/overview/\n",
        "\n",
        "planet_name = 'Mars'\n",
        "planet_age = '4.603 billion years old'\n",
        "planet_index = 3 # 0, 1, 2, 3\n",
        "\n",
        "# Can variable names start with a number? \n",
        "\n",
        "1_final = 'final_document.pdf' # apparently no."
      ],
      "metadata": {
        "colab": {
          "base_uri": "https://localhost:8080/",
          "height": 135
        },
        "id": "Bu6sPKhJnWn8",
        "outputId": "399e3a0e-5e5e-4f85-98eb-cdcae5bce78c"
      },
      "execution_count": null,
      "outputs": [
        {
          "output_type": "error",
          "ename": "SyntaxError",
          "evalue": "ignored",
          "traceback": [
            "\u001b[0;36m  File \u001b[0;32m\"<ipython-input-2-270c6e9a5852>\"\u001b[0;36m, line \u001b[0;32m18\u001b[0m\n\u001b[0;31m    1_final = 'final_document.pdf' # apparently no.\u001b[0m\n\u001b[0m     ^\u001b[0m\n\u001b[0;31mSyntaxError\u001b[0m\u001b[0;31m:\u001b[0m invalid token\n"
          ]
        }
      ]
    },
    {
      "cell_type": "markdown",
      "source": [
        "### White Spaces and Indentation\n",
        "\n",
        "Python does not use `;` to separate lines of code. \n",
        "\n",
        "So propoer indentation is only ensured by providing white spaces.\n",
        "\n",
        "\n",
        "\n"
      ],
      "metadata": {
        "id": "ALFgERzpo_na"
      }
    },
    {
      "cell_type": "code",
      "source": [
        "my_new_var = 3\n",
        "my_newer_var = 4 # error: unexpected indentation"
      ],
      "metadata": {
        "id": "ObzGXr3opIW0",
        "colab": {
          "base_uri": "https://localhost:8080/",
          "height": 135
        },
        "outputId": "a523bac4-4f08-48f6-9115-3ef96775c7e4"
      },
      "execution_count": null,
      "outputs": [
        {
          "output_type": "error",
          "ename": "IndentationError",
          "evalue": "ignored",
          "traceback": [
            "\u001b[0;36m  File \u001b[0;32m\"<ipython-input-3-e749a6bb176e>\"\u001b[0;36m, line \u001b[0;32m2\u001b[0m\n\u001b[0;31m    my_newer_var = 4 # error: unexpected indentation\u001b[0m\n\u001b[0m    ^\u001b[0m\n\u001b[0;31mIndentationError\u001b[0m\u001b[0;31m:\u001b[0m unexpected indent\n"
          ]
        }
      ]
    },
    {
      "cell_type": "markdown",
      "source": [
        "### Basic Data Types: Strings, Constants, Boolean, Numbers"
      ],
      "metadata": {
        "id": "OU3mpYGTp6yz"
      }
    },
    {
      "cell_type": "code",
      "source": [
        "# print strings\n",
        "\n",
        "my_name\n",
        "\n",
        "print(my_name)\n",
        "print(my_dob)\n",
        "print(my_height)"
      ],
      "metadata": {
        "colab": {
          "base_uri": "https://localhost:8080/",
          "height": 244
        },
        "id": "ga63N8R5qDDa",
        "outputId": "2883d44a-341b-459e-b92c-2cd0d222777c"
      },
      "execution_count": null,
      "outputs": [
        {
          "output_type": "error",
          "ename": "NameError",
          "evalue": "ignored",
          "traceback": [
            "\u001b[0;31m---------------------------------------------------------------------------\u001b[0m",
            "\u001b[0;31mNameError\u001b[0m                                 Traceback (most recent call last)",
            "\u001b[0;32m<ipython-input-4-934aecfebe78>\u001b[0m in \u001b[0;36m<module>\u001b[0;34m()\u001b[0m\n\u001b[1;32m      1\u001b[0m \u001b[0;31m# print strings\u001b[0m\u001b[0;34m\u001b[0m\u001b[0;34m\u001b[0m\u001b[0;34m\u001b[0m\u001b[0m\n\u001b[1;32m      2\u001b[0m \u001b[0;34m\u001b[0m\u001b[0m\n\u001b[0;32m----> 3\u001b[0;31m \u001b[0mmy_name\u001b[0m\u001b[0;34m\u001b[0m\u001b[0;34m\u001b[0m\u001b[0m\n\u001b[0m\u001b[1;32m      4\u001b[0m \u001b[0;34m\u001b[0m\u001b[0m\n\u001b[1;32m      5\u001b[0m \u001b[0mprint\u001b[0m\u001b[0;34m(\u001b[0m\u001b[0mmy_name\u001b[0m\u001b[0;34m)\u001b[0m\u001b[0;34m\u001b[0m\u001b[0;34m\u001b[0m\u001b[0m\n",
            "\u001b[0;31mNameError\u001b[0m: name 'my_name' is not defined"
          ]
        }
      ]
    },
    {
      "cell_type": "code",
      "source": [
        "# Format Strings\n",
        "\n",
        "print('There are 8 number of planets in our solar system.')\n",
        "\n",
        "# print the same thing by using format strings for variables with different values\n",
        "number_of_planets = 8\n",
        "x = f'There are {number_of_planets} number of planets in our solar system.'\n",
        "print(x)\n",
        "\n",
        "# Planets beyond our Solar System: https://exoplanets.nasa.gov/\n",
        "number_of_planets = 5044\n",
        "x = f'There are {number_of_planets} number of planets in all solar systems.'\n",
        "print(x)"
      ],
      "metadata": {
        "colab": {
          "base_uri": "https://localhost:8080/"
        },
        "id": "_IrahRJpt4QL",
        "outputId": "759baccf-f23d-408f-94ca-fb3450a91f66"
      },
      "execution_count": null,
      "outputs": [
        {
          "output_type": "stream",
          "name": "stdout",
          "text": [
            "There are 8 number of planets in our solar system.\n",
            "There are 8 number of planets in our solar system.\n",
            "There are 5044 number of planets in all solar systems.\n"
          ]
        }
      ]
    },
    {
      "cell_type": "code",
      "source": [
        "# Another way of using format strings\n",
        "\n",
        "my_planet = 'Jupiter'\n",
        "biggest_planet = 'This is the name of the biggest planet? {}'\n",
        "\n",
        "print(biggest_planet.format(my_planet))"
      ],
      "metadata": {
        "id": "lsH0UowLuXhF"
      },
      "execution_count": null,
      "outputs": []
    },
    {
      "cell_type": "code",
      "source": [
        "# String Concatenation\n",
        "\n",
        "w = 'Earth is the only planet with life'\n",
        "e = 'may be not! :)'\n",
        "\n",
        "print(w + e)"
      ],
      "metadata": {
        "colab": {
          "base_uri": "https://localhost:8080/"
        },
        "id": "U8wKpWiRweRr",
        "outputId": "3de9b7d2-d5b7-484d-a855-a761ac716c28"
      },
      "execution_count": null,
      "outputs": [
        {
          "output_type": "stream",
          "name": "stdout",
          "text": [
            "Earth is the only planet with lifemay be not! :)\n"
          ]
        }
      ]
    },
    {
      "cell_type": "code",
      "source": [
        "# Constants: Python doesn’t support them!\n",
        "# use all CAPS in the variable name to remember it's a constant!\n",
        "\n",
        "FILE_SIZE_LIMIT = 2000 "
      ],
      "metadata": {
        "id": "PayYZqBrxMlD"
      },
      "execution_count": null,
      "outputs": []
    },
    {
      "cell_type": "markdown",
      "source": [
        "To represent true and false, Python provides you with the boolean data type. \n",
        "\n",
        "The boolean value has a technical name as bool.\n",
        "\n",
        "The boolean data type has two values: True and False."
      ],
      "metadata": {
        "id": "TM5DdczjxuLz"
      }
    },
    {
      "cell_type": "code",
      "source": [
        "print(20 > 10)\n",
        "print('z' > 'g')"
      ],
      "metadata": {
        "colab": {
          "base_uri": "https://localhost:8080/"
        },
        "id": "1_aJ56nPxpv3",
        "outputId": "1768dd3c-8f85-4658-9116-3dc9bb6fddd6"
      },
      "execution_count": null,
      "outputs": [
        {
          "output_type": "stream",
          "name": "stdout",
          "text": [
            "True\n",
            "True\n"
          ]
        }
      ]
    },
    {
      "cell_type": "code",
      "source": [
        "is_active = True # False\n",
        "print(is_active)"
      ],
      "metadata": {
        "colab": {
          "base_uri": "https://localhost:8080/"
        },
        "id": "QfhVbIdLx849",
        "outputId": "6758446f-f96f-4c37-afd0-ce2c7d028ec4"
      },
      "execution_count": null,
      "outputs": [
        {
          "output_type": "stream",
          "name": "stdout",
          "text": [
            "True\n"
          ]
        }
      ]
    },
    {
      "cell_type": "code",
      "source": [
        "print(bool(20))\n",
        "print(bool(0))\n",
        "print(bool(1))\n",
        "print(bool('info'))\n",
        "print(bool(''))"
      ],
      "metadata": {
        "colab": {
          "base_uri": "https://localhost:8080/"
        },
        "id": "9qFJs9DCyEiC",
        "outputId": "db739e8d-fc90-4e1b-870a-5d69f41cf8bb"
      },
      "execution_count": null,
      "outputs": [
        {
          "output_type": "stream",
          "name": "stdout",
          "text": [
            "True\n",
            "False\n",
            "True\n",
            "True\n",
            "False\n"
          ]
        }
      ]
    },
    {
      "cell_type": "code",
      "source": [
        "# Bool On Advanced Data Structures in Python\n",
        "print(bool({}))\n",
        "print(bool([]))\n",
        "print(bool(()))"
      ],
      "metadata": {
        "id": "ewMy5uVsykL9",
        "colab": {
          "base_uri": "https://localhost:8080/"
        },
        "outputId": "1845b66a-2b45-4ff0-ab24-179c252d172e"
      },
      "execution_count": null,
      "outputs": [
        {
          "output_type": "stream",
          "name": "stdout",
          "text": [
            "False\n",
            "False\n",
            "False\n"
          ]
        }
      ]
    },
    {
      "cell_type": "markdown",
      "source": [
        "Numbers - Integers and Floats"
      ],
      "metadata": {
        "id": "2laMNLlDzCU0"
      }
    },
    {
      "cell_type": "code",
      "source": [
        "print(20+10)\n",
        "print(20/10)\n",
        "print(20//10)\n",
        "\n",
        "print(20/3)\n",
        "print(1+2.5)\n",
        "print(1-2.5)\n",
        "print(2.5-2.5)\n",
        "print(2-2)"
      ],
      "metadata": {
        "colab": {
          "base_uri": "https://localhost:8080/"
        },
        "id": "QtTSpjrSzFiE",
        "outputId": "f3c1fc6f-b431-4024-bfe3-08933ef053a3"
      },
      "execution_count": null,
      "outputs": [
        {
          "output_type": "stream",
          "name": "stdout",
          "text": [
            "30\n",
            "2.0\n",
            "2\n",
            "6.666666666666667\n",
            "3.5\n",
            "-1.5\n",
            "0.0\n",
            "0\n"
          ]
        }
      ]
    },
    {
      "cell_type": "markdown",
      "source": [
        "#### Type Conversion"
      ],
      "metadata": {
        "id": "YWbqA_RGzvu0"
      }
    },
    {
      "cell_type": "code",
      "source": [
        "# floating to integer\n",
        "\n",
        "c = 1-2.5\n",
        "c"
      ],
      "metadata": {
        "id": "Rjml3xI_zy5t"
      },
      "execution_count": null,
      "outputs": []
    },
    {
      "cell_type": "code",
      "source": [
        "int(c)"
      ],
      "metadata": {
        "id": "oqwvlsCnz9cz"
      },
      "execution_count": null,
      "outputs": []
    },
    {
      "cell_type": "code",
      "source": [
        "# string to integers and floats\n",
        "\n",
        "a = '30'\n",
        "b = '25'\n",
        "\n",
        "print(a + b)\n",
        "print(int(a) + int(b))\n",
        "print(float(a) + float(b))"
      ],
      "metadata": {
        "id": "Wsw7JVse0EpD",
        "colab": {
          "base_uri": "https://localhost:8080/"
        },
        "outputId": "279fb9e8-f9dc-4f04-ec0b-277d514e140f"
      },
      "execution_count": null,
      "outputs": [
        {
          "output_type": "stream",
          "name": "stdout",
          "text": [
            "3025\n",
            "55\n",
            "55.0\n"
          ]
        }
      ]
    },
    {
      "cell_type": "code",
      "source": [
        "# number or string to bool\n",
        "\n",
        "a = '-456023334512864'\n",
        "print(bool(a))\n",
        "\n",
        "b = -456023334512864\n",
        "print(bool(b))"
      ],
      "metadata": {
        "colab": {
          "base_uri": "https://localhost:8080/"
        },
        "id": "3loSfC__0l-j",
        "outputId": "b5a6b9d7-0f3b-4e0e-947a-629a3bc27b33"
      },
      "execution_count": null,
      "outputs": [
        {
          "output_type": "stream",
          "name": "stdout",
          "text": [
            "True\n",
            "True\n"
          ]
        }
      ]
    },
    {
      "cell_type": "code",
      "source": [
        "e = b**2\n",
        "print(e)\n",
        "\n",
        "s_e = str(e)\n",
        "s_e**2 # cant apply exponent operator after converting to string!"
      ],
      "metadata": {
        "id": "1esfpCa809xL",
        "colab": {
          "base_uri": "https://localhost:8080/",
          "height": 235
        },
        "outputId": "9b1692b7-e5e4-41f7-e021-cd6260aed0f9"
      },
      "execution_count": null,
      "outputs": [
        {
          "output_type": "error",
          "ename": "NameError",
          "evalue": "ignored",
          "traceback": [
            "\u001b[0;31m---------------------------------------------------------------------------\u001b[0m",
            "\u001b[0;31mNameError\u001b[0m                                 Traceback (most recent call last)",
            "\u001b[0;32m<ipython-input-1-4254d790c44e>\u001b[0m in \u001b[0;36m<module>\u001b[0;34m()\u001b[0m\n\u001b[0;32m----> 1\u001b[0;31m \u001b[0me\u001b[0m \u001b[0;34m=\u001b[0m \u001b[0mb\u001b[0m\u001b[0;34m**\u001b[0m\u001b[0;36m2\u001b[0m\u001b[0;34m\u001b[0m\u001b[0;34m\u001b[0m\u001b[0m\n\u001b[0m\u001b[1;32m      2\u001b[0m \u001b[0mprint\u001b[0m\u001b[0;34m(\u001b[0m\u001b[0me\u001b[0m\u001b[0;34m)\u001b[0m\u001b[0;34m\u001b[0m\u001b[0;34m\u001b[0m\u001b[0m\n\u001b[1;32m      3\u001b[0m \u001b[0;34m\u001b[0m\u001b[0m\n\u001b[1;32m      4\u001b[0m \u001b[0ms_e\u001b[0m \u001b[0;34m=\u001b[0m \u001b[0mstr\u001b[0m\u001b[0;34m(\u001b[0m\u001b[0me\u001b[0m\u001b[0;34m)\u001b[0m\u001b[0;34m\u001b[0m\u001b[0;34m\u001b[0m\u001b[0m\n\u001b[1;32m      5\u001b[0m \u001b[0ms_e\u001b[0m\u001b[0;34m**\u001b[0m\u001b[0;36m2\u001b[0m \u001b[0;31m# cant apply exponent operator after converting to string!\u001b[0m\u001b[0;34m\u001b[0m\u001b[0;34m\u001b[0m\u001b[0m\n",
            "\u001b[0;31mNameError\u001b[0m: name 'b' is not defined"
          ]
        }
      ]
    },
    {
      "cell_type": "code",
      "source": [
        "# Getting the type of a value\n",
        "\n",
        "type(100)"
      ],
      "metadata": {
        "id": "jrvjKVI51T-T"
      },
      "execution_count": null,
      "outputs": []
    },
    {
      "cell_type": "code",
      "source": [
        "type(10.4)"
      ],
      "metadata": {
        "id": "pP__wgGS1cnk"
      },
      "execution_count": null,
      "outputs": []
    },
    {
      "cell_type": "code",
      "source": [
        "print(type('hi there!'))\n",
        "print(type(True))"
      ],
      "metadata": {
        "colab": {
          "base_uri": "https://localhost:8080/"
        },
        "id": "Gduopvte1emz",
        "outputId": "c3eb0b9c-8fdf-4578-900d-49861a3d330b"
      },
      "execution_count": null,
      "outputs": [
        {
          "output_type": "stream",
          "name": "stdout",
          "text": [
            "<class 'str'>\n",
            "<class 'bool'>\n"
          ]
        }
      ]
    },
    {
      "cell_type": "code",
      "source": [
        "z = False\n",
        "type(z)"
      ],
      "metadata": {
        "colab": {
          "base_uri": "https://localhost:8080/"
        },
        "id": "ebHq4GaO1llm",
        "outputId": "f2b01d51-f7fe-4396-bbed-c5229df7bdb0"
      },
      "execution_count": null,
      "outputs": [
        {
          "output_type": "execute_result",
          "data": {
            "text/plain": [
              "bool"
            ]
          },
          "metadata": {},
          "execution_count": 13
        }
      ]
    },
    {
      "cell_type": "markdown",
      "source": [
        "#### Getting Input from a User\n",
        "\n"
      ],
      "metadata": {
        "id": "00Np8e9J2K40"
      }
    },
    {
      "cell_type": "code",
      "source": [
        "value = input('Enter a value:')\n",
        "print(value)"
      ],
      "metadata": {
        "id": "9LAdGqx-2QRa"
      },
      "execution_count": null,
      "outputs": []
    },
    {
      "cell_type": "code",
      "source": [
        "print(\"How old are you?\", end = ' ') # end is used to specify how to end the printed content\n",
        "age = input()"
      ],
      "metadata": {
        "colab": {
          "base_uri": "https://localhost:8080/"
        },
        "id": "q5SxM2gG2n3b",
        "outputId": "a0df5422-0bca-4184-981b-7fdf18273d46"
      },
      "execution_count": null,
      "outputs": [
        {
          "name": "stdout",
          "output_type": "stream",
          "text": [
            "How old are you?lol22\n"
          ]
        }
      ]
    },
    {
      "cell_type": "code",
      "source": [
        "print(f'So you are {age} years old')"
      ],
      "metadata": {
        "colab": {
          "base_uri": "https://localhost:8080/"
        },
        "id": "Oh9qKbMA2yKe",
        "outputId": "22318e7b-9e85-416b-a702-83a4cf035c9f"
      },
      "execution_count": null,
      "outputs": [
        {
          "output_type": "stream",
          "name": "stdout",
          "text": [
            "So you are 22 years old\n"
          ]
        }
      ]
    },
    {
      "cell_type": "code",
      "source": [
        "y = input(\"Name? \")\n",
        "age = input(\"Age? \")\n",
        "height = input(\"Height? \")\n",
        "weight = input(\"Weight? \")"
      ],
      "metadata": {
        "colab": {
          "base_uri": "https://localhost:8080/"
        },
        "id": "FNxmEgXg29vC",
        "outputId": "e7169f23-b833-426d-fb1c-4d8dc8d498ab"
      },
      "execution_count": null,
      "outputs": [
        {
          "name": "stdout",
          "output_type": "stream",
          "text": [
            "Name? awww\n",
            "Age? gfgd\n",
            "Height? jk\n",
            "Weight? hjb\n"
          ]
        }
      ]
    },
    {
      "cell_type": "markdown",
      "source": [
        "#### Operators in Python\n",
        "\n",
        "1. Arithmetic operators: `+, -, *, /, %, **, //`\n",
        "\n",
        "2. Assignment operators: `=, +=, -=, *=, /=, %=, **=, //=, &=, |=, ^=, >>=, <<=`\n",
        "\n",
        "3. Comparison operators: `==, !=, >, <, >=, <=`\n",
        "\n",
        "4. Logical operators: `and, or, not`\n",
        "\n",
        "5. Identity operators: `is, is not`\n",
        "\n",
        "6. Membership operators: `in, not in`\n",
        "\n",
        "7. Bitwise operators: `&, |, ^, ~, <<, >>`"
      ],
      "metadata": {
        "id": "LzJvI24J3gpz"
      }
    },
    {
      "cell_type": "code",
      "source": [
        "# Arithmetic Operators\n",
        "\n",
        "x = 10 / 3\n",
        "print(x)\n",
        "\n",
        "x = 10 // 3\n",
        "print(x)\n",
        "\n",
        "x = 10 % 3\n",
        "print(x)\n",
        "\n",
        "x = 10 ** 3\n",
        "print(x)"
      ],
      "metadata": {
        "colab": {
          "base_uri": "https://localhost:8080/"
        },
        "id": "gRMGJoMolYTD",
        "outputId": "7f27491c-a3a0-4c3b-eaa9-fedaae11aaa7"
      },
      "execution_count": null,
      "outputs": [
        {
          "output_type": "stream",
          "name": "stdout",
          "text": [
            "3.3333333333333335\n",
            "3\n",
            "1\n",
            "1000\n"
          ]
        }
      ]
    },
    {
      "cell_type": "code",
      "source": [
        "# Assignment Operators\n",
        "\n",
        "x = 5\n",
        "\n",
        "x &= 3\n",
        "x"
      ],
      "metadata": {
        "colab": {
          "base_uri": "https://localhost:8080/"
        },
        "id": "4EqdshcShoOC",
        "outputId": "b098c01c-b83d-4e68-b8c1-2bf26d276efe"
      },
      "execution_count": null,
      "outputs": [
        {
          "output_type": "execute_result",
          "data": {
            "text/plain": [
              "1"
            ]
          },
          "metadata": {},
          "execution_count": 19
        }
      ]
    },
    {
      "cell_type": "code",
      "source": [
        "x = 5\n",
        "\n",
        "x |= 3\n",
        "x"
      ],
      "metadata": {
        "colab": {
          "base_uri": "https://localhost:8080/"
        },
        "id": "qAPB64TDhoMB",
        "outputId": "8a932166-dae6-465f-df7d-4e40c5fd4b79"
      },
      "execution_count": null,
      "outputs": [
        {
          "output_type": "execute_result",
          "data": {
            "text/plain": [
              "7"
            ]
          },
          "metadata": {},
          "execution_count": 20
        }
      ]
    },
    {
      "cell_type": "code",
      "source": [
        "x = 5\n",
        "\n",
        "x ^= 3\n",
        "x"
      ],
      "metadata": {
        "colab": {
          "base_uri": "https://localhost:8080/"
        },
        "id": "DOk4z2MVhoKC",
        "outputId": "2e74aa30-ae39-4ade-daec-b0f68d5756b8"
      },
      "execution_count": null,
      "outputs": [
        {
          "output_type": "execute_result",
          "data": {
            "text/plain": [
              "6"
            ]
          },
          "metadata": {},
          "execution_count": 21
        }
      ]
    },
    {
      "cell_type": "code",
      "source": [
        "x = 5\n",
        "x >>= 1\n",
        "print(x)\n",
        "\n",
        "x = 5\n",
        "x >>= 2\n",
        "print(x)\n",
        "\n",
        "x = 5\n",
        "x >>= 3\n",
        "print(x)"
      ],
      "metadata": {
        "colab": {
          "base_uri": "https://localhost:8080/"
        },
        "id": "FXvXKVEuhoGq",
        "outputId": "8ee72a82-da99-4e80-a914-0c55488d4dce"
      },
      "execution_count": null,
      "outputs": [
        {
          "output_type": "stream",
          "name": "stdout",
          "text": [
            "2\n",
            "1\n",
            "0\n"
          ]
        }
      ]
    },
    {
      "cell_type": "code",
      "source": [
        "# Comparison Operators\n",
        "\n",
        "print(3 != 3)\n",
        "\n",
        "print(3 != 7)\n",
        "\n",
        "print('a' != 'b')"
      ],
      "metadata": {
        "colab": {
          "base_uri": "https://localhost:8080/"
        },
        "id": "4mlCJ1ixlr0b",
        "outputId": "59f37434-73a9-4edf-f0b4-0e77a5c995f3"
      },
      "execution_count": null,
      "outputs": [
        {
          "output_type": "stream",
          "name": "stdout",
          "text": [
            "False\n",
            "True\n",
            "True\n"
          ]
        }
      ]
    },
    {
      "cell_type": "code",
      "source": [
        "# Logical Operators\n",
        "\n",
        "x = 5\n",
        "\n",
        "print(x > 3 and x < 10)\n",
        "\n",
        "# returns True because 5 is greater than 3 AND 5 is less than 10\n"
      ],
      "metadata": {
        "colab": {
          "base_uri": "https://localhost:8080/"
        },
        "id": "KmWrV_cq3gLT",
        "outputId": "5715cb21-9117-4987-afd5-7a4b52031a91"
      },
      "execution_count": null,
      "outputs": [
        {
          "output_type": "stream",
          "name": "stdout",
          "text": [
            "True\n"
          ]
        }
      ]
    },
    {
      "cell_type": "code",
      "source": [
        "x = 5\n",
        "\n",
        "print(x > 6 or x < 10)\n",
        "print(x > 6 or x < 1)\n",
        "\n",
        "print(not(x > 6))"
      ],
      "metadata": {
        "colab": {
          "base_uri": "https://localhost:8080/"
        },
        "id": "cNGsfz3njtBi",
        "outputId": "56b61093-ce78-44a0-bcb6-35be7e877bf1"
      },
      "execution_count": null,
      "outputs": [
        {
          "output_type": "stream",
          "name": "stdout",
          "text": [
            "True\n",
            "False\n",
            "True\n"
          ]
        }
      ]
    },
    {
      "cell_type": "code",
      "source": [
        "# Identity Operators\n",
        "\n",
        "x = [\"Artificial\", \"Intelligence\"]\n",
        "y = [\"Artificial\", \"Intelligence\"]\n",
        "z = x\n",
        "\n",
        "print(x is z)\n",
        "\n",
        "# returns True because z is the same object as x\n",
        "\n",
        "print(x is y)\n",
        "\n",
        "# returns False because x is not the same object as y, even if they have the same content\n",
        "\n",
        "print(x == y)\n",
        "\n",
        "# to demonstrate the difference betweeen \"is\" and \"==\": this comparison returns True because x is equal to y\n"
      ],
      "metadata": {
        "colab": {
          "base_uri": "https://localhost:8080/"
        },
        "id": "8qyStb1BkGCT",
        "outputId": "65c64e8a-72c2-4120-8ea0-475a74af51aa"
      },
      "execution_count": null,
      "outputs": [
        {
          "output_type": "stream",
          "name": "stdout",
          "text": [
            "True\n",
            "False\n",
            "True\n"
          ]
        }
      ]
    },
    {
      "cell_type": "code",
      "source": [
        "# Membership Operators\n",
        "\n",
        "x = [\"pear\", \"plum\"]\n",
        "\n",
        "print(\"pineapple\" in x)\n",
        "\n",
        "print(\"plum\" in x)\n",
        "\n",
        "print(\"pineapple\" not in x)"
      ],
      "metadata": {
        "colab": {
          "base_uri": "https://localhost:8080/"
        },
        "id": "Kt6fklFTklUj",
        "outputId": "18b22e3f-9ef1-493a-de7f-b286a4787f70"
      },
      "execution_count": null,
      "outputs": [
        {
          "output_type": "stream",
          "name": "stdout",
          "text": [
            "False\n",
            "True\n",
            "True\n"
          ]
        }
      ]
    },
    {
      "cell_type": "code",
      "source": [
        "# Bitwise Operators - for binary operations\n",
        "\n",
        "a = 10\n",
        "\n",
        "b = 4\n",
        "\n",
        "print(a & b)\n",
        "print(a | b)\n",
        "print(~ a)\n",
        "\n",
        "print(a ^ b)\n",
        "print(a << b)\n",
        "print(a >> b)\n",
        "\n"
      ],
      "metadata": {
        "colab": {
          "base_uri": "https://localhost:8080/"
        },
        "id": "vQH72XYgmBXL",
        "outputId": "2f64ef6f-96de-4053-b59c-350fa9337838"
      },
      "execution_count": null,
      "outputs": [
        {
          "output_type": "stream",
          "name": "stdout",
          "text": [
            "0\n",
            "14\n",
            "-11\n",
            "14\n",
            "160\n",
            "0\n"
          ]
        }
      ]
    },
    {
      "cell_type": "code",
      "source": [],
      "metadata": {
        "id": "UYDdjWs2mUKb",
        "colab": {
          "base_uri": "https://localhost:8080/",
          "height": 72
        },
        "outputId": "09e6bcbb-2ef5-43e3-a60e-fe6bb4a9fa86"
      },
      "execution_count": null,
      "outputs": [
        {
          "name": "stdout",
          "output_type": "stream",
          "text": [
            "number1\n",
            "ek aur do2\n"
          ]
        },
        {
          "output_type": "execute_result",
          "data": {
            "text/plain": [
              "'12'"
            ],
            "application/vnd.google.colaboratory.intrinsic+json": {
              "type": "string"
            }
          },
          "metadata": {},
          "execution_count": 3
        }
      ]
    },
    {
      "cell_type": "markdown",
      "source": [
        "## Time for some quick questions! Are you ready?"
      ],
      "metadata": {
        "id": "oF_0cVyfjWpZ"
      }
    },
    {
      "cell_type": "markdown",
      "source": [
        "**Q1.** *What will be the output for the following code,*         \n",
        "```\n",
        "a = input(\"Enter the value for a:- \")            \n",
        "b = input(\"Enter the value for b:- \")               \n",
        "print(a + b)\n",
        "```                     \n",
        "\n",
        "*Assume that user will input a as 1 and b as 9*\n",
        "\n",
        "**A)** 10         \n",
        "**B)** 19       \n",
        "**C)** 1+9          \n",
        "**D)** Syntax Error\n"
      ],
      "metadata": {
        "id": "oO6HY7gQjeqY"
      }
    },
    {
      "cell_type": "code",
      "source": [],
      "metadata": {
        "id": "c6UakcFCkhkQ"
      },
      "execution_count": null,
      "outputs": []
    },
    {
      "cell_type": "markdown",
      "source": [
        "**Q2.** *Write a code with membership operator to check if \"Astrophysics\" is present in the `interest` list mentioned below,*\n",
        "\n",
        "`interest = [\"Astronomy\", \"Astrophysics\", \"Deep Learning\", \"Football\"]`"
      ],
      "metadata": {
        "id": "OiWksTO-l1Mx"
      }
    },
    {
      "cell_type": "code",
      "source": [
        "interest = ['Astronomy', 'Astrophysics', 'Deep Learning', 'Football']\n",
        "\n",
        "print('Astrophysics' in interest)"
      ],
      "metadata": {
        "id": "WURaq4efl0mB",
        "colab": {
          "base_uri": "https://localhost:8080/"
        },
        "outputId": "7479c696-4c4a-413c-8d66-69066545a502"
      },
      "execution_count": null,
      "outputs": [
        {
          "output_type": "stream",
          "name": "stdout",
          "text": [
            "True\n"
          ]
        }
      ]
    },
    {
      "cell_type": "markdown",
      "source": [
        "**Q3.** *We looked at % operator a while ago. What would a % b mean?*    \n",
        "\n",
        "**A)** It divides a by b and converts the answer into percentage  \n",
        "**B)** It yields the reaminder from the division of a by b     \n",
        "**C)** It rounds off a upto b decimal places           \n",
        "**D)** It compares a with b as in which value is bigger\n"
      ],
      "metadata": {
        "id": "lu7jt4pboaem"
      }
    },
    {
      "cell_type": "code",
      "source": [
        "33 % 3"
      ],
      "metadata": {
        "colab": {
          "base_uri": "https://localhost:8080/"
        },
        "id": "0IlX2Hh1nqq_",
        "outputId": "37723d1d-5c60-42cf-aa2b-7daf192999bf"
      },
      "execution_count": null,
      "outputs": [
        {
          "output_type": "execute_result",
          "data": {
            "text/plain": [
              "0"
            ]
          },
          "metadata": {},
          "execution_count": 6
        }
      ]
    },
    {
      "cell_type": "markdown",
      "source": [
        "**Q4.** *Write a code using `%` and `==` operators to check if 2 and 3 are even and odd numbers respectively*"
      ],
      "metadata": {
        "id": "BdoEyXrFqlO7"
      }
    },
    {
      "cell_type": "code",
      "source": [],
      "metadata": {
        "id": "t-MYjjywq3WT"
      },
      "execution_count": null,
      "outputs": []
    },
    {
      "cell_type": "markdown",
      "source": [
        "**Q5.** *How many mistakes can you spot in the following code?*        \n",
        "\n",
        "\n",
        "\n",
        "```\n",
        "a, b, c = 2, 4, 1                \n",
        "D = b^2 - 4ac                   \n",
        " print(f\"For a = {a}, b = {b}, and c = {c}, \\nDiscriminant = {D}\")\n",
        "```\n",
        "\n",
        "       \n",
        "\n",
        "*Can you fix these errors? Code it out:- *"
      ],
      "metadata": {
        "id": "w2gqn1RVsLpu"
      }
    },
    {
      "cell_type": "code",
      "source": [
        "a, b, c = 2, 4, 1 \n",
        "\n",
        "D = b ** 2 - 4 * a * c \n",
        "\n",
        "print(f'For a = {a}, b = {b}, and c = {c}, \\n Discriminant = {D}')"
      ],
      "metadata": {
        "id": "i7q2yRW-se7B",
        "colab": {
          "base_uri": "https://localhost:8080/"
        },
        "outputId": "27811d72-0611-4bb6-c87f-7b5859ec5a07"
      },
      "execution_count": null,
      "outputs": [
        {
          "output_type": "stream",
          "name": "stdout",
          "text": [
            "For a = 2, b = 4, and c = 1, \n",
            " Discriminant = 8\n"
          ]
        }
      ]
    },
    {
      "cell_type": "code",
      "source": [],
      "metadata": {
        "id": "DtjmEofhpWD6"
      },
      "execution_count": null,
      "outputs": []
    },
    {
      "cell_type": "markdown",
      "source": [
        "# Thank you for completing all the questions!"
      ],
      "metadata": {
        "id": "yLqyLvi4w3Eu"
      }
    }
  ]
}