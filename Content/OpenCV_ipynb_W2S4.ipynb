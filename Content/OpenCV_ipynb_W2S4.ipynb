{
  "metadata": {
    "kernelspec": {
      "language": "python",
      "display_name": "Python 3",
      "name": "python3"
    },
    "language_info": {
      "name": "python",
      "version": "3.7.12",
      "mimetype": "text/x-python",
      "codemirror_mode": {
        "name": "ipython",
        "version": 3
      },
      "pygments_lexer": "ipython3",
      "nbconvert_exporter": "python",
      "file_extension": ".py"
    },
    "colab": {
      "provenance": [],
      "collapsed_sections": []
    }
  },
  "nbformat_minor": 0,
  "nbformat": 4,
  "cells": [
    {
      "cell_type": "markdown",
      "source": [
        "### Add IRIS CV dataset to notebook : https://www.kaggle.com/datasets/jeffheaton/iris-computer-vision"
      ],
      "metadata": {
        "id": "ihPQSL665ufm"
      }
    },
    {
      "cell_type": "code",
      "source": [
        "import cv2 as cv\n",
        "\n",
        "%pylab inline\n",
        "import matplotlib.pyplot as plt\n",
        "import matplotlib.image as mpimg"
      ],
      "metadata": {
        "execution": {
          "iopub.status.busy": "2022-06-30T05:11:32.815993Z",
          "iopub.execute_input": "2022-06-30T05:11:32.816425Z",
          "iopub.status.idle": "2022-06-30T05:11:32.824826Z",
          "shell.execute_reply.started": "2022-06-30T05:11:32.816392Z",
          "shell.execute_reply": "2022-06-30T05:11:32.823728Z"
        },
        "trusted": true,
        "id": "LtyC-ku-5ufw"
      },
      "execution_count": null,
      "outputs": []
    },
    {
      "cell_type": "code",
      "source": [
        "iris_img = cv.imread('../input/iris-computer-vision/iris-virginica/iris-08c7a0e53ee1de193062d7bf86a21adec67b9115fd6099f1b2d2ee728a936002.jpg')\n",
        "\n",
        "#cv.imshow(iris_img)\n",
        "\n",
        "img_plot = plt.imshow(iris_img)\n",
        "plt.show()"
      ],
      "metadata": {
        "execution": {
          "iopub.status.busy": "2022-06-30T05:20:46.832984Z",
          "iopub.execute_input": "2022-06-30T05:20:46.833370Z",
          "iopub.status.idle": "2022-06-30T05:20:47.064665Z",
          "shell.execute_reply.started": "2022-06-30T05:20:46.833347Z",
          "shell.execute_reply": "2022-06-30T05:20:47.063713Z"
        },
        "trusted": true,
        "id": "8tQftjbV5uf0"
      },
      "execution_count": null,
      "outputs": []
    },
    {
      "cell_type": "code",
      "source": [
        "# Accessing Individual Pixels\n",
        "(b, g, r) = iris_img[0, 0]\n",
        "print(b,g,r)"
      ],
      "metadata": {
        "execution": {
          "iopub.status.busy": "2022-06-30T05:22:24.106444Z",
          "iopub.execute_input": "2022-06-30T05:22:24.106732Z",
          "iopub.status.idle": "2022-06-30T05:22:24.112483Z",
          "shell.execute_reply.started": "2022-06-30T05:22:24.106709Z",
          "shell.execute_reply": "2022-06-30T05:22:24.111326Z"
        },
        "trusted": true,
        "id": "znKEdh8B5uf2"
      },
      "execution_count": null,
      "outputs": []
    },
    {
      "cell_type": "code",
      "source": [
        "# Array/Region of Interest (ROI) cropping\n",
        "\n",
        "pink = iris_img[80:200, 80:200]\n",
        "plt.imshow(pink)"
      ],
      "metadata": {
        "execution": {
          "iopub.status.busy": "2022-06-30T05:24:50.208269Z",
          "iopub.execute_input": "2022-06-30T05:24:50.208630Z",
          "iopub.status.idle": "2022-06-30T05:24:50.372417Z",
          "shell.execute_reply.started": "2022-06-30T05:24:50.208601Z",
          "shell.execute_reply": "2022-06-30T05:24:50.371393Z"
        },
        "trusted": true,
        "id": "NJa6H8MZ5uf3"
      },
      "execution_count": null,
      "outputs": []
    },
    {
      "cell_type": "code",
      "source": [
        "# Resizing images\n",
        "\n",
        "print(iris_img.shape)\n",
        "down_width = 200\n",
        "down_height = 200\n",
        "down_points = (down_width, down_height)\n",
        "resized_down = cv.resize(iris_img, down_points)\n",
        "plt.imshow(resized_down)"
      ],
      "metadata": {
        "execution": {
          "iopub.status.busy": "2022-06-30T05:28:51.190534Z",
          "iopub.execute_input": "2022-06-30T05:28:51.190858Z",
          "iopub.status.idle": "2022-06-30T05:28:51.329656Z",
          "shell.execute_reply.started": "2022-06-30T05:28:51.190833Z",
          "shell.execute_reply": "2022-06-30T05:28:51.328713Z"
        },
        "trusted": true,
        "id": "lwm7ArYR5uf3"
      },
      "execution_count": null,
      "outputs": []
    },
    {
      "cell_type": "code",
      "source": [
        "# Rotating an image\n",
        "\n",
        "# https://www.kaggle.com/datasets/aditipanda1/exprotation\n",
        "# https://learnopencv.com/image-rotation-and-translation-using-opencv/\n",
        "\n",
        "# grab the dimensions of the image and calculate the center of the image\n",
        "(h, w) = iris_img.shape[:2]\n",
        "center = (w // 2, h // 2)\n",
        "\n",
        "# rotate our image by 45 degrees around the center of the image\n",
        "rotate_matrix = cv.getRotationMatrix2D(center=center, angle=45, scale=1)\n",
        "\n",
        "rotated = cv.warpAffine(src=iris_img, M=rotate_matrix, dsize=(w, h))\n",
        "\n",
        "plt.imshow(rotated)"
      ],
      "metadata": {
        "execution": {
          "iopub.status.busy": "2022-06-30T05:44:57.175937Z",
          "iopub.execute_input": "2022-06-30T05:44:57.176888Z",
          "iopub.status.idle": "2022-06-30T05:44:57.332815Z",
          "shell.execute_reply.started": "2022-06-30T05:44:57.176839Z",
          "shell.execute_reply": "2022-06-30T05:44:57.332045Z"
        },
        "trusted": true,
        "id": "rQ9Q2rnz5uf5"
      },
      "execution_count": null,
      "outputs": []
    },
    {
      "cell_type": "markdown",
      "source": [
        "## Edge Detection"
      ],
      "metadata": {
        "id": "ZGNST2TM5uf7"
      }
    },
    {
      "cell_type": "code",
      "source": [
        "# Convert to graycsale\n",
        "img_gray = cv.cvtColor(iris_img, cv.COLOR_BGR2GRAY)\n",
        "plt.imshow(img_gray, cmap='gray')\n",
        "# plt.imshow(iris_img, cmap='gray')"
      ],
      "metadata": {
        "execution": {
          "iopub.status.busy": "2022-06-30T05:50:38.284044Z",
          "iopub.execute_input": "2022-06-30T05:50:38.284396Z",
          "iopub.status.idle": "2022-06-30T05:50:38.438388Z",
          "shell.execute_reply.started": "2022-06-30T05:50:38.284372Z",
          "shell.execute_reply": "2022-06-30T05:50:38.437137Z"
        },
        "trusted": true,
        "id": "6JGWGnWr5uf8"
      },
      "execution_count": null,
      "outputs": []
    },
    {
      "cell_type": "code",
      "source": [
        "# Blur the image for better edge detection\n",
        "\n",
        "img_blur = cv.GaussianBlur(img_gray, (3,3), 0)\n",
        "plt.imshow(img_blur, cmap='gray')"
      ],
      "metadata": {
        "execution": {
          "iopub.status.busy": "2022-06-30T05:51:48.179984Z",
          "iopub.execute_input": "2022-06-30T05:51:48.180374Z",
          "iopub.status.idle": "2022-06-30T05:51:48.353690Z",
          "shell.execute_reply.started": "2022-06-30T05:51:48.180346Z",
          "shell.execute_reply": "2022-06-30T05:51:48.353025Z"
        },
        "trusted": true,
        "id": "jVOzSf2L5uf-"
      },
      "execution_count": null,
      "outputs": []
    },
    {
      "cell_type": "markdown",
      "source": [],
      "metadata": {
        "id": "mOkZpPCXGXlt"
      }
    },
    {
      "cell_type": "code",
      "source": [
        "# Sobel Edge Detection\n",
        "# https://learnopencv.com/edge-detection-using-opencv/\n",
        "\n",
        "sobelx = cv.Sobel(src=img_blur, ddepth=cv.CV_64F, dx=1, dy=0, ksize=5)\n",
        "plt.imshow(sobelx, cmap='gray')"
      ],
      "metadata": {
        "execution": {
          "iopub.status.busy": "2022-06-30T05:52:58.958762Z",
          "iopub.execute_input": "2022-06-30T05:52:58.959161Z",
          "iopub.status.idle": "2022-06-30T05:52:59.110468Z",
          "shell.execute_reply.started": "2022-06-30T05:52:58.959132Z",
          "shell.execute_reply": "2022-06-30T05:52:59.109463Z"
        },
        "trusted": true,
        "id": "p8Y1M9L_5ugA"
      },
      "execution_count": null,
      "outputs": []
    },
    {
      "cell_type": "code",
      "source": [
        "sobely = cv.Sobel(src=img_blur, ddepth=cv.CV_64F, dx=0, dy=1, ksize=5)\n",
        "plt.imshow(sobely, cmap='gray')"
      ],
      "metadata": {
        "execution": {
          "iopub.status.busy": "2022-06-30T05:53:30.685093Z",
          "iopub.execute_input": "2022-06-30T05:53:30.685404Z",
          "iopub.status.idle": "2022-06-30T05:53:30.813078Z",
          "shell.execute_reply.started": "2022-06-30T05:53:30.685381Z",
          "shell.execute_reply": "2022-06-30T05:53:30.811984Z"
        },
        "trusted": true,
        "id": "gBDXJnmq5ugB"
      },
      "execution_count": null,
      "outputs": []
    },
    {
      "cell_type": "code",
      "source": [
        "sobelxy = cv.Sobel(src=img_blur, ddepth=cv.CV_64F, dx=1, dy=1, ksize=5) \n",
        "plt.imshow(sobelxy, cmap='gray')"
      ],
      "metadata": {
        "execution": {
          "iopub.status.busy": "2022-06-30T05:54:47.269746Z",
          "iopub.execute_input": "2022-06-30T05:54:47.270082Z",
          "iopub.status.idle": "2022-06-30T05:54:47.583517Z",
          "shell.execute_reply.started": "2022-06-30T05:54:47.270039Z",
          "shell.execute_reply": "2022-06-30T05:54:47.582470Z"
        },
        "trusted": true,
        "id": "kDzXuD-s5ugC"
      },
      "execution_count": null,
      "outputs": []
    },
    {
      "cell_type": "code",
      "source": [
        "edges = cv.Canny(image=img_blur, threshold1=100, threshold2=200)\n",
        "plt.imshow(edges, cmap='gray')"
      ],
      "metadata": {
        "execution": {
          "iopub.status.busy": "2022-06-30T05:55:24.014622Z",
          "iopub.execute_input": "2022-06-30T05:55:24.014949Z",
          "iopub.status.idle": "2022-06-30T05:55:24.152723Z",
          "shell.execute_reply.started": "2022-06-30T05:55:24.014926Z",
          "shell.execute_reply": "2022-06-30T05:55:24.151979Z"
        },
        "trusted": true,
        "id": "j8VGYW_k5ugD"
      },
      "execution_count": null,
      "outputs": []
    },
    {
      "cell_type": "markdown",
      "source": [
        "## Thresholding "
      ],
      "metadata": {
        "id": "9BAiIaZv5ugF"
      }
    },
    {
      "cell_type": "code",
      "source": [
        "img = iris_img\n",
        "ret,thresh1 = cv.threshold(img,127,255,cv.THRESH_BINARY)\n",
        "ret,thresh2 = cv.threshold(img,127,255,cv.THRESH_BINARY_INV)\n",
        "ret,thresh3 = cv.threshold(img,127,255,cv.THRESH_TRUNC)\n",
        "ret,thresh4 = cv.threshold(img,127,255,cv.THRESH_TOZERO)\n",
        "ret,thresh5 = cv.threshold(img,127,255,cv.THRESH_TOZERO_INV)\n",
        "titles = ['Original Image','BINARY','BINARY_INV','TRUNC','TOZERO','TOZERO_INV']\n",
        "images = [img, thresh1, thresh2, thresh3, thresh4, thresh5]\n",
        "for i in range(6):\n",
        "    plt.subplot(2,3,i+1),plt.imshow(images[i],'gray',vmin=0,vmax=255)\n",
        "    plt.title(titles[i])\n",
        "    plt.xticks([]),plt.yticks([])\n",
        "plt.show()"
      ],
      "metadata": {
        "execution": {
          "iopub.status.busy": "2022-06-30T05:58:54.356614Z",
          "iopub.execute_input": "2022-06-30T05:58:54.356938Z",
          "iopub.status.idle": "2022-06-30T05:58:54.686785Z",
          "shell.execute_reply.started": "2022-06-30T05:58:54.356914Z",
          "shell.execute_reply": "2022-06-30T05:58:54.685536Z"
        },
        "trusted": true,
        "id": "jz9NwSc25ugF"
      },
      "execution_count": null,
      "outputs": []
    },
    {
      "cell_type": "markdown",
      "source": [
        "## Masking and Bitwise Ops \n",
        "\n",
        "In computer science terms, everything we represent is converted into binary language and also stored in binary format. \n",
        "\n",
        "When it comes to displaying an image if there is no color in the pixel, the value is assigned ‘0’, and when there is some color stored in the pixel then the value is assigned ‘1’.\n",
        "\n",
        "When we perform bitwise operations on images in OpenCV, they are actually performed on 0’s and 1’s of the image."
      ],
      "metadata": {
        "id": "gxA5S_Ks5ugI"
      }
    },
    {
      "cell_type": "code",
      "source": [
        "import numpy as np\n",
        "black = np.zeros((480, 480), dtype = \"uint8\")\n",
        "plt.imshow(black, cmap='gray')"
      ],
      "metadata": {
        "execution": {
          "iopub.status.busy": "2022-06-30T06:19:14.319496Z",
          "iopub.execute_input": "2022-06-30T06:19:14.319783Z",
          "iopub.status.idle": "2022-06-30T06:19:14.450847Z",
          "shell.execute_reply.started": "2022-06-30T06:19:14.319760Z",
          "shell.execute_reply": "2022-06-30T06:19:14.449599Z"
        },
        "trusted": true,
        "id": "gffbKKjj5ugK"
      },
      "execution_count": null,
      "outputs": []
    },
    {
      "cell_type": "code",
      "source": [
        "black = np.zeros((480, 480), dtype = \"uint8\")\n",
        "rect = cv.rectangle(black.copy(), (50, 60), (400, 200), 255, -1)\n",
        "circle = cv.circle(black.copy(), (240, 240), 150, 255, -1)\n",
        "bit_and = cv.bitwise_and(rect, circle)\n",
        "plt.imshow(rect, cmap='gray')\n",
        "plt.imshow(circle)\n",
        "plt.imshow( bit_and, cmap='gray')"
      ],
      "metadata": {
        "execution": {
          "iopub.status.busy": "2022-06-30T06:21:25.003359Z",
          "iopub.execute_input": "2022-06-30T06:21:25.003726Z",
          "iopub.status.idle": "2022-06-30T06:21:25.216198Z",
          "shell.execute_reply.started": "2022-06-30T06:21:25.003697Z",
          "shell.execute_reply": "2022-06-30T06:21:25.215259Z"
        },
        "trusted": true,
        "id": "mW4EAy5K5ugL"
      },
      "execution_count": null,
      "outputs": []
    },
    {
      "cell_type": "code",
      "source": [
        "bit_or = cv.bitwise_or(rect, circle)\n",
        "plt.imshow( bit_or, cmap='gray')"
      ],
      "metadata": {
        "execution": {
          "iopub.status.busy": "2022-06-30T06:22:21.288106Z",
          "iopub.execute_input": "2022-06-30T06:22:21.288506Z",
          "iopub.status.idle": "2022-06-30T06:22:21.445286Z",
          "shell.execute_reply.started": "2022-06-30T06:22:21.288478Z",
          "shell.execute_reply": "2022-06-30T06:22:21.443983Z"
        },
        "trusted": true,
        "id": "cVz_52o45ugN"
      },
      "execution_count": null,
      "outputs": []
    },
    {
      "cell_type": "code",
      "source": [
        "bit_Xor = cv.bitwise_xor(rect, circle)\n",
        "plt.imshow( bit_Xor, cmap='gray')"
      ],
      "metadata": {
        "execution": {
          "iopub.status.busy": "2022-06-30T06:22:47.955215Z",
          "iopub.execute_input": "2022-06-30T06:22:47.955582Z",
          "iopub.status.idle": "2022-06-30T06:22:48.091699Z",
          "shell.execute_reply.started": "2022-06-30T06:22:47.955553Z",
          "shell.execute_reply": "2022-06-30T06:22:48.090577Z"
        },
        "trusted": true,
        "id": "HiJDRT7G5ugO"
      },
      "execution_count": null,
      "outputs": []
    },
    {
      "cell_type": "code",
      "source": [
        "bit_not1 = cv.bitwise_not(rect)\n",
        "plt.imshow( bit_not1, cmap='gray')"
      ],
      "metadata": {
        "execution": {
          "iopub.status.busy": "2022-06-30T06:23:32.473331Z",
          "iopub.execute_input": "2022-06-30T06:23:32.473708Z",
          "iopub.status.idle": "2022-06-30T06:23:32.615419Z",
          "shell.execute_reply.started": "2022-06-30T06:23:32.473679Z",
          "shell.execute_reply": "2022-06-30T06:23:32.614495Z"
        },
        "trusted": true,
        "id": "sYktEx1B5ugP"
      },
      "execution_count": null,
      "outputs": []
    },
    {
      "cell_type": "code",
      "source": [
        "bit_not2 = cv.bitwise_not(circle)\n",
        "plt.imshow( bit_not2, cmap='gray')"
      ],
      "metadata": {
        "execution": {
          "iopub.status.busy": "2022-06-30T06:23:36.529483Z",
          "iopub.execute_input": "2022-06-30T06:23:36.529889Z",
          "iopub.status.idle": "2022-06-30T06:23:36.690404Z",
          "shell.execute_reply.started": "2022-06-30T06:23:36.529857Z",
          "shell.execute_reply": "2022-06-30T06:23:36.689214Z"
        },
        "trusted": true,
        "id": "c5s9x2Nh5ugQ"
      },
      "execution_count": null,
      "outputs": []
    },
    {
      "cell_type": "code",
      "source": [
        "## Masking\n",
        "\n",
        "#create a blank image using np.zeros()\n",
        "blank = np.zeros(iris_img.shape[:2], dtype = \"uint8\")\n",
        "print(blank.shape)\n",
        "\n",
        "#draw rectangle on the blank image\n",
        "mask = cv.rectangle(blank, (100, 150), (120, 200), (255, 255, 255), -1)\n",
        "plt.imshow( mask, cmap='gray')"
      ],
      "metadata": {
        "execution": {
          "iopub.status.busy": "2022-06-30T06:34:57.609214Z",
          "iopub.execute_input": "2022-06-30T06:34:57.609563Z",
          "iopub.status.idle": "2022-06-30T06:34:57.741677Z",
          "shell.execute_reply.started": "2022-06-30T06:34:57.609539Z",
          "shell.execute_reply": "2022-06-30T06:34:57.740638Z"
        },
        "trusted": true,
        "id": "Rsb05oh15ugR"
      },
      "execution_count": null,
      "outputs": []
    },
    {
      "cell_type": "code",
      "source": [
        "maskedimage= cv.bitwise_and(iris_img, iris_img, mask=mask)\n",
        "plt.imshow( maskedimage)"
      ],
      "metadata": {
        "execution": {
          "iopub.status.busy": "2022-06-30T06:35:00.748028Z",
          "iopub.execute_input": "2022-06-30T06:35:00.748371Z",
          "iopub.status.idle": "2022-06-30T06:35:00.862846Z",
          "shell.execute_reply.started": "2022-06-30T06:35:00.748347Z",
          "shell.execute_reply": "2022-06-30T06:35:00.862204Z"
        },
        "trusted": true,
        "id": "EqvwD-vq5ugR"
      },
      "execution_count": null,
      "outputs": []
    },
    {
      "cell_type": "markdown",
      "source": [
        "# Color Spaces"
      ],
      "metadata": {
        "id": "R-v7FVBl5ugS"
      }
    },
    {
      "cell_type": "code",
      "source": [
        "B, G, R = cv.split(iris_img)\n",
        "plt.imshow(B)"
      ],
      "metadata": {
        "execution": {
          "iopub.status.busy": "2022-06-30T07:33:40.056569Z",
          "iopub.execute_input": "2022-06-30T07:33:40.056953Z",
          "iopub.status.idle": "2022-06-30T07:33:40.190466Z",
          "shell.execute_reply.started": "2022-06-30T07:33:40.056924Z",
          "shell.execute_reply": "2022-06-30T07:33:40.189498Z"
        },
        "trusted": true,
        "id": "uS_S8hVi5ugT"
      },
      "execution_count": null,
      "outputs": []
    },
    {
      "cell_type": "code",
      "source": [
        "plt.imshow(G)"
      ],
      "metadata": {
        "execution": {
          "iopub.status.busy": "2022-06-30T07:33:22.769959Z",
          "iopub.execute_input": "2022-06-30T07:33:22.770402Z",
          "iopub.status.idle": "2022-06-30T07:33:22.931389Z",
          "shell.execute_reply.started": "2022-06-30T07:33:22.770367Z",
          "shell.execute_reply": "2022-06-30T07:33:22.930099Z"
        },
        "trusted": true,
        "id": "XuoHFLvT5ugT"
      },
      "execution_count": null,
      "outputs": []
    },
    {
      "cell_type": "code",
      "source": [
        "plt.imshow(R)"
      ],
      "metadata": {
        "execution": {
          "iopub.status.busy": "2022-06-30T07:32:45.444876Z",
          "iopub.execute_input": "2022-06-30T07:32:45.445599Z",
          "iopub.status.idle": "2022-06-30T07:32:45.599847Z",
          "shell.execute_reply.started": "2022-06-30T07:32:45.445573Z",
          "shell.execute_reply": "2022-06-30T07:32:45.598788Z"
        },
        "trusted": true,
        "id": "btKitUCH5ugU"
      },
      "execution_count": null,
      "outputs": []
    },
    {
      "cell_type": "code",
      "source": [
        "im1 = cv.imread('../input/iris-computer-vision/iris-virginica/iris-3b19970f2f6807b8a41c3c426d4b0032fba84d025929eb6e6ff01501995fc1c2.jpg')\n",
        "plt.imshow(im1)"
      ],
      "metadata": {
        "execution": {
          "iopub.status.busy": "2022-06-30T07:42:45.668337Z",
          "iopub.execute_input": "2022-06-30T07:42:45.668655Z",
          "iopub.status.idle": "2022-06-30T07:42:45.851263Z",
          "shell.execute_reply.started": "2022-06-30T07:42:45.668622Z",
          "shell.execute_reply": "2022-06-30T07:42:45.850377Z"
        },
        "trusted": true,
        "id": "XxYQQL-p5ugV"
      },
      "execution_count": null,
      "outputs": []
    },
    {
      "cell_type": "code",
      "source": [
        "im1 = cv.resize(im1, (180,180))\n",
        "plt.imshow(im1)"
      ],
      "metadata": {
        "execution": {
          "iopub.status.busy": "2022-06-30T07:43:17.600171Z",
          "iopub.execute_input": "2022-06-30T07:43:17.600547Z",
          "iopub.status.idle": "2022-06-30T07:43:17.758841Z",
          "shell.execute_reply.started": "2022-06-30T07:43:17.600518Z",
          "shell.execute_reply": "2022-06-30T07:43:17.757734Z"
        },
        "trusted": true,
        "id": "nzPLCE3-5ugW"
      },
      "execution_count": null,
      "outputs": []
    },
    {
      "cell_type": "code",
      "source": [
        "im2 = cv.imread('../input/dummy-astronomy-data/Cutout Files/star/IC745_H01_1459_1334_6.jpg')\n",
        "print(im2.shape)\n",
        "im2 = cv.resize(im2, (180,180))\n",
        "plt.imshow(im2)"
      ],
      "metadata": {
        "execution": {
          "iopub.status.busy": "2022-06-30T07:49:16.396414Z",
          "iopub.execute_input": "2022-06-30T07:49:16.396793Z",
          "iopub.status.idle": "2022-06-30T07:49:17.003684Z",
          "shell.execute_reply.started": "2022-06-30T07:49:16.396763Z",
          "shell.execute_reply": "2022-06-30T07:49:17.003101Z"
        },
        "trusted": true,
        "id": "N0UhT74L5ugW"
      },
      "execution_count": null,
      "outputs": []
    },
    {
      "cell_type": "code",
      "source": [
        "weightedSum = cv.addWeighted(im1, 0.5, im2, 0.4, 0)\n",
        "\n",
        "plt.imshow(weightedSum)"
      ],
      "metadata": {
        "execution": {
          "iopub.status.busy": "2022-06-30T07:49:22.980882Z",
          "iopub.execute_input": "2022-06-30T07:49:22.981436Z",
          "iopub.status.idle": "2022-06-30T07:49:23.156045Z",
          "shell.execute_reply.started": "2022-06-30T07:49:22.981409Z",
          "shell.execute_reply": "2022-06-30T07:49:23.154612Z"
        },
        "trusted": true,
        "id": "5ez64hgG5ugX"
      },
      "execution_count": null,
      "outputs": []
    },
    {
      "cell_type": "code",
      "source": [
        "sub = cv.subtract(im1, im2)\n",
        "plt.imshow(sub)"
      ],
      "metadata": {
        "execution": {
          "iopub.status.busy": "2022-06-30T07:50:03.203293Z",
          "iopub.execute_input": "2022-06-30T07:50:03.204459Z",
          "iopub.status.idle": "2022-06-30T07:50:03.379970Z",
          "shell.execute_reply.started": "2022-06-30T07:50:03.204419Z",
          "shell.execute_reply": "2022-06-30T07:50:03.378931Z"
        },
        "trusted": true,
        "id": "032igBv85ugY"
      },
      "execution_count": null,
      "outputs": []
    },
    {
      "cell_type": "markdown",
      "source": [
        "## Histogram Computation"
      ],
      "metadata": {
        "id": "sCbUy3tU5ugZ"
      }
    },
    {
      "cell_type": "code",
      "source": [
        "# grayscale histogram\n",
        "hist = cv.calcHist([iris_img], [0], None, [256], [0, 256])\n",
        "plt.plot(hist)"
      ],
      "metadata": {
        "execution": {
          "iopub.status.busy": "2022-06-30T08:06:21.847475Z",
          "iopub.execute_input": "2022-06-30T08:06:21.848074Z",
          "iopub.status.idle": "2022-06-30T08:06:21.969310Z",
          "shell.execute_reply.started": "2022-06-30T08:06:21.848016Z",
          "shell.execute_reply": "2022-06-30T08:06:21.968349Z"
        },
        "trusted": true,
        "id": "0ZztTh4p5ugZ"
      },
      "execution_count": null,
      "outputs": []
    },
    {
      "cell_type": "code",
      "source": [
        "hist /= hist.sum()\n",
        "plt.plot(hist)"
      ],
      "metadata": {
        "execution": {
          "iopub.status.busy": "2022-06-30T08:06:24.982918Z",
          "iopub.execute_input": "2022-06-30T08:06:24.983560Z",
          "iopub.status.idle": "2022-06-30T08:06:25.133563Z",
          "shell.execute_reply.started": "2022-06-30T08:06:24.983533Z",
          "shell.execute_reply": "2022-06-30T08:06:25.132478Z"
        },
        "trusted": true,
        "id": "Bh-PSSoM5uga"
      },
      "execution_count": null,
      "outputs": []
    },
    {
      "cell_type": "code",
      "source": [
        "# color channel wise histograms\n",
        "\n",
        "chans = cv.split(iris_img)\n",
        "colors = (\"b\", \"g\", \"r\")\n",
        "\n",
        "for (chan, color) in zip(chans, colors):\n",
        "    \n",
        "\t# create a histogram for the current channel and plot it\n",
        "\thist = cv.calcHist([chan], [0], None, [256], [0, 256])\n",
        "\tplt.plot(hist, color=color)\n",
        "\tplt.xlim([0, 256])"
      ],
      "metadata": {
        "execution": {
          "iopub.status.busy": "2022-06-30T08:08:25.541006Z",
          "iopub.execute_input": "2022-06-30T08:08:25.542286Z",
          "iopub.status.idle": "2022-06-30T08:08:25.682308Z",
          "shell.execute_reply.started": "2022-06-30T08:08:25.542251Z",
          "shell.execute_reply": "2022-06-30T08:08:25.681091Z"
        },
        "trusted": true,
        "id": "-8SZmLiZ5ugb"
      },
      "execution_count": null,
      "outputs": []
    },
    {
      "cell_type": "markdown",
      "source": [
        "Resources:\n",
        "\n",
        "https://learnopencv.com/image-rotation-and-translation-using-opencv/\n",
        "\n",
        "https://pyimagesearch.com/2021/04/28/opencv-image-histograms-cv2-calchist/\n",
        "\n"
      ],
      "metadata": {
        "id": "-AI3BOVx5uge"
      }
    },
    {
      "cell_type": "markdown",
      "source": [
        "## Time for practice question!"
      ],
      "metadata": {
        "id": "Qir3qxFL6Oms"
      }
    },
    {
      "cell_type": "markdown",
      "source": [
        "Perform the following steps:\n",
        "1. Go to \"Add data\" button on top right corner of your notebook and search for this url \"https://www.kaggle.com/datasets/dansbecker/cityscapes-image-pairs\"\n",
        "2. Click add to import the \"cityscapes-image-pairs\"\n",
        "3. Run below code cell"
      ],
      "metadata": {
        "id": "fxa-4rcB6UUT"
      }
    },
    {
      "cell_type": "code",
      "source": [
        "import os\n",
        "\n",
        "root_dir = \"../input/cityscapes-image-pairs/cityscapes_data/train\"\n",
        "\n",
        "sample = os.path.join(root_dir, \"101.jpg\")"
      ],
      "metadata": {
        "id": "3QdrWKO06OSc"
      },
      "execution_count": null,
      "outputs": []
    },
    {
      "cell_type": "markdown",
      "source": [
        "Q-1. Let's detect the edge for the above sample image i.e. \"101.jpg\" from the cityscapes-image-pairs datasets."
      ],
      "metadata": {
        "id": "BQWKZmgE7pG0"
      }
    },
    {
      "cell_type": "code",
      "source": [
        "# perform all necesaary steps and detect edge for an 101.jpg image.\n"
      ],
      "metadata": {
        "id": "3-FWWBWE8v-m"
      },
      "execution_count": null,
      "outputs": []
    },
    {
      "cell_type": "code",
      "source": [],
      "metadata": {
        "id": "wXTGe9gn9I6t"
      },
      "execution_count": null,
      "outputs": []
    },
    {
      "cell_type": "markdown",
      "source": [
        "Q-2. Rotate the above image taken in \"sample\" at the angle of 40."
      ],
      "metadata": {
        "id": "VDDn060x9JoD"
      }
    },
    {
      "cell_type": "code",
      "source": [
        "# Rotate an image at an angle of 40.\n"
      ],
      "metadata": {
        "id": "mlHFUEEh9UoO"
      },
      "execution_count": null,
      "outputs": []
    },
    {
      "cell_type": "markdown",
      "source": [
        "Q-3. A company named MNP have 2 products facewash and shampoo\n",
        "\n",
        "Months = ['January', 'February', 'March', 'April', 'May', 'June','July', 'August', 'September', 'October', 'November','December']\n",
        "\n",
        "Facewash = [1500 , 1200, 1340, 1130, 1740, 1555, 1120, 1400, 1780, 1890, 2100, 1760]\n",
        "\n",
        "Shampoo =  [1200 , 2100, 3550, 1870, 1560, 1890, 1780, 2860, 2100, 2300, 2400, 1800]\n",
        "\n",
        "Moisturizer = [1500, 1200, 1340, 1130, 1740, 1555, 1120, 1400, 1780, 1890, 2100, 1760]\n",
        "\n",
        "Plot the subplot for each product mentioned above. Take sales for the product on the y-axis and month of the sale on x-axis. So in total there are three subplots. Also apply grid in the graph, write the title of the graph, assign names to x-axis and y-axis, add legends and xticks to the x-axis. "
      ],
      "metadata": {
        "id": "2KV1GzAa9VdR"
      }
    },
    {
      "cell_type": "code",
      "source": [
        "# Plot subplots here in single cell only.\n"
      ],
      "metadata": {
        "id": "gEEPD-bEQ5WJ"
      },
      "execution_count": null,
      "outputs": []
    },
    {
      "cell_type": "markdown",
      "source": [
        "## Thank you for completing the notebook!"
      ],
      "metadata": {
        "id": "7iQRRDIGQ8qe"
      }
    }
  ]
}